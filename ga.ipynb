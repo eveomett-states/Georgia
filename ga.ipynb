{
 "cells": [
  {
   "cell_type": "code",
   "execution_count": 1,
   "id": "49a264d4-c255-4393-b5ae-74b6f7c645da",
   "metadata": {},
   "outputs": [
    {
     "name": "stderr",
     "output_type": "stream",
     "text": [
      "/opt/anaconda3/lib/python3.9/site-packages/pandas/core/computation/expressions.py:21: UserWarning: Pandas requires version '2.8.4' or newer of 'numexpr' (version '2.8.1' currently installed).\n",
      "  from pandas.core.computation.check import NUMEXPR_INSTALLED\n",
      "/opt/anaconda3/lib/python3.9/site-packages/pandas/core/arrays/masked.py:60: UserWarning: Pandas requires version '1.3.6' or newer of 'bottleneck' (version '1.3.4' currently installed).\n",
      "  from pandas.core import (\n"
     ]
    }
   ],
   "source": [
    "import pandas as pd\n",
    "import geopandas as gpd\n",
    "import maup\n",
    "import time\n",
    "from maup import smart_repair\n",
    "from gerrychain import Graph\n",
    "import os\n",
    "\n",
    "import warnings\n",
    "warnings.filterwarnings(\"ignore\")\n",
    "\n",
    "maup.progress.enabled = True"
   ]
  },
  {
   "cell_type": "code",
   "execution_count": 2,
   "id": "55545525-1a53-4366-88fa-4b4ecc94ecad",
   "metadata": {},
   "outputs": [],
   "source": [
    "# parameters\n",
    "# state = Georgia\n",
    "state_ab = \"ga\""
   ]
  },
  {
   "cell_type": "markdown",
   "id": "c3e1bdeb-55c5-4c10-83b5-de352e6d559d",
   "metadata": {},
   "source": [
    "# Data\n",
    "1. Download all the data in directory \"il_data\"\n",
    "2. Eextract them all"
   ]
  },
  {
   "cell_type": "code",
   "execution_count": 3,
   "id": "1cbb32f0-472b-4441-abf2-6af58699cb5f",
   "metadata": {},
   "outputs": [],
   "source": [
    "data_folder = state_ab + \"_data/\"\n",
    "population1_data = \"./{}{}_pl2020_b/{}_pl2020_p1_b.shp\".format(data_folder, state_ab, state_ab)\n",
    "population2_data = \"./{}{}_pl2020_b/{}_pl2020_p2_b.shp\".format(data_folder, state_ab, state_ab)\n",
    "vap_data =  \"./{}{}_pl2020_b/{}_pl2020_p4_b.shp\".format(data_folder, state_ab, state_ab)\n",
    "vest20_data = \"./{}{}_vest_20/{}_vest_20.shp\".format(data_folder, state_ab, state_ab)\n",
    "vest18_data = \"./{}{}_vest_18/{}_vest_18.shp\".format(data_folder, state_ab, state_ab)\n",
    "vest16_data = \"./{}{}_vest_16/{}_vest_16.shp\".format(data_folder, state_ab, state_ab)\n",
    "cd_data = \"./{}{}_cong_adopted_2021/2021_Approved_Congressional_Plan_w_Final_Adjustments.shp\".format(data_folder, state_ab)\n",
    "send_data = \"./{}{}_sldu_adopted_2021/2021_Approved_Senate_Plan_w_Final_Adjustments.shp\".format(data_folder, state_ab)\n",
    "hdist_data = \"./{}{}_sldl_adopted_2021/2021_Approved_House_Plan_w_Final_Adjustments.shp\".format(data_folder, state_ab)"
   ]
  },
  {
   "cell_type": "code",
   "execution_count": 4,
   "id": "378425b3-9819-41bd-8212-2e031b571cf2",
   "metadata": {},
   "outputs": [],
   "source": [
    "def do_smart_repair(df):\n",
    "    # change it to the UTM it needs for smart_repair\n",
    "    df = df.to_crs(df.estimate_utm_crs())\n",
    "    df = smart_repair(df)\n",
    "    doctor = maup.doctor(df)\n",
    "    if doctor:\n",
    "        print('smart_repair successful')\n",
    "            \n",
    "        # change it back to this UTM for this data\n",
    "        df = df.to_crs('EPSG:4269')\n",
    "    else:\n",
    "        print('smart_repair failed')\n",
    "    return df, doctor"
   ]
  },
  {
   "cell_type": "code",
   "execution_count": 5,
   "id": "df3945da-c3af-41a8-9511-a5aba33fef0b",
   "metadata": {},
   "outputs": [],
   "source": [
    "def add_district(dist_df, dist_name, election_df, col_name):\n",
    "    # check if it needs to be smart_repair\n",
    "    if maup.doctor(dist_df) != True:\n",
    "        dist_df, doctor = do_smart_repair(dist_df)\n",
    "        \n",
    "    if doctor != True:\n",
    "        print(\"maup doctor = False\")\n",
    "        return election_df\n",
    "    \n",
    "    election_df = gpd.GeoDataFrame(election_df, crs=\"EPSG:4269\")\n",
    "    \n",
    "    # assigne the pricincts\n",
    "    precincts_to_district_assignment = maup.assign(election_df.geometry, dist_df.geometry)\n",
    "    election_df[dist_name] = precincts_to_district_assignment\n",
    "    for precinct_index in range(len(election_df)):\n",
    "        election_df.at[precinct_index, dist_name] = dist_df.at[election_df.at[precinct_index, dist_name], col_name]\n",
    "    \n",
    "    return election_df"
   ]
  },
  {
   "cell_type": "code",
   "execution_count": 6,
   "id": "29c38a31-6707-4ab3-a9e4-38d69ce6838c",
   "metadata": {},
   "outputs": [],
   "source": [
    "def rename(original, year):\n",
    "    party = original[6]\n",
    "    if party == 'R' or party == 'D':\n",
    "        return original[3:6] + year + original[6]\n",
    "    else:\n",
    "        return original[3:6] + year + 'O'"
   ]
  },
  {
   "cell_type": "code",
   "execution_count": 7,
   "id": "c4508baf-84cd-4a31-97ad-059164232e8e",
   "metadata": {},
   "outputs": [],
   "source": [
    "def add_vest(vest, df, year, population, start_col):    \n",
    "     # check if it needs to be smart_repair\n",
    "    if maup.doctor(vest) != True:\n",
    "        vest, doctor = do_smart_repair(vest)\n",
    "    if doctor != True:\n",
    "        print(\"maup doctor = False\")\n",
    "        return df\n",
    "    \n",
    "    # rename the columns\n",
    "    original_col = vest.columns[start_col:-1]\n",
    "    new_col = [rename(i, year) for i in original_col]\n",
    "    rename_dict = dict(zip(original_col, new_col))\n",
    "    vest = vest.rename(columns=rename_dict)\n",
    "    vest = vest.groupby(level=0, axis=1).sum() # combine all the other party's vote into columns with sufix \"O\"\n",
    "    col_name = list(set(new_col))\n",
    "    col_name.sort()\n",
    "    \n",
    "    # make the blocks from precincts by weight\n",
    "    vest = gpd.GeoDataFrame(vest, crs=\"EPSG:4269\")\n",
    "    election_in_block = population[[\"VAP\", 'geometry']] # population_df is in block scale\n",
    "    blocks_to_precincts_assignment = maup.assign(election_in_block.geometry, vest.geometry)\n",
    "    \n",
    "    weights = election_in_block[\"VAP\"] / blocks_to_precincts_assignment.map(election_in_block[\"VAP\"].groupby(blocks_to_precincts_assignment).sum())\n",
    "    weights = weights.fillna(0)\n",
    "    prorated = maup.prorate(blocks_to_precincts_assignment, vest[col_name], weights)\n",
    "    election_in_block[col_name] = prorated\n",
    "    \n",
    "    # assign blocks to precincts\n",
    "    election_in_block = gpd.GeoDataFrame(election_in_block, crs=\"EPSG:4269\")\n",
    "    df = gpd.GeoDataFrame(df, crs=\"EPSG:4269\")\n",
    "    block_to_pricinct_assginment = maup.assign(election_in_block.geometry, df.geometry)\n",
    "    df[col_name] = election_in_block[col_name].groupby(block_to_pricinct_assginment).sum()\n",
    "    df = df.groupby(level=0, axis=1).sum()\n",
    "    \n",
    "    return df"
   ]
  },
  {
   "cell_type": "markdown",
   "id": "ab6ce8f5-f237-4d6c-8425-cd8a0b080f65",
   "metadata": {},
   "source": [
    "## Read the census data"
   ]
  },
  {
   "cell_type": "code",
   "execution_count": 8,
   "id": "185d2b84-d37f-4f24-86c1-1bcd0b4347e2",
   "metadata": {},
   "outputs": [],
   "source": [
    "population1_df = gpd.read_file(population1_data)\n",
    "population2_df = gpd.read_file(population2_data)\n",
    "vap_df = gpd.read_file(vap_data)"
   ]
  },
  {
   "cell_type": "code",
   "execution_count": 9,
   "id": "57b3b9bb-9721-469d-8eee-0dd5eb0e6015",
   "metadata": {},
   "outputs": [],
   "source": [
    "population2_df = population2_df.drop(columns=['SUMLEV', 'LOGRECNO', 'GEOID', 'COUNTY', 'geometry'])\n",
    "vap_df = vap_df.drop(columns=['SUMLEV', 'LOGRECNO', 'GEOID', 'COUNTY', 'geometry'])"
   ]
  },
  {
   "cell_type": "code",
   "execution_count": 10,
   "id": "daa935f7-bc02-4856-adb0-9cc9cf31ffca",
   "metadata": {},
   "outputs": [],
   "source": [
    "population_df = pd.merge(population1_df, population2_df, on='GEOID20')\n",
    "population_df = pd.merge(population_df, vap_df, on='GEOID20')"
   ]
  },
  {
   "cell_type": "code",
   "execution_count": 11,
   "id": "9550a841-5692-4d5f-a7f1-131d53eb9f12",
   "metadata": {},
   "outputs": [],
   "source": [
    "population_df['H_WHITE'] = population_df.apply(lambda t: t['P0010003'] - t['P0020005'], 1)\n",
    "population_df['H_BLACK'] = population_df.apply(lambda t: t['P0010004'] - t['P0020006'], 1)\n",
    "population_df['H_AMIN'] = population_df.apply(lambda t: t['P0010005'] - t['P0020007'], 1)\n",
    "population_df['H_ASIAN'] = population_df.apply(lambda t: t['P0010006'] - t['P0020008'], 1)\n",
    "population_df['H_NHPI'] = population_df.apply(lambda t: t['P0010007'] - t['P0020009'], 1)\n",
    "population_df['H_OTHER'] = population_df.apply(lambda t: t['P0010008'] - t['P0020010'], 1)\n",
    "population_df['H_2MORE'] = population_df.apply(lambda t: t['P0010009'] - t['P0020011'], 1)"
   ]
  },
  {
   "cell_type": "code",
   "execution_count": 12,
   "id": "0845f50e-9920-404a-8284-c47df7b0f6ce",
   "metadata": {},
   "outputs": [],
   "source": [
    "rename_dict = {'P0020001': 'TOTPOP', 'P0020002': 'HISP', 'P0020005': 'NH_WHITE', 'P0020006': 'NH_BLACK', 'P0020007': 'NH_AMIN',\n",
    "                    'P0020008': 'NH_ASIAN', 'P0020009': 'NH_NHPI', 'P0020010': 'NH_OTHER', 'P0020011': 'NH_2MORE',\n",
    "                    'P0040001': 'VAP', 'P0040002': 'HVAP', 'P0040005': 'WVAP', 'P0040006': 'BVAP', 'P0040007': 'AMINVAP',\n",
    "                                        'P0040008': 'ASIANVAP', 'P0040009': 'NHPIVAP', 'P0040010': 'OTHERVAP', 'P0040011': '2MOREVAP'}"
   ]
  },
  {
   "cell_type": "code",
   "execution_count": 13,
   "id": "4d4f9723-ad23-46ff-bbd0-8d4ab628b69b",
   "metadata": {},
   "outputs": [],
   "source": [
    "population_df.rename(columns=rename_dict, inplace = True)"
   ]
  },
  {
   "cell_type": "markdown",
   "id": "e1e89689-06e1-4937-9bee-b0442bfc33d5",
   "metadata": {},
   "source": [
    "# Read the vest 20 data\n",
    "Now using it as a \"base precinct\", but it could be vest 18 or vest 16 if vest 20 is not working"
   ]
  },
  {
   "cell_type": "code",
   "execution_count": 22,
   "id": "397e9936-bfde-4b09-9dcb-207733dfb2dd",
   "metadata": {},
   "outputs": [],
   "source": [
    "vest_base = gpd.read_file(vest16_data)"
   ]
  },
  {
   "cell_type": "code",
   "execution_count": 23,
   "id": "15654f39-7bb1-4a2f-90d8-9a2c1c3fb627",
   "metadata": {},
   "outputs": [
    {
     "data": {
      "text/plain": [
       "Index(['DISTRICT', 'CTYSOSID', 'PRECINCT_I', 'PRECINCT_N', 'CTYNAME',\n",
       "       'CTYNUMBER', 'CTYNUMBER2', 'FIPS2', 'G16PRERTRU', 'G16PREDCLI',\n",
       "       'G16PRELJOH', 'G16USSRISA', 'G16USSDBAR', 'G16USSLBUC', 'G16PSCRECH',\n",
       "       'G16PSCLHOS', 'geometry'],\n",
       "      dtype='object')"
      ]
     },
     "execution_count": 23,
     "metadata": {},
     "output_type": "execute_result"
    }
   ],
   "source": [
    "vest_base.columns"
   ]
  },
  {
   "cell_type": "code",
   "execution_count": 24,
   "id": "ef924b84-f069-41f2-b4fb-fa437362dfe4",
   "metadata": {},
   "outputs": [],
   "source": [
    "start_col = 8 # this should be the same for all vest data in that state"
   ]
  },
  {
   "cell_type": "code",
   "execution_count": 25,
   "id": "714fa56e-c133-4c7a-8618-2996b0f12a05",
   "metadata": {},
   "outputs": [],
   "source": [
    "original_col = vest_base.columns[start_col:-1]\n",
    "new_col = [rename(i, '16') for i in original_col]\n",
    "rename_dict = dict(zip(original_col, new_col))\n",
    "vest_base = vest_base.rename(columns=rename_dict)\n",
    "vest_base = vest_base.groupby(level=0, axis=1).sum()\n",
    "vest_base = gpd.GeoDataFrame(vest_base, crs=\"EPSG:4269\")"
   ]
  },
  {
   "cell_type": "code",
   "execution_count": 26,
   "id": "dabe5bd2-39a8-40a6-93dc-a989a4c702b6",
   "metadata": {},
   "outputs": [
    {
     "name": "stderr",
     "output_type": "stream",
     "text": [
      "100%|████████████████████████████████████████| 2697/2697 [00:07<00:00, 341.66it/s]\n"
     ]
    },
    {
     "name": "stdout",
     "output_type": "stream",
     "text": [
      "There are 294 overlaps.\n",
      "There are 2029 holes.\n",
      "Snapping all geometries to a grid with precision 10^( -5 ) to avoid GEOS errors.\n",
      "Identifying overlaps...\n"
     ]
    },
    {
     "name": "stderr",
     "output_type": "stream",
     "text": [
      "100%|███████████████████████████████████████| 4665/4665 [00:02<00:00, 2186.55it/s]\n"
     ]
    },
    {
     "name": "stdout",
     "output_type": "stream",
     "text": [
      "Resolving overlaps...\n",
      "Assigning order 2 pieces...\n",
      "Assigning order 3 pieces...\n",
      "Filling gaps...\n"
     ]
    },
    {
     "name": "stderr",
     "output_type": "stream",
     "text": [
      "Gaps to simplify: 100%|█████████████████████████| 762/762 [03:05<00:00,  4.11it/s]\n",
      "Gaps to fill: 100%|█████████████████████████████| 129/129 [00:40<00:00,  3.18it/s]\n",
      "100%|████████████████████████████████████████| 2697/2697 [00:07<00:00, 359.19it/s]\n"
     ]
    },
    {
     "name": "stdout",
     "output_type": "stream",
     "text": [
      "smart_repair successful\n"
     ]
    },
    {
     "name": "stderr",
     "output_type": "stream",
     "text": [
      "100%|████████████████████████████████████████| 2697/2697 [00:07<00:00, 346.37it/s]\n"
     ]
    },
    {
     "name": "stdout",
     "output_type": "stream",
     "text": [
      "There are some invalid geometries.\n",
      "False\n"
     ]
    }
   ],
   "source": [
    "if maup.doctor(vest_base) != True:\n",
    "    vest_base, doctor = do_smart_repair(vest_base)\n",
    "    print(maup.doctor(vest_base))\n",
    "if doctor != True:\n",
    "    print(\"maup doctor = False\")"
   ]
  },
  {
   "cell_type": "code",
   "execution_count": 27,
   "id": "10e48467-d392-4312-b15f-bf18106f354c",
   "metadata": {},
   "outputs": [
    {
     "name": "stderr",
     "output_type": "stream",
     "text": [
      "100%|████████████████████████████████████████| 2697/2697 [00:07<00:00, 357.04it/s]\n",
      " 74%|██████████████████████████████▌          | 2009/2697 [00:57<00:19, 34.74it/s]\n"
     ]
    },
    {
     "ename": "GEOSException",
     "evalue": "TopologyException: Input geom 1 is invalid: Self-intersection at or near point -84.418981681975779 33.648606349951635 at -84.418981681975779 33.648606349951635",
     "output_type": "error",
     "traceback": [
      "\u001b[0;31m---------------------------------------------------------------------------\u001b[0m",
      "\u001b[0;31mGEOSException\u001b[0m                             Traceback (most recent call last)",
      "Input \u001b[0;32mIn [27]\u001b[0m, in \u001b[0;36m<cell line: 2>\u001b[0;34m()\u001b[0m\n\u001b[1;32m      1\u001b[0m \u001b[38;5;66;03m# vap and population have the same GEOID20\u001b[39;00m\n\u001b[0;32m----> 2\u001b[0m blocks_to_precincts_assignment \u001b[38;5;241m=\u001b[39m \u001b[43mmaup\u001b[49m\u001b[38;5;241;43m.\u001b[39;49m\u001b[43massign\u001b[49m\u001b[43m(\u001b[49m\u001b[43mpopulation_df\u001b[49m\u001b[38;5;241;43m.\u001b[39;49m\u001b[43mgeometry\u001b[49m\u001b[43m,\u001b[49m\u001b[43m \u001b[49m\u001b[43mvest_base\u001b[49m\u001b[38;5;241;43m.\u001b[39;49m\u001b[43mgeometry\u001b[49m\u001b[43m)\u001b[49m\n",
      "File \u001b[0;32m/opt/anaconda3/lib/python3.9/site-packages/maup/crs.py:14\u001b[0m, in \u001b[0;36mrequire_same_crs.<locals>.wrapped\u001b[0;34m(*args, **kwargs)\u001b[0m\n\u001b[1;32m      8\u001b[0m \u001b[38;5;28;01mif\u001b[39;00m \u001b[38;5;129;01mnot\u001b[39;00m geoms1\u001b[38;5;241m.\u001b[39mcrs \u001b[38;5;241m==\u001b[39m geoms2\u001b[38;5;241m.\u001b[39mcrs:\n\u001b[1;32m      9\u001b[0m     \u001b[38;5;28;01mraise\u001b[39;00m \u001b[38;5;167;01mTypeError\u001b[39;00m(\n\u001b[1;32m     10\u001b[0m         \u001b[38;5;124m\"\u001b[39m\u001b[38;5;124mthe source and target geometries must have the same CRS. \u001b[39m\u001b[38;5;132;01m{}\u001b[39;00m\u001b[38;5;124m \u001b[39m\u001b[38;5;132;01m{}\u001b[39;00m\u001b[38;5;124m\"\u001b[39m\u001b[38;5;241m.\u001b[39mformat(\n\u001b[1;32m     11\u001b[0m             geoms1\u001b[38;5;241m.\u001b[39mcrs, geoms2\u001b[38;5;241m.\u001b[39mcrs\n\u001b[1;32m     12\u001b[0m         )\n\u001b[1;32m     13\u001b[0m     )\n\u001b[0;32m---> 14\u001b[0m \u001b[38;5;28;01mreturn\u001b[39;00m \u001b[43mf\u001b[49m\u001b[43m(\u001b[49m\u001b[38;5;241;43m*\u001b[39;49m\u001b[43margs\u001b[49m\u001b[43m,\u001b[49m\u001b[43m \u001b[49m\u001b[38;5;241;43m*\u001b[39;49m\u001b[38;5;241;43m*\u001b[39;49m\u001b[43mkwargs\u001b[49m\u001b[43m)\u001b[49m\n",
      "File \u001b[0;32m/opt/anaconda3/lib/python3.9/site-packages/maup/assign.py:23\u001b[0m, in \u001b[0;36massign\u001b[0;34m(sources, targets)\u001b[0m\n\u001b[1;32m     19\u001b[0m unassigned \u001b[38;5;241m=\u001b[39m sources[assignment\u001b[38;5;241m.\u001b[39misna()]\n\u001b[1;32m     21\u001b[0m \u001b[38;5;28;01mif\u001b[39;00m \u001b[38;5;28mlen\u001b[39m(unassigned):  \u001b[38;5;66;03m# skip if done\u001b[39;00m\n\u001b[1;32m     22\u001b[0m     assignments_by_area \u001b[38;5;241m=\u001b[39m pandas\u001b[38;5;241m.\u001b[39mSeries(\n\u001b[0;32m---> 23\u001b[0m         \u001b[43massign_by_area\u001b[49m\u001b[43m(\u001b[49m\u001b[43munassigned\u001b[49m\u001b[43m,\u001b[49m\u001b[43m \u001b[49m\u001b[43mtargets\u001b[49m\u001b[43m)\u001b[49m,\n\u001b[1;32m     24\u001b[0m         dtype\u001b[38;5;241m=\u001b[39m\u001b[38;5;124m\"\u001b[39m\u001b[38;5;124mfloat\u001b[39m\u001b[38;5;124m\"\u001b[39m\n\u001b[1;32m     25\u001b[0m     )\n\u001b[1;32m     26\u001b[0m     assignment\u001b[38;5;241m.\u001b[39mupdate(assignments_by_area)\n\u001b[1;32m     28\u001b[0m \u001b[38;5;66;03m# TODO: add a warning here if there are still unassigned source geometries.\u001b[39;00m\n",
      "File \u001b[0;32m/opt/anaconda3/lib/python3.9/site-packages/maup/assign.py:38\u001b[0m, in \u001b[0;36massign_by_area\u001b[0;34m(sources, targets)\u001b[0m\n\u001b[1;32m     37\u001b[0m \u001b[38;5;28;01mdef\u001b[39;00m \u001b[38;5;21massign_by_area\u001b[39m(sources, targets):\n\u001b[0;32m---> 38\u001b[0m     \u001b[38;5;28;01mreturn\u001b[39;00m assign_to_max(\u001b[43mintersections\u001b[49m\u001b[43m(\u001b[49m\u001b[43msources\u001b[49m\u001b[43m,\u001b[49m\u001b[43m \u001b[49m\u001b[43mtargets\u001b[49m\u001b[43m,\u001b[49m\u001b[43m \u001b[49m\u001b[43marea_cutoff\u001b[49m\u001b[38;5;241;43m=\u001b[39;49m\u001b[38;5;241;43m0\u001b[39;49m\u001b[43m)\u001b[49m\u001b[38;5;241m.\u001b[39marea)\n",
      "File \u001b[0;32m/opt/anaconda3/lib/python3.9/site-packages/maup/crs.py:14\u001b[0m, in \u001b[0;36mrequire_same_crs.<locals>.wrapped\u001b[0;34m(*args, **kwargs)\u001b[0m\n\u001b[1;32m      8\u001b[0m \u001b[38;5;28;01mif\u001b[39;00m \u001b[38;5;129;01mnot\u001b[39;00m geoms1\u001b[38;5;241m.\u001b[39mcrs \u001b[38;5;241m==\u001b[39m geoms2\u001b[38;5;241m.\u001b[39mcrs:\n\u001b[1;32m      9\u001b[0m     \u001b[38;5;28;01mraise\u001b[39;00m \u001b[38;5;167;01mTypeError\u001b[39;00m(\n\u001b[1;32m     10\u001b[0m         \u001b[38;5;124m\"\u001b[39m\u001b[38;5;124mthe source and target geometries must have the same CRS. \u001b[39m\u001b[38;5;132;01m{}\u001b[39;00m\u001b[38;5;124m \u001b[39m\u001b[38;5;132;01m{}\u001b[39;00m\u001b[38;5;124m\"\u001b[39m\u001b[38;5;241m.\u001b[39mformat(\n\u001b[1;32m     11\u001b[0m             geoms1\u001b[38;5;241m.\u001b[39mcrs, geoms2\u001b[38;5;241m.\u001b[39mcrs\n\u001b[1;32m     12\u001b[0m         )\n\u001b[1;32m     13\u001b[0m     )\n\u001b[0;32m---> 14\u001b[0m \u001b[38;5;28;01mreturn\u001b[39;00m \u001b[43mf\u001b[49m\u001b[43m(\u001b[49m\u001b[38;5;241;43m*\u001b[39;49m\u001b[43margs\u001b[49m\u001b[43m,\u001b[49m\u001b[43m \u001b[49m\u001b[38;5;241;43m*\u001b[39;49m\u001b[38;5;241;43m*\u001b[39;49m\u001b[43mkwargs\u001b[49m\u001b[43m)\u001b[49m\n",
      "File \u001b[0;32m/opt/anaconda3/lib/python3.9/site-packages/maup/intersections.py:32\u001b[0m, in \u001b[0;36mintersections\u001b[0;34m(sources, targets, output_type, area_cutoff)\u001b[0m\n\u001b[1;32m     29\u001b[0m reindexed_targets \u001b[38;5;241m=\u001b[39m get_geometries_with_range_index(targets)\n\u001b[1;32m     30\u001b[0m spatially_indexed_sources \u001b[38;5;241m=\u001b[39m IndexedGeometries(reindexed_sources)\n\u001b[0;32m---> 32\u001b[0m records \u001b[38;5;241m=\u001b[39m [\n\u001b[1;32m     33\u001b[0m     \u001b[38;5;66;03m# Flip i, j to j, i so that the index is [\"source\", \"target\"]\u001b[39;00m\n\u001b[1;32m     34\u001b[0m     (sources\u001b[38;5;241m.\u001b[39mindex[j], targets\u001b[38;5;241m.\u001b[39mindex[i], geometry)\n\u001b[1;32m     35\u001b[0m     \u001b[38;5;28;01mfor\u001b[39;00m i, j, geometry \u001b[38;5;129;01min\u001b[39;00m spatially_indexed_sources\u001b[38;5;241m.\u001b[39menumerate_intersections(\n\u001b[1;32m     36\u001b[0m         reindexed_targets\n\u001b[1;32m     37\u001b[0m     )\n\u001b[1;32m     38\u001b[0m ]\n\u001b[1;32m     40\u001b[0m df \u001b[38;5;241m=\u001b[39m GeoDataFrame(records, columns\u001b[38;5;241m=\u001b[39m[\u001b[38;5;124m\"\u001b[39m\u001b[38;5;124msource\u001b[39m\u001b[38;5;124m\"\u001b[39m, \u001b[38;5;124m\"\u001b[39m\u001b[38;5;124mtarget\u001b[39m\u001b[38;5;124m\"\u001b[39m, \u001b[38;5;124m\"\u001b[39m\u001b[38;5;124mgeometry\u001b[39m\u001b[38;5;124m\"\u001b[39m], crs\u001b[38;5;241m=\u001b[39msources\u001b[38;5;241m.\u001b[39mcrs)\n\u001b[1;32m     41\u001b[0m df \u001b[38;5;241m=\u001b[39m df\u001b[38;5;241m.\u001b[39msort_values(by\u001b[38;5;241m=\u001b[39m[\u001b[38;5;124m\"\u001b[39m\u001b[38;5;124msource\u001b[39m\u001b[38;5;124m\"\u001b[39m, \u001b[38;5;124m\"\u001b[39m\u001b[38;5;124mtarget\u001b[39m\u001b[38;5;124m\"\u001b[39m])\u001b[38;5;241m.\u001b[39mreset_index(drop\u001b[38;5;241m=\u001b[39m\u001b[38;5;28;01mTrue\u001b[39;00m)\n",
      "File \u001b[0;32m/opt/anaconda3/lib/python3.9/site-packages/maup/intersections.py:32\u001b[0m, in \u001b[0;36m<listcomp>\u001b[0;34m(.0)\u001b[0m\n\u001b[1;32m     29\u001b[0m reindexed_targets \u001b[38;5;241m=\u001b[39m get_geometries_with_range_index(targets)\n\u001b[1;32m     30\u001b[0m spatially_indexed_sources \u001b[38;5;241m=\u001b[39m IndexedGeometries(reindexed_sources)\n\u001b[0;32m---> 32\u001b[0m records \u001b[38;5;241m=\u001b[39m [\n\u001b[1;32m     33\u001b[0m     \u001b[38;5;66;03m# Flip i, j to j, i so that the index is [\"source\", \"target\"]\u001b[39;00m\n\u001b[1;32m     34\u001b[0m     (sources\u001b[38;5;241m.\u001b[39mindex[j], targets\u001b[38;5;241m.\u001b[39mindex[i], geometry)\n\u001b[1;32m     35\u001b[0m     \u001b[38;5;28;01mfor\u001b[39;00m i, j, geometry \u001b[38;5;129;01min\u001b[39;00m spatially_indexed_sources\u001b[38;5;241m.\u001b[39menumerate_intersections(\n\u001b[1;32m     36\u001b[0m         reindexed_targets\n\u001b[1;32m     37\u001b[0m     )\n\u001b[1;32m     38\u001b[0m ]\n\u001b[1;32m     40\u001b[0m df \u001b[38;5;241m=\u001b[39m GeoDataFrame(records, columns\u001b[38;5;241m=\u001b[39m[\u001b[38;5;124m\"\u001b[39m\u001b[38;5;124msource\u001b[39m\u001b[38;5;124m\"\u001b[39m, \u001b[38;5;124m\"\u001b[39m\u001b[38;5;124mtarget\u001b[39m\u001b[38;5;124m\"\u001b[39m, \u001b[38;5;124m\"\u001b[39m\u001b[38;5;124mgeometry\u001b[39m\u001b[38;5;124m\"\u001b[39m], crs\u001b[38;5;241m=\u001b[39msources\u001b[38;5;241m.\u001b[39mcrs)\n\u001b[1;32m     41\u001b[0m df \u001b[38;5;241m=\u001b[39m df\u001b[38;5;241m.\u001b[39msort_values(by\u001b[38;5;241m=\u001b[39m[\u001b[38;5;124m\"\u001b[39m\u001b[38;5;124msource\u001b[39m\u001b[38;5;124m\"\u001b[39m, \u001b[38;5;124m\"\u001b[39m\u001b[38;5;124mtarget\u001b[39m\u001b[38;5;124m\"\u001b[39m])\u001b[38;5;241m.\u001b[39mreset_index(drop\u001b[38;5;241m=\u001b[39m\u001b[38;5;28;01mTrue\u001b[39;00m)\n",
      "File \u001b[0;32m/opt/anaconda3/lib/python3.9/site-packages/maup/indexed_geometries.py:76\u001b[0m, in \u001b[0;36mIndexedGeometries.enumerate_intersections\u001b[0;34m(self, targets)\u001b[0m\n\u001b[1;32m     74\u001b[0m target_geometries \u001b[38;5;241m=\u001b[39m get_geometries(targets)\n\u001b[1;32m     75\u001b[0m \u001b[38;5;28;01mfor\u001b[39;00m i, target \u001b[38;5;129;01min\u001b[39;00m progress(target_geometries\u001b[38;5;241m.\u001b[39mitems(), \u001b[38;5;28mlen\u001b[39m(target_geometries)):\n\u001b[0;32m---> 76\u001b[0m     \u001b[38;5;28;01mfor\u001b[39;00m j, intersection \u001b[38;5;129;01min\u001b[39;00m \u001b[38;5;28;43mself\u001b[39;49m\u001b[38;5;241;43m.\u001b[39;49m\u001b[43mintersections\u001b[49m\u001b[43m(\u001b[49m\u001b[43mtarget\u001b[49m\u001b[43m)\u001b[49m\u001b[38;5;241m.\u001b[39mitems():\n\u001b[1;32m     77\u001b[0m         \u001b[38;5;28;01myield\u001b[39;00m i, j, intersection\n",
      "File \u001b[0;32m/opt/anaconda3/lib/python3.9/site-packages/maup/indexed_geometries.py:33\u001b[0m, in \u001b[0;36mIndexedGeometries.intersections\u001b[0;34m(self, geometry)\u001b[0m\n\u001b[1;32m     31\u001b[0m \u001b[38;5;28;01mdef\u001b[39;00m \u001b[38;5;21mintersections\u001b[39m(\u001b[38;5;28mself\u001b[39m, geometry):\n\u001b[1;32m     32\u001b[0m     relevant_geometries \u001b[38;5;241m=\u001b[39m \u001b[38;5;28mself\u001b[39m\u001b[38;5;241m.\u001b[39mquery(geometry)\n\u001b[0;32m---> 33\u001b[0m     intersections \u001b[38;5;241m=\u001b[39m \u001b[43mrelevant_geometries\u001b[49m\u001b[38;5;241;43m.\u001b[39;49m\u001b[43mintersection\u001b[49m\u001b[43m(\u001b[49m\u001b[43mgeometry\u001b[49m\u001b[43m)\u001b[49m\n\u001b[1;32m     34\u001b[0m     \u001b[38;5;28;01mreturn\u001b[39;00m intersections[\u001b[38;5;241m-\u001b[39m(intersections\u001b[38;5;241m.\u001b[39mis_empty \u001b[38;5;241m|\u001b[39m intersections\u001b[38;5;241m.\u001b[39misna())]\n",
      "File \u001b[0;32m/opt/anaconda3/lib/python3.9/site-packages/geopandas/base.py:3266\u001b[0m, in \u001b[0;36mGeoPandasBase.intersection\u001b[0;34m(self, other, align)\u001b[0m\n\u001b[1;32m   3155\u001b[0m \u001b[38;5;28;01mdef\u001b[39;00m \u001b[38;5;21mintersection\u001b[39m(\u001b[38;5;28mself\u001b[39m, other, align\u001b[38;5;241m=\u001b[39m\u001b[38;5;28;01mTrue\u001b[39;00m):\n\u001b[1;32m   3156\u001b[0m \u001b[38;5;250m    \u001b[39m\u001b[38;5;124;03m\"\"\"Returns a ``GeoSeries`` of the intersection of points in each\u001b[39;00m\n\u001b[1;32m   3157\u001b[0m \u001b[38;5;124;03m    aligned geometry with `other`.\u001b[39;00m\n\u001b[1;32m   3158\u001b[0m \n\u001b[0;32m   (...)\u001b[0m\n\u001b[1;32m   3264\u001b[0m \u001b[38;5;124;03m    GeoSeries.union\u001b[39;00m\n\u001b[1;32m   3265\u001b[0m \u001b[38;5;124;03m    \"\"\"\u001b[39;00m\n\u001b[0;32m-> 3266\u001b[0m     \u001b[38;5;28;01mreturn\u001b[39;00m \u001b[43m_binary_geo\u001b[49m\u001b[43m(\u001b[49m\u001b[38;5;124;43m\"\u001b[39;49m\u001b[38;5;124;43mintersection\u001b[39;49m\u001b[38;5;124;43m\"\u001b[39;49m\u001b[43m,\u001b[49m\u001b[43m \u001b[49m\u001b[38;5;28;43mself\u001b[39;49m\u001b[43m,\u001b[49m\u001b[43m \u001b[49m\u001b[43mother\u001b[49m\u001b[43m,\u001b[49m\u001b[43m \u001b[49m\u001b[43malign\u001b[49m\u001b[43m)\u001b[49m\n",
      "File \u001b[0;32m/opt/anaconda3/lib/python3.9/site-packages/geopandas/base.py:56\u001b[0m, in \u001b[0;36m_binary_geo\u001b[0;34m(op, this, other, align)\u001b[0m\n\u001b[1;32m     53\u001b[0m \u001b[38;5;250m\u001b[39m\u001b[38;5;124;03m\"\"\"Binary operation on GeoSeries objects that returns a GeoSeries\"\"\"\u001b[39;00m\n\u001b[1;32m     54\u001b[0m \u001b[38;5;28;01mfrom\u001b[39;00m \u001b[38;5;21;01m.\u001b[39;00m\u001b[38;5;21;01mgeoseries\u001b[39;00m \u001b[38;5;28;01mimport\u001b[39;00m GeoSeries\n\u001b[0;32m---> 56\u001b[0m geoms, index \u001b[38;5;241m=\u001b[39m \u001b[43m_delegate_binary_method\u001b[49m\u001b[43m(\u001b[49m\u001b[43mop\u001b[49m\u001b[43m,\u001b[49m\u001b[43m \u001b[49m\u001b[43mthis\u001b[49m\u001b[43m,\u001b[49m\u001b[43m \u001b[49m\u001b[43mother\u001b[49m\u001b[43m,\u001b[49m\u001b[43m \u001b[49m\u001b[43malign\u001b[49m\u001b[43m)\u001b[49m\n\u001b[1;32m     57\u001b[0m \u001b[38;5;28;01mreturn\u001b[39;00m GeoSeries(geoms, index\u001b[38;5;241m=\u001b[39mindex, crs\u001b[38;5;241m=\u001b[39mthis\u001b[38;5;241m.\u001b[39mcrs)\n",
      "File \u001b[0;32m/opt/anaconda3/lib/python3.9/site-packages/geopandas/base.py:47\u001b[0m, in \u001b[0;36m_delegate_binary_method\u001b[0;34m(op, this, other, align, *args, **kwargs)\u001b[0m\n\u001b[1;32m     44\u001b[0m \u001b[38;5;28;01melse\u001b[39;00m:\n\u001b[1;32m     45\u001b[0m     \u001b[38;5;28;01mraise\u001b[39;00m \u001b[38;5;167;01mTypeError\u001b[39;00m(\u001b[38;5;28mtype\u001b[39m(this), \u001b[38;5;28mtype\u001b[39m(other))\n\u001b[0;32m---> 47\u001b[0m data \u001b[38;5;241m=\u001b[39m \u001b[38;5;28;43mgetattr\u001b[39;49m\u001b[43m(\u001b[49m\u001b[43ma_this\u001b[49m\u001b[43m,\u001b[49m\u001b[43m \u001b[49m\u001b[43mop\u001b[49m\u001b[43m)\u001b[49m\u001b[43m(\u001b[49m\u001b[43mother\u001b[49m\u001b[43m,\u001b[49m\u001b[43m \u001b[49m\u001b[38;5;241;43m*\u001b[39;49m\u001b[43margs\u001b[49m\u001b[43m,\u001b[49m\u001b[43m \u001b[49m\u001b[38;5;241;43m*\u001b[39;49m\u001b[38;5;241;43m*\u001b[39;49m\u001b[43mkwargs\u001b[49m\u001b[43m)\u001b[49m\n\u001b[1;32m     48\u001b[0m \u001b[38;5;28;01mreturn\u001b[39;00m data, this\u001b[38;5;241m.\u001b[39mindex\n",
      "File \u001b[0;32m/opt/anaconda3/lib/python3.9/site-packages/geopandas/array.py:671\u001b[0m, in \u001b[0;36mGeometryArray.intersection\u001b[0;34m(self, other)\u001b[0m\n\u001b[1;32m    669\u001b[0m \u001b[38;5;28;01mdef\u001b[39;00m \u001b[38;5;21mintersection\u001b[39m(\u001b[38;5;28mself\u001b[39m, other):\n\u001b[1;32m    670\u001b[0m     \u001b[38;5;28;01mreturn\u001b[39;00m GeometryArray(\n\u001b[0;32m--> 671\u001b[0m         \u001b[38;5;28;43mself\u001b[39;49m\u001b[38;5;241;43m.\u001b[39;49m\u001b[43m_binary_method\u001b[49m\u001b[43m(\u001b[49m\u001b[38;5;124;43m\"\u001b[39;49m\u001b[38;5;124;43mintersection\u001b[39;49m\u001b[38;5;124;43m\"\u001b[39;49m\u001b[43m,\u001b[49m\u001b[43m \u001b[49m\u001b[38;5;28;43mself\u001b[39;49m\u001b[43m,\u001b[49m\u001b[43m \u001b[49m\u001b[43mother\u001b[49m\u001b[43m)\u001b[49m, crs\u001b[38;5;241m=\u001b[39m\u001b[38;5;28mself\u001b[39m\u001b[38;5;241m.\u001b[39mcrs\n\u001b[1;32m    672\u001b[0m     )\n",
      "File \u001b[0;32m/opt/anaconda3/lib/python3.9/site-packages/geopandas/array.py:611\u001b[0m, in \u001b[0;36mGeometryArray._binary_method\u001b[0;34m(op, left, right, **kwargs)\u001b[0m\n\u001b[1;32m    608\u001b[0m         _crs_mismatch_warn(left, right, stacklevel\u001b[38;5;241m=\u001b[39m\u001b[38;5;241m7\u001b[39m)\n\u001b[1;32m    609\u001b[0m     right \u001b[38;5;241m=\u001b[39m right\u001b[38;5;241m.\u001b[39m_data\n\u001b[0;32m--> 611\u001b[0m \u001b[38;5;28;01mreturn\u001b[39;00m \u001b[38;5;28;43mgetattr\u001b[39;49m\u001b[43m(\u001b[49m\u001b[43mvectorized\u001b[49m\u001b[43m,\u001b[49m\u001b[43m \u001b[49m\u001b[43mop\u001b[49m\u001b[43m)\u001b[49m\u001b[43m(\u001b[49m\u001b[43mleft\u001b[49m\u001b[38;5;241;43m.\u001b[39;49m\u001b[43m_data\u001b[49m\u001b[43m,\u001b[49m\u001b[43m \u001b[49m\u001b[43mright\u001b[49m\u001b[43m,\u001b[49m\u001b[43m \u001b[49m\u001b[38;5;241;43m*\u001b[39;49m\u001b[38;5;241;43m*\u001b[39;49m\u001b[43mkwargs\u001b[49m\u001b[43m)\u001b[49m\n",
      "File \u001b[0;32m/opt/anaconda3/lib/python3.9/site-packages/geopandas/_vectorized.py:938\u001b[0m, in \u001b[0;36mintersection\u001b[0;34m(data, other)\u001b[0m\n\u001b[1;32m    936\u001b[0m \u001b[38;5;28;01mdef\u001b[39;00m \u001b[38;5;21mintersection\u001b[39m(data, other):\n\u001b[1;32m    937\u001b[0m     \u001b[38;5;28;01mif\u001b[39;00m compat\u001b[38;5;241m.\u001b[39mUSE_SHAPELY_20:\n\u001b[0;32m--> 938\u001b[0m         \u001b[38;5;28;01mreturn\u001b[39;00m \u001b[43mshapely\u001b[49m\u001b[38;5;241;43m.\u001b[39;49m\u001b[43mintersection\u001b[49m\u001b[43m(\u001b[49m\u001b[43mdata\u001b[49m\u001b[43m,\u001b[49m\u001b[43m \u001b[49m\u001b[43mother\u001b[49m\u001b[43m)\u001b[49m\n\u001b[1;32m    939\u001b[0m     \u001b[38;5;28;01melif\u001b[39;00m compat\u001b[38;5;241m.\u001b[39mUSE_PYGEOS:\n\u001b[1;32m    940\u001b[0m         \u001b[38;5;28;01mreturn\u001b[39;00m _binary_method(\u001b[38;5;124m\"\u001b[39m\u001b[38;5;124mintersection\u001b[39m\u001b[38;5;124m\"\u001b[39m, data, other)\n",
      "File \u001b[0;32m/opt/anaconda3/lib/python3.9/site-packages/shapely/decorators.py:77\u001b[0m, in \u001b[0;36mmultithreading_enabled.<locals>.wrapped\u001b[0;34m(*args, **kwargs)\u001b[0m\n\u001b[1;32m     75\u001b[0m     \u001b[38;5;28;01mfor\u001b[39;00m arr \u001b[38;5;129;01min\u001b[39;00m array_args:\n\u001b[1;32m     76\u001b[0m         arr\u001b[38;5;241m.\u001b[39mflags\u001b[38;5;241m.\u001b[39mwriteable \u001b[38;5;241m=\u001b[39m \u001b[38;5;28;01mFalse\u001b[39;00m\n\u001b[0;32m---> 77\u001b[0m     \u001b[38;5;28;01mreturn\u001b[39;00m \u001b[43mfunc\u001b[49m\u001b[43m(\u001b[49m\u001b[38;5;241;43m*\u001b[39;49m\u001b[43margs\u001b[49m\u001b[43m,\u001b[49m\u001b[43m \u001b[49m\u001b[38;5;241;43m*\u001b[39;49m\u001b[38;5;241;43m*\u001b[39;49m\u001b[43mkwargs\u001b[49m\u001b[43m)\u001b[49m\n\u001b[1;32m     78\u001b[0m \u001b[38;5;28;01mfinally\u001b[39;00m:\n\u001b[1;32m     79\u001b[0m     \u001b[38;5;28;01mfor\u001b[39;00m arr, old_flag \u001b[38;5;129;01min\u001b[39;00m \u001b[38;5;28mzip\u001b[39m(array_args, old_flags):\n",
      "File \u001b[0;32m/opt/anaconda3/lib/python3.9/site-packages/shapely/set_operations.py:133\u001b[0m, in \u001b[0;36mintersection\u001b[0;34m(a, b, grid_size, **kwargs)\u001b[0m\n\u001b[1;32m    129\u001b[0m         \u001b[38;5;28;01mraise\u001b[39;00m \u001b[38;5;167;01mValueError\u001b[39;00m(\u001b[38;5;124m\"\u001b[39m\u001b[38;5;124mgrid_size parameter only accepts scalar values\u001b[39m\u001b[38;5;124m\"\u001b[39m)\n\u001b[1;32m    131\u001b[0m     \u001b[38;5;28;01mreturn\u001b[39;00m lib\u001b[38;5;241m.\u001b[39mintersection_prec(a, b, grid_size, \u001b[38;5;241m*\u001b[39m\u001b[38;5;241m*\u001b[39mkwargs)\n\u001b[0;32m--> 133\u001b[0m \u001b[38;5;28;01mreturn\u001b[39;00m \u001b[43mlib\u001b[49m\u001b[38;5;241;43m.\u001b[39;49m\u001b[43mintersection\u001b[49m\u001b[43m(\u001b[49m\u001b[43ma\u001b[49m\u001b[43m,\u001b[49m\u001b[43m \u001b[49m\u001b[43mb\u001b[49m\u001b[43m,\u001b[49m\u001b[43m \u001b[49m\u001b[38;5;241;43m*\u001b[39;49m\u001b[38;5;241;43m*\u001b[39;49m\u001b[43mkwargs\u001b[49m\u001b[43m)\u001b[49m\n",
      "\u001b[0;31mGEOSException\u001b[0m: TopologyException: Input geom 1 is invalid: Self-intersection at or near point -84.418981681975779 33.648606349951635 at -84.418981681975779 33.648606349951635"
     ]
    }
   ],
   "source": [
    "# vap and population have the same GEOID20\n",
    "blocks_to_precincts_assignment = maup.assign(population_df.geometry, vest_base.geometry)"
   ]
  },
  {
   "cell_type": "code",
   "execution_count": null,
   "id": "9479607b-6b42-4cba-8f3e-10cd68a0a1e1",
   "metadata": {},
   "outputs": [],
   "source": [
    "print(population_df[pop_cols].sum())\n",
    "print(vest_base[pop_cols].sum())"
   ]
  },
  {
   "cell_type": "code",
   "execution_count": 19,
   "id": "ac015a92-391c-48c4-b26a-5c511b58e3ab",
   "metadata": {},
   "outputs": [],
   "source": [
    "pop_col = ['TOTPOP', 'HISP', 'NH_WHITE', 'NH_BLACK', 'NH_AMIN', 'NH_ASIAN', 'NH_NHPI', 'NH_OTHER', 'NH_2MORE', \n",
    "                    'H_WHITE', 'H_BLACK', 'H_AMIN', 'H_ASIAN', 'H_NHPI', 'H_OTHER', 'H_2MORE', \n",
    "           'VAP', 'HVAP', 'WVAP', 'BVAP', 'AMINVAP', 'ASIANVAP', 'NHPIVAP', 'OTHERVAP', '2MOREVAP']"
   ]
  },
  {
   "cell_type": "code",
   "execution_count": 20,
   "id": "f91b6866-727d-40c9-9d43-4a0e6ae8c0e2",
   "metadata": {},
   "outputs": [],
   "source": [
    "vest20[pop_col] = population_df[pop_col].groupby(blocks_to_precincts_assignment).sum()"
   ]
  },
  {
   "cell_type": "code",
   "execution_count": 21,
   "id": "ead5880d-f5f1-44f0-8024-ff4789ff2f15",
   "metadata": {},
   "outputs": [],
   "source": [
    "election_df = gpd.GeoDataFrame(vest20, crs=\"EPSG:4269\")"
   ]
  },
  {
   "cell_type": "code",
   "execution_count": 22,
   "id": "a404637a-46a1-41f4-bd81-6842a9a7274c",
   "metadata": {},
   "outputs": [],
   "source": [
    "vest18 = gpd.read_file(vest18_data)"
   ]
  },
  {
   "cell_type": "code",
   "execution_count": 40,
   "id": "5528f64a-1b5c-4b9f-b7cf-aefa45d4d25f",
   "metadata": {},
   "outputs": [
    {
     "name": "stderr",
     "output_type": "stream",
     "text": [
      "100%|████████████████████████████████████| 10116/10116 [00:11<00:00, 878.34it/s]\n"
     ]
    },
    {
     "name": "stdout",
     "output_type": "stream",
     "text": [
      "There are 4 overlaps.\n",
      "There are 4 holes.\n",
      "Snapping all geometries to a grid with precision 10^( -5 ) to avoid GEOS errors.\n",
      "Identifying overlaps...\n"
     ]
    },
    {
     "name": "stderr",
     "output_type": "stream",
     "text": [
      "100%|███████████████████████████████████| 10746/10746 [00:04<00:00, 2481.75it/s]\n"
     ]
    },
    {
     "name": "stdout",
     "output_type": "stream",
     "text": [
      "Resolving overlaps...\n",
      "Assigning order 2 pieces...\n",
      "Filling gaps...\n"
     ]
    },
    {
     "name": "stderr",
     "output_type": "stream",
     "text": [
      "Gaps to simplify: 100%|███████████████████████████| 4/4 [00:11<00:00,  2.75s/it]\n",
      "Gaps to fill: 100%|███████████████████████████████| 1/1 [00:05<00:00,  5.44s/it]\n",
      "100%|████████████████████████████████████| 10116/10116 [00:12<00:00, 816.01it/s]\n"
     ]
    },
    {
     "name": "stdout",
     "output_type": "stream",
     "text": [
      "smart_repair successful\n"
     ]
    },
    {
     "name": "stderr",
     "output_type": "stream",
     "text": [
      "100%|████████████████████████████████████| 10116/10116 [00:14<00:00, 709.56it/s]\n",
      "100%|████████████████████████████████████| 10116/10116 [01:26<00:00, 116.39it/s]\n",
      "100%|████████████████████████████████████| 10083/10083 [00:27<00:00, 371.07it/s]\n",
      "100%|███████████████████████████████████| 10083/10083 [00:02<00:00, 3528.30it/s]\n"
     ]
    }
   ],
   "source": [
    "election_df = add_vest(vest18, election_df, '18', population_df, start_col)"
   ]
  },
  {
   "cell_type": "code",
   "execution_count": 41,
   "id": "4d7476dd-c003-4fa5-ab9b-8ed6f75bed39",
   "metadata": {},
   "outputs": [],
   "source": [
    "# vest 16 is not working for now\n",
    "# election_df = add_vest_data(vest16_data, election_df, '16', population_df, start_col)"
   ]
  },
  {
   "cell_type": "markdown",
   "id": "10cf83d4-6005-485b-8193-c0149869a97e",
   "metadata": {},
   "source": [
    "## Add the district data"
   ]
  },
  {
   "cell_type": "code",
   "execution_count": 42,
   "id": "a0ccb606-7fe4-4b0a-998b-337d31f4abc5",
   "metadata": {},
   "outputs": [],
   "source": [
    "cong_df = gpd.read_file(cd_data)\n",
    "send = gpd.read_file(send_data)\n",
    "hdist = gpd.read_file(hdist_data)"
   ]
  },
  {
   "cell_type": "code",
   "execution_count": 43,
   "id": "2b8fbf45-f392-4996-9dc6-e9ee67d0e715",
   "metadata": {
    "tags": []
   },
   "outputs": [
    {
     "name": "stderr",
     "output_type": "stream",
     "text": [
      "100%|███████████████████████████████████████████| 17/17 [00:00<00:00, 33.51it/s]\n",
      "100%|███████████████████████████████████████████| 17/17 [00:00<00:00, 33.13it/s]\n",
      "100%|███████████████████████████████████████████| 17/17 [00:25<00:00,  1.48s/it]\n"
     ]
    }
   ],
   "source": [
    "election_df = add_district(cong_df, \"CD\", election_df, \"DISTRICTN\")"
   ]
  },
  {
   "cell_type": "code",
   "execution_count": 44,
   "id": "a9fe98af-f37e-4200-835e-f96695f68e41",
   "metadata": {
    "tags": []
   },
   "outputs": [
    {
     "name": "stderr",
     "output_type": "stream",
     "text": [
      "100%|███████████████████████████████████████████| 59/59 [00:00<00:00, 87.46it/s]\n",
      "100%|██████████████████████████████████████████| 59/59 [00:00<00:00, 155.42it/s]\n",
      "100%|███████████████████████████████████████████| 59/59 [00:13<00:00,  4.38it/s]\n"
     ]
    }
   ],
   "source": [
    "election_df = add_district(send, \"SEND\", election_df, \"DISTRICTN\")"
   ]
  },
  {
   "cell_type": "code",
   "execution_count": 45,
   "id": "da4c6235-1028-43d0-adde-affe669c3f20",
   "metadata": {
    "tags": []
   },
   "outputs": [
    {
     "name": "stderr",
     "output_type": "stream",
     "text": [
      "100%|████████████████████████████████████████| 118/118 [00:00<00:00, 298.83it/s]\n"
     ]
    },
    {
     "name": "stdout",
     "output_type": "stream",
     "text": [
      "There are some invalid geometries.\n",
      "Snapping all geometries to a grid with precision 10^( -5 ) to avoid GEOS errors.\n",
      "Identifying overlaps...\n"
     ]
    },
    {
     "name": "stderr",
     "output_type": "stream",
     "text": [
      "100%|███████████████████████████████████████| 119/119 [00:00<00:00, 2216.55it/s]\n"
     ]
    },
    {
     "name": "stdout",
     "output_type": "stream",
     "text": [
      "Resolving overlaps...\n",
      "Filling gaps...\n"
     ]
    },
    {
     "name": "stderr",
     "output_type": "stream",
     "text": [
      "Gaps to simplify: 0it [00:00, ?it/s]\n",
      "Gaps to fill: 0it [00:00, ?it/s]\n",
      "100%|████████████████████████████████████████| 118/118 [00:00<00:00, 352.71it/s]\n"
     ]
    },
    {
     "name": "stdout",
     "output_type": "stream",
     "text": [
      "smart_repair successful\n"
     ]
    },
    {
     "name": "stderr",
     "output_type": "stream",
     "text": [
      "100%|████████████████████████████████████████| 118/118 [00:00<00:00, 200.18it/s]\n",
      "100%|█████████████████████████████████████████| 118/118 [00:06<00:00, 18.09it/s]\n"
     ]
    }
   ],
   "source": [
    "election_df = add_district(hdist, \"HDIST\", election_df, \"NAME\")"
   ]
  },
  {
   "cell_type": "code",
   "execution_count": 46,
   "id": "aaee6a30-6a18-473e-bd02-7881c1e94e68",
   "metadata": {},
   "outputs": [
    {
     "data": {
      "text/plain": [
       "Index(['2MOREVAP', 'AMINVAP', 'ASIANVAP', 'ATG18D', 'ATG18O', 'ATG18R', 'BVAP',\n",
       "       'COM18D', 'COM18O', 'COM18R', 'COUNTYFP20', 'GEOID20', 'GOV18D',\n",
       "       'GOV18O', 'GOV18R', 'HISP', 'HVAP', 'H_2MORE', 'H_AMIN', 'H_ASIAN',\n",
       "       'H_BLACK', 'H_NHPI', 'H_OTHER', 'H_WHITE', 'NAME20', 'NHPIVAP',\n",
       "       'NH_2MORE', 'NH_AMIN', 'NH_ASIAN', 'NH_BLACK', 'NH_NHPI', 'NH_OTHER',\n",
       "       'NH_WHITE', 'OTHERVAP', 'PRE20D', 'PRE20O', 'PRE20R', 'SOS18D',\n",
       "       'SOS18O', 'SOS18R', 'STATEFP20', 'TOTPOP', 'TRE18D', 'TRE18O', 'TRE18R',\n",
       "       'USS20D', 'USS20O', 'USS20R', 'VAP', 'VTDST20', 'WVAP', 'geometry',\n",
       "       'CD', 'SEND', 'HDIST'],\n",
       "      dtype='object')"
      ]
     },
     "execution_count": 46,
     "metadata": {},
     "output_type": "execute_result"
    }
   ],
   "source": [
    "election_df.columns"
   ]
  },
  {
   "cell_type": "code",
   "execution_count": 47,
   "id": "3ea62760-cc32-4fcc-8475-c3ba956cb901",
   "metadata": {},
   "outputs": [],
   "source": [
    "# reorder the columns\n",
    "\n",
    "fixed_columns = [\n",
    "    'STATEFP20',\n",
    "    'COUNTYFP20',\n",
    "    'VTDST20',\n",
    "    'GEOID20',\n",
    "    'NAME20',\n",
    "    # Some states have different column names like below. Tend it more general in the future\n",
    "    # 'STATEFP',\n",
    "    # 'COUNTYFP',\n",
    "    # 'VTDST',\n",
    "    # 'PRECINCT',\n",
    "    # 'NAME',\n",
    "    'CD',\n",
    "    'SEND',\n",
    "    'HDIST',\n",
    "    'TOTPOP',\n",
    "    'NH_2MORE',\n",
    "    'NH_AMIN',\n",
    "    'NH_ASIAN',\n",
    "    'NH_BLACK',\n",
    "    'NH_NHPI',\n",
    "    'NH_OTHER',\n",
    "    'NH_WHITE',\n",
    "    'HISP',\n",
    "    'H_AMIN',\n",
    "    'H_ASIAN',\n",
    "    'H_BLACK',\n",
    "    'H_NHPI',\n",
    "    'H_OTHER',\n",
    "    'H_WHITE',\n",
    "    'H_2MORE',\n",
    "    'VAP',\n",
    "    'HVAP',\n",
    "    'WVAP',\n",
    "    'BVAP',\n",
    "    'AMINVAP',\n",
    "    'ASIANVAP',\n",
    "    'NHPIVAP',\n",
    "    'OTHERVAP',\n",
    "    '2MOREVAP']\n",
    "\n",
    "election_columns = [col for col in election_df.columns if col not in fixed_columns]\n",
    "final_col = fixed_columns + election_columns\n",
    "election_df = election_df[final_col]"
   ]
  },
  {
   "cell_type": "code",
   "execution_count": 49,
   "id": "1b198042-dbd4-408e-bfd4-4494f2b49245",
   "metadata": {
    "tags": []
   },
   "outputs": [],
   "source": [
    "# store the result in directory \"il\"\n",
    "os.makedirs(\"./{}\".format(state_ab))\n",
    "election_df.to_file(\"./{}/{}.shp\".format(state_ab, state_ab))\n",
    "election_df.to_file('./{}/{}.geojson'.format(state_ab, state_ab), driver='GeoJSON')\n",
    "\n",
    "# Only do once to build json and read from file when generating ensembles\n",
    "graph = Graph.from_file(\"./{}/{}.shp\".format(state_ab, state_ab), ignore_errors=True)\n",
    "graph.to_json(\"./{}/{}.json\".format(state_ab, state_ab))"
   ]
  },
  {
   "cell_type": "code",
   "execution_count": null,
   "id": "a8ba4789-8282-428a-90d4-e59ee50f4064",
   "metadata": {},
   "outputs": [],
   "source": []
  }
 ],
 "metadata": {
  "kernelspec": {
   "display_name": "maup",
   "language": "python",
   "name": "maup"
  },
  "language_info": {
   "codemirror_mode": {
    "name": "ipython",
    "version": 3
   },
   "file_extension": ".py",
   "mimetype": "text/x-python",
   "name": "python",
   "nbconvert_exporter": "python",
   "pygments_lexer": "ipython3",
   "version": "3.9.12"
  }
 },
 "nbformat": 4,
 "nbformat_minor": 5
}
