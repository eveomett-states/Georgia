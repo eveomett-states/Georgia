{
 "cells": [
  {
   "cell_type": "code",
   "execution_count": 1,
   "metadata": {},
   "outputs": [],
   "source": [
    "import pandas as pd\n",
    "import geopandas as gpd\n",
    "import maup\n",
    "import time\n",
    "from maup import smart_repair\n",
    "from gerrychain import Graph\n",
    "\n",
    "maup.progress.enabled = True"
   ]
  },
  {
   "cell_type": "code",
   "execution_count": 2,
   "metadata": {},
   "outputs": [],
   "source": [
    "import warnings\n",
    "warnings.filterwarnings(\"ignore\")"
   ]
  },
  {
   "cell_type": "code",
   "execution_count": 3,
   "metadata": {},
   "outputs": [],
   "source": [
    "# state = Georgia\n",
    "state_ab = \"ga\""
   ]
  },
  {
   "cell_type": "markdown",
   "metadata": {},
   "source": [
    "## Data\n",
    "1. Download all the data in directory \"ga_data\"\n",
    "2. Extract them all"
   ]
  },
  {
   "cell_type": "code",
   "execution_count": 5,
   "metadata": {},
   "outputs": [],
   "source": [
    "data_folder = state_ab + \"_data/\"\n",
    "population1_data = \"./{}{}_pl2020_b/{}_pl2020_p1_b.shp\".format(data_folder, state_ab, state_ab)\n",
    "population2_data = \"./{}{}_pl2020_b/{}_pl2020_p2_b.shp\".format(data_folder, state_ab, state_ab)\n",
    "vap_data =  \"./{}{}_pl2020_b/{}_pl2020_p4_b.shp\".format(data_folder, state_ab, state_ab)\n",
    "vest20_data = \"./{}{}_vest_20/{}_vest_20.shp\".format(data_folder, state_ab, state_ab)\n",
    "vest18_data = \"./{}{}_vest_18/{}_vest_18.shp\".format(data_folder, state_ab, state_ab)\n",
    "vest16_data = \"./{}{}_vest_16/{}_vest_16.shp\".format(data_folder, state_ab, state_ab)\n",
    "election2022 = \"./{}{}_2022_gen_prec/{}_2022_gen_prec_no_splits/{}_2022_gen_prec_no_splits.shp\".format(data_folder, state_ab, state_ab, state_ab)\n",
    "cd_data = \"./{}{}_cong_adopted_2023/Congress-2023 shape.shp\".format(data_folder, state_ab)\n",
    "send_data = \"./{}{}_sldu_adopted_2023/Senate-2023 shape file.shp\".format(data_folder, state_ab)\n",
    "hdist_data = \"./{}{}_sldl_adopted_2023/House-2023 shape.shp\".format(data_folder, state_ab)\n",
    "county_data = \"./{}{}_pl2020_cnty/{}_pl2020_cnty.shp\".format(data_folder, state_ab, state_ab)"
   ]
  },
  {
   "cell_type": "code",
   "execution_count": 6,
   "metadata": {},
   "outputs": [],
   "source": [
    "def do_smart_repair(df, min_rook_length = None, snap_precision = 10):\n",
    "    # change it to the UTM it needs for smart_repair\n",
    "    df = df.to_crs(df.estimate_utm_crs())\n",
    "    df = smart_repair(df, min_rook_length = min_rook_length, snap_precision = snap_precision)\n",
    "\n",
    "    if maup.doctor(df) == False:\n",
    "        raise Exception('maup.doctor failed')\n",
    "    \n",
    "    return df"
   ]
  },
  {
   "cell_type": "code",
   "execution_count": 7,
   "metadata": {},
   "outputs": [],
   "source": [
    "def add_district(dist_df, dist_name, election_df, col_name):\n",
    "    election_df = election_df.to_crs(election_df.estimate_utm_crs())\n",
    "    dist_df = dist_df.to_crs(dist_df.estimate_utm_crs())\n",
    "    # check if it needs to be smart_repair\n",
    "    if maup.doctor(dist_df) != True:\n",
    "        dist_df = do_smart_repair(dist_df)\n",
    "\n",
    "    # assign the pricincts\n",
    "    precincts_to_district_assignment = maup.assign(election_df.geometry, dist_df.geometry)\n",
    "    election_df[dist_name] = precincts_to_district_assignment\n",
    "    for precinct_index in range(len(election_df)):\n",
    "        election_df.at[precinct_index, dist_name] = dist_df.at[election_df.at[precinct_index, dist_name], col_name]\n",
    "\n",
    "    return election_df"
   ]
  },
  {
   "cell_type": "code",
   "execution_count": 8,
   "metadata": {},
   "outputs": [],
   "source": [
    "def rename(original, year):\n",
    "    party = original[6]\n",
    "    if party == 'R' or party == 'D':\n",
    "        return original[3:6] + year + original[6]\n",
    "    else:\n",
    "        return original[3:6] + year + 'O'"
   ]
  },
  {
   "cell_type": "code",
   "execution_count": 9,
   "metadata": {},
   "outputs": [],
   "source": [
    "pop_col = ['TOTPOP', 'HISP', 'NH_WHITE', 'NH_BLACK', 'NH_AMIN', 'NH_ASIAN', 'NH_NHPI', 'NH_OTHER', 'NH_2MORE', 'H_WHITE', 'H_BLACK', 'H_AMIN', 'H_ASIAN', 'H_NHPI', 'H_OTHER', 'H_2MORE', 'VAP', 'HVAP', 'WVAP', 'BVAP', 'AMINVAP', 'ASIANVAP', 'NHPIVAP', 'OTHERVAP', '2MOREVAP']"
   ]
  },
  {
   "cell_type": "code",
   "execution_count": 10,
   "metadata": {},
   "outputs": [],
   "source": [
    "def check_population(population, df):\n",
    "    pop_check = pd.DataFrame({\n",
    "        'pop_col': pop_col,\n",
    "        'population_df': population[pop_col].sum(), \n",
    "        'vest_base': df[pop_col].sum(),\n",
    "        'equal': [x == y for x, y in zip(population[pop_col].sum(), df[pop_col].sum())]\n",
    "    })\n",
    "    if pop_check['equal'].mean() < 1:\n",
    "        print(pop_check)\n",
    "        raise Exception(\"population doesn't agree\")\n",
    "\n",
    "    else:\n",
    "        print(\"population agrees\")"
   ]
  },
  {
   "cell_type": "code",
   "execution_count": 11,
   "metadata": {},
   "outputs": [],
   "source": [
    "def add_vest(vest, df, year, population, start_col, snap_precision = 10):\n",
    "    df = df.to_crs(df.estimate_utm_crs())\n",
    "    vest = vest.to_crs(vest.estimate_utm_crs())\n",
    "    population = population.to_crs(population.estimate_utm_crs())\n",
    "    df_crs = df.crs\n",
    "    vest_crs = vest.crs\n",
    "    \n",
    "    # check if it needs to be smart_repair\n",
    "    if maup.doctor(vest) != True:\n",
    "        vest = do_smart_repair(vest, snap_precision = snap_precision)\n",
    "    \n",
    "    # rename the columns\n",
    "    original_col = vest.columns[start_col:-1]\n",
    "    new_col = [rename(i, year) for i in original_col]\n",
    "    rename_dict = dict(zip(original_col, new_col))\n",
    "    vest = vest.rename(columns=rename_dict)\n",
    "    vest = vest.groupby(level=0, axis=1).sum() # combine all the other party's vote into columns with sufix \"O\"\n",
    "    col_name = list(set(new_col))\n",
    "    col_name.sort()\n",
    "    \n",
    "    # make the blocks from precincts by weight\n",
    "    vest = gpd.GeoDataFrame(vest, crs=vest_crs)\n",
    "    election_in_block = population[[\"VAP\", 'geometry']] # population_df is in block scale\n",
    "    blocks_to_precincts_assignment = maup.assign(election_in_block.geometry, vest.geometry)\n",
    "    weights = election_in_block[\"VAP\"] / blocks_to_precincts_assignment.map(election_in_block[\"VAP\"].groupby(blocks_to_precincts_assignment).sum())\n",
    "    weights = weights.fillna(0)\n",
    "    prorated = maup.prorate(blocks_to_precincts_assignment, vest[col_name], weights)\n",
    "    election_in_block[col_name] = prorated\n",
    "    \n",
    "    # assign blocks to precincts\n",
    "    election_in_block = gpd.GeoDataFrame(election_in_block, crs=vest_crs)\n",
    "    df = gpd.GeoDataFrame(df, crs=df_crs)\n",
    "    block_to_pricinct_assginment = maup.assign(election_in_block.geometry, df.geometry)\n",
    "    df[col_name] = election_in_block[col_name].groupby(block_to_pricinct_assginment).sum()\n",
    "    df = df.groupby(level=0, axis=1).sum()\n",
    "    df = gpd.GeoDataFrame(df, crs = df_crs)\n",
    "    # check if population agrees\n",
    "    check_population(population, df)\n",
    "    \n",
    "    return df"
   ]
  },
  {
   "cell_type": "code",
   "execution_count": 12,
   "metadata": {},
   "outputs": [],
   "source": [
    "def add_vest_base(vest, start_col, year, county = None, min_rook_length = None, snap_precision = 10):\n",
    "    vest = vest.to_crs(vest.estimate_utm_crs())\n",
    "    vest_crs = vest.crs\n",
    "    original_col = vest.columns[start_col:-1]\n",
    "    new_col = [rename(i, year) for i in original_col]\n",
    "    rename_dict = dict(zip(original_col, new_col))\n",
    "    vest = vest.rename(columns=rename_dict)\n",
    "    vest = vest.groupby(level=0, axis=1).sum()\n",
    "    vest = gpd.GeoDataFrame(vest, crs=vest_crs)\n",
    "\n",
    "    if county is not None:\n",
    "        county = county.to_crs(county.estimate_utm_crs())\n",
    "        vest = smart_repair(vest, nest_within_regions = county, min_rook_length = min_rook_length, snap_precision = snap_precision) # nest precincts within counties\n",
    "\n",
    "    else:\n",
    "        vest = smart_repair(vest, min_rook_length = min_rook_length, snap_precision = snap_precision) \n",
    "    \n",
    "    return vest"
   ]
  },
  {
   "cell_type": "code",
   "execution_count": 13,
   "metadata": {},
   "outputs": [],
   "source": [
    "def check_small_boundary_lengths(vest_base):\n",
    "    import copy\n",
    "    vest_base = vest_base.to_crs(vest_base.estimate_utm_crs())\n",
    "\n",
    "    boundaries = copy.deepcopy(vest_base)\n",
    "    boundaries[\"geometry\"] = boundaries.geometry.boundary  # get boundaries\n",
    "    neighbors = gpd.sjoin(boundaries, vest_base, predicate=\"intersects\") # find boundaries that intersect\n",
    "    neighbors = neighbors[neighbors.index != neighbors.index_right] # remove boundaries of a region with itself\n",
    "\n",
    "    # compute shared border length using intersection\n",
    "    borders = list(neighbors.apply(\n",
    "        lambda row: row.geometry.intersection(vest_base.loc[row.index_right, \"geometry\"]).length, axis=1\n",
    "    ))\n",
    "\n",
    "    borders.sort()\n",
    "    \n",
    "    return borders"
   ]
  },
  {
   "cell_type": "markdown",
   "metadata": {},
   "source": [
    "### Read the census data"
   ]
  },
  {
   "cell_type": "code",
   "execution_count": 15,
   "metadata": {},
   "outputs": [],
   "source": [
    "population1_df = gpd.read_file(population1_data)\n",
    "population2_df = gpd.read_file(population2_data)\n",
    "vap_df = gpd.read_file(vap_data)\n",
    "county_df = gpd.read_file(county_data)"
   ]
  },
  {
   "cell_type": "code",
   "execution_count": 16,
   "metadata": {},
   "outputs": [],
   "source": [
    "population2_df = population2_df.drop(columns=['SUMLEV', 'LOGRECNO', 'GEOID', 'COUNTY', 'geometry'])\n",
    "vap_df = vap_df.drop(columns=['SUMLEV', 'LOGRECNO', 'GEOID', 'COUNTY', 'geometry'])"
   ]
  },
  {
   "cell_type": "code",
   "execution_count": 17,
   "metadata": {},
   "outputs": [],
   "source": [
    "population_df = pd.merge(population1_df, population2_df, on='GEOID20')\n",
    "population_df = pd.merge(population_df, vap_df, on='GEOID20')\n",
    "population_df = population_df.to_crs(population_df.estimate_utm_crs())"
   ]
  },
  {
   "cell_type": "code",
   "execution_count": 18,
   "metadata": {},
   "outputs": [
    {
     "name": "stderr",
     "output_type": "stream",
     "text": [
      "100%|█████████████████████████████████| 232717/232717 [01:22<00:00, 2834.55it/s]\n"
     ]
    },
    {
     "data": {
      "text/plain": [
       "True"
      ]
     },
     "execution_count": 18,
     "metadata": {},
     "output_type": "execute_result"
    }
   ],
   "source": [
    "maup.doctor(population_df)"
   ]
  },
  {
   "cell_type": "code",
   "execution_count": 19,
   "metadata": {},
   "outputs": [],
   "source": [
    "population_df['H_WHITE'] = population_df.apply(lambda t: t['P0010003'] - t['P0020005'], 1)\n",
    "population_df['H_BLACK'] = population_df.apply(lambda t: t['P0010004'] - t['P0020006'], 1)\n",
    "population_df['H_AMIN'] = population_df.apply(lambda t: t['P0010005'] - t['P0020007'], 1)\n",
    "population_df['H_ASIAN'] = population_df.apply(lambda t: t['P0010006'] - t['P0020008'], 1)\n",
    "population_df['H_NHPI'] = population_df.apply(lambda t: t['P0010007'] - t['P0020009'], 1)\n",
    "population_df['H_OTHER'] = population_df.apply(lambda t: t['P0010008'] - t['P0020010'], 1)\n",
    "population_df['H_2MORE'] = population_df.apply(lambda t: t['P0010009'] - t['P0020011'], 1)"
   ]
  },
  {
   "cell_type": "code",
   "execution_count": 20,
   "metadata": {},
   "outputs": [],
   "source": [
    "rename_dict = {'P0020001': 'TOTPOP', 'P0020002': 'HISP', 'P0020005': 'NH_WHITE', 'P0020006': 'NH_BLACK', 'P0020007': 'NH_AMIN',\n",
    "                    'P0020008': 'NH_ASIAN', 'P0020009': 'NH_NHPI', 'P0020010': 'NH_OTHER', 'P0020011': 'NH_2MORE',\n",
    "                    'P0040001': 'VAP', 'P0040002': 'HVAP', 'P0040005': 'WVAP', 'P0040006': 'BVAP', 'P0040007': 'AMINVAP',\n",
    "                                        'P0040008': 'ASIANVAP', 'P0040009': 'NHPIVAP', 'P0040010': 'OTHERVAP', 'P0040011': '2MOREVAP'}"
   ]
  },
  {
   "cell_type": "code",
   "execution_count": 21,
   "metadata": {},
   "outputs": [],
   "source": [
    "population_df.rename(columns=rename_dict, inplace = True)"
   ]
  },
  {
   "cell_type": "markdown",
   "metadata": {},
   "source": [
    "Make sure that the County shapefile is clean:"
   ]
  },
  {
   "cell_type": "code",
   "execution_count": 23,
   "metadata": {},
   "outputs": [
    {
     "name": "stderr",
     "output_type": "stream",
     "text": [
      "100%|████████████████████████████████████████| 159/159 [00:00<00:00, 298.23it/s]\n"
     ]
    },
    {
     "data": {
      "text/plain": [
       "True"
      ]
     },
     "execution_count": 23,
     "metadata": {},
     "output_type": "execute_result"
    }
   ],
   "source": [
    "maup.doctor(county_df)"
   ]
  },
  {
   "cell_type": "markdown",
   "metadata": {},
   "source": [
    "## Read the vest 20 data\n",
    "\n",
    "Now using it as a \"base pricinct\""
   ]
  },
  {
   "cell_type": "markdown",
   "metadata": {},
   "source": [
    "## Check if vest20 can be used as base"
   ]
  },
  {
   "cell_type": "markdown",
   "metadata": {},
   "source": [
    "### vest 20 is not working, so we use vest 16 as our base data"
   ]
  },
  {
   "cell_type": "code",
   "execution_count": 27,
   "metadata": {},
   "outputs": [],
   "source": [
    "vest16 = gpd.read_file(vest16_data)"
   ]
  },
  {
   "cell_type": "code",
   "execution_count": 28,
   "metadata": {},
   "outputs": [
    {
     "data": {
      "text/plain": [
       "Index(['DISTRICT', 'CTYSOSID', 'PRECINCT_I', 'PRECINCT_N', 'CTYNAME',\n",
       "       'CTYNUMBER', 'CTYNUMBER2', 'FIPS2', 'G16PRERTRU', 'G16PREDCLI',\n",
       "       'G16PRELJOH', 'G16USSRISA', 'G16USSDBAR', 'G16USSLBUC', 'G16PSCRECH',\n",
       "       'G16PSCLHOS', 'geometry'],\n",
       "      dtype='object')"
      ]
     },
     "execution_count": 28,
     "metadata": {},
     "output_type": "execute_result"
    }
   ],
   "source": [
    "vest16.columns"
   ]
  },
  {
   "cell_type": "code",
   "execution_count": 29,
   "metadata": {},
   "outputs": [],
   "source": [
    "start_col = 8\n",
    "vest_base_data = vest16\n",
    "year = '16'"
   ]
  },
  {
   "cell_type": "code",
   "execution_count": 30,
   "metadata": {},
   "outputs": [
    {
     "name": "stderr",
     "output_type": "stream",
     "text": [
      "100%|████████████████████████████████████████| 159/159 [00:00<00:00, 297.56it/s]\n"
     ]
    },
    {
     "name": "stdout",
     "output_type": "stream",
     "text": [
      "Snapping all geometries to a grid with precision 10^( -5 ) to avoid GEOS errors.\n"
     ]
    },
    {
     "name": "stderr",
     "output_type": "stream",
     "text": [
      "100%|████████████████████████████████████████| 159/159 [00:00<00:00, 245.45it/s]\n",
      "100%|█████████████████████████████████████████| 159/159 [00:02<00:00, 78.36it/s]\n"
     ]
    },
    {
     "name": "stdout",
     "output_type": "stream",
     "text": [
      "Identifying overlaps...\n"
     ]
    },
    {
     "name": "stderr",
     "output_type": "stream",
     "text": [
      "100%|███████████████████████████████████| 11436/11436 [00:05<00:00, 1939.26it/s]\n"
     ]
    },
    {
     "name": "stdout",
     "output_type": "stream",
     "text": [
      "Resolving overlaps and filling gaps...\n"
     ]
    },
    {
     "name": "stderr",
     "output_type": "stream",
     "text": [
      "100%|████████████████████████████████████████| 159/159 [00:00<00:00, 241.61it/s]\n",
      "100%|█████████████████████████████████████████| 159/159 [00:02<00:00, 77.27it/s]\n",
      "Gaps to simplify in region 0: 100%|█████████████| 73/73 [00:01<00:00, 42.17it/s]\n",
      "Gaps to fill: 0it [00:00, ?it/s]\n",
      "Gaps to simplify in region 1: 100%|████████████| 51/51 [00:00<00:00, 125.40it/s]\n",
      "Gaps to fill in region 1: 100%|███████████████████| 1/1 [00:00<00:00, 54.13it/s]\n",
      "Gaps to simplify in region 2: 100%|█████████████| 50/50 [00:00<00:00, 90.84it/s]\n",
      "Gaps to fill: 0it [00:00, ?it/s]\n",
      "Gaps to simplify in region 3: 100%|████████████| 25/25 [00:00<00:00, 157.41it/s]\n",
      "Gaps to fill: 0it [00:00, ?it/s]\n",
      "Gaps to simplify in region 4: 100%|██████████| 127/127 [00:01<00:00, 107.38it/s]\n",
      "Gaps to fill in region 4: 100%|███████████████████| 4/4 [00:00<00:00, 75.23it/s]\n",
      "Gaps to simplify in region 5: 100%|████████████| 12/12 [00:00<00:00, 136.15it/s]\n",
      "Gaps to fill: 0it [00:00, ?it/s]\n",
      "Gaps to simplify in region 6: 100%|████████████| 67/67 [00:00<00:00, 104.30it/s]\n",
      "Gaps to fill: 0it [00:00, ?it/s]\n",
      "Gaps to simplify in region 7: 100%|███████████| 617/617 [00:14<00:00, 43.67it/s]\n",
      "Gaps to fill in region 7: 100%|███████████████| 115/115 [00:02<00:00, 42.82it/s]\n",
      "Gaps to simplify in region 8: 100%|████████████| 18/18 [00:00<00:00, 152.56it/s]\n",
      "Gaps to fill: 0it [00:00, ?it/s]\n",
      "Gaps to simplify in region 9: 100%|████████████| 81/81 [00:00<00:00, 113.65it/s]\n",
      "Gaps to fill in region 9: 100%|███████████████████| 8/8 [00:00<00:00, 54.43it/s]\n",
      "Gaps to simplify in region 10: 100%|███████████| 46/46 [00:00<00:00, 137.12it/s]\n",
      "Gaps to fill in region 10: 100%|██████████████████| 1/1 [00:00<00:00, 42.07it/s]\n",
      "Gaps to simplify in region 11: 100%|████████████| 69/69 [00:00<00:00, 97.43it/s]\n",
      "Gaps to fill: 0it [00:00, ?it/s]\n",
      "Gaps to simplify in region 12: 100%|███████████| 42/42 [00:00<00:00, 150.33it/s]\n",
      "Gaps to fill: 0it [00:00, ?it/s]\n",
      "Gaps to simplify in region 13: 100%|████████████| 22/22 [00:00<00:00, 50.33it/s]\n",
      "Gaps to fill: 0it [00:00, ?it/s]\n",
      "Gaps to simplify in region 14: 100%|██████████| 148/148 [00:01<00:00, 91.16it/s]\n",
      "Gaps to fill in region 14: 100%|██████████████████| 4/4 [00:00<00:00,  9.79it/s]\n",
      "Gaps to simplify in region 15: 100%|███████████| 10/10 [00:00<00:00, 132.33it/s]\n",
      "Gaps to fill: 0it [00:00, ?it/s]\n",
      "Gaps to simplify in region 16: 100%|███████████| 81/81 [00:00<00:00, 156.29it/s]\n",
      "Gaps to fill in region 16: 100%|██████████████████| 1/1 [00:00<00:00, 50.90it/s]\n",
      "Gaps to simplify in region 17: 100%|█████████| 139/139 [00:00<00:00, 156.55it/s]\n",
      "Gaps to fill in region 17: 100%|█████████████████| 5/5 [00:00<00:00, 130.69it/s]\n",
      "Gaps to simplify in region 18: 100%|████████████| 28/28 [00:00<00:00, 93.75it/s]\n",
      "Gaps to fill: 0it [00:00, ?it/s]\n",
      "Gaps to simplify in region 19: 100%|███████████| 24/24 [00:00<00:00, 129.20it/s]\n",
      "Gaps to fill: 0it [00:00, ?it/s]\n",
      "Gaps to simplify in region 20: 100%|███████████| 31/31 [00:00<00:00, 133.18it/s]\n",
      "Gaps to fill: 0it [00:00, ?it/s]\n",
      "Gaps to simplify in region 21: 100%|███████████| 51/51 [00:00<00:00, 114.85it/s]\n",
      "Gaps to fill: 0it [00:00, ?it/s]\n",
      "Gaps to simplify in region 22: 100%|███████████| 47/47 [00:00<00:00, 109.91it/s]\n",
      "Gaps to fill: 0it [00:00, ?it/s]\n",
      "Gaps to simplify in region 23: 100%|███████████| 49/49 [00:00<00:00, 108.85it/s]\n",
      "Gaps to fill: 0it [00:00, ?it/s]\n",
      "Gaps to simplify in region 24: 100%|████████████| 95/95 [00:01<00:00, 75.50it/s]\n",
      "Gaps to fill: 0it [00:00, ?it/s]\n",
      "Gaps to simplify in region 25: 100%|███████████| 23/23 [00:00<00:00, 114.49it/s]\n",
      "Gaps to fill: 0it [00:00, ?it/s]\n",
      "Gaps to simplify in region 26: 100%|███████████| 20/20 [00:00<00:00, 109.47it/s]\n",
      "Gaps to fill: 0it [00:00, ?it/s]\n",
      "Gaps to simplify in region 27: 100%|███████████| 92/92 [00:00<00:00, 102.52it/s]\n",
      "Gaps to fill: 0it [00:00, ?it/s]\n",
      "Gaps to simplify in region 28: 100%|███████████| 27/27 [00:00<00:00, 101.34it/s]\n",
      "Gaps to fill: 0it [00:00, ?it/s]\n",
      "Gaps to simplify in region 29: 100%|████████████| 85/85 [00:00<00:00, 95.86it/s]\n",
      "Gaps to fill: 0it [00:00, ?it/s]\n",
      "Gaps to simplify in region 30: 100%|███████████| 30/30 [00:00<00:00, 124.13it/s]\n",
      "Gaps to fill: 0it [00:00, ?it/s]\n",
      "Gaps to simplify in region 31: 100%|███████████| 12/12 [00:00<00:00, 183.25it/s]\n",
      "Gaps to fill: 0it [00:00, ?it/s]\n",
      "Gaps to simplify in region 32: 100%|████████████| 28/28 [00:00<00:00, 81.47it/s]\n",
      "Gaps to fill: 0it [00:00, ?it/s]\n",
      "Gaps to simplify in region 33: 100%|████████████| 60/60 [00:00<00:00, 89.60it/s]\n",
      "Gaps to fill in region 33: 100%|██████████████████| 1/1 [00:00<00:00, 34.21it/s]\n",
      "Gaps to simplify in region 34: 100%|████████████| 33/33 [00:00<00:00, 90.87it/s]\n",
      "Gaps to fill: 0it [00:00, ?it/s]\n",
      "Gaps to simplify in region 35: 100%|████████████| 33/33 [00:00<00:00, 97.09it/s]\n",
      "Gaps to fill in region 35: 100%|██████████████████| 1/1 [00:00<00:00, 50.57it/s]\n",
      "Gaps to simplify in region 36: 100%|███████████| 41/41 [00:00<00:00, 111.02it/s]\n",
      "Gaps to fill: 0it [00:00, ?it/s]\n",
      "Gaps to simplify in region 37: 100%|████████████| 33/33 [00:00<00:00, 84.99it/s]\n",
      "Gaps to fill: 0it [00:00, ?it/s]\n",
      "Gaps to simplify in region 38: 100%|███████████| 39/39 [00:00<00:00, 127.08it/s]\n",
      "Gaps to fill: 0it [00:00, ?it/s]\n",
      "Gaps to simplify in region 39: 100%|██████████████| 8/8 [00:00<00:00, 90.95it/s]\n",
      "Gaps to fill: 0it [00:00, ?it/s]\n",
      "Gaps to simplify in region 40: 100%|████████████| 29/29 [00:00<00:00, 66.03it/s]\n",
      "Gaps to fill: 0it [00:00, ?it/s]\n",
      "Gaps to simplify in region 41: 100%|████████████| 21/21 [00:00<00:00, 78.15it/s]\n",
      "Gaps to fill: 0it [00:00, ?it/s]\n",
      "Gaps to simplify in region 42: 100%|█████████████| 8/8 [00:00<00:00, 115.89it/s]\n",
      "Gaps to fill: 0it [00:00, ?it/s]\n",
      "Gaps to simplify in region 43: 100%|███████████| 32/32 [00:00<00:00, 131.52it/s]\n",
      "Gaps to fill: 0it [00:00, ?it/s]\n",
      "Gaps to simplify in region 44: 100%|██████████████| 7/7 [00:00<00:00, 85.51it/s]\n",
      "Gaps to fill: 0it [00:00, ?it/s]\n",
      "Gaps to simplify in region 45: 100%|███████████| 28/28 [00:00<00:00, 138.41it/s]\n",
      "Gaps to fill in region 45: 100%|█████████████████| 3/3 [00:00<00:00, 105.56it/s]\n",
      "Gaps to simplify in region 46: 100%|███████████| 18/18 [00:00<00:00, 112.04it/s]\n",
      "Gaps to fill: 0it [00:00, ?it/s]\n",
      "Gaps to simplify in region 47: 100%|████████████| 37/37 [00:00<00:00, 49.40it/s]\n",
      "Gaps to fill: 0it [00:00, ?it/s]\n",
      "Gaps to simplify in region 48: 100%|███████████| 14/14 [00:00<00:00, 134.82it/s]\n",
      "Gaps to fill: 0it [00:00, ?it/s]\n",
      "Gaps to simplify in region 49: 100%|████████████| 33/33 [00:00<00:00, 70.41it/s]\n",
      "Gaps to fill in region 49: 100%|██████████████████| 1/1 [00:00<00:00, 19.24it/s]\n",
      "Gaps to simplify in region 50: 100%|███████████| 36/36 [00:00<00:00, 122.45it/s]\n",
      "Gaps to fill: 0it [00:00, ?it/s]\n",
      "Gaps to simplify in region 51: 100%|███████████| 45/45 [00:00<00:00, 111.26it/s]\n",
      "Gaps to fill: 0it [00:00, ?it/s]\n",
      "Gaps to simplify in region 52: 100%|████████████| 34/34 [00:00<00:00, 67.37it/s]\n",
      "Gaps to fill: 0it [00:00, ?it/s]\n",
      "Gaps to simplify in region 53: 100%|███████████| 24/24 [00:00<00:00, 110.30it/s]\n",
      "Gaps to fill: 0it [00:00, ?it/s]\n",
      "Gaps to simplify in region 54: 100%|████████████| 15/15 [00:00<00:00, 95.12it/s]\n",
      "Gaps to fill: 0it [00:00, ?it/s]\n",
      "Gaps to simplify in region 55: 100%|███████████| 14/14 [00:00<00:00, 111.71it/s]\n",
      "Gaps to fill: 0it [00:00, ?it/s]\n",
      "Gaps to simplify in region 56: 100%|████████████| 49/49 [00:00<00:00, 62.99it/s]\n",
      "Gaps to fill: 0it [00:00, ?it/s]\n",
      "Gaps to simplify in region 57: 100%|████████████| 42/42 [00:00<00:00, 49.67it/s]\n",
      "Gaps to fill: 0it [00:00, ?it/s]\n",
      "Gaps to simplify in region 58: 100%|███████████| 14/14 [00:00<00:00, 100.08it/s]\n",
      "Gaps to fill: 0it [00:00, ?it/s]\n",
      "Gaps to simplify in region 59: 100%|█████████████| 1/1 [00:00<00:00, 138.33it/s]\n",
      "Gaps to fill: 0it [00:00, ?it/s]\n",
      "Gaps to simplify in region 60: 100%|████████████| 26/26 [00:00<00:00, 72.33it/s]\n",
      "Gaps to fill in region 60: 100%|██████████████████| 1/1 [00:00<00:00, 23.63it/s]\n",
      "Gaps to simplify in region 61: 100%|███████████| 14/14 [00:00<00:00, 129.94it/s]\n",
      "Gaps to fill: 0it [00:00, ?it/s]\n",
      "Gaps to simplify in region 62: 100%|███████████| 23/23 [00:00<00:00, 104.57it/s]\n",
      "Gaps to fill: 0it [00:00, ?it/s]\n",
      "Gaps to simplify in region 63: 100%|███████████| 11/11 [00:00<00:00, 137.66it/s]\n",
      "Gaps to fill: 0it [00:00, ?it/s]\n",
      "Gaps to simplify in region 64: 100%|███████████| 28/28 [00:00<00:00, 141.88it/s]\n",
      "Gaps to fill: 0it [00:00, ?it/s]\n",
      "Gaps to simplify in region 65: 100%|███████████| 31/31 [00:00<00:00, 108.05it/s]\n",
      "Gaps to fill: 0it [00:00, ?it/s]\n",
      "Gaps to simplify in region 66: 100%|████████████| 26/26 [00:00<00:00, 98.14it/s]\n",
      "Gaps to fill in region 66: 100%|██████████████████| 1/1 [00:00<00:00, 41.96it/s]\n",
      "Gaps to simplify in region 67: 100%|████████████| 17/17 [00:00<00:00, 41.89it/s]\n",
      "Gaps to fill: 0it [00:00, ?it/s]\n",
      "Gaps to simplify in region 68: 100%|███████████| 22/22 [00:00<00:00, 166.11it/s]\n",
      "Gaps to fill: 0it [00:00, ?it/s]\n",
      "Gaps to simplify in region 69: 100%|███████████| 14/14 [00:00<00:00, 170.58it/s]\n",
      "Gaps to fill: 0it [00:00, ?it/s]\n",
      "Gaps to simplify in region 70: 100%|████████████| 88/88 [00:00<00:00, 88.54it/s]\n",
      "Gaps to fill in region 70: 100%|██████████████████| 1/1 [00:00<00:00, 21.92it/s]\n",
      "Gaps to simplify in region 71: 100%|████████████| 24/24 [00:00<00:00, 99.69it/s]\n",
      "Gaps to fill: 0it [00:00, ?it/s]\n",
      "Gaps to simplify in region 72: 100%|███████████| 48/48 [00:00<00:00, 107.56it/s]\n",
      "Gaps to fill: 0it [00:00, ?it/s]\n",
      "Gaps to simplify in region 73: 100%|████████████| 28/28 [00:00<00:00, 67.53it/s]\n",
      "Gaps to fill in region 73: 100%|██████████████████| 1/1 [00:00<00:00, 30.28it/s]\n",
      "Gaps to simplify in region 74: 100%|████████████| 98/98 [00:01<00:00, 86.21it/s]\n",
      "Gaps to fill: 0it [00:00, ?it/s]\n",
      "Gaps to simplify in region 75: 100%|███████████| 17/17 [00:00<00:00, 183.62it/s]\n",
      "Gaps to fill: 0it [00:00, ?it/s]\n",
      "Gaps to simplify in region 76: 100%|████████████| 14/14 [00:00<00:00, 91.77it/s]\n",
      "Gaps to fill: 0it [00:00, ?it/s]\n",
      "Gaps to simplify in region 77: 100%|████████████| 52/52 [00:00<00:00, 60.76it/s]\n",
      "Gaps to fill in region 77: 100%|██████████████████| 1/1 [00:00<00:00, 26.63it/s]\n",
      "Gaps to simplify in region 78: 100%|████████████| 12/12 [00:00<00:00, 47.22it/s]\n",
      "Gaps to fill in region 78: 100%|██████████████████| 1/1 [00:00<00:00, 26.84it/s]\n",
      "Gaps to simplify in region 79: 100%|████████████| 13/13 [00:00<00:00, 86.11it/s]\n",
      "Gaps to fill: 0it [00:00, ?it/s]\n",
      "Gaps to simplify in region 80: 100%|████████████| 18/18 [00:00<00:00, 90.97it/s]\n",
      "Gaps to fill: 0it [00:00, ?it/s]\n",
      "Gaps to simplify in region 81: 100%|████████████| 27/27 [00:00<00:00, 42.23it/s]\n",
      "Gaps to fill: 0it [00:00, ?it/s]\n",
      "Gaps to simplify in region 82: 100%|████████████| 16/16 [00:00<00:00, 79.04it/s]\n",
      "Gaps to fill: 0it [00:00, ?it/s]\n",
      "Gaps to simplify in region 83: 100%|███████████| 27/27 [00:00<00:00, 136.12it/s]\n",
      "Gaps to fill: 0it [00:00, ?it/s]\n",
      "Gaps to simplify in region 84: 100%|███████████| 18/18 [00:00<00:00, 129.58it/s]\n",
      "Gaps to fill: 0it [00:00, ?it/s]\n",
      "Gaps to simplify in region 85: 100%|████████████| 26/26 [00:00<00:00, 34.19it/s]\n",
      "Gaps to fill in region 85: 100%|████████████████| 10/10 [00:00<00:00, 46.16it/s]\n",
      "Gaps to simplify in region 86: 100%|████████████| 51/51 [00:00<00:00, 53.44it/s]\n",
      "Gaps to fill: 0it [00:00, ?it/s]\n",
      "Gaps to simplify in region 87: 100%|████████████| 17/17 [00:00<00:00, 28.08it/s]\n",
      "Gaps to fill in region 87: 100%|██████████████████| 9/9 [00:00<00:00, 65.10it/s]\n",
      "Gaps to simplify in region 88: 100%|███████████| 57/57 [00:00<00:00, 100.89it/s]\n",
      "Gaps to fill: 0it [00:00, ?it/s]\n",
      "Gaps to simplify in region 89: 100%|█████████| 244/244 [00:02<00:00, 101.49it/s]\n",
      "Gaps to fill: 0it [00:00, ?it/s]\n",
      "Gaps to simplify in region 90: 100%|████████████| 11/11 [00:00<00:00, 84.64it/s]\n",
      "Gaps to fill in region 90: 100%|██████████████████| 1/1 [00:00<00:00, 40.74it/s]\n",
      "Gaps to simplify in region 91: 100%|███████████| 21/21 [00:00<00:00, 119.34it/s]\n",
      "Gaps to fill: 0it [00:00, ?it/s]\n",
      "Gaps to simplify in region 92: 100%|███████████| 29/29 [00:00<00:00, 106.04it/s]\n",
      "Gaps to fill: 0it [00:00, ?it/s]\n",
      "Gaps to simplify in region 93: 100%|███████████| 29/29 [00:00<00:00, 128.13it/s]\n",
      "Gaps to fill: 0it [00:00, ?it/s]\n",
      "Gaps to simplify in region 94: 100%|█████████████| 8/8 [00:00<00:00, 113.78it/s]\n",
      "Gaps to fill: 0it [00:00, ?it/s]\n",
      "Gaps to simplify in region 95: 100%|████████████| 16/16 [00:00<00:00, 64.89it/s]\n",
      "Gaps to fill: 0it [00:00, ?it/s]\n",
      "Gaps to simplify in region 96: 100%|████████████| 36/36 [00:00<00:00, 68.81it/s]\n",
      "Gaps to fill: 0it [00:00, ?it/s]\n",
      "Gaps to simplify in region 97: 100%|███████████| 16/16 [00:00<00:00, 116.97it/s]\n",
      "Gaps to fill: 0it [00:00, ?it/s]\n",
      "Gaps to simplify in region 98: 100%|████████████| 27/27 [00:00<00:00, 93.63it/s]\n",
      "Gaps to fill in region 98: 100%|██████████████████| 1/1 [00:00<00:00, 31.26it/s]\n",
      "Gaps to simplify in region 99: 100%|███████████| 83/83 [00:00<00:00, 104.69it/s]\n",
      "Gaps to fill in region 99: 100%|██████████████████| 1/1 [00:00<00:00, 42.24it/s]\n",
      "Gaps to simplify in region 100: 100%|███████████| 61/61 [00:00<00:00, 89.07it/s]\n",
      "Gaps to fill: 0it [00:00, ?it/s]\n",
      "Gaps to simplify in region 101: 100%|█████████| 106/106 [00:01<00:00, 89.73it/s]\n",
      "Gaps to fill: 0it [00:00, ?it/s]\n",
      "Gaps to simplify in region 102: 100%|██████████| 40/40 [00:00<00:00, 140.37it/s]\n",
      "Gaps to fill in region 102: 100%|█████████████████| 1/1 [00:00<00:00, 43.98it/s]\n",
      "Gaps to simplify in region 103: 100%|███████████| 50/50 [00:00<00:00, 77.96it/s]\n",
      "Gaps to fill: 0it [00:00, ?it/s]\n",
      "Gaps to simplify in region 104: 100%|███████████| 32/32 [00:00<00:00, 55.85it/s]\n",
      "Gaps to fill: 0it [00:00, ?it/s]\n",
      "Gaps to simplify in region 105: 100%|███████████| 78/78 [00:02<00:00, 36.09it/s]\n",
      "Gaps to fill: 0it [00:00, ?it/s]\n",
      "Gaps to simplify in region 106: 100%|███████████| 34/34 [00:00<00:00, 62.47it/s]\n",
      "Gaps to fill: 0it [00:00, ?it/s]\n",
      "Gaps to simplify in region 107: 100%|████████████| 7/7 [00:00<00:00, 101.00it/s]\n",
      "Gaps to fill: 0it [00:00, ?it/s]\n",
      "Gaps to simplify in region 108: 100%|███████████| 54/54 [00:00<00:00, 63.50it/s]\n",
      "Gaps to fill: 0it [00:00, ?it/s]\n",
      "Gaps to simplify in region 109: 100%|███████████| 54/54 [00:01<00:00, 39.16it/s]\n",
      "Gaps to fill in region 109: 100%|█████████████████| 6/6 [00:00<00:00, 17.42it/s]\n",
      "Gaps to simplify in region 110: 100%|██████████| 47/47 [00:00<00:00, 130.73it/s]\n",
      "Gaps to fill: 0it [00:00, ?it/s]\n",
      "Gaps to simplify in region 111: 100%|███████████| 64/64 [00:00<00:00, 87.23it/s]\n",
      "Gaps to fill: 0it [00:00, ?it/s]\n",
      "Gaps to simplify in region 112: 100%|█████████| 124/124 [00:02<00:00, 48.16it/s]\n",
      "Gaps to fill in region 112: 100%|█████████████████| 3/3 [00:00<00:00, 23.66it/s]\n",
      "Gaps to simplify in region 113: 100%|█████████| 104/104 [00:01<00:00, 77.11it/s]\n",
      "Gaps to fill: 0it [00:00, ?it/s]\n",
      "Gaps to simplify in region 114: 100%|██████████| 22/22 [00:00<00:00, 101.38it/s]\n",
      "Gaps to fill: 0it [00:00, ?it/s]\n",
      "Gaps to simplify in region 115: 100%|██████████| 21/21 [00:00<00:00, 128.19it/s]\n",
      "Gaps to fill: 0it [00:00, ?it/s]\n",
      "Gaps to simplify in region 116: 100%|███████████| 20/20 [00:00<00:00, 76.28it/s]\n",
      "Gaps to fill: 0it [00:00, ?it/s]\n",
      "Gaps to simplify in region 117: 100%|██████████| 20/20 [00:00<00:00, 114.82it/s]\n",
      "Gaps to fill: 0it [00:00, ?it/s]\n",
      "Gaps to simplify in region 118: 100%|████████████| 8/8 [00:00<00:00, 132.31it/s]\n",
      "Gaps to fill: 0it [00:00, ?it/s]\n",
      "Gaps to simplify in region 119: 100%|██████████| 24/24 [00:00<00:00, 133.99it/s]\n",
      "Gaps to fill: 0it [00:00, ?it/s]\n",
      "Gaps to simplify in region 120: 100%|██████████| 15/15 [00:00<00:00, 148.07it/s]\n",
      "Gaps to fill: 0it [00:00, ?it/s]\n",
      "Gaps to simplify in region 121: 100%|███████████| 21/21 [00:00<00:00, 71.07it/s]\n",
      "Gaps to fill: 0it [00:00, ?it/s]\n",
      "Gaps to simplify in region 122: 100%|███████████| 69/69 [00:01<00:00, 61.93it/s]\n",
      "Gaps to fill: 0it [00:00, ?it/s]\n",
      "Gaps to simplify in region 123: 100%|█████████████| 9/9 [00:00<00:00, 35.47it/s]\n",
      "Gaps to fill: 0it [00:00, ?it/s]\n",
      "Gaps to simplify in region 124: 100%|███████████| 62/62 [00:00<00:00, 76.88it/s]\n",
      "Gaps to fill: 0it [00:00, ?it/s]\n",
      "Gaps to simplify in region 125: 100%|███████████| 85/85 [00:02<00:00, 37.41it/s]\n",
      "Gaps to fill: 0it [00:00, ?it/s]\n",
      "Gaps to simplify in region 126: 100%|███████████| 67/67 [00:00<00:00, 67.76it/s]\n",
      "Gaps to fill: 0it [00:00, ?it/s]\n",
      "Gaps to simplify in region 127: 100%|████████████| 7/7 [00:00<00:00, 157.95it/s]\n",
      "Gaps to fill: 0it [00:00, ?it/s]\n",
      "Gaps to simplify in region 128: 100%|███████████| 38/38 [00:00<00:00, 51.38it/s]\n",
      "Gaps to fill: 0it [00:00, ?it/s]\n",
      "Gaps to simplify in region 129: 100%|█████████████| 6/6 [00:00<00:00, 73.16it/s]\n",
      "Gaps to fill: 0it [00:00, ?it/s]\n",
      "Gaps to simplify in region 130: 100%|█████████████| 6/6 [00:00<00:00, 77.06it/s]\n",
      "Gaps to fill: 0it [00:00, ?it/s]\n",
      "Gaps to simplify in region 131: 100%|██████████| 15/15 [00:00<00:00, 103.71it/s]\n",
      "Gaps to fill: 0it [00:00, ?it/s]\n",
      "Gaps to simplify in region 132: 100%|██████████| 10/10 [00:00<00:00, 108.79it/s]\n",
      "Gaps to fill: 0it [00:00, ?it/s]\n",
      "Gaps to simplify in region 133: 100%|████████████| 9/9 [00:00<00:00, 152.64it/s]\n",
      "Gaps to fill: 0it [00:00, ?it/s]\n",
      "Gaps to simplify in region 134: 100%|███████████| 31/31 [00:00<00:00, 91.66it/s]\n",
      "Gaps to fill: 0it [00:00, ?it/s]\n",
      "Gaps to simplify in region 135: 100%|███████████| 79/79 [00:01<00:00, 75.11it/s]\n",
      "Gaps to fill: 0it [00:00, ?it/s]\n",
      "Gaps to simplify in region 136: 100%|████████████| 4/4 [00:00<00:00, 119.77it/s]\n",
      "Gaps to fill: 0it [00:00, ?it/s]\n",
      "Gaps to simplify in region 137: 100%|███████████| 22/22 [00:00<00:00, 90.84it/s]\n",
      "Gaps to fill: 0it [00:00, ?it/s]\n",
      "Gaps to simplify in region 138: 100%|███████████| 42/42 [00:01<00:00, 39.16it/s]\n",
      "Gaps to fill in region 138: 100%|█████████████████| 1/1 [00:00<00:00,  5.55it/s]\n",
      "Gaps to simplify in region 139: 100%|██████████| 22/22 [00:00<00:00, 104.18it/s]\n",
      "Gaps to fill: 0it [00:00, ?it/s]\n",
      "Gaps to simplify in region 140: 100%|███████████| 68/68 [00:01<00:00, 51.36it/s]\n",
      "Gaps to fill: 0it [00:00, ?it/s]\n",
      "Gaps to simplify in region 141: 100%|███████████| 30/30 [00:00<00:00, 60.34it/s]\n",
      "Gaps to fill: 0it [00:00, ?it/s]\n",
      "Gaps to simplify in region 142: 100%|███████████| 31/31 [00:00<00:00, 99.44it/s]\n",
      "Gaps to fill: 0it [00:00, ?it/s]\n",
      "Gaps to simplify in region 143: 100%|███████████| 37/37 [00:00<00:00, 43.77it/s]\n",
      "Gaps to fill: 0it [00:00, ?it/s]\n",
      "Gaps to simplify in region 144: 100%|██████████| 29/29 [00:00<00:00, 115.40it/s]\n",
      "Gaps to fill: 0it [00:00, ?it/s]\n",
      "Gaps to simplify in region 145: 100%|█████████| 159/159 [00:01<00:00, 83.66it/s]\n",
      "Gaps to fill: 0it [00:00, ?it/s]\n",
      "Gaps to simplify in region 146: 100%|██████████| 23/23 [00:00<00:00, 114.94it/s]\n",
      "Gaps to fill: 0it [00:00, ?it/s]\n",
      "Gaps to simplify in region 147: 100%|███████████| 66/66 [00:01<00:00, 45.62it/s]\n",
      "Gaps to fill in region 147: 100%|█████████████████| 6/6 [00:00<00:00, 48.70it/s]\n",
      "Gaps to simplify in region 148: 100%|███████████| 21/21 [00:00<00:00, 86.22it/s]\n",
      "Gaps to fill: 0it [00:00, ?it/s]\n",
      "Gaps to simplify in region 149: 100%|██████████| 18/18 [00:00<00:00, 113.02it/s]\n",
      "Gaps to fill: 0it [00:00, ?it/s]\n",
      "Gaps to simplify in region 150: 100%|██████████| 16/16 [00:00<00:00, 178.10it/s]\n",
      "Gaps to fill: 0it [00:00, ?it/s]\n",
      "Gaps to simplify in region 151: 100%|███████████| 21/21 [00:00<00:00, 70.28it/s]\n",
      "Gaps to fill: 0it [00:00, ?it/s]\n",
      "Gaps to simplify in region 152: 100%|██████████| 26/26 [00:00<00:00, 134.60it/s]\n",
      "Gaps to fill: 0it [00:00, ?it/s]\n",
      "Gaps to simplify in region 153: 100%|█████████| 107/107 [00:01<00:00, 96.09it/s]\n",
      "Gaps to fill: 0it [00:00, ?it/s]\n",
      "Gaps to simplify in region 154: 100%|██████████| 26/26 [00:00<00:00, 125.88it/s]\n",
      "Gaps to fill: 0it [00:00, ?it/s]\n",
      "Gaps to simplify in region 155: 100%|█████████████| 7/7 [00:00<00:00, 89.96it/s]\n",
      "Gaps to fill: 0it [00:00, ?it/s]\n",
      "Gaps to simplify in region 156: 100%|██████████| 60/60 [00:00<00:00, 121.07it/s]\n",
      "Gaps to fill: 0it [00:00, ?it/s]\n",
      "Gaps to simplify in region 157: 100%|███████████| 19/19 [00:00<00:00, 49.20it/s]\n",
      "Gaps to fill in region 157: 100%|█████████████████| 2/2 [00:00<00:00, 30.27it/s]\n",
      "Gaps to simplify in region 158: 100%|███████████| 14/14 [00:00<00:00, 84.21it/s]\n",
      "Gaps to fill: 0it [00:00, ?it/s]\n"
     ]
    }
   ],
   "source": [
    "vest_base = add_vest_base(vest_base_data, start_col, year, county = county_df)"
   ]
  },
  {
   "cell_type": "code",
   "execution_count": 31,
   "metadata": {},
   "outputs": [
    {
     "name": "stdout",
     "output_type": "stream",
     "text": [
      "[0.0, 0.0, 0.0, 0.0, 0.0, 0.0, 0.0, 0.0, 0.0, 0.0, 0.0, 0.0, 0.0, 0.0, 0.0, 0.0, 0.0, 0.0, 0.0, 0.0, 0.0, 0.0, 0.0, 0.0, 0.0, 0.0, 0.0, 0.0, 0.0, 0.0, 0.0, 0.0, 0.0, 0.0, 0.0, 0.0, 0.0, 0.0, 0.0, 0.0, 0.0, 0.0, 0.0, 0.0, 0.0, 0.0, 0.0, 0.0, 0.0, 0.0, 0.0, 0.0, 0.0, 0.0, 0.0, 0.0, 0.0, 0.0, 0.0, 0.0, 0.0, 0.0, 0.0, 0.0, 0.0, 0.0, 0.0, 0.0, 0.0, 0.0, 0.0, 0.0, 0.0, 0.0, 0.0, 0.0, 0.0, 0.0, 0.0, 0.0, 0.0, 0.0, 0.0, 0.0, 0.0, 0.0, 0.0, 0.0, 0.0, 0.0, 0.0, 0.0, 0.0, 0.0, 0.0, 0.0, 0.0, 0.0, 0.0, 0.0, 0.0, 0.0, 0.0, 0.0, 0.0, 0.0, 0.0, 0.0, 0.0, 0.0, 0.0, 0.0, 0.0, 0.0, 0.0, 0.0, 0.0, 0.0, 0.0, 0.0, 0.0, 0.0, 0.0, 0.0, 0.0, 0.0, 0.0, 0.0, 0.0, 0.0, 0.0, 0.0, 0.0, 0.0, 0.0, 0.0, 0.0, 0.0, 0.0, 0.0, 0.0, 0.0, 0.0, 0.0, 0.0, 0.0, 0.0, 0.0, 0.0, 0.0, 0.0, 0.0, 0.0, 0.0, 0.0, 0.0, 0.0, 0.0, 0.0, 0.0, 0.0, 0.0, 0.0, 0.0, 0.0, 0.0, 0.0, 0.0, 0.0, 0.0, 0.0, 0.0, 0.0, 0.0, 0.0, 0.0, 0.0, 0.0, 0.0, 0.0, 0.0, 0.0, 0.0, 0.0, 0.0, 0.0, 0.0, 0.0, 0.0, 0.0, 0.0, 0.0, 0.0, 0.0, 0.0, 0.0, 0.0, 0.0, 0.0, 0.0, 0.0, 0.0, 0.0, 0.0, 0.0, 0.0, 0.0, 0.0, 0.0, 0.0, 0.0, 0.0, 0.0, 0.0, 0.0, 0.0, 0.0, 0.0, 0.0, 0.0, 0.0, 0.0, 0.0, 0.0, 0.0, 0.0, 0.0, 0.0, 0.0, 0.0, 0.0, 0.0, 0.0, 0.0, 0.0, 0.0, 0.0, 0.0, 0.0, 0.0, 0.0, 0.0, 0.0, 0.0, 0.0, 0.0, 0.0, 0.0, 0.0, 0.0, 0.0, 0.0, 0.0, 0.0, 0.0, 0.0, 0.0, 0.0, 0.0, 0.0, 0.0, 0.0, 0.0, 0.0, 0.0, 0.0, 0.0, 0.0, 0.0, 0.0, 0.0, 0.0, 0.0, 0.0, 0.0, 0.0, 0.0, 0.0, 0.0, 0.0, 0.0, 0.0, 0.0, 0.0, 0.0, 0.0, 0.0, 0.0, 0.0, 0.0, 0.0, 0.0, 0.0, 0.0, 0.0, 0.0, 0.0, 0.0, 0.0, 0.0, 0.0, 0.0, 0.0, 0.0, 0.0, 0.0, 0.0, 0.0, 0.0, 0.0, 0.0, 0.0, 0.0, 0.0, 0.0, 0.0, 0.0, 0.0, 0.0, 0.0, 0.0, 0.0, 0.0, 0.0, 0.0, 0.0, 0.0, 0.0, 0.0, 0.0, 0.0, 0.0, 0.0, 0.0, 0.0, 0.0, 0.0, 0.0, 0.0, 0.0, 0.0, 0.0, 0.0, 0.0, 0.0, 0.0, 0.0, 0.0, 0.0, 0.0, 0.0, 0.0, 0.0, 0.0, 0.0, 0.0, 0.0, 0.0, 0.0, 0.0, 0.0, 0.0, 0.0, 0.0, 0.0, 0.0, 0.0, 0.0, 0.0, 0.0, 0.0, 0.0, 0.0, 0.0, 0.0, 0.0, 0.0, 0.0, 0.0, 0.0, 0.0, 0.0, 0.0, 0.0, 0.0, 0.0, 0.0, 0.0, 0.0, 0.0, 0.0, 0.0, 0.0, 0.0, 0.0, 0.0, 0.0, 0.0, 0.0, 0.0, 0.0, 0.0, 0.0, 0.0, 0.0, 0.0, 0.0, 0.0, 0.0, 0.0, 0.0, 0.0, 0.0, 0.0, 0.0, 0.0, 0.0, 0.0, 0.0, 0.0, 0.0, 0.0, 0.0, 0.0, 0.0, 0.0, 0.0, 0.0, 0.0, 0.0, 0.0, 0.0, 0.0, 0.0, 0.0, 0.0, 0.0, 0.0, 0.0, 0.0, 0.0, 0.0, 0.0, 0.0, 0.0, 0.0, 0.0, 0.0, 0.0, 0.0, 0.0, 0.0, 0.0, 0.0, 0.0, 0.0, 0.0, 0.0, 0.0, 0.0, 0.0, 0.0, 0.0, 0.0, 0.0, 0.0, 0.0, 0.0, 0.0, 0.0, 0.0, 0.0, 0.0, 0.0, 0.0, 0.0, 0.0, 0.0, 0.0, 0.0, 0.0, 0.0, 0.0, 0.0, 0.0, 0.0, 0.0, 0.0, 0.0, 0.0, 0.0, 0.0, 0.0, 0.0, 0.0, 0.0, 0.0, 0.0, 0.0, 0.0, 0.0, 0.0, 0.0, 0.0, 0.0, 0.0, 0.0, 0.0, 0.0, 0.0, 0.0, 0.0, 0.0, 0.0, 0.0, 0.0, 0.0, 0.0, 0.0, 0.0, 0.0, 0.0, 0.0, 0.0, 0.0, 0.0, 0.0, 0.0, 0.0, 0.0, 0.0, 0.0, 0.0, 0.0, 0.0, 0.0, 0.0, 0.0, 0.0, 0.0, 0.0, 0.0, 0.0, 0.0, 0.0, 0.0, 0.0, 0.0, 0.0, 0.0, 0.0, 0.0, 0.0, 0.0, 0.0, 0.0, 0.0, 0.0, 0.0, 0.0, 0.0, 0.0, 0.0, 0.0, 0.0, 0.0, 0.0, 0.0, 0.0, 0.0, 0.0, 0.0, 0.0, 0.0, 0.0, 0.0, 0.0, 0.0, 0.0, 0.0, 0.0, 0.0, 0.0, 0.0, 0.0, 0.0, 0.0, 0.0, 0.0, 0.0, 0.0, 0.0, 0.0, 0.0, 0.0, 0.0, 0.0, 0.0, 0.0, 0.0, 0.0, 0.0, 0.0, 0.0, 0.0, 0.0, 0.0, 0.0, 0.0, 0.0, 0.0, 0.0, 0.0, 0.0, 0.0, 0.0, 0.0, 0.0, 0.0, 0.0, 0.0, 0.0, 0.0, 0.0, 0.0, 0.0, 0.0, 0.0, 0.0, 0.0, 0.0, 0.0, 0.0, 0.0, 0.0, 0.0, 0.0, 0.0, 0.0, 0.0, 0.0, 0.0, 0.0, 0.0, 0.0, 0.0, 0.0, 0.0, 0.0, 0.0, 0.0, 0.0, 0.0, 0.0, 0.0, 0.0, 0.0, 0.0, 0.0, 0.0, 0.0, 0.0, 0.0, 0.0, 0.0, 0.0, 0.0, 0.0, 0.0, 0.0, 0.0, 0.0, 0.0, 0.0, 0.0, 0.0, 0.0, 0.0, 0.0, 0.0, 0.0, 0.0, 0.0, 0.0, 0.0, 0.0, 0.0, 0.0, 0.0, 0.0, 0.0, 0.0, 0.0, 0.0, 0.0, 0.0, 0.0, 0.0, 0.0, 0.0, 0.0, 0.0, 0.0, 0.0, 0.0, 0.0, 0.0, 0.0, 0.0, 0.0, 0.0, 0.0, 0.0, 0.0, 0.0, 0.0, 0.0, 0.0, 0.0, 0.0, 0.0, 0.0, 0.0, 0.0, 0.0, 0.0, 0.0, 0.0, 0.0, 0.0, 0.0, 0.0, 0.0, 0.0, 0.0, 0.0, 0.0, 0.0, 0.0, 0.0, 0.0, 0.0, 0.0, 0.0, 0.0, 0.0, 0.0, 0.0, 0.0, 0.0, 0.0, 0.0, 0.0, 0.0, 0.0, 0.0, 0.0, 0.0, 0.0, 0.0, 0.0, 0.0, 0.0, 0.0, 0.0, 0.0, 0.0, 0.0, 0.0, 0.0, 0.0, 0.0, 0.0, 0.0, 0.0, 0.0, 0.0, 0.0, 0.0, 0.0, 0.0, 0.0, 0.0, 0.0, 0.0, 0.0, 0.0, 0.0, 0.0, 0.0, 0.0, 0.0, 0.0, 0.0, 0.0, 0.0, 0.0, 0.0, 0.0, 0.0, 0.0, 0.0, 0.0, 0.0, 0.0, 0.0, 0.0, 0.0, 0.0, 0.0, 0.0, 0.0, 0.0, 0.0, 0.0, 0.0, 0.0, 0.0, 0.0, 0.0, 0.0, 0.0, 0.0, 0.0, 0.0, 0.0, 0.0, 0.0, 0.0, 0.0, 0.0, 0.0, 0.0, 0.0, 0.0, 0.0, 0.0, 0.0, 0.0, 0.0, 0.0, 0.0, 0.0, 0.0, 0.0, 0.0, 0.0, 0.0, 0.0, 0.0, 0.0, 0.0, 0.0, 0.0, 0.0, 0.0, 0.0, 0.0, 0.0, 0.0, 0.0, 0.0, 0.0, 0.0, 0.0, 0.0, 0.0, 0.0, 0.0, 0.0, 0.0, 0.0, 0.0, 0.0, 0.0, 0.0, 0.0, 0.0, 0.0, 0.0, 0.0, 0.0, 0.0, 0.0, 0.0, 0.0, 0.0, 0.0, 0.0, 0.0, 0.0, 0.0, 0.0, 0.0, 0.0, 0.0, 0.0, 0.0, 0.0, 0.0, 0.0, 0.0, 0.0, 0.0, 0.0, 0.0, 0.0, 0.0, 0.0, 0.0, 0.0, 0.0, 0.0, 0.0, 0.0, 0.0, 0.0, 0.0, 0.0, 0.0, 0.0, 0.0, 0.0, 0.0, 0.0, 0.0, 0.0, 0.0, 0.0, 0.0, 0.0, 0.0, 0.0, 0.0, 0.0, 0.0, 0.0, 0.0, 0.0, 0.0, 0.0, 0.0, 0.0, 0.0, 0.0, 0.0, 0.0, 0.0, 0.0, 0.0, 0.0, 0.0, 0.0, 0.0, 0.0, 0.0, 0.0, 0.0, 0.0, 0.0, 0.0, 0.0, 0.0, 0.0, 0.0, 0.0, 0.0, 0.0, 0.0, 0.0, 0.0, 0.0, 0.0, 0.0, 0.0, 0.0, 0.0, 0.0, 0.0, 0.0, 0.0, 0.0, 0.0, 0.0, 0.0, 0.0, 0.0, 0.0, 0.0, 0.0, 0.0, 0.0, 0.0, 0.0, 0.0, 0.0, 0.0, 0.0, 0.0, 0.0, 0.0, 0.0, 0.0, 0.0, 0.0, 0.0, 0.0, 0.0, 0.0, 0.0, 0.0, 0.0, 0.0, 0.0, 0.0, 0.0, 0.0, 0.0, 0.0, 0.0, 0.0, 0.0, 0.0, 0.0, 0.0, 0.0, 0.0, 0.0, 0.0, 0.0, 0.002964014050354218, 0.002964014050354218, 0.021411301801270547, 0.021411301801270547, 0.15297656725988934, 0.15297656725988934, 0.17898831147374974, 0.17898831147374974, 0.3280831877610635, 0.3280831877610635, 0.3347160015405269, 0.3347160015405269, 0.6957487591096725, 0.6957487591096725, 0.8335157157923465, 0.8335157157923465, 0.844059001525994, 0.844059001525994, 1.0047594507238025, 1.0047594507238025, 1.1709539774576607, 1.1709539774576607, 1.5541368399511495, 1.5541368399511495, 1.6977480032483394, 1.6977480032483394, 1.7417926583145789, 1.7417926583145789, 1.7484316060613143, 1.7484316060613143, 2.0062449433761587, 2.0062449433761587, 2.2664464273069203, 2.2664464273069203, 2.3515299882519267, 2.3515299882519267, 2.6944750153284, 2.6944750153284, 3.411525801171483, 3.411525801171483, 4.639315987864193, 4.639315987864193, 5.132504644738482, 5.132504644738482, 5.407756737905775, 5.407756737905775, 5.477330606654059, 5.477330606654059, 6.10584552249103, 6.10584552249103, 6.519874735434445, 6.519874735434445, 6.6919299930936385, 6.6919299930936385, 7.640606331821899, 7.640606331821899, 8.192906550092452, 8.192906550092452, 9.376597957190844, 9.376597957190844, 9.581380148401957, 9.581380148401957, 10.29514323793501, 10.295143237935012, 10.44941132388701, 10.44941132388701, 10.720846646129814, 10.720846646129814, 10.967088448017819, 10.967088448017819, 11.592216615459689, 11.592216615459689, 11.617320977252493, 11.617320977252493, 11.899122563823491, 11.899122563823491, 13.40625639121566, 13.40625639121566, 14.111281873658747, 14.111281873658747, 14.242858763123433, 14.242858763123433, 14.737231909812964, 14.737231909812964, 15.217337317510351, 15.217337317510351, 16.260435786706985, 16.260435786706985, 16.265192895150147, 16.265192895150147, 16.537472314664118, 16.537472314664118, 16.544368294593014, 16.544368294593014, 17.689371671015383, 17.689371671015383, 17.928879144662233, 17.928879144662233, 18.15666297412767, 18.15666297412767, 18.239443812352313, 18.239443812352313, 18.498169457812832, 18.498169457812836, 18.851001094043507, 18.85100109404351, 19.94467297954637, 19.94467297954637, 20.834666420089135, 20.834666420089135, 20.86072511926083, 20.86072511926083, 21.467631628055706, 21.467631628055706, 22.094680135397738, 22.094680135397738, 22.266629515001153, 22.266629515001153, 22.473615011202916, 22.473615011202916, 23.03998471473029, 23.03998471473029, 23.99489498948672, 23.99489498948672, 24.996137843861696, 24.996137843861696, 25.496120471878605, 25.496120471878605, 25.625992406826363, 25.625992406826363, 25.737641858695206, 25.737641858695206, 26.32669743856142, 26.326697438561425, 27.495278089047694, 27.495278089047694, 28.705868806585812, 28.705868806585812, 29.242733751659806, 29.242733751659806, 29.35941067344966, 29.35941067344966, 29.504304349144057, 29.504304349144057, 29.736794887849317, 29.736794887849317, 30.186662984664288, 30.186662984664288, 30.42828375756074, 30.42828375756074, 30.928012805114356, 30.928012805114356, 31.7876575227381, 31.7876575227381, 32.04375556566438, 32.043755565664384, 33.088695973424414, 33.08869597342442, 33.36290101925242, 33.36290101925242, 34.321692555333996, 34.321692555333996, 34.86158411184706, 34.86158411184706, 35.17148637012973, 35.17148637012973, 36.533025155897754, 36.533025155897754, 38.58302508580382, 38.58302508580382, 40.3590278697306, 40.3590278697306, 42.12854758625295, 42.12854758625295, 42.40832284012087, 42.40832284012087, 42.504366391997266, 42.504366391997266, 45.3646407808054, 45.3646407808054, 45.36743580968835, 45.36743580968835, 45.957408392614724, 45.957408392614724, 46.772887136218564, 46.772887136218564, 47.6558028474234, 47.6558028474234, 47.93722805792476, 47.93722805792476, 48.277162568135196, 48.277162568135196, 48.410740747430616, 48.410740747430616, 49.82652716291868, 49.82652716291868, 49.92103687770735, 49.92103687770735, 50.677372238202466, 50.677372238202466, 51.18347266976396, 51.18347266976396, 52.5808715991826, 52.58087159918261, 52.95082876898809, 52.95082876898809, 53.38609128550593, 53.38609128550593, 54.47090051405703, 54.47090051405703, 54.94275946607305, 54.94275946607305, 56.458430077822584, 56.458430077822584, 56.63405099018422, 56.63405099018422, 57.46392462823941, 57.46392462823941, 60.38982505599097, 60.38982505599097, 61.93375308028297, 61.93375308028297, 62.07561552118438, 62.07561552118438, 62.32943754202836, 62.32943754202836, 63.12856545977741, 63.12856545977741, 63.622731118397446, 63.622731118397446, 64.11936031352217, 64.11936031352217, 65.06794294790834, 65.06794294790834, 65.16721023920104, 65.16721023920104, 66.63841992124054, 66.63841992124054, 67.98329020020671, 67.98329020020671, 72.86664853071366, 72.86664853071366, 73.68620792977374, 73.68620792977374, 73.74538678481932, 73.74538678481932, 74.19230728361013, 74.19230728361013, 74.48084456737877, 74.48084456737877, 74.82955135356556, 74.82955135356556, 75.06248650820433, 75.06248650820433, 76.23164460933447, 76.23164460933447, 76.31864159814096, 76.31864159814096, 76.45729745280455, 76.45729745280455, 76.54940869130158, 76.54940869130158, 77.02345889418888, 77.02345889418888, 77.11081385179945, 77.11081385179945, 80.51001819529607, 80.51001819529608, 81.45423098791703, 81.45423098791703, 81.64546345264014, 81.64546345264014, 81.90367625129934, 81.90367625129934, 81.91670838643451, 81.91670838643451, 81.979343632567, 81.979343632567, 82.24734630611714, 82.24734630611714, 83.62167897588735, 83.62167897588736, 84.65438828217326, 84.65438828217326, 84.91926836597109, 84.91926836597109, 85.2281345523687, 85.2281345523687, 86.80841014557242, 86.80841014557242, 90.26862294620915, 90.26862294620915, 90.42433306871169, 90.42433306871169, 90.6808145816828, 90.6808145816828, 90.70150950567378, 90.70150950567378, 92.55820853983593, 92.55820853983593, 93.0887172547314, 93.0887172547314, 93.09261637017524, 93.09261637017524, 93.49113364544945, 93.49113364544945, 93.96556198793233, 93.96556198793235, 94.23661955772567, 94.23661955772567, 97.43220390452873, 97.43220390452875, 98.16789817529761, 98.16789817529761, 98.85163425498837, 98.85163425498837, 100.31201349686026, 100.31201349686026, 102.9563410007467, 102.9563410007467, 103.04177012973355, 103.04177012973355, 104.64550836484443, 104.64550836484443, 105.48635150632091, 105.48635150632091, 105.50738947882438, 105.5073894788244, 107.99770925258404, 107.99770925258404, 109.40817504580849, 109.40817504580849, 110.31721782475505, 110.31721782475506, 110.36072579441013, 110.36072579441013, 113.15318424684355, 113.15318424684355, 114.47217684960529, 114.47217684960529, 115.04190210009868, 115.04190210009868, 118.33344469888638, 118.33344469888638, 120.49861122359516, 120.49861122359519, 120.56365967622521, 120.56365967622521, 120.56813607971517, 120.56813607971517, 121.48760513736991, 121.48760513736993, 121.73230015822463, 121.73230015822463, 121.82580390238036, 121.82580390238036, 123.02472024899745, 123.02472024899745, 123.17063295929651, 123.17063295929651, 123.19857844764904, 123.19857844764904, 123.87507800385805, 123.87507800385806, 124.6160251271441, 124.6160251271441, 125.92658656999704, 125.92658656999704, 126.2571296904807, 126.2571296904807, 127.6140502364622, 127.61405023646222, 127.73148284450215, 127.73148284450215, 128.4545265525516, 128.4545265525516, 129.0177243052363, 129.0177243052363, 130.79187214048397, 130.79187214048397, 130.83288077725274, 130.83288077725274, 132.457998483545, 132.457998483545, 133.21059139320226, 133.21059139320226, 133.6571297652359, 133.65712976523594, 133.75527096891832, 133.75527096891835, 134.5648561629106, 134.56485616291062, 134.85792347255168, 134.85792347255168, 134.9788216336265, 134.9788216336265, 135.77620118890627, 135.77620118890627, 136.03402215977388, 136.03402215977388, 136.10560461717435, 136.10560461717435, 137.09441620604935, 137.09441620604937, 137.16933983967684, 137.16933983967684, 137.21811664223262, 137.21811664223264, 137.2517805660121, 137.25178056601212, 137.55886705050708, 137.5588670505071, 138.44776801889407, 138.44776801889407, 139.6864027117501, 139.6864027117501, 139.9080656129043, 139.9080656129043, 141.63367152768967, 141.63367152768967, 142.26895944394425, 142.26895944394425, 142.53070743074204, 142.53070743074204, 143.40253624788932, 143.40253624788932, 143.48802229626216, 143.48802229626216, 143.70081328002954, 143.70081328002954, 143.71023895590798, 143.71023895590798, 145.22948591505684, 145.22948591505687, 145.3158652415046, 145.31586524150464, 147.97408201485285, 147.97408201485288, 148.451019678955, 148.451019678955, 148.7105684387502, 148.71056843875022, 148.80383688352606, 148.80383688352606, 149.92895587878263, 149.92895587878266, 153.16419935865878, 153.16419935865878, 153.32013967661237, 153.32013967661237, 154.01292872622128, 154.01292872622128, 154.49203693554327, 154.49203693554327, 156.28337785033625, 156.28337785033625, 156.43047696156407, 156.43047696156407, 156.6103771515642, 156.61037715156422, 158.49634001030728, 158.49634001030728, 158.5744169198901, 158.5744169198901, 158.72693673392712, 158.72693673392712, 159.11104675484125, 159.11104675484125, 159.2331621166196, 159.23316211661964, 160.0805021393265, 160.0805021393265, 162.35223535311877, 162.35223535311877, 162.7859120317778, 162.7859120317778, 163.87357681990778, 163.87357681990778, 169.36902238298552, 169.36902238298555, 169.53367023749803, 169.5336702374981, 171.23491996086227, 171.23491996086227, 172.6397575667818, 172.6397575667818, 173.75371620757207, 173.75371620757207, 174.56188779181977, 174.56188779181977, 175.6505062081081, 175.6505062081081, 180.06153276729262, 180.06153276729265, 180.35052554897132, 180.35052554897132, 181.5205368562188, 181.5205368562188, 187.5389314868514, 187.5389314868514, 193.6372268815286, 193.6372268815286, 193.64834946028566, 193.64834946028566, 193.95988982933824, 193.95988982933824, 194.23907575085695, 194.23907575085695, 194.25627407604202, 194.25627407604202, 194.27235970976423, 194.27235970976426, 197.96760424702757, 197.96760424702757, 198.79633604315035, 198.79633604315035, 198.79917706602293, 198.79917706602293, 199.29344995990664, 199.29344995990664, 199.91771839715364, 199.91771839715364, 199.9521562782651, 199.9521562782651, 200.37058938659962, 200.37058938659965, 200.83194677091075, 200.83194677091075, 201.94935312179484, 201.94935312179487, 205.7073036083868, 205.70730360838684, 205.9203947844334, 205.9203947844334, 206.31048357489323, 206.31048357489325, 206.74083227865285, 206.74083227865285, 207.62547542316014, 207.62547542316014, 208.07271670819236, 208.07271670819236, 208.4493395511928, 208.4493395511928, 209.01574624542513, 209.01574624542516, 213.69209961196526, 213.69209961196526, 215.14244113326282, 215.14244113326285, 215.62310856841742, 215.62310856841742, 215.90966519956388, 215.90966519956388, 216.3428935942473, 216.3428935942473, 220.29469363048946, 220.29469363048946, 220.52549761260448, 220.5254976126045, 220.69659461509556, 220.69659461509556, 220.72295818216983, 220.72295818216986, 222.62908449535976, 222.62908449535976, 224.5000242616013, 224.5000242616013, 225.60769556753036, 225.6076955675304, 226.15506291344224, 226.15506291344226, 226.23069153477664, 226.23069153477667, 229.83892925553855, 229.83892925553855, 229.9836269758917, 229.9836269758917, 230.54525176107435, 230.54525176107435, 233.01987419063084, 233.01987419063084, 233.31963601885857, 233.3196360188586, 234.21778996243512, 234.21778996243512, 234.3936934748435, 234.39369347484353, 234.8615337953706, 234.8615337953706, 236.329643848366, 236.329643848366, 239.53925129057572, 239.53925129057572, 241.41230500419712, 241.41230500419715, 242.61394267450544, 242.61394267450544, 242.96860785184438, 242.96860785184438, 244.33273902895323, 244.33273902895323, 245.75377199128917, 245.75377199128917, 246.89640972744272, 246.89640972744272, 247.0813920232872, 247.08139202328724, 247.19017419820938, 247.1901741982094, 247.48765456798398, 247.48765456798398, 247.81306202858195, 247.813062028582, 247.83634430835218, 247.83634430835218, 248.66021823550614, 248.66021823550614, 249.10398289282648, 249.10398289282648, 249.24972400679445, 249.24972400679445, 249.81863625871011, 249.81863625871011, 250.20518585563056, 250.20518585563056, 250.552331910072, 250.552331910072, 250.631204854155, 250.631204854155, 251.20749544563986, 251.2074954456399, 251.98872330726104, 251.98872330726107, 256.9259097408478, 256.9259097408478, 258.0986478485303, 258.09864784853033, 258.8615192825012, 258.8615192825012, 259.72749036955554, 259.7274903695556, 259.9452105732777, 259.9452105732777, 260.30842649682944, 260.30842649682944, 260.53861676876244, 260.5386167687625, 261.9895827005955, 261.9895827005955, 262.52485468976977, 262.52485468976977, 263.78563082401274, 263.7856308240128, 264.28277534196894, 264.28277534196894, 264.7799161722749, 264.7799161722749, 264.80510986213443, 264.8051098621345, 266.26680271135956, 266.26680271135956, 266.662996964075, 266.662996964075, 266.77030966759133, 266.7703096675914, 269.33603111032755, 269.3360311103276, 269.5917410594385, 269.59174105943856]\n"
     ]
    }
   ],
   "source": [
    "borders = check_small_boundary_lengths(vest_base)\n",
    "print(borders[:1700])"
   ]
  },
  {
   "cell_type": "code",
   "execution_count": 32,
   "metadata": {},
   "outputs": [
    {
     "name": "stdout",
     "output_type": "stream",
     "text": [
      "Snapping all geometries to a grid with precision 10^( -5 ) to avoid GEOS errors.\n",
      "Identifying overlaps...\n"
     ]
    },
    {
     "name": "stderr",
     "output_type": "stream",
     "text": [
      "100%|█████████████████████████████████████| 3116/3116 [00:01<00:00, 3084.15it/s]\n"
     ]
    },
    {
     "name": "stdout",
     "output_type": "stream",
     "text": [
      "Resolving overlaps...\n",
      "Filling gaps...\n"
     ]
    },
    {
     "name": "stderr",
     "output_type": "stream",
     "text": [
      "Gaps to simplify: 0it [00:00, ?it/s]\n",
      "Gaps to fill: 0it [00:00, ?it/s]\n"
     ]
    },
    {
     "name": "stdout",
     "output_type": "stream",
     "text": [
      "Converting small rook adjacencies to queen...\n"
     ]
    },
    {
     "name": "stderr",
     "output_type": "stream",
     "text": [
      "100%|██████████████████████████████████████| 2697/2697 [00:03<00:00, 839.37it/s]\n",
      "100%|███████████████████████████████████████████| 4/4 [00:00<00:00, 3023.47it/s]\n",
      "100%|███████████████████████████████████████████| 4/4 [00:00<00:00, 3396.20it/s]\n",
      "100%|███████████████████████████████████████████| 5/5 [00:00<00:00, 3538.90it/s]\n",
      "100%|███████████████████████████████████████████| 4/4 [00:00<00:00, 2936.67it/s]\n",
      "100%|███████████████████████████████████████████| 4/4 [00:00<00:00, 3316.97it/s]\n",
      "100%|███████████████████████████████████████████| 5/5 [00:00<00:00, 3306.25it/s]\n",
      "100%|███████████████████████████████████████████| 4/4 [00:00<00:00, 3060.42it/s]\n",
      "100%|███████████████████████████████████████████| 5/5 [00:00<00:00, 3472.68it/s]\n",
      "100%|███████████████████████████████████████████| 5/5 [00:00<00:00, 3300.00it/s]\n",
      "100%|███████████████████████████████████████████| 6/6 [00:00<00:00, 3846.81it/s]\n",
      "100%|███████████████████████████████████████████| 4/4 [00:00<00:00, 3390.71it/s]\n",
      "100%|███████████████████████████████████████████| 4/4 [00:00<00:00, 3350.08it/s]\n",
      "100%|███████████████████████████████████████████| 4/4 [00:00<00:00, 3096.00it/s]\n",
      "100%|███████████████████████████████████████████| 4/4 [00:00<00:00, 3469.23it/s]\n",
      "100%|███████████████████████████████████████████| 4/4 [00:00<00:00, 3190.19it/s]\n",
      "100%|███████████████████████████████████████████| 5/5 [00:00<00:00, 2406.92it/s]\n",
      "100%|███████████████████████████████████████████| 4/4 [00:00<00:00, 2638.76it/s]\n",
      "100%|███████████████████████████████████████████| 4/4 [00:00<00:00, 2744.96it/s]\n",
      "100%|███████████████████████████████████████████| 4/4 [00:00<00:00, 3375.02it/s]\n",
      "100%|███████████████████████████████████████████| 4/4 [00:00<00:00, 2675.37it/s]\n",
      "100%|███████████████████████████████████████████| 4/4 [00:00<00:00, 3042.11it/s]\n",
      "100%|███████████████████████████████████████████| 4/4 [00:00<00:00, 2599.10it/s]\n",
      "100%|███████████████████████████████████████████| 4/4 [00:00<00:00, 2945.44it/s]\n",
      "100%|███████████████████████████████████████████| 4/4 [00:00<00:00, 2675.79it/s]\n",
      "100%|███████████████████████████████████████████| 4/4 [00:00<00:00, 2366.65it/s]\n",
      "100%|███████████████████████████████████████████| 4/4 [00:00<00:00, 3122.50it/s]\n",
      "100%|███████████████████████████████████████████| 4/4 [00:00<00:00, 3174.50it/s]\n",
      "100%|███████████████████████████████████████████| 5/5 [00:00<00:00, 3030.57it/s]\n",
      "100%|███████████████████████████████████████████| 4/4 [00:00<00:00, 3103.44it/s]\n",
      "100%|███████████████████████████████████████████| 4/4 [00:00<00:00, 3366.22it/s]\n",
      "100%|███████████████████████████████████████████| 4/4 [00:00<00:00, 3289.65it/s]\n",
      "100%|███████████████████████████████████████████| 4/4 [00:00<00:00, 2936.67it/s]\n",
      "100%|███████████████████████████████████████████| 5/5 [00:00<00:00, 3462.93it/s]\n",
      "100%|███████████████████████████████████████████| 4/4 [00:00<00:00, 3127.16it/s]\n",
      "100%|███████████████████████████████████████████| 4/4 [00:00<00:00, 3268.50it/s]\n",
      "100%|███████████████████████████████████████████| 4/4 [00:00<00:00, 3291.59it/s]\n",
      "100%|███████████████████████████████████████████| 4/4 [00:00<00:00, 3064.89it/s]\n",
      "100%|███████████████████████████████████████████| 4/4 [00:00<00:00, 3053.18it/s]\n",
      "100%|███████████████████████████████████████████| 4/4 [00:00<00:00, 2998.07it/s]\n",
      "100%|███████████████████████████████████████████| 4/4 [00:00<00:00, 2809.31it/s]\n",
      "100%|███████████████████████████████████████████| 4/4 [00:00<00:00, 3358.80it/s]\n",
      "100%|███████████████████████████████████████████| 4/4 [00:00<00:00, 2976.27it/s]\n",
      "100%|███████████████████████████████████████████| 4/4 [00:00<00:00, 3220.20it/s]\n",
      "100%|███████████████████████████████████████████| 4/4 [00:00<00:00, 3039.35it/s]\n",
      "100%|███████████████████████████████████████████| 4/4 [00:00<00:00, 3222.67it/s]\n",
      "100%|███████████████████████████████████████████| 4/4 [00:00<00:00, 3100.58it/s]\n",
      "100%|███████████████████████████████████████████| 4/4 [00:00<00:00, 3182.32it/s]\n",
      "100%|███████████████████████████████████████████| 4/4 [00:00<00:00, 3021.29it/s]\n",
      "100%|███████████████████████████████████████████| 4/4 [00:00<00:00, 3259.61it/s]\n",
      "100%|███████████████████████████████████████████| 4/4 [00:00<00:00, 3369.60it/s]\n",
      "100%|███████████████████████████████████████████| 5/5 [00:00<00:00, 3244.36it/s]\n",
      "100%|███████████████████████████████████████████| 4/4 [00:00<00:00, 3039.35it/s]\n",
      "100%|███████████████████████████████████████████| 4/4 [00:00<00:00, 3243.85it/s]\n",
      "100%|███████████████████████████████████████████| 4/4 [00:00<00:00, 3311.07it/s]\n",
      "100%|███████████████████████████████████████████| 4/4 [00:00<00:00, 2980.50it/s]\n",
      "100%|███████████████████████████████████████████| 4/4 [00:00<00:00, 3009.37it/s]\n",
      "100%|███████████████████████████████████████████| 4/4 [00:00<00:00, 3192.01it/s]\n",
      "100%|███████████████████████████████████████████| 5/5 [00:00<00:00, 2953.74it/s]\n",
      "100%|███████████████████████████████████████████| 4/4 [00:00<00:00, 3090.87it/s]\n",
      "100%|███████████████████████████████████████████| 4/4 [00:00<00:00, 2730.67it/s]\n",
      "100%|███████████████████████████████████████████| 6/6 [00:00<00:00, 3527.10it/s]\n",
      "100%|███████████████████████████████████████████| 5/5 [00:00<00:00, 3378.14it/s]\n",
      "100%|███████████████████████████████████████████| 4/4 [00:00<00:00, 2873.30it/s]\n",
      "100%|███████████████████████████████████████████| 4/4 [00:00<00:00, 2932.57it/s]\n",
      "100%|███████████████████████████████████████████| 4/4 [00:00<00:00, 2886.15it/s]\n",
      "100%|███████████████████████████████████████████| 4/4 [00:00<00:00, 3162.53it/s]\n",
      "100%|███████████████████████████████████████████| 4/4 [00:00<00:00, 2789.69it/s]\n",
      "100%|███████████████████████████████████████████| 5/5 [00:00<00:00, 3353.83it/s]\n",
      "100%|███████████████████████████████████████████| 4/4 [00:00<00:00, 3472.11it/s]\n",
      "100%|███████████████████████████████████████████| 4/4 [00:00<00:00, 3022.92it/s]\n",
      "100%|███████████████████████████████████████████| 4/4 [00:00<00:00, 3212.80it/s]\n",
      "100%|███████████████████████████████████████████| 5/5 [00:00<00:00, 3280.90it/s]\n",
      "100%|███████████████████████████████████████████| 5/5 [00:00<00:00, 3242.85it/s]\n",
      "100%|███████████████████████████████████████████| 5/5 [00:00<00:00, 3357.59it/s]\n",
      "100%|███████████████████████████████████████████| 4/4 [00:00<00:00, 2973.63it/s]\n",
      "100%|██████████████████████████████████████| 2697/2697 [00:03<00:00, 811.61it/s]\n"
     ]
    }
   ],
   "source": [
    "vest_base = do_smart_repair(vest_base, min_rook_length = 30.5)"
   ]
  },
  {
   "cell_type": "code",
   "execution_count": 33,
   "metadata": {},
   "outputs": [
    {
     "name": "stderr",
     "output_type": "stream",
     "text": [
      "100%|██████████████████████████████████████| 2697/2697 [00:03<00:00, 882.61it/s]\n"
     ]
    },
    {
     "data": {
      "text/plain": [
       "True"
      ]
     },
     "execution_count": 33,
     "metadata": {},
     "output_type": "execute_result"
    }
   ],
   "source": [
    "maup.doctor(vest_base)"
   ]
  },
  {
   "cell_type": "markdown",
   "metadata": {},
   "source": [
    "## If it is true for maup doctor, we will use it as the base vest data."
   ]
  },
  {
   "cell_type": "code",
   "execution_count": 35,
   "metadata": {},
   "outputs": [
    {
     "name": "stderr",
     "output_type": "stream",
     "text": [
      "100%|██████████████████████████████████████| 2697/2697 [00:03<00:00, 687.95it/s]\n",
      "100%|██████████████████████████████████████| 2697/2697 [00:16<00:00, 160.41it/s]\n"
     ]
    }
   ],
   "source": [
    "# vap and population have the same GEOID20\n",
    "blocks_to_precincts_assignment = maup.assign(population_df.geometry, vest_base.geometry)"
   ]
  },
  {
   "cell_type": "code",
   "execution_count": 36,
   "metadata": {},
   "outputs": [],
   "source": [
    "vest_base[pop_col] = population_df[pop_col].groupby(blocks_to_precincts_assignment).sum()"
   ]
  },
  {
   "cell_type": "code",
   "execution_count": 37,
   "metadata": {},
   "outputs": [],
   "source": [
    "election_df = gpd.GeoDataFrame(vest_base)"
   ]
  },
  {
   "cell_type": "code",
   "execution_count": 38,
   "metadata": {},
   "outputs": [
    {
     "data": {
      "text/plain": [
       "Index(['CTYNAME', 'CTYNUMBER', 'CTYNUMBER2', 'CTYSOSID', 'DISTRICT', 'FIPS2',\n",
       "       'PRE16D', 'PRE16O', 'PRE16R', 'PRECINCT_I', 'PRECINCT_N', 'PSC16O',\n",
       "       'PSC16R', 'USS16D', 'USS16O', 'USS16R', 'geometry', 'TOTPOP', 'HISP',\n",
       "       'NH_WHITE', 'NH_BLACK', 'NH_AMIN', 'NH_ASIAN', 'NH_NHPI', 'NH_OTHER',\n",
       "       'NH_2MORE', 'H_WHITE', 'H_BLACK', 'H_AMIN', 'H_ASIAN', 'H_NHPI',\n",
       "       'H_OTHER', 'H_2MORE', 'VAP', 'HVAP', 'WVAP', 'BVAP', 'AMINVAP',\n",
       "       'ASIANVAP', 'NHPIVAP', 'OTHERVAP', '2MOREVAP'],\n",
       "      dtype='object')"
      ]
     },
     "execution_count": 38,
     "metadata": {},
     "output_type": "execute_result"
    }
   ],
   "source": [
    "election_df.columns"
   ]
  },
  {
   "cell_type": "markdown",
   "metadata": {},
   "source": [
    "## Check if population agrees"
   ]
  },
  {
   "cell_type": "code",
   "execution_count": 40,
   "metadata": {},
   "outputs": [
    {
     "name": "stdout",
     "output_type": "stream",
     "text": [
      "population agrees\n"
     ]
    }
   ],
   "source": [
    "check_population(population_df, vest_base)"
   ]
  },
  {
   "cell_type": "markdown",
   "metadata": {},
   "source": [
    "## Add more vest data"
   ]
  },
  {
   "cell_type": "code",
   "execution_count": 42,
   "metadata": {},
   "outputs": [],
   "source": [
    "vest18 = gpd.read_file(vest18_data)"
   ]
  },
  {
   "cell_type": "code",
   "execution_count": 43,
   "metadata": {},
   "outputs": [
    {
     "data": {
      "text/plain": [
       "Index(['DISTRICT', 'CTYSOSID', 'PRECINCT_I', 'PRECINCT_N', 'CTYNAME',\n",
       "       'CTYNUMBER', 'CTYNUMBER2', 'FIPS2', 'G18GOVRKEM', 'G18GOVDABR',\n",
       "       'G18GOVLMET', 'G18LTGRDUN', 'G18LTGDAMI', 'G18SOSRRAF', 'G18SOSDBAR',\n",
       "       'G18SOSLDUV', 'G18ATGRCAR', 'G18ATGDBAI', 'G18AGRRBLA', 'G18AGRDSWA',\n",
       "       'G18INSRBEC', 'G18INSDLAW', 'G18INSLFOS', 'G18SPIRWOO', 'G18SPIDTHO',\n",
       "       'G18LABRBUT', 'G18LABDKEA', 'G18PSCREAT', 'G18PSCDMIL', 'G18PSCLGRA',\n",
       "       'G18PSCRPRI', 'G18PSCDRAN', 'G18PSCLTUR', 'R18SOSRRAF', 'R18SOSDBAR',\n",
       "       'R18PSCREAT', 'R18PSCDMIL', 'geometry'],\n",
       "      dtype='object')"
      ]
     },
     "execution_count": 43,
     "metadata": {},
     "output_type": "execute_result"
    }
   ],
   "source": [
    "vest18.columns"
   ]
  },
  {
   "cell_type": "code",
   "execution_count": 44,
   "metadata": {},
   "outputs": [
    {
     "name": "stderr",
     "output_type": "stream",
     "text": [
      "100%|██████████████████████████████████████| 2658/2658 [00:03<00:00, 876.59it/s]\n"
     ]
    },
    {
     "name": "stdout",
     "output_type": "stream",
     "text": [
      "There are 347 overlaps.\n",
      "There are 564 holes.\n",
      "There are some invalid geometries.\n",
      "Snapping all geometries to a grid with precision 10^( -5 ) to avoid GEOS errors.\n",
      "Identifying overlaps...\n"
     ]
    },
    {
     "name": "stderr",
     "output_type": "stream",
     "text": [
      "100%|█████████████████████████████████████| 4653/4653 [00:01<00:00, 3710.44it/s]\n"
     ]
    },
    {
     "name": "stdout",
     "output_type": "stream",
     "text": [
      "Resolving overlaps...\n",
      "Assigning order 2 pieces...\n",
      "Assigning order 3 pieces...\n",
      "Filling gaps...\n"
     ]
    },
    {
     "name": "stderr",
     "output_type": "stream",
     "text": [
      "Gaps to simplify: 100%|███████████████████████| 762/762 [01:54<00:00,  6.64it/s]\n",
      "Gaps to fill: 100%|███████████████████████████| 147/147 [00:26<00:00,  5.45it/s]\n",
      "100%|██████████████████████████████████████| 2658/2658 [00:03<00:00, 829.66it/s]\n",
      "100%|██████████████████████████████████████| 2658/2658 [00:04<00:00, 656.29it/s]\n",
      "100%|██████████████████████████████████████| 2658/2658 [00:16<00:00, 160.03it/s]\n",
      "100%|██████████████████████████████████████| 2697/2697 [00:03<00:00, 714.27it/s]\n",
      "100%|██████████████████████████████████████| 2697/2697 [00:17<00:00, 156.15it/s]\n"
     ]
    },
    {
     "name": "stdout",
     "output_type": "stream",
     "text": [
      "population agrees\n"
     ]
    }
   ],
   "source": [
    "election_df = add_vest(vest18, election_df, '18', population_df, start_col)"
   ]
  },
  {
   "cell_type": "code",
   "execution_count": 45,
   "metadata": {},
   "outputs": [],
   "source": [
    "elec22 = gpd.read_file(election2022)"
   ]
  },
  {
   "cell_type": "code",
   "execution_count": 46,
   "metadata": {},
   "outputs": [
    {
     "name": "stdout",
     "output_type": "stream",
     "text": [
      "['UNIQUE_ID', 'COUNTYFP', 'county', 'precinct', 'G22A01NO', 'G22A01YES', 'G22A02NO', 'G22A02YES', 'G22AGRDHEM', 'G22AGRLRAU', 'G22AGRRHAR', 'G22ATGDJOR', 'G22ATGLCOW', 'G22ATGRCAR', 'G22GOVDABR', 'G22GOVLHAZ', 'G22GOVRKEM', 'G22INSDROB', 'G22INSRKIN', 'G22LABDBOD', 'G22LABLAND', 'G22LABRTHO', 'G22LTGDBAI', 'G22LTGLGRA', 'G22LTGRJON', 'G22RFANO', 'G22RFAYES', 'G22RFBNO', 'G22RFBYES', 'G22SOSDNGU', 'G22SOSLMET', 'G22SOSRRAF', 'G22SUPDSEA', 'G22SUPRWOO', 'G22USSDWAR', 'G22USSLOLI', 'G22USSRWAL', 'GCON01DHER', 'GCON01RCAR', 'GCON02DBIS', 'GCON02RWES', 'GCON03DALM', 'GCON03RFER', 'GCON04DJOH', 'GCON04RCHA', 'GCON05DWIL', 'GCON05RZIM', 'GCON06DCHR', 'GCON06RMCC', 'GCON07DMCB', 'GCON07RGON', 'GCON08DBUT', 'GCON08RSCO', 'GCON09DFOR', 'GCON09RCLY', 'GCON10DJOH', 'GCON10RCOL', 'GCON11DDAZ', 'GCON11RLOU', 'GCON12DJOH', 'GCON12RALL', 'GCON13DSCO', 'GCON13RGON', 'GCON14DFLO', 'GCON14RGRE', 'GSL001RCAM', 'GSL002RTAR', 'GSL003RHOR', 'GSL004RCAR', 'GSL005RBAR', 'GSL006RRID', 'GSL007RRAL', 'GSL008DKRI', 'GSL008RGUN', 'GSL009RWAD', 'GSL010RAND', 'GSL011DHOL', 'GSL011RJAS', 'GSL012RLUM', 'GSL013RDEM', 'GSL014RSCO', 'GSL015RGAM', 'GSL016RKEL', 'GSL017DMAR', 'GSL017RMOM', 'GSL018DRHU', 'GSL018RSMI', 'GSL019DCOY', 'GSL019RGUL', 'GSL020RBYR', 'GSL021RTHO', 'GSL022DHIL', 'GSL022RRID', 'GSL023RBAL', 'GSL024DWAL', 'GSL024RBAR', 'GSL025DMEY', 'GSL025RJON', 'GSL026DHEL', 'GSL026RMCD', 'GSL027RHAW', 'GSL028DWOO', 'GSL028RCOX', 'GSL029DPAN', 'GSL029RDUB', 'GSL030DFLO', 'GSL030RMCC', 'GSL031RDUN', 'GSL032RERW', 'GSL033RPOW', 'GSL034DCOK', 'GSL034RSEA', 'GSL035DCAM', 'GSL035RTRI', 'GSL036DRYN', 'GSL036REHR', 'GSL037DWIL', 'GSL037RRED', 'GSL038DWIL', 'GSL039DCUM', 'GSL039RANG', 'GSL040DSTO', 'GSL040RFON', 'GSL041DSMI', 'GSL041RROD', 'GSL042DANU', 'GSL043DADE', 'GSL043RTIL', 'GSL044DOYO', 'GSL044RPAR', 'GSL045DMCC', 'GSL045RCOO', 'GSL046DGAR', 'GSL046RCAR', 'GSL047RJON', 'GSL048DROB', 'GSL048RHIL', 'GSL049DGIL', 'GSL049RMAR', 'GSL050DAU', 'GSL050RRED', 'GSL051DPAN', 'GSL051RKOR', 'GSL052DROB', 'GSL052RAHR', 'GSL053DCOF', 'GSL053RSIL', 'GSL054DHOL', 'GSL054RBAI', 'GSL055DWIL', 'GSL055RLEN', 'GSL056DMAI', 'GSL057DEVA', 'GSL058DCAN', 'GSL059DOLA', 'GSL060DJON', 'GSL061DBRU', 'GSL062DMIL', 'GSL063DSCH', 'GSL064DEDW', 'GSL064RNEW', 'GSL065DTHO', 'GSL065RHOR', 'GSL066DALE', 'GSL067DGLA', 'GSL067RAMI', 'GSL068DNAG', 'GSL068RMAT', 'GSL069DBAZ', 'GSL070DAND', 'GSL070RSMI', 'GSL071DOKA', 'GSL071RCOL', 'GSL072RHUD', 'GSL073RBON', 'GSL074DHAR', 'GSL074RMAT', 'GSL075DGLA', 'GSL075RASH', 'GSL076DSCO', 'GSL077DBUR', 'GSL078DDOU', 'GSL079DNEA', 'GSL080DTRA', 'GSL080RAND', 'GSL081DHOL', 'GSL081RBEN', 'GSL082DOLI', 'GSL082RMIL', 'GSL083DLUP', 'GSL083RBER', 'GSL084DCRA', 'GSL085DDRE', 'GSL086DBAR', 'GSL086RKIN', 'GSL087DDAV', 'GSL088DMIT', 'GSL088RFRE', 'GSL089DEVA', 'GSL089RSHE', 'GSL090DDRA', 'GSL090RDIO', 'GSL091DMOO', 'GSL092DTAY', 'GSL093DCAR', 'GSL094DBEN', 'GSL095DKEN', 'GSL095RDAW', 'GSL096DMAR', 'GSL096RLOW', 'GSL097DROM', 'GSL097RCHA', 'GSL098DLIM', 'GSL099DDUG', 'GSL099RREE', 'GSL100DJAC', 'GSL100RCLA', 'GSL101DKEN', 'GSL101RPRO', 'GSL102DOKO', 'GSL102RHAR', 'GSL103DANA', 'GSL103RHON', 'GSL104DREI', 'GSL104REFS', 'GSL105DMUG', 'GSL105RDON', 'GSL106DHUT', 'GSL106RWRE', 'GSL107DPAR', 'GSL107RCAO', 'GSL108DCLA', 'GSL108RCRI', 'GSL109DMCC', 'GSL110DADE', 'GSL111DCOX', 'GSL111RMAR', 'GSL112DREE', 'GSL112RWIL', 'GSL113DHEN', 'GSL114DADA', 'GSL114RFLE', 'GSL115DLEW', 'GSL116DHOL', 'GSL116RBEN', 'GSL117DRUC', 'GSL117RDAN', 'GSL118DBEL', 'GSL118RCRO', 'GSL119RRAM', 'GSL120DJOH', 'GSL120RGAI', 'GSL121DAUE', 'GSL121RWIE', 'GSL122DFRY', 'GSL123RLEV', 'GSL124DHOW', 'GSL124RRHO', 'GSL125RFLE', 'GSL126DFRA', 'GSL126RHAR', 'GSL127RNEW', 'GSL128DJAC', 'GSL129DHOW', 'GSL130DGLA', 'GSL130RSWE', 'GSL131RLOT', 'GSL132DPRI', 'GSL133DWAL', 'GSL133RVAN', 'GSL134DDIC', 'GSL134RKNI', 'GSL135RCAM', 'GSL136RJEN', 'GSL137DBUC', 'GSL137RRIC', 'GSL138RSMI', 'GSL139RSMI', 'GSL140DREE', 'GSL141DHUG', 'GSL142DPAR', 'GSL143DBEV', 'GSL144DCON', 'GSL144RWAS', 'GSL145RDIC', 'GSL146DDRI', 'GSL146RBLA', 'GSL147DPHI', 'GSL147RBAL', 'GSL148RWIL', 'GSL149RMAT', 'GSL150DBEN', 'GSL151DBAR', 'GSL151RCHE', 'GSL152RYEA', 'GSL153DSAM', 'GSL153RTAY', 'GSL154DHAY', 'GSL154RGRE', 'GSL155RHAT', 'GSL156DKIT', 'GSL156RHAG', 'GSL157RWER', 'GSL158DSMI', 'GSL158RPAR', 'GSL159RBUR', 'GSL160RFRA', 'GSL161DBAR', 'GSL161RHIT', 'GSL162DGIL', 'GSL163DWES', 'GSL164DTHO', 'GSL164RSTE', 'GSL165DJAC', 'GSL166RPET', 'GSL167RDEL', 'GSL168DWIL', 'GSL169DBRO', 'GSL169RPIR', 'GSL170RHOU', 'GSL171RCAM', 'GSL172RWAT', 'GSL173DSR', 'GSL173RTAY', 'GSL174RCOR', 'GSL175RLAH', 'GSL176RBUR', 'GSL177DSHA', 'GSL178RMEE', 'GSL179RTOW', 'GSL180RSAI', 'GSU01DJON', 'GSU01RWAT', 'GSU02DMAL', 'GSU02RYOU', 'GSU03RHOD', 'GSU04RHIC', 'GSU05DRAH', 'GSU06DEST', 'GSU06RGLA', 'GSU07DISL', 'GSU07RMCK', 'GSU08RGOO', 'GSU09DMER', 'GSU10DJON', 'GSU11RBUR', 'GSU12DSIM', 'GSU13RSUM', 'GSU14DMCL', 'GSU14RHAU', 'GSU15DHAR', 'GSU16DDUB', 'GSU16RHAR', 'GSU17DMOR', 'GSU17RSTR', 'GSU18DBEN', 'GSU18RKEN', 'GSU19DMOO', 'GSU19RTIL', 'GSU20RWAL', 'GSU21RBEA', 'GSU22DJON', 'GSU22RDAN', 'GSU23RBUR', 'GSU24RAND', 'GSU25DROD', 'GSU25RWIL', 'GSU26DLUC', 'GSU27DBIN', 'GSU27RDOL', 'GSU28RBRA', 'GSU29DWRI', 'GSU29RROB', 'GSU30RDUG', 'GSU31RANA', 'GSU32DBEN', 'GSU32RKIR', 'GSU33DRHE', 'GSU34DSEA', 'GSU34RSMI', 'GSU35DJAM', 'GSU36DORR', 'GSU37DPAR', 'GSU37RSET', 'GSU38DTAT', 'GSU39DHAL', 'GSU40DHAR', 'GSU40RMCD', 'GSU41DJAC', 'GSU41RJON', 'GSU42DPAR', 'GSU43DAND', 'GSU43RWIL', 'GSU44DDAV', 'GSU45DJON', 'GSU45RDIX', 'GSU46DFER', 'GSU46RCOW', 'GSU47DSCO', 'GSU47RGIN', 'GSU48DUDD', 'GSU48RSTI', 'GSU49DCOO', 'GSU49RECH', 'GSU50DWIL', 'GSU50RHAT', 'GSU51RGOO', 'GSU52RHUF', 'GSU53RMOO', 'GSU54RPAY', 'GSU55DBUT', 'GSU56DTHO', 'GSU56RALB', 'geometry']\n"
     ]
    }
   ],
   "source": [
    "print(list(elec22.columns))"
   ]
  },
  {
   "cell_type": "code",
   "execution_count": 47,
   "metadata": {},
   "outputs": [],
   "source": [
    "cols_to_drop = ['G22RFANO', 'G22RFAYES', 'G22RFBNO', 'G22RFBYES', 'GCON01DHER', 'GCON01RCAR', 'GCON02DBIS', 'GCON02RWES', 'GCON03DALM', 'GCON03RFER', 'GCON04DJOH', 'GCON04RCHA', 'GCON05DWIL', 'GCON05RZIM', 'GCON06DCHR', 'GCON06RMCC', 'GCON07DMCB', 'GCON07RGON', 'GCON08DBUT', 'GCON08RSCO', 'GCON09DFOR', 'GCON09RCLY', 'GCON10DJOH', 'GCON10RCOL', 'GCON11DDAZ', 'GCON11RLOU', 'GCON12DJOH', 'GCON12RALL', 'GCON13DSCO', 'GCON13RGON', 'GCON14DFLO', 'GCON14RGRE', 'GSL001RCAM', 'GSL002RTAR', 'GSL003RHOR', 'GSL004RCAR', 'GSL005RBAR', 'GSL006RRID', 'GSL007RRAL', 'GSL008DKRI', 'GSL008RGUN', 'GSL009RWAD', 'GSL010RAND', 'GSL011DHOL', 'GSL011RJAS', 'GSL012RLUM', 'GSL013RDEM', 'GSL014RSCO', 'GSL015RGAM', 'GSL016RKEL', 'GSL017DMAR', 'GSL017RMOM', 'GSL018DRHU', 'GSL018RSMI', 'GSL019DCOY', 'GSL019RGUL', 'GSL020RBYR', 'GSL021RTHO', 'GSL022DHIL', 'GSL022RRID', 'GSL023RBAL', 'GSL024DWAL', 'GSL024RBAR', 'GSL025DMEY', 'GSL025RJON', 'GSL026DHEL', 'GSL026RMCD', 'GSL027RHAW', 'GSL028DWOO', 'GSL028RCOX', 'GSL029DPAN', 'GSL029RDUB', 'GSL030DFLO', 'GSL030RMCC', 'GSL031RDUN', 'GSL032RERW', 'GSL033RPOW', 'GSL034DCOK', 'GSL034RSEA', 'GSL035DCAM', 'GSL035RTRI', 'GSL036DRYN', 'GSL036REHR', 'GSL037DWIL', 'GSL037RRED', 'GSL038DWIL', 'GSL039DCUM', 'GSL039RANG', 'GSL040DSTO', 'GSL040RFON', 'GSL041DSMI', 'GSL041RROD', 'GSL042DANU', 'GSL043DADE', 'GSL043RTIL', 'GSL044DOYO', 'GSL044RPAR', 'GSL045DMCC', 'GSL045RCOO', 'GSL046DGAR', 'GSL046RCAR', 'GSL047RJON', 'GSL048DROB', 'GSL048RHIL', 'GSL049DGIL', 'GSL049RMAR', 'GSL050DAU', 'GSL050RRED', 'GSL051DPAN', 'GSL051RKOR', 'GSL052DROB', 'GSL052RAHR', 'GSL053DCOF', 'GSL053RSIL', 'GSL054DHOL', 'GSL054RBAI', 'GSL055DWIL', 'GSL055RLEN', 'GSL056DMAI', 'GSL057DEVA', 'GSL058DCAN', 'GSL059DOLA', 'GSL060DJON', 'GSL061DBRU', 'GSL062DMIL', 'GSL063DSCH', 'GSL064DEDW', 'GSL064RNEW', 'GSL065DTHO', 'GSL065RHOR', 'GSL066DALE', 'GSL067DGLA', 'GSL067RAMI', 'GSL068DNAG', 'GSL068RMAT', 'GSL069DBAZ', 'GSL070DAND', 'GSL070RSMI', 'GSL071DOKA', 'GSL071RCOL', 'GSL072RHUD', 'GSL073RBON', 'GSL074DHAR', 'GSL074RMAT', 'GSL075DGLA', 'GSL075RASH', 'GSL076DSCO', 'GSL077DBUR', 'GSL078DDOU', 'GSL079DNEA', 'GSL080DTRA', 'GSL080RAND', 'GSL081DHOL', 'GSL081RBEN', 'GSL082DOLI', 'GSL082RMIL', 'GSL083DLUP', 'GSL083RBER', 'GSL084DCRA', 'GSL085DDRE', 'GSL086DBAR', 'GSL086RKIN', 'GSL087DDAV', 'GSL088DMIT', 'GSL088RFRE', 'GSL089DEVA', 'GSL089RSHE', 'GSL090DDRA', 'GSL090RDIO', 'GSL091DMOO', 'GSL092DTAY', 'GSL093DCAR', 'GSL094DBEN', 'GSL095DKEN', 'GSL095RDAW', 'GSL096DMAR', 'GSL096RLOW', 'GSL097DROM', 'GSL097RCHA', 'GSL098DLIM', 'GSL099DDUG', 'GSL099RREE', 'GSL100DJAC', 'GSL100RCLA', 'GSL101DKEN', 'GSL101RPRO', 'GSL102DOKO', 'GSL102RHAR', 'GSL103DANA', 'GSL103RHON', 'GSL104DREI', 'GSL104REFS', 'GSL105DMUG', 'GSL105RDON', 'GSL106DHUT', 'GSL106RWRE', 'GSL107DPAR', 'GSL107RCAO', 'GSL108DCLA', 'GSL108RCRI', 'GSL109DMCC', 'GSL110DADE', 'GSL111DCOX', 'GSL111RMAR', 'GSL112DREE', 'GSL112RWIL', 'GSL113DHEN', 'GSL114DADA', 'GSL114RFLE', 'GSL115DLEW', 'GSL116DHOL', 'GSL116RBEN', 'GSL117DRUC', 'GSL117RDAN', 'GSL118DBEL', 'GSL118RCRO', 'GSL119RRAM', 'GSL120DJOH', 'GSL120RGAI', 'GSL121DAUE', 'GSL121RWIE', 'GSL122DFRY', 'GSL123RLEV', 'GSL124DHOW', 'GSL124RRHO', 'GSL125RFLE', 'GSL126DFRA', 'GSL126RHAR', 'GSL127RNEW', 'GSL128DJAC', 'GSL129DHOW', 'GSL130DGLA', 'GSL130RSWE', 'GSL131RLOT', 'GSL132DPRI', 'GSL133DWAL', 'GSL133RVAN', 'GSL134DDIC', 'GSL134RKNI', 'GSL135RCAM', 'GSL136RJEN', 'GSL137DBUC', 'GSL137RRIC', 'GSL138RSMI', 'GSL139RSMI', 'GSL140DREE', 'GSL141DHUG', 'GSL142DPAR', 'GSL143DBEV', 'GSL144DCON', 'GSL144RWAS', 'GSL145RDIC', 'GSL146DDRI', 'GSL146RBLA', 'GSL147DPHI', 'GSL147RBAL', 'GSL148RWIL', 'GSL149RMAT', 'GSL150DBEN', 'GSL151DBAR', 'GSL151RCHE', 'GSL152RYEA', 'GSL153DSAM', 'GSL153RTAY', 'GSL154DHAY', 'GSL154RGRE', 'GSL155RHAT', 'GSL156DKIT', 'GSL156RHAG', 'GSL157RWER', 'GSL158DSMI', 'GSL158RPAR', 'GSL159RBUR', 'GSL160RFRA', 'GSL161DBAR', 'GSL161RHIT', 'GSL162DGIL', 'GSL163DWES', 'GSL164DTHO', 'GSL164RSTE', 'GSL165DJAC', 'GSL166RPET', 'GSL167RDEL', 'GSL168DWIL', 'GSL169DBRO', 'GSL169RPIR', 'GSL170RHOU', 'GSL171RCAM', 'GSL172RWAT', 'GSL173DSR', 'GSL173RTAY', 'GSL174RCOR', 'GSL175RLAH', 'GSL176RBUR', 'GSL177DSHA', 'GSL178RMEE', 'GSL179RTOW', 'GSL180RSAI', 'GSU01DJON', 'GSU01RWAT', 'GSU02DMAL', 'GSU02RYOU', 'GSU03RHOD', 'GSU04RHIC', 'GSU05DRAH', 'GSU06DEST', 'GSU06RGLA', 'GSU07DISL', 'GSU07RMCK', 'GSU08RGOO', 'GSU09DMER', 'GSU10DJON', 'GSU11RBUR', 'GSU12DSIM', 'GSU13RSUM', 'GSU14DMCL', 'GSU14RHAU', 'GSU15DHAR', 'GSU16DDUB', 'GSU16RHAR', 'GSU17DMOR', 'GSU17RSTR', 'GSU18DBEN', 'GSU18RKEN', 'GSU19DMOO', 'GSU19RTIL', 'GSU20RWAL', 'GSU21RBEA', 'GSU22DJON', 'GSU22RDAN', 'GSU23RBUR', 'GSU24RAND', 'GSU25DROD', 'GSU25RWIL', 'GSU26DLUC', 'GSU27DBIN', 'GSU27RDOL', 'GSU28RBRA', 'GSU29DWRI', 'GSU29RROB', 'GSU30RDUG', 'GSU31RANA', 'GSU32DBEN', 'GSU32RKIR', 'GSU33DRHE', 'GSU34DSEA', 'GSU34RSMI', 'GSU35DJAM', 'GSU36DORR', 'GSU37DPAR', 'GSU37RSET', 'GSU38DTAT', 'GSU39DHAL', 'GSU40DHAR', 'GSU40RMCD', 'GSU41DJAC', 'GSU41RJON', 'GSU42DPAR', 'GSU43DAND', 'GSU43RWIL', 'GSU44DDAV', 'GSU45DJON', 'GSU45RDIX', 'GSU46DFER', 'GSU46RCOW', 'GSU47DSCO', 'GSU47RGIN', 'GSU48DUDD', 'GSU48RSTI', 'GSU49DCOO', 'GSU49RECH', 'GSU50DWIL', 'GSU50RHAT', 'GSU51RGOO', 'GSU52RHUF', 'GSU53RMOO', 'GSU54RPAY', 'GSU55DBUT', 'GSU56DTHO', 'GSU56RALB']"
   ]
  },
  {
   "cell_type": "code",
   "execution_count": 48,
   "metadata": {},
   "outputs": [],
   "source": [
    "elec22 = elec22.drop(columns = cols_to_drop, axis = 1)"
   ]
  },
  {
   "cell_type": "code",
   "execution_count": 49,
   "metadata": {},
   "outputs": [
    {
     "name": "stdout",
     "output_type": "stream",
     "text": [
      "['UNIQUE_ID', 'COUNTYFP', 'county', 'precinct', 'G22A01NO', 'G22A01YES', 'G22A02NO', 'G22A02YES', 'G22AGRDHEM', 'G22AGRLRAU', 'G22AGRRHAR', 'G22ATGDJOR', 'G22ATGLCOW', 'G22ATGRCAR', 'G22GOVDABR', 'G22GOVLHAZ', 'G22GOVRKEM', 'G22INSDROB', 'G22INSRKIN', 'G22LABDBOD', 'G22LABLAND', 'G22LABRTHO', 'G22LTGDBAI', 'G22LTGLGRA', 'G22LTGRJON', 'G22SOSDNGU', 'G22SOSLMET', 'G22SOSRRAF', 'G22SUPDSEA', 'G22SUPRWOO', 'G22USSDWAR', 'G22USSLOLI', 'G22USSRWAL', 'geometry']\n"
     ]
    }
   ],
   "source": [
    "print(list(elec22.columns))"
   ]
  },
  {
   "cell_type": "markdown",
   "metadata": {},
   "source": [
    "For the 2022 election data, running maup.doctor before repairing didn't work.  So we repair here first:"
   ]
  },
  {
   "cell_type": "code",
   "execution_count": 51,
   "metadata": {},
   "outputs": [
    {
     "name": "stdout",
     "output_type": "stream",
     "text": [
      "Snapping all geometries to a grid with precision 10^( -3 ) to avoid GEOS errors.\n",
      "Identifying overlaps...\n"
     ]
    },
    {
     "name": "stderr",
     "output_type": "stream",
     "text": [
      "100%|█████████████████████████████████████| 4252/4252 [00:01<00:00, 2932.06it/s]\n"
     ]
    },
    {
     "name": "stdout",
     "output_type": "stream",
     "text": [
      "Resolving overlaps...\n",
      "Assigning order 2 pieces...\n",
      "Filling gaps...\n"
     ]
    },
    {
     "name": "stderr",
     "output_type": "stream",
     "text": [
      "Gaps to simplify: 100%|███████████████████████| 433/433 [01:42<00:00,  4.21it/s]\n",
      "Gaps to fill: 100%|█████████████████████████████| 76/76 [00:20<00:00,  3.65it/s]\n"
     ]
    }
   ],
   "source": [
    "elec22 = elec22.to_crs(elec22.estimate_utm_crs())\n",
    "elec22 = maup.smart_repair(elec22, snap_precision = 8)"
   ]
  },
  {
   "cell_type": "code",
   "execution_count": 52,
   "metadata": {},
   "outputs": [
    {
     "name": "stderr",
     "output_type": "stream",
     "text": [
      "100%|██████████████████████████████████████| 2732/2732 [00:03<00:00, 861.21it/s]\n"
     ]
    },
    {
     "data": {
      "text/plain": [
       "True"
      ]
     },
     "execution_count": 52,
     "metadata": {},
     "output_type": "execute_result"
    }
   ],
   "source": [
    "maup.doctor(elec22)"
   ]
  },
  {
   "cell_type": "code",
   "execution_count": 53,
   "metadata": {
    "scrolled": true
   },
   "outputs": [
    {
     "name": "stderr",
     "output_type": "stream",
     "text": [
      "100%|██████████████████████████████████████| 2732/2732 [00:03<00:00, 895.04it/s]\n",
      "100%|██████████████████████████████████████| 2732/2732 [00:03<00:00, 710.79it/s]\n",
      "100%|██████████████████████████████████████| 2732/2732 [00:17<00:00, 159.35it/s]\n",
      "100%|██████████████████████████████████████| 2697/2697 [00:03<00:00, 777.38it/s]\n",
      "100%|██████████████████████████████████████| 2697/2697 [00:16<00:00, 164.67it/s]\n"
     ]
    },
    {
     "name": "stdout",
     "output_type": "stream",
     "text": [
      "population agrees\n"
     ]
    }
   ],
   "source": [
    "election_df = add_vest(elec22, election_df, '22', population_df, 8, snap_precision = 8)"
   ]
  },
  {
   "cell_type": "markdown",
   "metadata": {},
   "source": [
    "##  Add the district data"
   ]
  },
  {
   "cell_type": "code",
   "execution_count": 55,
   "metadata": {},
   "outputs": [],
   "source": [
    "cd = gpd.read_file(cd_data)\n",
    "cd = cd.to_crs(cd.estimate_utm_crs())\n",
    "send = gpd.read_file(send_data)\n",
    "send = send.to_crs(send.estimate_utm_crs())\n",
    "hdist = gpd.read_file(hdist_data)\n",
    "hdist = hdist.to_crs(hdist.estimate_utm_crs())"
   ]
  },
  {
   "cell_type": "code",
   "execution_count": 56,
   "metadata": {},
   "outputs": [
    {
     "data": {
      "text/html": [
       "<div>\n",
       "<style scoped>\n",
       "    .dataframe tbody tr th:only-of-type {\n",
       "        vertical-align: middle;\n",
       "    }\n",
       "\n",
       "    .dataframe tbody tr th {\n",
       "        vertical-align: top;\n",
       "    }\n",
       "\n",
       "    .dataframe thead th {\n",
       "        text-align: right;\n",
       "    }\n",
       "</style>\n",
       "<table border=\"1\" class=\"dataframe\">\n",
       "  <thead>\n",
       "    <tr style=\"text-align: right;\">\n",
       "      <th></th>\n",
       "      <th>ID</th>\n",
       "      <th>AREA</th>\n",
       "      <th>DATA</th>\n",
       "      <th>DISTRICT</th>\n",
       "      <th>POPULATION</th>\n",
       "      <th>F18_POP</th>\n",
       "      <th>NH_WHT</th>\n",
       "      <th>NH_BLK</th>\n",
       "      <th>HISPANIC_O</th>\n",
       "      <th>NH_ASN</th>\n",
       "      <th>...</th>\n",
       "      <th>F_NH_2_RAC</th>\n",
       "      <th>IDEAL_VALU</th>\n",
       "      <th>F_18_AP_WH</th>\n",
       "      <th>F_18_AP_IN</th>\n",
       "      <th>F_18_AP_AS</th>\n",
       "      <th>F_18_AP_HW</th>\n",
       "      <th>F_18_AP_OT</th>\n",
       "      <th>F_18_2_RAC</th>\n",
       "      <th>DISTRICT_L</th>\n",
       "      <th>geometry</th>\n",
       "    </tr>\n",
       "  </thead>\n",
       "  <tbody>\n",
       "    <tr>\n",
       "      <th>0</th>\n",
       "      <td>1</td>\n",
       "      <td>10127.426758</td>\n",
       "      <td>2</td>\n",
       "      <td>002</td>\n",
       "      <td>765137</td>\n",
       "      <td>587555</td>\n",
       "      <td>305611</td>\n",
       "      <td>375124</td>\n",
       "      <td>45499</td>\n",
       "      <td>10263</td>\n",
       "      <td>...</td>\n",
       "      <td>0.040245</td>\n",
       "      <td>765136.0</td>\n",
       "      <td>0.468327</td>\n",
       "      <td>0.015445</td>\n",
       "      <td>0.018934</td>\n",
       "      <td>0.002189</td>\n",
       "      <td>0.043899</td>\n",
       "      <td>0.038509</td>\n",
       "      <td>002|0%</td>\n",
       "      <td>POLYGON ((153153.161 3611192.046, 153153.628 3...</td>\n",
       "    </tr>\n",
       "    <tr>\n",
       "      <th>1</th>\n",
       "      <td>2</td>\n",
       "      <td>4251.204102</td>\n",
       "      <td>3</td>\n",
       "      <td>003</td>\n",
       "      <td>765136</td>\n",
       "      <td>586319</td>\n",
       "      <td>492494</td>\n",
       "      <td>173004</td>\n",
       "      <td>48285</td>\n",
       "      <td>15959</td>\n",
       "      <td>...</td>\n",
       "      <td>0.050984</td>\n",
       "      <td>765136.0</td>\n",
       "      <td>0.723775</td>\n",
       "      <td>0.020902</td>\n",
       "      <td>0.025469</td>\n",
       "      <td>0.001184</td>\n",
       "      <td>0.048032</td>\n",
       "      <td>0.049671</td>\n",
       "      <td>003|0%</td>\n",
       "      <td>POLYGON ((124205.608 3603719.389, 124197.225 3...</td>\n",
       "    </tr>\n",
       "    <tr>\n",
       "      <th>2</th>\n",
       "      <td>3</td>\n",
       "      <td>8162.467285</td>\n",
       "      <td>1</td>\n",
       "      <td>001</td>\n",
       "      <td>765137</td>\n",
       "      <td>589266</td>\n",
       "      <td>440636</td>\n",
       "      <td>210695</td>\n",
       "      <td>59328</td>\n",
       "      <td>16737</td>\n",
       "      <td>...</td>\n",
       "      <td>0.053195</td>\n",
       "      <td>765136.0</td>\n",
       "      <td>0.666193</td>\n",
       "      <td>0.020010</td>\n",
       "      <td>0.029893</td>\n",
       "      <td>0.002915</td>\n",
       "      <td>0.054580</td>\n",
       "      <td>0.051632</td>\n",
       "      <td>001|0%</td>\n",
       "      <td>POLYGON ((364728.407 3537581.999, 364782.898 3...</td>\n",
       "    </tr>\n",
       "    <tr>\n",
       "      <th>3</th>\n",
       "      <td>4</td>\n",
       "      <td>11088.923828</td>\n",
       "      <td>8</td>\n",
       "      <td>008</td>\n",
       "      <td>765136</td>\n",
       "      <td>585857</td>\n",
       "      <td>443123</td>\n",
       "      <td>227430</td>\n",
       "      <td>54850</td>\n",
       "      <td>11916</td>\n",
       "      <td>...</td>\n",
       "      <td>0.040346</td>\n",
       "      <td>765136.0</td>\n",
       "      <td>0.655996</td>\n",
       "      <td>0.016308</td>\n",
       "      <td>0.020273</td>\n",
       "      <td>0.001436</td>\n",
       "      <td>0.048297</td>\n",
       "      <td>0.039981</td>\n",
       "      <td>008|0%</td>\n",
       "      <td>POLYGON ((216473.459 3677874.039, 216506.285 3...</td>\n",
       "    </tr>\n",
       "    <tr>\n",
       "      <th>4</th>\n",
       "      <td>5</td>\n",
       "      <td>9829.969727</td>\n",
       "      <td>12</td>\n",
       "      <td>012</td>\n",
       "      <td>765136</td>\n",
       "      <td>588119</td>\n",
       "      <td>398843</td>\n",
       "      <td>276358</td>\n",
       "      <td>43065</td>\n",
       "      <td>14024</td>\n",
       "      <td>...</td>\n",
       "      <td>0.046987</td>\n",
       "      <td>765136.0</td>\n",
       "      <td>0.595143</td>\n",
       "      <td>0.016735</td>\n",
       "      <td>0.025544</td>\n",
       "      <td>0.002231</td>\n",
       "      <td>0.040080</td>\n",
       "      <td>0.043274</td>\n",
       "      <td>012|0%</td>\n",
       "      <td>POLYGON ((348010.128 3761623.673, 348019.716 3...</td>\n",
       "    </tr>\n",
       "  </tbody>\n",
       "</table>\n",
       "<p>5 rows × 70 columns</p>\n",
       "</div>"
      ],
      "text/plain": [
       "   ID          AREA  DATA DISTRICT  POPULATION  F18_POP  NH_WHT  NH_BLK  \\\n",
       "0   1  10127.426758     2      002      765137   587555  305611  375124   \n",
       "1   2   4251.204102     3      003      765136   586319  492494  173004   \n",
       "2   3   8162.467285     1      001      765137   589266  440636  210695   \n",
       "3   4  11088.923828     8      008      765136   585857  443123  227430   \n",
       "4   5   9829.969727    12      012      765136   588119  398843  276358   \n",
       "\n",
       "   HISPANIC_O  NH_ASN  ...  F_NH_2_RAC  IDEAL_VALU  F_18_AP_WH  F_18_AP_IN  \\\n",
       "0       45499   10263  ...    0.040245    765136.0    0.468327    0.015445   \n",
       "1       48285   15959  ...    0.050984    765136.0    0.723775    0.020902   \n",
       "2       59328   16737  ...    0.053195    765136.0    0.666193    0.020010   \n",
       "3       54850   11916  ...    0.040346    765136.0    0.655996    0.016308   \n",
       "4       43065   14024  ...    0.046987    765136.0    0.595143    0.016735   \n",
       "\n",
       "   F_18_AP_AS  F_18_AP_HW  F_18_AP_OT  F_18_2_RAC  DISTRICT_L  \\\n",
       "0    0.018934    0.002189    0.043899    0.038509      002|0%   \n",
       "1    0.025469    0.001184    0.048032    0.049671      003|0%   \n",
       "2    0.029893    0.002915    0.054580    0.051632      001|0%   \n",
       "3    0.020273    0.001436    0.048297    0.039981      008|0%   \n",
       "4    0.025544    0.002231    0.040080    0.043274      012|0%   \n",
       "\n",
       "                                            geometry  \n",
       "0  POLYGON ((153153.161 3611192.046, 153153.628 3...  \n",
       "1  POLYGON ((124205.608 3603719.389, 124197.225 3...  \n",
       "2  POLYGON ((364728.407 3537581.999, 364782.898 3...  \n",
       "3  POLYGON ((216473.459 3677874.039, 216506.285 3...  \n",
       "4  POLYGON ((348010.128 3761623.673, 348019.716 3...  \n",
       "\n",
       "[5 rows x 70 columns]"
      ]
     },
     "execution_count": 56,
     "metadata": {},
     "output_type": "execute_result"
    }
   ],
   "source": [
    "cd.head()"
   ]
  },
  {
   "cell_type": "code",
   "execution_count": 57,
   "metadata": {},
   "outputs": [
    {
     "name": "stderr",
     "output_type": "stream",
     "text": [
      "100%|███████████████████████████████████████████| 14/14 [00:00<00:00, 79.71it/s]\n",
      "100%|██████████████████████████████████████████| 14/14 [00:00<00:00, 158.69it/s]\n",
      "100%|███████████████████████████████████████████| 14/14 [00:01<00:00, 13.66it/s]\n"
     ]
    }
   ],
   "source": [
    "election_df = add_district(cd, \"CD\", election_df, \"DISTRICT\")"
   ]
  },
  {
   "cell_type": "code",
   "execution_count": 58,
   "metadata": {},
   "outputs": [
    {
     "data": {
      "text/html": [
       "<div>\n",
       "<style scoped>\n",
       "    .dataframe tbody tr th:only-of-type {\n",
       "        vertical-align: middle;\n",
       "    }\n",
       "\n",
       "    .dataframe tbody tr th {\n",
       "        vertical-align: top;\n",
       "    }\n",
       "\n",
       "    .dataframe thead th {\n",
       "        text-align: right;\n",
       "    }\n",
       "</style>\n",
       "<table border=\"1\" class=\"dataframe\">\n",
       "  <thead>\n",
       "    <tr style=\"text-align: right;\">\n",
       "      <th></th>\n",
       "      <th>ID</th>\n",
       "      <th>AREA</th>\n",
       "      <th>DATA</th>\n",
       "      <th>DISTRICT</th>\n",
       "      <th>MEMBERS</th>\n",
       "      <th>LOCKED</th>\n",
       "      <th>IDEAL_VALU</th>\n",
       "      <th>NAME</th>\n",
       "      <th>POPULATION</th>\n",
       "      <th>DEVIATION</th>\n",
       "      <th>...</th>\n",
       "      <th>F_NH18_OTH</th>\n",
       "      <th>F_NH18_2_R</th>\n",
       "      <th>F_AP_WHT</th>\n",
       "      <th>F_AP_BLK</th>\n",
       "      <th>F_AP_IND</th>\n",
       "      <th>F_AP_ASN</th>\n",
       "      <th>F_AP_HWN</th>\n",
       "      <th>F_AP_OTH</th>\n",
       "      <th>F_18_AP_BL</th>\n",
       "      <th>geometry</th>\n",
       "    </tr>\n",
       "  </thead>\n",
       "  <tbody>\n",
       "    <tr>\n",
       "      <th>0</th>\n",
       "      <td>1</td>\n",
       "      <td>125.000107</td>\n",
       "      <td>38</td>\n",
       "      <td>038</td>\n",
       "      <td>1.0</td>\n",
       "      <td>None</td>\n",
       "      <td>191284.0</td>\n",
       "      <td>None</td>\n",
       "      <td>192309</td>\n",
       "      <td>1025.0</td>\n",
       "      <td>...</td>\n",
       "      <td>0.004970</td>\n",
       "      <td>0.025072</td>\n",
       "      <td>0.331857</td>\n",
       "      <td>0.618983</td>\n",
       "      <td>0.012090</td>\n",
       "      <td>0.029120</td>\n",
       "      <td>0.001149</td>\n",
       "      <td>0.062316</td>\n",
       "      <td>0.608769</td>\n",
       "      <td>POLYGON ((164648.908 3712832.924, 164016.920 3...</td>\n",
       "    </tr>\n",
       "    <tr>\n",
       "      <th>1</th>\n",
       "      <td>2</td>\n",
       "      <td>87.601807</td>\n",
       "      <td>35</td>\n",
       "      <td>035</td>\n",
       "      <td>1.0</td>\n",
       "      <td>None</td>\n",
       "      <td>191284.0</td>\n",
       "      <td>None</td>\n",
       "      <td>192472</td>\n",
       "      <td>1188.0</td>\n",
       "      <td>...</td>\n",
       "      <td>0.006852</td>\n",
       "      <td>0.031711</td>\n",
       "      <td>0.349334</td>\n",
       "      <td>0.564970</td>\n",
       "      <td>0.015909</td>\n",
       "      <td>0.056756</td>\n",
       "      <td>0.001408</td>\n",
       "      <td>0.087093</td>\n",
       "      <td>0.546652</td>\n",
       "      <td>POLYGON ((175984.353 3736780.753, 175975.642 3...</td>\n",
       "    </tr>\n",
       "    <tr>\n",
       "      <th>2</th>\n",
       "      <td>3</td>\n",
       "      <td>51.919930</td>\n",
       "      <td>39</td>\n",
       "      <td>039</td>\n",
       "      <td>1.0</td>\n",
       "      <td>None</td>\n",
       "      <td>191284.0</td>\n",
       "      <td>None</td>\n",
       "      <td>192047</td>\n",
       "      <td>763.0</td>\n",
       "      <td>...</td>\n",
       "      <td>0.005204</td>\n",
       "      <td>0.030724</td>\n",
       "      <td>0.347873</td>\n",
       "      <td>0.581238</td>\n",
       "      <td>0.013361</td>\n",
       "      <td>0.059225</td>\n",
       "      <td>0.001505</td>\n",
       "      <td>0.057767</td>\n",
       "      <td>0.554199</td>\n",
       "      <td>POLYGON ((173690.145 3722417.648, 173690.833 3...</td>\n",
       "    </tr>\n",
       "    <tr>\n",
       "      <th>3</th>\n",
       "      <td>4</td>\n",
       "      <td>78.536438</td>\n",
       "      <td>33</td>\n",
       "      <td>033</td>\n",
       "      <td>1.0</td>\n",
       "      <td>None</td>\n",
       "      <td>191284.0</td>\n",
       "      <td>None</td>\n",
       "      <td>192766</td>\n",
       "      <td>1482.0</td>\n",
       "      <td>...</td>\n",
       "      <td>0.012291</td>\n",
       "      <td>0.037483</td>\n",
       "      <td>0.474498</td>\n",
       "      <td>0.363840</td>\n",
       "      <td>0.023977</td>\n",
       "      <td>0.052810</td>\n",
       "      <td>0.001530</td>\n",
       "      <td>0.199963</td>\n",
       "      <td>0.352603</td>\n",
       "      <td>POLYGON ((185261.830 3761143.374, 185113.194 3...</td>\n",
       "    </tr>\n",
       "    <tr>\n",
       "      <th>4</th>\n",
       "      <td>5</td>\n",
       "      <td>94.699898</td>\n",
       "      <td>56</td>\n",
       "      <td>056</td>\n",
       "      <td>1.0</td>\n",
       "      <td>None</td>\n",
       "      <td>191284.0</td>\n",
       "      <td>None</td>\n",
       "      <td>191226</td>\n",
       "      <td>-58.0</td>\n",
       "      <td>...</td>\n",
       "      <td>0.006334</td>\n",
       "      <td>0.035148</td>\n",
       "      <td>0.841517</td>\n",
       "      <td>0.080821</td>\n",
       "      <td>0.018078</td>\n",
       "      <td>0.071465</td>\n",
       "      <td>0.001177</td>\n",
       "      <td>0.082149</td>\n",
       "      <td>0.075737</td>\n",
       "      <td>POLYGON ((177327.580 3789581.903, 177364.740 3...</td>\n",
       "    </tr>\n",
       "  </tbody>\n",
       "</table>\n",
       "<p>5 rows × 60 columns</p>\n",
       "</div>"
      ],
      "text/plain": [
       "   ID        AREA  DATA DISTRICT  MEMBERS LOCKED  IDEAL_VALU  NAME  \\\n",
       "0   1  125.000107    38      038      1.0   None    191284.0  None   \n",
       "1   2   87.601807    35      035      1.0   None    191284.0  None   \n",
       "2   3   51.919930    39      039      1.0   None    191284.0  None   \n",
       "3   4   78.536438    33      033      1.0   None    191284.0  None   \n",
       "4   5   94.699898    56      056      1.0   None    191284.0  None   \n",
       "\n",
       "   POPULATION  DEVIATION  ...  F_NH18_OTH  F_NH18_2_R  F_AP_WHT  F_AP_BLK  \\\n",
       "0      192309     1025.0  ...    0.004970    0.025072  0.331857  0.618983   \n",
       "1      192472     1188.0  ...    0.006852    0.031711  0.349334  0.564970   \n",
       "2      192047      763.0  ...    0.005204    0.030724  0.347873  0.581238   \n",
       "3      192766     1482.0  ...    0.012291    0.037483  0.474498  0.363840   \n",
       "4      191226      -58.0  ...    0.006334    0.035148  0.841517  0.080821   \n",
       "\n",
       "   F_AP_IND  F_AP_ASN  F_AP_HWN  F_AP_OTH  F_18_AP_BL  \\\n",
       "0  0.012090  0.029120  0.001149  0.062316    0.608769   \n",
       "1  0.015909  0.056756  0.001408  0.087093    0.546652   \n",
       "2  0.013361  0.059225  0.001505  0.057767    0.554199   \n",
       "3  0.023977  0.052810  0.001530  0.199963    0.352603   \n",
       "4  0.018078  0.071465  0.001177  0.082149    0.075737   \n",
       "\n",
       "                                            geometry  \n",
       "0  POLYGON ((164648.908 3712832.924, 164016.920 3...  \n",
       "1  POLYGON ((175984.353 3736780.753, 175975.642 3...  \n",
       "2  POLYGON ((173690.145 3722417.648, 173690.833 3...  \n",
       "3  POLYGON ((185261.830 3761143.374, 185113.194 3...  \n",
       "4  POLYGON ((177327.580 3789581.903, 177364.740 3...  \n",
       "\n",
       "[5 rows x 60 columns]"
      ]
     },
     "execution_count": 58,
     "metadata": {},
     "output_type": "execute_result"
    }
   ],
   "source": [
    "send.head()"
   ]
  },
  {
   "cell_type": "code",
   "execution_count": 59,
   "metadata": {},
   "outputs": [
    {
     "name": "stderr",
     "output_type": "stream",
     "text": [
      "100%|██████████████████████████████████████████| 56/56 [00:00<00:00, 153.99it/s]\n",
      "100%|██████████████████████████████████████████| 56/56 [00:00<00:00, 437.82it/s]\n",
      "100%|███████████████████████████████████████████| 56/56 [00:01<00:00, 28.85it/s]\n"
     ]
    }
   ],
   "source": [
    "election_df = add_district(send, \"SEND\", election_df, \"DISTRICT\")"
   ]
  },
  {
   "cell_type": "code",
   "execution_count": 60,
   "metadata": {},
   "outputs": [
    {
     "data": {
      "text/html": [
       "<div>\n",
       "<style scoped>\n",
       "    .dataframe tbody tr th:only-of-type {\n",
       "        vertical-align: middle;\n",
       "    }\n",
       "\n",
       "    .dataframe tbody tr th {\n",
       "        vertical-align: top;\n",
       "    }\n",
       "\n",
       "    .dataframe thead th {\n",
       "        text-align: right;\n",
       "    }\n",
       "</style>\n",
       "<table border=\"1\" class=\"dataframe\">\n",
       "  <thead>\n",
       "    <tr style=\"text-align: right;\">\n",
       "      <th></th>\n",
       "      <th>ID</th>\n",
       "      <th>AREA</th>\n",
       "      <th>DATA</th>\n",
       "      <th>DISTRICT</th>\n",
       "      <th>MEMBERS</th>\n",
       "      <th>LOCKED</th>\n",
       "      <th>NAME</th>\n",
       "      <th>POPULATION</th>\n",
       "      <th>DEVIATION</th>\n",
       "      <th>F_DEVIATIO</th>\n",
       "      <th>...</th>\n",
       "      <th>F_AP_ASN</th>\n",
       "      <th>F_AP_HWN</th>\n",
       "      <th>F_AP_OTH</th>\n",
       "      <th>F_18_AP_BL</th>\n",
       "      <th>F_PEOPLE_I</th>\n",
       "      <th>F_NH18_2_R</th>\n",
       "      <th>F_NH_2_RAC</th>\n",
       "      <th>IDEAL_VALU</th>\n",
       "      <th>DISTRICT_L</th>\n",
       "      <th>geometry</th>\n",
       "    </tr>\n",
       "  </thead>\n",
       "  <tbody>\n",
       "    <tr>\n",
       "      <th>0</th>\n",
       "      <td>1</td>\n",
       "      <td>2621.328125</td>\n",
       "      <td>154</td>\n",
       "      <td>154</td>\n",
       "      <td>1.0</td>\n",
       "      <td>None</td>\n",
       "      <td>None</td>\n",
       "      <td>59994</td>\n",
       "      <td>483.0</td>\n",
       "      <td>0.008116</td>\n",
       "      <td>...</td>\n",
       "      <td>0.006951</td>\n",
       "      <td>0.001300</td>\n",
       "      <td>0.017752</td>\n",
       "      <td>0.548178</td>\n",
       "      <td>0.041071</td>\n",
       "      <td>0.017008</td>\n",
       "      <td>0.026463</td>\n",
       "      <td>59511.0</td>\n",
       "      <td>154|0.81%</td>\n",
       "      <td>POLYGON ((129929.394 3404007.167, 129928.244 3...</td>\n",
       "    </tr>\n",
       "    <tr>\n",
       "      <th>1</th>\n",
       "      <td>2</td>\n",
       "      <td>642.327576</td>\n",
       "      <td>173</td>\n",
       "      <td>173</td>\n",
       "      <td>1.0</td>\n",
       "      <td>None</td>\n",
       "      <td>None</td>\n",
       "      <td>59743</td>\n",
       "      <td>232.0</td>\n",
       "      <td>0.003898</td>\n",
       "      <td>...</td>\n",
       "      <td>0.011215</td>\n",
       "      <td>0.000603</td>\n",
       "      <td>0.060375</td>\n",
       "      <td>0.362713</td>\n",
       "      <td>0.010160</td>\n",
       "      <td>0.023050</td>\n",
       "      <td>0.035856</td>\n",
       "      <td>59511.0</td>\n",
       "      <td>173|0.39%</td>\n",
       "      <td>POLYGON ((237089.356 3394956.113, 237086.578 3...</td>\n",
       "    </tr>\n",
       "    <tr>\n",
       "      <th>2</th>\n",
       "      <td>3</td>\n",
       "      <td>1414.718262</td>\n",
       "      <td>171</td>\n",
       "      <td>171</td>\n",
       "      <td>1.0</td>\n",
       "      <td>None</td>\n",
       "      <td>None</td>\n",
       "      <td>59237</td>\n",
       "      <td>-274.0</td>\n",
       "      <td>-0.004604</td>\n",
       "      <td>...</td>\n",
       "      <td>0.008137</td>\n",
       "      <td>0.001080</td>\n",
       "      <td>0.049597</td>\n",
       "      <td>0.395962</td>\n",
       "      <td>0.042946</td>\n",
       "      <td>0.019470</td>\n",
       "      <td>0.029150</td>\n",
       "      <td>59511.0</td>\n",
       "      <td>171|-0.46%</td>\n",
       "      <td>POLYGON ((202639.649 3442420.531, 202628.041 3...</td>\n",
       "    </tr>\n",
       "    <tr>\n",
       "      <th>3</th>\n",
       "      <td>4</td>\n",
       "      <td>27.224514</td>\n",
       "      <td>140</td>\n",
       "      <td>140</td>\n",
       "      <td>1.0</td>\n",
       "      <td>None</td>\n",
       "      <td>None</td>\n",
       "      <td>59294</td>\n",
       "      <td>-217.0</td>\n",
       "      <td>-0.003646</td>\n",
       "      <td>...</td>\n",
       "      <td>0.019749</td>\n",
       "      <td>0.004857</td>\n",
       "      <td>0.071542</td>\n",
       "      <td>0.576344</td>\n",
       "      <td>0.045839</td>\n",
       "      <td>0.034338</td>\n",
       "      <td>0.057959</td>\n",
       "      <td>59511.0</td>\n",
       "      <td>140|-0.36%</td>\n",
       "      <td>POLYGON ((127565.059 3588798.568, 127444.194 3...</td>\n",
       "    </tr>\n",
       "    <tr>\n",
       "      <th>4</th>\n",
       "      <td>5</td>\n",
       "      <td>547.062561</td>\n",
       "      <td>138</td>\n",
       "      <td>138</td>\n",
       "      <td>1.0</td>\n",
       "      <td>None</td>\n",
       "      <td>None</td>\n",
       "      <td>58912</td>\n",
       "      <td>-599.0</td>\n",
       "      <td>-0.010065</td>\n",
       "      <td>...</td>\n",
       "      <td>0.031929</td>\n",
       "      <td>0.002139</td>\n",
       "      <td>0.035205</td>\n",
       "      <td>0.193153</td>\n",
       "      <td>0.021914</td>\n",
       "      <td>0.029748</td>\n",
       "      <td>0.048617</td>\n",
       "      <td>59511.0</td>\n",
       "      <td>138|-1.01%</td>\n",
       "      <td>POLYGON ((115965.025 3677541.788, 115974.617 3...</td>\n",
       "    </tr>\n",
       "  </tbody>\n",
       "</table>\n",
       "<p>5 rows × 62 columns</p>\n",
       "</div>"
      ],
      "text/plain": [
       "   ID         AREA  DATA DISTRICT  MEMBERS LOCKED  NAME  POPULATION  \\\n",
       "0   1  2621.328125   154      154      1.0   None  None       59994   \n",
       "1   2   642.327576   173      173      1.0   None  None       59743   \n",
       "2   3  1414.718262   171      171      1.0   None  None       59237   \n",
       "3   4    27.224514   140      140      1.0   None  None       59294   \n",
       "4   5   547.062561   138      138      1.0   None  None       58912   \n",
       "\n",
       "   DEVIATION  F_DEVIATIO  ...  F_AP_ASN  F_AP_HWN  F_AP_OTH  F_18_AP_BL  \\\n",
       "0      483.0    0.008116  ...  0.006951  0.001300  0.017752    0.548178   \n",
       "1      232.0    0.003898  ...  0.011215  0.000603  0.060375    0.362713   \n",
       "2     -274.0   -0.004604  ...  0.008137  0.001080  0.049597    0.395962   \n",
       "3     -217.0   -0.003646  ...  0.019749  0.004857  0.071542    0.576344   \n",
       "4     -599.0   -0.010065  ...  0.031929  0.002139  0.035205    0.193153   \n",
       "\n",
       "   F_PEOPLE_I  F_NH18_2_R  F_NH_2_RAC  IDEAL_VALU  DISTRICT_L  \\\n",
       "0    0.041071    0.017008    0.026463     59511.0   154|0.81%   \n",
       "1    0.010160    0.023050    0.035856     59511.0   173|0.39%   \n",
       "2    0.042946    0.019470    0.029150     59511.0  171|-0.46%   \n",
       "3    0.045839    0.034338    0.057959     59511.0  140|-0.36%   \n",
       "4    0.021914    0.029748    0.048617     59511.0  138|-1.01%   \n",
       "\n",
       "                                            geometry  \n",
       "0  POLYGON ((129929.394 3404007.167, 129928.244 3...  \n",
       "1  POLYGON ((237089.356 3394956.113, 237086.578 3...  \n",
       "2  POLYGON ((202639.649 3442420.531, 202628.041 3...  \n",
       "3  POLYGON ((127565.059 3588798.568, 127444.194 3...  \n",
       "4  POLYGON ((115965.025 3677541.788, 115974.617 3...  \n",
       "\n",
       "[5 rows x 62 columns]"
      ]
     },
     "execution_count": 60,
     "metadata": {},
     "output_type": "execute_result"
    }
   ],
   "source": [
    "hdist.head()"
   ]
  },
  {
   "cell_type": "code",
   "execution_count": 61,
   "metadata": {},
   "outputs": [
    {
     "name": "stderr",
     "output_type": "stream",
     "text": [
      "100%|████████████████████████████████████████| 180/180 [00:00<00:00, 245.68it/s]\n",
      "100%|███████████████████████████████████████| 180/180 [00:00<00:00, 1026.80it/s]\n",
      "100%|█████████████████████████████████████████| 180/180 [00:02<00:00, 63.76it/s]\n"
     ]
    }
   ],
   "source": [
    "election_df = add_district(hdist, \"HDIST\", election_df, \"DISTRICT\")"
   ]
  },
  {
   "cell_type": "code",
   "execution_count": 62,
   "metadata": {},
   "outputs": [
    {
     "name": "stderr",
     "output_type": "stream",
     "text": [
      "100%|██████████████████████████████████████| 2697/2697 [00:03<00:00, 861.49it/s]\n"
     ]
    },
    {
     "data": {
      "text/plain": [
       "True"
      ]
     },
     "execution_count": 62,
     "metadata": {},
     "output_type": "execute_result"
    }
   ],
   "source": [
    "maup.doctor(election_df)"
   ]
  },
  {
   "cell_type": "markdown",
   "metadata": {},
   "source": [
    "### Put the base precinct year after the precinct information column"
   ]
  },
  {
   "cell_type": "code",
   "execution_count": 64,
   "metadata": {},
   "outputs": [],
   "source": [
    "base_columns = {}\n",
    "if 'CTYSOSID' + year not in election_df.columns:\n",
    "    base_columns = {\n",
    "        'DISTRICT':'DISTRICT'+year,\n",
    "        'CTYSOSID':'CTYSOSID'+year,\n",
    "        'PRECINCT_I':'PRECINCT_I'+year,\n",
    "        'PRECINCT_N':'PRECINCT_N'+year,\n",
    "        'CTYNAME':'CTYNAME'+year,\n",
    "        'CTYNUMBER':'CTYNUMBER'+year,\n",
    "        'CTYNUMBER2':'CTYNUMBER2'+year,\n",
    "        'FIPS2':'FIPS2'+year,\n",
    "    }\n",
    "election_df.rename(columns=base_columns, inplace = True)"
   ]
  },
  {
   "cell_type": "code",
   "execution_count": 65,
   "metadata": {},
   "outputs": [],
   "source": [
    "# reorder the columns\n",
    "fixed_columns = [\n",
    "    'DISTRICT'+year,\n",
    "    'CTYSOSID'+year,\n",
    "    'PRECINCT_I'+year,\n",
    "    'PRECINCT_N'+year,\n",
    "    'CTYNAME'+year,\n",
    "    'CTYNUMBER'+year,\n",
    "    'CTYNUMBER2'+year,\n",
    "    'FIPS2'+year,\n",
    "    'CD',\n",
    "    'SEND',\n",
    "    'HDIST',\n",
    "    'TOTPOP',\n",
    "    'NH_2MORE',\n",
    "    'NH_AMIN',\n",
    "    'NH_ASIAN',\n",
    "    'NH_BLACK',\n",
    "    'NH_NHPI',\n",
    "    'NH_OTHER',\n",
    "    'NH_WHITE',\n",
    "    'HISP',\n",
    "    'H_AMIN',\n",
    "    'H_ASIAN',\n",
    "    'H_BLACK',\n",
    "    'H_NHPI',\n",
    "    'H_OTHER',\n",
    "    'H_WHITE',\n",
    "    'H_2MORE',\n",
    "    'VAP',\n",
    "    'HVAP',\n",
    "    'WVAP',\n",
    "    'BVAP',\n",
    "    'AMINVAP',\n",
    "    'ASIANVAP',\n",
    "    'NHPIVAP',\n",
    "    'OTHERVAP',\n",
    "    '2MOREVAP']\n",
    "\n",
    "election_columns = [col for col in election_df.columns if col not in fixed_columns]\n",
    "final_col = fixed_columns + election_columns\n",
    "election_df = election_df[final_col]"
   ]
  },
  {
   "cell_type": "code",
   "execution_count": 66,
   "metadata": {},
   "outputs": [],
   "source": [
    "import os\n",
    "\n",
    "# store the result in directory \"ga\"\n",
    "directory = \"./{}\".format(state_ab)\n",
    "if not os.path.exists(directory):\n",
    "    os.makedirs(directory)\n",
    "\n",
    "shapefile_path = \"./{}/{}.shp\".format(state_ab, state_ab)\n",
    "geojson_path = './{}/{}.geojson'.format(state_ab, state_ab)\n",
    "json_path = \"./{}.json\".format(state_ab, state_ab)\n",
    "\n",
    "# Check if the shapefile or geojson file already exists\n",
    "if os.path.exists(shapefile_path):\n",
    "    os.remove(shapefile_path)\n",
    "if os.path.exists(geojson_path):\n",
    "    os.remove(geojson_path)\n",
    "\n",
    "election_df.to_file(shapefile_path)\n",
    "election_df.to_file(geojson_path, driver='GeoJSON')\n",
    "\n",
    "# Only do once to build json and read from file when generating ensembles\n",
    "graph = Graph.from_file(shapefile_path, ignore_errors=True)\n",
    "graph.to_json(json_path)"
   ]
  },
  {
   "cell_type": "code",
   "execution_count": 67,
   "metadata": {},
   "outputs": [
    {
     "data": {
      "text/plain": [
       "<Axes: >"
      ]
     },
     "execution_count": 67,
     "metadata": {},
     "output_type": "execute_result"
    },
    {
     "data": {
      "image/png": "[encoded data removed]",
      "text/plain": [
       "<Figure size 640x480 with 1 Axes>"
      ]
     },
     "metadata": {},
     "output_type": "display_data"
    }
   ],
   "source": [
    "shapefile_path = \"./{}/{}.shp\".format(state_ab, state_ab)\n",
    "shape=gpd.read_file(shapefile_path)\n",
    "shape.plot()"
   ]
  },
  {
   "cell_type": "code",
   "execution_count": null,
   "metadata": {},
   "outputs": [],
   "source": []
  }
 ],
 "metadata": {
  "kernelspec": {
   "display_name": "gerry",
   "language": "python",
   "name": "gerry"
  },
  "language_info": {
   "codemirror_mode": {
    "name": "ipython",
    "version": 3
   },
   "file_extension": ".py",
   "mimetype": "text/x-python",
   "name": "python",
   "nbconvert_exporter": "python",
   "pygments_lexer": "ipython3",
   "version": "3.11.4"
  }
 },
 "nbformat": 4,
 "nbformat_minor": 4
}
