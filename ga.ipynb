{
 "cells": [
  {
   "cell_type": "code",
   "execution_count": 10,
   "id": "49a264d4-c255-4393-b5ae-74b6f7c645da",
   "metadata": {},
   "outputs": [],
   "source": [
    "import pandas as pd\n",
    "import geopandas as gpd\n",
    "import maup\n",
    "import time\n",
    "from maup import smart_repair\n",
    "from gerrychain import Graph\n",
    "import os\n",
    "\n",
    "import warnings\n",
    "warnings.filterwarnings(\"ignore\")\n",
    "\n",
    "maup.progress.enabled = True"
   ]
  },
  {
   "cell_type": "code",
   "execution_count": 11,
   "id": "55545525-1a53-4366-88fa-4b4ecc94ecad",
   "metadata": {},
   "outputs": [],
   "source": [
    "# parameters\n",
    "# state = Georgia\n",
    "state_ab = \"ga\""
   ]
  },
  {
   "cell_type": "markdown",
   "id": "c3e1bdeb-55c5-4c10-83b5-de352e6d559d",
   "metadata": {},
   "source": [
    "# Data\n",
    "1. Download all the data in directory \"il_data\"\n",
    "2. Eextract them all"
   ]
  },
  {
   "cell_type": "code",
   "execution_count": 60,
   "id": "1cbb32f0-472b-4441-abf2-6af58699cb5f",
   "metadata": {},
   "outputs": [],
   "source": [
    "data_folder = state_ab + \"_data/\"\n",
    "population1_data = \"./{}{}_pl2020_b/{}_pl2020_p1_b.shp\".format(data_folder, state_ab, state_ab)\n",
    "population2_data = \"./{}{}_pl2020_b/{}_pl2020_p2_b.shp\".format(data_folder, state_ab, state_ab)\n",
    "vap_data =  \"./{}{}_pl2020_b/{}_pl2020_p4_b.shp\".format(data_folder, state_ab, state_ab)\n",
    "vest20_data = \"./{}{}_vest_20/{}_vest_20.shp\".format(data_folder, state_ab, state_ab)\n",
    "vest18_data = \"./{}{}_vest_18/{}_vest_18.shp\".format(data_folder, state_ab, state_ab)\n",
    "vest16_data = \"./{}{}_vest_16/{}_vest_16.shp\".format(data_folder, state_ab, state_ab)\n",
    "cd_data = \"./{}{}_cong_adopted_2021/CONGRESS-PROP1-2021-shape.shp\".format(data_folder, state_ab)\n",
    "send_data = \"./{}{}_sldu_adopted_2021/SENATE-PROP1-2021-Shape.shp\".format(data_folder, state_ab)\n",
    "hdist_data = \"./{}{}_sldl_adopted_2021/HOUSE-PROP1-2021-shape.shp\".format(data_folder, state_ab)"
   ]
  },
  {
   "cell_type": "code",
   "execution_count": 13,
   "id": "378425b3-9819-41bd-8212-2e031b571cf2",
   "metadata": {},
   "outputs": [],
   "source": [
    "def do_smart_repair(df):\n",
    "    # change it to the UTM it needs for smart_repair\n",
    "    df = df.to_crs(df.estimate_utm_crs())\n",
    "    df = smart_repair(df)\n",
    "    \n",
    "    # check maup doctor again to see if smart repair works\n",
    "    if maup.doctor(df) == True:\n",
    "        # change it back to this UTM for this data\n",
    "        df = df.to_crs('EPSG:4269')\n",
    "    else:\n",
    "        raise Exception('maup.doctor failed')\n",
    "    \n",
    "    return df"
   ]
  },
  {
   "cell_type": "code",
   "execution_count": 14,
   "id": "df3945da-c3af-41a8-9511-a5aba33fef0b",
   "metadata": {},
   "outputs": [],
   "source": [
    "def add_district(dist_df, dist_name, election_df, col_name):\n",
    "    # check if it needs to be smart_repair\n",
    "    if maup.doctor(dist_df) != True:\n",
    "        dist_df = do_smart_repair(dist_df)\n",
    "\n",
    "    election_df = gpd.GeoDataFrame(election_df, crs=\"EPSG:4269\")\n",
    "\n",
    "    # assigne the pricincts\n",
    "    precincts_to_district_assignment = maup.assign(election_df.geometry, dist_df.geometry)\n",
    "    election_df[dist_name] = precincts_to_district_assignment\n",
    "    for precinct_index in range(len(election_df)):\n",
    "        election_df.at[precinct_index, dist_name] = dist_df.at[election_df.at[precinct_index, dist_name], col_name]\n",
    "\n",
    "    return election_df"
   ]
  },
  {
   "cell_type": "code",
   "execution_count": 15,
   "id": "29c38a31-6707-4ab3-a9e4-38d69ce6838c",
   "metadata": {},
   "outputs": [],
   "source": [
    "def rename(original, year):\n",
    "    party = original[6]\n",
    "    if party == 'R' or party == 'D':\n",
    "        return original[3:6] + year + original[6]\n",
    "    else:\n",
    "        return original[3:6] + year + 'O'"
   ]
  },
  {
   "cell_type": "code",
   "execution_count": 16,
   "id": "ccca5e45-8f52-4f7e-a1e4-9f3d839a6e16",
   "metadata": {},
   "outputs": [],
   "source": [
    "def check_population(population, df):\n",
    "    pop_check = pd.DataFrame({\n",
    "        'pop_col': pop_col,\n",
    "        'population_df': population[pop_col].sum(), \n",
    "        'vest_base': df[pop_col].sum(),\n",
    "        'equal': [x == y for x, y in zip(population[pop_col].sum(), df[pop_col].sum())]\n",
    "    })\n",
    "    if pop_check['equal'].mean() < 1:\n",
    "        print(pop_check)\n",
    "        raise Exception(\"population doesn't agree\")\n",
    "\n",
    "    else:\n",
    "        print(\"population agrees\")"
   ]
  },
  {
   "cell_type": "code",
   "execution_count": 17,
   "id": "c4508baf-84cd-4a31-97ad-059164232e8e",
   "metadata": {},
   "outputs": [],
   "source": [
    "def add_vest(vest, df, year, population, start_col):    \n",
    "     # check if it needs to be smart_repair\n",
    "    if maup.doctor(vest) != True:\n",
    "        vest = do_smart_repair(vest)\n",
    "    \n",
    "    # rename the columns\n",
    "    original_col = vest.columns[start_col:-1]\n",
    "    new_col = [rename(i, year) for i in original_col]\n",
    "    rename_dict = dict(zip(original_col, new_col))\n",
    "    vest = vest.rename(columns=rename_dict)\n",
    "    vest = vest.groupby(level=0, axis=1).sum() # combine all the other party's vote into columns with sufix \"O\"\n",
    "    col_name = list(set(new_col))\n",
    "    col_name.sort()\n",
    "    \n",
    "    # make the blocks from precincts by weight\n",
    "    vest = gpd.GeoDataFrame(vest, crs=\"EPSG:4269\")\n",
    "    election_in_block = population[[\"VAP\", 'geometry']] # population_df is in block scale\n",
    "    blocks_to_precincts_assignment = maup.assign(election_in_block.geometry, vest.geometry)\n",
    "    weights = election_in_block[\"VAP\"] / blocks_to_precincts_assignment.map(election_in_block[\"VAP\"].groupby(blocks_to_precincts_assignment).sum())\n",
    "    weights = weights.fillna(0)\n",
    "    prorated = maup.prorate(blocks_to_precincts_assignment, vest[col_name], weights)\n",
    "    election_in_block[col_name] = prorated\n",
    "    \n",
    "    # assign blocks to precincts\n",
    "    election_in_block = gpd.GeoDataFrame(election_in_block, crs=\"EPSG:4269\")\n",
    "    df = gpd.GeoDataFrame(df, crs=\"EPSG:4269\")\n",
    "    block_to_pricinct_assginment = maup.assign(election_in_block.geometry, df.geometry)\n",
    "    df[col_name] = election_in_block[col_name].groupby(block_to_pricinct_assginment).sum()\n",
    "    df = df.groupby(level=0, axis=1).sum()\n",
    "    \n",
    "    # check if population agrees\n",
    "    check_population(population, df)\n",
    "    \n",
    "    return df"
   ]
  },
  {
   "cell_type": "markdown",
   "id": "ab6ce8f5-f237-4d6c-8425-cd8a0b080f65",
   "metadata": {},
   "source": [
    "## Read the census data"
   ]
  },
  {
   "cell_type": "code",
   "execution_count": 18,
   "id": "185d2b84-d37f-4f24-86c1-1bcd0b4347e2",
   "metadata": {},
   "outputs": [],
   "source": [
    "population1_df = gpd.read_file(population1_data)\n",
    "population2_df = gpd.read_file(population2_data)\n",
    "vap_df = gpd.read_file(vap_data)"
   ]
  },
  {
   "cell_type": "code",
   "execution_count": 19,
   "id": "57b3b9bb-9721-469d-8eee-0dd5eb0e6015",
   "metadata": {},
   "outputs": [],
   "source": [
    "population2_df = population2_df.drop(columns=['SUMLEV', 'LOGRECNO', 'GEOID', 'COUNTY', 'geometry'])\n",
    "vap_df = vap_df.drop(columns=['SUMLEV', 'LOGRECNO', 'GEOID', 'COUNTY', 'geometry'])"
   ]
  },
  {
   "cell_type": "code",
   "execution_count": 20,
   "id": "daa935f7-bc02-4856-adb0-9cc9cf31ffca",
   "metadata": {},
   "outputs": [],
   "source": [
    "population_df = pd.merge(population1_df, population2_df, on='GEOID20')\n",
    "population_df = pd.merge(population_df, vap_df, on='GEOID20')"
   ]
  },
  {
   "cell_type": "code",
   "execution_count": 21,
   "id": "9550a841-5692-4d5f-a7f1-131d53eb9f12",
   "metadata": {},
   "outputs": [],
   "source": [
    "population_df['H_WHITE'] = population_df.apply(lambda t: t['P0010003'] - t['P0020005'], 1)\n",
    "population_df['H_BLACK'] = population_df.apply(lambda t: t['P0010004'] - t['P0020006'], 1)\n",
    "population_df['H_AMIN'] = population_df.apply(lambda t: t['P0010005'] - t['P0020007'], 1)\n",
    "population_df['H_ASIAN'] = population_df.apply(lambda t: t['P0010006'] - t['P0020008'], 1)\n",
    "population_df['H_NHPI'] = population_df.apply(lambda t: t['P0010007'] - t['P0020009'], 1)\n",
    "population_df['H_OTHER'] = population_df.apply(lambda t: t['P0010008'] - t['P0020010'], 1)\n",
    "population_df['H_2MORE'] = population_df.apply(lambda t: t['P0010009'] - t['P0020011'], 1)"
   ]
  },
  {
   "cell_type": "code",
   "execution_count": 22,
   "id": "0845f50e-9920-404a-8284-c47df7b0f6ce",
   "metadata": {},
   "outputs": [],
   "source": [
    "rename_dict = {'P0020001': 'TOTPOP', 'P0020002': 'HISP', 'P0020005': 'NH_WHITE', 'P0020006': 'NH_BLACK', 'P0020007': 'NH_AMIN',\n",
    "                    'P0020008': 'NH_ASIAN', 'P0020009': 'NH_NHPI', 'P0020010': 'NH_OTHER', 'P0020011': 'NH_2MORE',\n",
    "                    'P0040001': 'VAP', 'P0040002': 'HVAP', 'P0040005': 'WVAP', 'P0040006': 'BVAP', 'P0040007': 'AMINVAP',\n",
    "                                        'P0040008': 'ASIANVAP', 'P0040009': 'NHPIVAP', 'P0040010': 'OTHERVAP', 'P0040011': '2MOREVAP'}"
   ]
  },
  {
   "cell_type": "code",
   "execution_count": 23,
   "id": "4d4f9723-ad23-46ff-bbd0-8d4ab628b69b",
   "metadata": {},
   "outputs": [],
   "source": [
    "population_df.rename(columns=rename_dict, inplace = True)"
   ]
  },
  {
   "cell_type": "markdown",
   "id": "e1e89689-06e1-4937-9bee-b0442bfc33d5",
   "metadata": {},
   "source": [
    "### Read the vest 16 data\n",
    "Now using it as a \"base precinct\", but it could be vest 18 or vest 16 if vest 20 is not working"
   ]
  },
  {
   "cell_type": "code",
   "execution_count": 24,
   "id": "8962da99-1be7-471f-913d-da375fb01456",
   "metadata": {},
   "outputs": [],
   "source": [
    "def add_vest_base(vest, start_col, year):\n",
    "    original_col = vest.columns[start_col:-1]\n",
    "    new_col = [rename(i, year) for i in original_col]\n",
    "    rename_dict = dict(zip(original_col, new_col))\n",
    "    vest = vest.rename(columns=rename_dict)\n",
    "    vest = vest.groupby(level=0, axis=1).sum()\n",
    "    vest = gpd.GeoDataFrame(vest, crs=\"EPSG:4269\")\n",
    "    \n",
    "    return vest"
   ]
  },
  {
   "cell_type": "code",
   "execution_count": 25,
   "id": "397e9936-bfde-4b09-9dcb-207733dfb2dd",
   "metadata": {},
   "outputs": [],
   "source": [
    "vest16 = gpd.read_file(vest16_data)"
   ]
  },
  {
   "cell_type": "code",
   "execution_count": 26,
   "id": "97707854-4c84-452f-81b6-735358232a13",
   "metadata": {},
   "outputs": [
    {
     "name": "stderr",
     "output_type": "stream",
     "text": [
      "100%|████████████████████████████████████████| 2697/2697 [00:11<00:00, 238.07it/s]\n"
     ]
    },
    {
     "name": "stdout",
     "output_type": "stream",
     "text": [
      "There are 294 overlaps.\n",
      "There are 2029 holes.\n",
      "Snapping all geometries to a grid with precision 10^( -5 ) to avoid GEOS errors.\n",
      "Identifying overlaps...\n"
     ]
    },
    {
     "name": "stderr",
     "output_type": "stream",
     "text": [
      "100%|███████████████████████████████████████| 4665/4665 [00:03<00:00, 1503.66it/s]\n"
     ]
    },
    {
     "name": "stdout",
     "output_type": "stream",
     "text": [
      "Resolving overlaps...\n",
      "Assigning order 2 pieces...\n",
      "Assigning order 3 pieces...\n",
      "Filling gaps...\n"
     ]
    },
    {
     "name": "stderr",
     "output_type": "stream",
     "text": [
      "Gaps to simplify: 100%|█████████████████████████| 762/762 [04:05<00:00,  3.10it/s]\n",
      "Gaps to fill: 100%|█████████████████████████████| 129/129 [00:50<00:00,  2.56it/s]\n",
      "100%|████████████████████████████████████████| 2697/2697 [00:10<00:00, 247.92it/s]\n"
     ]
    }
   ],
   "source": [
    "if maup.doctor(vest16) != True:\n",
    "    vest16 = do_smart_repair(vest16)"
   ]
  },
  {
   "cell_type": "code",
   "execution_count": 32,
   "id": "98677782-51f2-45af-b025-74cf4f53c93e",
   "metadata": {},
   "outputs": [
    {
     "name": "stderr",
     "output_type": "stream",
     "text": [
      "100%|████████████████████████████████████████| 2697/2697 [00:12<00:00, 223.77it/s]\n"
     ]
    },
    {
     "name": "stdout",
     "output_type": "stream",
     "text": [
      "There are some invalid geometries.\n"
     ]
    },
    {
     "data": {
      "text/plain": [
       "False"
      ]
     },
     "execution_count": 32,
     "metadata": {},
     "output_type": "execute_result"
    }
   ],
   "source": [
    "maup.doctor(vest16)"
   ]
  },
  {
   "cell_type": "code",
   "execution_count": 41,
   "id": "836fc7a0-0a44-4d35-a273-e114f2ff843a",
   "metadata": {},
   "outputs": [],
   "source": [
    "# I tried to run maup.assign and failed -> TopologyException: Input geom 1 is invalid: Self-intersection at or near point"
   ]
  },
  {
   "cell_type": "code",
   "execution_count": 33,
   "id": "b298729f-dc37-4e44-814b-276c5641a907",
   "metadata": {},
   "outputs": [
    {
     "name": "stdout",
     "output_type": "stream",
     "text": [
      "Snapping all geometries to a grid with precision 10^( -5 ) to avoid GEOS errors.\n",
      "Identifying overlaps...\n"
     ]
    },
    {
     "name": "stderr",
     "output_type": "stream",
     "text": [
      "100%|███████████████████████████████████████| 3119/3119 [00:02<00:00, 1318.78it/s]\n"
     ]
    },
    {
     "name": "stdout",
     "output_type": "stream",
     "text": [
      "Resolving overlaps...\n",
      "Assigning order 2 pieces...\n",
      "Assigning order 3 pieces...\n",
      "Filling gaps...\n"
     ]
    },
    {
     "name": "stderr",
     "output_type": "stream",
     "text": [
      "Gaps to simplify: 0it [00:00, ?it/s]\n",
      "Gaps to fill: 0it [00:00, ?it/s]\n",
      "100%|████████████████████████████████████████| 2697/2697 [00:10<00:00, 248.45it/s]\n"
     ]
    }
   ],
   "source": [
    "vest16 = do_smart_repair(vest16)"
   ]
  },
  {
   "cell_type": "code",
   "execution_count": 34,
   "id": "3838c304-168e-46ac-930b-ba0571f011cd",
   "metadata": {},
   "outputs": [
    {
     "name": "stderr",
     "output_type": "stream",
     "text": [
      "100%|████████████████████████████████████████| 2697/2697 [00:10<00:00, 248.52it/s]\n"
     ]
    },
    {
     "data": {
      "text/plain": [
       "True"
      ]
     },
     "execution_count": 34,
     "metadata": {},
     "output_type": "execute_result"
    }
   ],
   "source": [
    "maup.doctor(vest16)"
   ]
  },
  {
   "cell_type": "code",
   "execution_count": 27,
   "id": "15654f39-7bb1-4a2f-90d8-9a2c1c3fb627",
   "metadata": {},
   "outputs": [
    {
     "data": {
      "text/plain": [
       "Index(['DISTRICT', 'CTYSOSID', 'PRECINCT_I', 'PRECINCT_N', 'CTYNAME',\n",
       "       'CTYNUMBER', 'CTYNUMBER2', 'FIPS2', 'G16PRERTRU', 'G16PREDCLI',\n",
       "       'G16PRELJOH', 'G16USSRISA', 'G16USSDBAR', 'G16USSLBUC', 'G16PSCRECH',\n",
       "       'G16PSCLHOS', 'geometry'],\n",
       "      dtype='object')"
      ]
     },
     "execution_count": 27,
     "metadata": {},
     "output_type": "execute_result"
    }
   ],
   "source": [
    "vest16.columns"
   ]
  },
  {
   "cell_type": "code",
   "execution_count": 35,
   "id": "ef924b84-f069-41f2-b4fb-fa437362dfe4",
   "metadata": {},
   "outputs": [],
   "source": [
    "start_col = 8 # this should be the same for all vest data in that state\n",
    "year = '16'\n",
    "vest_base_data = vest16"
   ]
  },
  {
   "cell_type": "code",
   "execution_count": 36,
   "id": "714fa56e-c133-4c7a-8618-2996b0f12a05",
   "metadata": {},
   "outputs": [],
   "source": [
    "vest_base = add_vest_base(vest_base_data, start_col, year)"
   ]
  },
  {
   "cell_type": "code",
   "execution_count": 37,
   "id": "10e48467-d392-4312-b15f-bf18106f354c",
   "metadata": {},
   "outputs": [
    {
     "name": "stderr",
     "output_type": "stream",
     "text": [
      "100%|████████████████████████████████████████| 2697/2697 [00:09<00:00, 275.15it/s]\n",
      "100%|█████████████████████████████████████████| 2697/2697 [01:43<00:00, 26.03it/s]\n"
     ]
    }
   ],
   "source": [
    "# vap and population have the same GEOID20\n",
    "blocks_to_precincts_assignment = maup.assign(population_df.geometry, vest_base.geometry)"
   ]
  },
  {
   "cell_type": "code",
   "execution_count": 38,
   "id": "ac015a92-391c-48c4-b26a-5c511b58e3ab",
   "metadata": {},
   "outputs": [],
   "source": [
    "pop_col = ['TOTPOP', 'HISP', 'NH_WHITE', 'NH_BLACK', 'NH_AMIN', 'NH_ASIAN', 'NH_NHPI', 'NH_OTHER', 'NH_2MORE', \n",
    "                    'H_WHITE', 'H_BLACK', 'H_AMIN', 'H_ASIAN', 'H_NHPI', 'H_OTHER', 'H_2MORE', \n",
    "           'VAP', 'HVAP', 'WVAP', 'BVAP', 'AMINVAP', 'ASIANVAP', 'NHPIVAP', 'OTHERVAP', '2MOREVAP']"
   ]
  },
  {
   "cell_type": "code",
   "execution_count": 39,
   "id": "f91b6866-727d-40c9-9d43-4a0e6ae8c0e2",
   "metadata": {},
   "outputs": [],
   "source": [
    "vest_base[pop_col] = population_df[pop_col].groupby(blocks_to_precincts_assignment).sum()"
   ]
  },
  {
   "cell_type": "code",
   "execution_count": 40,
   "id": "ead5880d-f5f1-44f0-8024-ff4789ff2f15",
   "metadata": {},
   "outputs": [],
   "source": [
    "election_df = gpd.GeoDataFrame(vest_base, crs=\"EPSG:4269\")"
   ]
  },
  {
   "cell_type": "markdown",
   "id": "c0169a1a-c5f2-410b-b2eb-ea6eeeb56905",
   "metadata": {},
   "source": [
    "## Check if population agrees"
   ]
  },
  {
   "cell_type": "code",
   "execution_count": 42,
   "id": "4ed46dc3-faee-4b1a-adf5-d1be27acb556",
   "metadata": {},
   "outputs": [
    {
     "name": "stdout",
     "output_type": "stream",
     "text": [
      "population agrees\n"
     ]
    }
   ],
   "source": [
    "check_population(population_df, vest_base)"
   ]
  },
  {
   "cell_type": "code",
   "execution_count": 43,
   "id": "a404637a-46a1-41f4-bd81-6842a9a7274c",
   "metadata": {},
   "outputs": [],
   "source": [
    "vest18 = gpd.read_file(vest18_data)"
   ]
  },
  {
   "cell_type": "code",
   "execution_count": 44,
   "id": "e2bbee7d-b3dd-4986-b580-0cc3d730f3ef",
   "metadata": {},
   "outputs": [
    {
     "data": {
      "text/plain": [
       "Index(['DISTRICT', 'CTYSOSID', 'PRECINCT_I', 'PRECINCT_N', 'CTYNAME',\n",
       "       'CTYNUMBER', 'CTYNUMBER2', 'FIPS2', 'G18GOVRKEM', 'G18GOVDABR',\n",
       "       'G18GOVLMET', 'G18LTGRDUN', 'G18LTGDAMI', 'G18SOSRRAF', 'G18SOSDBAR',\n",
       "       'G18SOSLDUV', 'G18ATGRCAR', 'G18ATGDBAI', 'G18AGRRBLA', 'G18AGRDSWA',\n",
       "       'G18INSRBEC', 'G18INSDLAW', 'G18INSLFOS', 'G18SPIRWOO', 'G18SPIDTHO',\n",
       "       'G18LABRBUT', 'G18LABDKEA', 'G18PSCREAT', 'G18PSCDMIL', 'G18PSCLGRA',\n",
       "       'G18PSCRPRI', 'G18PSCDRAN', 'G18PSCLTUR', 'R18SOSRRAF', 'R18SOSDBAR',\n",
       "       'R18PSCREAT', 'R18PSCDMIL', 'geometry'],\n",
       "      dtype='object')"
      ]
     },
     "execution_count": 44,
     "metadata": {},
     "output_type": "execute_result"
    }
   ],
   "source": [
    "vest18.columns"
   ]
  },
  {
   "cell_type": "code",
   "execution_count": 54,
   "id": "2825edf8-2fc0-4273-9e19-afcf3e837013",
   "metadata": {},
   "outputs": [],
   "source": [
    "# election_df = add_vest(vest18, election_df, '18', population_df, start_col)\n",
    "# First time running add_vest and failed on maup.assign (not smart repair, so here I ran the smart repair once)"
   ]
  },
  {
   "cell_type": "code",
   "execution_count": 47,
   "id": "9590a512-ab74-48fc-9c1f-cbd51ffa6307",
   "metadata": {},
   "outputs": [
    {
     "name": "stderr",
     "output_type": "stream",
     "text": [
      "100%|████████████████████████████████████████| 2658/2658 [00:10<00:00, 242.11it/s]\n"
     ]
    },
    {
     "name": "stdout",
     "output_type": "stream",
     "text": [
      "There are 306 overlaps.\n",
      "There are 1001 holes.\n"
     ]
    },
    {
     "data": {
      "text/plain": [
       "False"
      ]
     },
     "execution_count": 47,
     "metadata": {},
     "output_type": "execute_result"
    }
   ],
   "source": [
    "maup.doctor(vest18)"
   ]
  },
  {
   "cell_type": "code",
   "execution_count": 48,
   "id": "18d0ea7e-c49d-434f-ab64-7716e2cc1d8c",
   "metadata": {},
   "outputs": [
    {
     "name": "stdout",
     "output_type": "stream",
     "text": [
      "Snapping all geometries to a grid with precision 10^( -5 ) to avoid GEOS errors.\n",
      "Identifying overlaps...\n"
     ]
    },
    {
     "name": "stderr",
     "output_type": "stream",
     "text": [
      "100%|███████████████████████████████████████| 4653/4653 [00:02<00:00, 1579.42it/s]\n"
     ]
    },
    {
     "name": "stdout",
     "output_type": "stream",
     "text": [
      "Resolving overlaps...\n",
      "Assigning order 2 pieces...\n",
      "Assigning order 3 pieces...\n",
      "Filling gaps...\n"
     ]
    },
    {
     "name": "stderr",
     "output_type": "stream",
     "text": [
      "Gaps to simplify: 100%|█████████████████████████| 762/762 [04:00<00:00,  3.17it/s]\n",
      "Gaps to fill: 100%|█████████████████████████████| 147/147 [00:57<00:00,  2.55it/s]\n",
      "100%|████████████████████████████████████████| 2658/2658 [00:10<00:00, 251.02it/s]\n"
     ]
    }
   ],
   "source": [
    "vest18 = do_smart_repair(vest18) # second time running smart_repair"
   ]
  },
  {
   "cell_type": "code",
   "execution_count": 49,
   "id": "0fa91fc5-419a-48bb-9607-aeea67f2852b",
   "metadata": {},
   "outputs": [
    {
     "name": "stderr",
     "output_type": "stream",
     "text": [
      "100%|████████████████████████████████████████| 2658/2658 [00:10<00:00, 253.89it/s]\n"
     ]
    },
    {
     "name": "stdout",
     "output_type": "stream",
     "text": [
      "There are some invalid geometries.\n"
     ]
    },
    {
     "data": {
      "text/plain": [
       "False"
      ]
     },
     "execution_count": 49,
     "metadata": {},
     "output_type": "execute_result"
    }
   ],
   "source": [
    "maup.doctor(vest18)"
   ]
  },
  {
   "cell_type": "code",
   "execution_count": 50,
   "id": "0ccbf4b7-37bb-40dd-b28d-36a845206d46",
   "metadata": {},
   "outputs": [
    {
     "name": "stdout",
     "output_type": "stream",
     "text": [
      "Snapping all geometries to a grid with precision 10^( -5 ) to avoid GEOS errors.\n",
      "Identifying overlaps...\n"
     ]
    },
    {
     "name": "stderr",
     "output_type": "stream",
     "text": [
      "100%|███████████████████████████████████████| 3089/3089 [00:02<00:00, 1298.01it/s]\n"
     ]
    },
    {
     "name": "stdout",
     "output_type": "stream",
     "text": [
      "Resolving overlaps...\n",
      "Assigning order 2 pieces...\n",
      "Assigning order 3 pieces...\n",
      "Filling gaps...\n"
     ]
    },
    {
     "name": "stderr",
     "output_type": "stream",
     "text": [
      "Gaps to simplify: 0it [00:00, ?it/s]\n",
      "Gaps to fill: 0it [00:00, ?it/s]\n"
     ]
    },
    {
     "name": "stdout",
     "output_type": "stream",
     "text": [
      "WARNING: A component of the geometry at index 2592 may have been disconnected!\n"
     ]
    },
    {
     "name": "stderr",
     "output_type": "stream",
     "text": [
      "100%|████████████████████████████████████████| 2658/2658 [00:10<00:00, 251.47it/s]\n"
     ]
    }
   ],
   "source": [
    "vest18 = do_smart_repair(vest18) # third time running smart_repair"
   ]
  },
  {
   "cell_type": "code",
   "execution_count": 51,
   "id": "26960b0b-7711-4669-a896-20db8f273150",
   "metadata": {},
   "outputs": [
    {
     "name": "stderr",
     "output_type": "stream",
     "text": [
      "100%|████████████████████████████████████████| 2658/2658 [00:10<00:00, 252.10it/s]\n"
     ]
    },
    {
     "data": {
      "text/plain": [
       "True"
      ]
     },
     "execution_count": 51,
     "metadata": {},
     "output_type": "execute_result"
    }
   ],
   "source": [
    "maup.doctor(vest18)"
   ]
  },
  {
   "cell_type": "code",
   "execution_count": 52,
   "id": "5528f64a-1b5c-4b9f-b7cf-aefa45d4d25f",
   "metadata": {},
   "outputs": [
    {
     "name": "stderr",
     "output_type": "stream",
     "text": [
      "100%|████████████████████████████████████████| 2658/2658 [00:10<00:00, 247.81it/s]\n",
      "100%|████████████████████████████████████████| 2658/2658 [00:10<00:00, 258.39it/s]\n",
      "100%|█████████████████████████████████████████| 2658/2658 [01:41<00:00, 26.29it/s]\n",
      "100%|████████████████████████████████████████| 2697/2697 [00:09<00:00, 274.45it/s]\n",
      "100%|█████████████████████████████████████████| 2697/2697 [01:43<00:00, 26.14it/s]\n"
     ]
    },
    {
     "name": "stdout",
     "output_type": "stream",
     "text": [
      "population agrees\n"
     ]
    }
   ],
   "source": [
    "election_df = add_vest(vest18, election_df, '18', population_df, start_col)"
   ]
  },
  {
   "cell_type": "code",
   "execution_count": 33,
   "id": "bc16d157-4064-4a01-b166-04c51a478281",
   "metadata": {},
   "outputs": [],
   "source": [
    "vest20 = gpd.read_file(vest20_data)"
   ]
  },
  {
   "cell_type": "code",
   "execution_count": 34,
   "id": "726c47f1-77da-4f5c-8a6a-203daed369a6",
   "metadata": {},
   "outputs": [
    {
     "data": {
      "text/plain": [
       "Index(['DISTRICT', 'CTYSOSID', 'PRECINCT_I', 'PRECINCT_N', 'CTYNAME',\n",
       "       'CTYNUMBER', 'CTYNUMBER2', 'FIPS2', 'G20PRERTRU', 'G20PREDBID',\n",
       "       'G20PRELJOR', 'C20PRERTRU', 'C20PREDBID', 'C20PRELJOR', 'G20USSRPER',\n",
       "       'G20USSDOSS', 'G20USSLHAZ', 'S20USSRLOE', 'S20USSRCOL', 'S20USSRGRA',\n",
       "       'S20USSRJAC', 'S20USSRTAY', 'S20USSRJOH', 'S20USSDWAR', 'S20USSDJAC',\n",
       "       'S20USSDLIE', 'S20USSDJOH', 'S20USSDJAM', 'S20USSDSLA', 'S20USSDWIN',\n",
       "       'S20USSDTAR', 'S20USSLSLO', 'S20USSGFOR', 'S20USSIBUC', 'S20USSIBAR',\n",
       "       'S20USSISTO', 'S20USSIGRE', 'G20PSCRSHA', 'G20PSCDBRY', 'G20PSCLMEL',\n",
       "       'G20PSCRMCD', 'G20PSCDBLA', 'G20PSCLWIL', 'R21USSRPER', 'R21USSDOSS',\n",
       "       'R21USSRLOE', 'R21USSDWAR', 'R21PSCRMCD', 'R21PSCDBLA', 'geometry'],\n",
       "      dtype='object')"
      ]
     },
     "execution_count": 34,
     "metadata": {},
     "output_type": "execute_result"
    }
   ],
   "source": [
    "vest20.columns"
   ]
  },
  {
   "cell_type": "markdown",
   "id": "deafa2a1-123d-48bc-baf2-33e2e43d99aa",
   "metadata": {},
   "source": [
    "## The Vest20 data\n",
    "Vest20 data does not load, due to topology error.  So it's not in the final json"
   ]
  },
  {
   "cell_type": "code",
   "execution_count": 35,
   "id": "4d7476dd-c003-4fa5-ab9b-8ed6f75bed39",
   "metadata": {
    "collapsed": true,
    "jupyter": {
     "outputs_hidden": true
    },
    "tags": []
   },
   "outputs": [
    {
     "ename": "GEOSException",
     "evalue": "TopologyException: side location conflict at -84.281015999999994 33.772047000000001. This can occur if the input geometry is invalid.",
     "output_type": "error",
     "traceback": [
      "\u001b[0;31m---------------------------------------------------------------------------\u001b[0m",
      "\u001b[0;31mGEOSException\u001b[0m                             Traceback (most recent call last)",
      "Cell \u001b[0;32mIn[35], line 1\u001b[0m\n\u001b[0;32m----> 1\u001b[0m election_df \u001b[38;5;241m=\u001b[39m \u001b[43madd_vest\u001b[49m\u001b[43m(\u001b[49m\u001b[43mvest20\u001b[49m\u001b[43m,\u001b[49m\u001b[43m \u001b[49m\u001b[43melection_df\u001b[49m\u001b[43m,\u001b[49m\u001b[43m \u001b[49m\u001b[38;5;124;43m'\u001b[39;49m\u001b[38;5;124;43m20\u001b[39;49m\u001b[38;5;124;43m'\u001b[39;49m\u001b[43m,\u001b[49m\u001b[43m \u001b[49m\u001b[43mpopulation_df\u001b[49m\u001b[43m,\u001b[49m\u001b[43m \u001b[49m\u001b[43mstart_col\u001b[49m\u001b[43m)\u001b[49m\n",
      "Cell \u001b[0;32mIn[9], line 3\u001b[0m, in \u001b[0;36madd_vest\u001b[0;34m(vest, df, year, population, start_col)\u001b[0m\n\u001b[1;32m      1\u001b[0m \u001b[38;5;28;01mdef\u001b[39;00m \u001b[38;5;21madd_vest\u001b[39m(vest, df, year, population, start_col):    \n\u001b[1;32m      2\u001b[0m      \u001b[38;5;66;03m# check if it needs to be smart_repair\u001b[39;00m\n\u001b[0;32m----> 3\u001b[0m     \u001b[38;5;28;01mif\u001b[39;00m \u001b[43mmaup\u001b[49m\u001b[38;5;241;43m.\u001b[39;49m\u001b[43mdoctor\u001b[49m\u001b[43m(\u001b[49m\u001b[43mvest\u001b[49m\u001b[43m)\u001b[49m \u001b[38;5;241m!=\u001b[39m \u001b[38;5;28;01mTrue\u001b[39;00m:\n\u001b[1;32m      4\u001b[0m         vest \u001b[38;5;241m=\u001b[39m do_smart_repair(vest)\n\u001b[1;32m      6\u001b[0m     \u001b[38;5;66;03m# rename the columns\u001b[39;00m\n",
      "File \u001b[0;32m~/anaconda3/envs/gerry/lib/python3.11/site-packages/maup/repair.py:284\u001b[0m, in \u001b[0;36mdoctor\u001b[0;34m(source, target, silent, accept_holes)\u001b[0m\n\u001b[1;32m    271\u001b[0m \u001b[38;5;250m\u001b[39m\u001b[38;5;124;03m\"\"\"\u001b[39;00m\n\u001b[1;32m    272\u001b[0m \u001b[38;5;124;03mDetects quality issues in a given set of source and target geometries. Quality\u001b[39;00m\n\u001b[1;32m    273\u001b[0m \u001b[38;5;124;03missues include overlaps, gaps, invalid geometries, non-perfect\u001b[39;00m\n\u001b[0;32m   (...)\u001b[0m\n\u001b[1;32m    281\u001b[0m \u001b[38;5;124;03mFalse. (Default is accept_holes = False.)\u001b[39;00m\n\u001b[1;32m    282\u001b[0m \u001b[38;5;124;03m\"\"\"\u001b[39;00m\n\u001b[1;32m    283\u001b[0m shapefiles \u001b[38;5;241m=\u001b[39m [source]\n\u001b[0;32m--> 284\u001b[0m source_union \u001b[38;5;241m=\u001b[39m \u001b[43munary_union\u001b[49m\u001b[43m(\u001b[49m\u001b[43mget_geometries\u001b[49m\u001b[43m(\u001b[49m\u001b[43msource\u001b[49m\u001b[43m)\u001b[49m\u001b[43m)\u001b[49m\n\u001b[1;32m    286\u001b[0m health_check \u001b[38;5;241m=\u001b[39m \u001b[38;5;28;01mTrue\u001b[39;00m\n\u001b[1;32m    288\u001b[0m \u001b[38;5;28;01mif\u001b[39;00m target \u001b[38;5;129;01mis\u001b[39;00m \u001b[38;5;129;01mnot\u001b[39;00m \u001b[38;5;28;01mNone\u001b[39;00m:\n",
      "File \u001b[0;32m~/anaconda3/envs/gerry/lib/python3.11/site-packages/shapely/ops.py:135\u001b[0m, in \u001b[0;36mCollectionOperator.unary_union\u001b[0;34m(self, geoms)\u001b[0m\n\u001b[1;32m    129\u001b[0m \u001b[38;5;28;01mdef\u001b[39;00m \u001b[38;5;21munary_union\u001b[39m(\u001b[38;5;28mself\u001b[39m, geoms):\n\u001b[1;32m    130\u001b[0m \u001b[38;5;250m    \u001b[39m\u001b[38;5;124;03m\"\"\"Returns the union of a sequence of geometries\u001b[39;00m\n\u001b[1;32m    131\u001b[0m \n\u001b[1;32m    132\u001b[0m \u001b[38;5;124;03m    Usually used to convert a collection into the smallest set of polygons\u001b[39;00m\n\u001b[1;32m    133\u001b[0m \u001b[38;5;124;03m    that cover the same area.\u001b[39;00m\n\u001b[1;32m    134\u001b[0m \u001b[38;5;124;03m    \"\"\"\u001b[39;00m\n\u001b[0;32m--> 135\u001b[0m     \u001b[38;5;28;01mreturn\u001b[39;00m \u001b[43mshapely\u001b[49m\u001b[38;5;241;43m.\u001b[39;49m\u001b[43munion_all\u001b[49m\u001b[43m(\u001b[49m\u001b[43mgeoms\u001b[49m\u001b[43m,\u001b[49m\u001b[43m \u001b[49m\u001b[43maxis\u001b[49m\u001b[38;5;241;43m=\u001b[39;49m\u001b[38;5;28;43;01mNone\u001b[39;49;00m\u001b[43m)\u001b[49m\n",
      "File \u001b[0;32m~/anaconda3/envs/gerry/lib/python3.11/site-packages/shapely/decorators.py:77\u001b[0m, in \u001b[0;36mmultithreading_enabled.<locals>.wrapped\u001b[0;34m(*args, **kwargs)\u001b[0m\n\u001b[1;32m     75\u001b[0m     \u001b[38;5;28;01mfor\u001b[39;00m arr \u001b[38;5;129;01min\u001b[39;00m array_args:\n\u001b[1;32m     76\u001b[0m         arr\u001b[38;5;241m.\u001b[39mflags\u001b[38;5;241m.\u001b[39mwriteable \u001b[38;5;241m=\u001b[39m \u001b[38;5;28;01mFalse\u001b[39;00m\n\u001b[0;32m---> 77\u001b[0m     \u001b[38;5;28;01mreturn\u001b[39;00m \u001b[43mfunc\u001b[49m\u001b[43m(\u001b[49m\u001b[38;5;241;43m*\u001b[39;49m\u001b[43margs\u001b[49m\u001b[43m,\u001b[49m\u001b[43m \u001b[49m\u001b[38;5;241;43m*\u001b[39;49m\u001b[38;5;241;43m*\u001b[39;49m\u001b[43mkwargs\u001b[49m\u001b[43m)\u001b[49m\n\u001b[1;32m     78\u001b[0m \u001b[38;5;28;01mfinally\u001b[39;00m:\n\u001b[1;32m     79\u001b[0m     \u001b[38;5;28;01mfor\u001b[39;00m arr, old_flag \u001b[38;5;129;01min\u001b[39;00m \u001b[38;5;28mzip\u001b[39m(array_args, old_flags):\n",
      "File \u001b[0;32m~/anaconda3/envs/gerry/lib/python3.11/site-packages/shapely/set_operations.py:419\u001b[0m, in \u001b[0;36munion_all\u001b[0;34m(geometries, grid_size, axis, **kwargs)\u001b[0m\n\u001b[1;32m    415\u001b[0m         \u001b[38;5;28;01mraise\u001b[39;00m \u001b[38;5;167;01mValueError\u001b[39;00m(\u001b[38;5;124m\"\u001b[39m\u001b[38;5;124mgrid_size parameter only accepts scalar values\u001b[39m\u001b[38;5;124m\"\u001b[39m)\n\u001b[1;32m    417\u001b[0m     \u001b[38;5;28;01mreturn\u001b[39;00m lib\u001b[38;5;241m.\u001b[39munary_union_prec(collections, grid_size, \u001b[38;5;241m*\u001b[39m\u001b[38;5;241m*\u001b[39mkwargs)\n\u001b[0;32m--> 419\u001b[0m \u001b[38;5;28;01mreturn\u001b[39;00m \u001b[43mlib\u001b[49m\u001b[38;5;241;43m.\u001b[39;49m\u001b[43munary_union\u001b[49m\u001b[43m(\u001b[49m\u001b[43mcollections\u001b[49m\u001b[43m,\u001b[49m\u001b[43m \u001b[49m\u001b[38;5;241;43m*\u001b[39;49m\u001b[38;5;241;43m*\u001b[39;49m\u001b[43mkwargs\u001b[49m\u001b[43m)\u001b[49m\n",
      "\u001b[0;31mGEOSException\u001b[0m: TopologyException: side location conflict at -84.281015999999994 33.772047000000001. This can occur if the input geometry is invalid."
     ]
    }
   ],
   "source": [
    "election_df = add_vest(vest20, election_df, '20', population_df, start_col)"
   ]
  },
  {
   "cell_type": "markdown",
   "id": "10cf83d4-6005-485b-8193-c0149869a97e",
   "metadata": {},
   "source": [
    "## Add the district data"
   ]
  },
  {
   "cell_type": "code",
   "execution_count": 61,
   "id": "a0ccb606-7fe4-4b0a-998b-337d31f4abc5",
   "metadata": {},
   "outputs": [],
   "source": [
    "cong_df = gpd.read_file(cd_data)\n",
    "send = gpd.read_file(send_data)\n",
    "hdist = gpd.read_file(hdist_data)"
   ]
  },
  {
   "cell_type": "code",
   "execution_count": 62,
   "id": "0e18b716-debd-411e-a2a6-dc588e9152aa",
   "metadata": {},
   "outputs": [
    {
     "name": "stdout",
     "output_type": "stream",
     "text": [
      "Index(['ID', 'AREA', 'DATA', 'DISTRICT', 'MEMBERS', 'LOCKED', 'NAME',\n",
      "       'POPULATION', 'F18_POP', 'NH_WHT', 'NH_BLK', 'HISPANIC_O', 'NH_ASN',\n",
      "       'NH_IND', 'NH_HWN', 'NH_OTH', 'NH_2_RACES', 'NH18_WHT', 'NH18_BLK',\n",
      "       'H18_POP', 'NH18_ASN', 'NH18_IND', 'NH18_HWN', 'NH18_OTH', 'NH18_2_RAC',\n",
      "       'AP_WHT', 'AP_BLK', 'AP_IND', 'AP_ASN', 'AP_HWN', 'AP_OTH',\n",
      "       'F18_AP_WHT', 'F18_AP_BLK', 'F18_AP_IND', 'F18_AP_ASN', 'F18_AP_HWN',\n",
      "       'F18_AP_OTH', 'PEOPLE_IN_', 'COLORING', 'DEVIATION', 'F_DEVIATIO',\n",
      "       'F_NH_WHT', 'F_AP_BLK', 'F_HISPANIC', 'F_NH18_WHT', 'F_18_AP_BL',\n",
      "       'F_H18_POP', 'F_18_POP', 'F_NH_BLK', 'F_NH_ASN', 'F_NH_IND', 'F_NH_HWN',\n",
      "       'F_NH_2_RAC', 'F_NH18_BLK', 'F_NH18_ASN', 'F_NH18_IND', 'F_NH18_HWN',\n",
      "       'F_NH18_2_R', 'F_NH_OTH', 'F_NH18_OTH', 'F_AP_WHT', 'F_AP_IND',\n",
      "       'F_AP_ASN', 'F_AP_HWN', 'F_AP_OTH', 'F_18_AP_WH', 'F_18_AP_IN',\n",
      "       'F_18_AP_AS', 'F_18_AP_HW', 'F_18_AP_OT', 'F_PEOPLE_I', 'IDEAL_VALU',\n",
      "       'geometry'],\n",
      "      dtype='object')\n",
      "Index(['ID', 'AREA', 'DATA', 'DISTRICT', 'MEMBERS', 'LOCKED', 'NAME',\n",
      "       'POPULATION', 'F18_POP', 'NH_WHT', 'NH_BLK', 'HISPANIC_O', 'NH_ASN',\n",
      "       'NH_IND', 'NH_HWN', 'NH_OTH', 'NH_2_RACES', 'NH18_WHT', 'NH18_BLK',\n",
      "       'H18_POP', 'NH18_ASN', 'NH18_IND', 'NH18_HWN', 'NH18_OTH', 'NH18_2_RAC',\n",
      "       'AP_WHT', 'AP_BLK', 'AP_IND', 'AP_ASN', 'AP_HWN', 'AP_OTH',\n",
      "       'F18_AP_WHT', 'F18_AP_BLK', 'F18_AP_IND', 'F18_AP_ASN', 'F18_AP_HWN',\n",
      "       'F18_AP_OTH', 'PEOPLE_IN_', 'DEVIATION', 'F_DEVIATIO', 'F_NH_WHT',\n",
      "       'F_AP_BLK', 'F_HISPANIC', 'F_NH18_WHT', 'F_18_AP_BL', 'F_H18_POP',\n",
      "       'DISTRICT_N', 'F_18_POP', 'F_NH_BLK', 'F_NH_ASN', 'F_NH_IND',\n",
      "       'F_NH_HWN', 'F_NH_2_RAC', 'F_NH18_BLK', 'F_NH18_ASN', 'F_NH18_IND',\n",
      "       'F_NH18_HWN', 'F_NH18_2_R', 'F_NH_OTH', 'F_NH18_OTH', 'F_AP_WHT',\n",
      "       'F_AP_IND', 'F_AP_ASN', 'F_AP_HWN', 'F_AP_OTH', 'F_18_AP_WH',\n",
      "       'F_18_AP_IN', 'F_18_AP_AS', 'F_18_AP_HW', 'F_18_AP_OT', 'F_PEOPLE_I',\n",
      "       'IDEAL_VALU', 'geometry'],\n",
      "      dtype='object')\n",
      "Index(['ID', 'AREA', 'DATA', 'DISTRICT', 'MEMBERS', 'LOCKED', 'NAME',\n",
      "       'POPULATION', 'F18_POP', 'NH_WHT', 'NH_BLK', 'HISPANIC_O', 'NH_ASN',\n",
      "       'NH_IND', 'NH_HWN', 'NH_OTH', 'NH_2_RACES', 'NH18_WHT', 'NH18_BLK',\n",
      "       'H18_POP', 'NH18_ASN', 'NH18_IND', 'NH18_HWN', 'NH18_OTH', 'NH18_2_RAC',\n",
      "       'AP_WHT', 'AP_BLK', 'AP_IND', 'AP_ASN', 'AP_HWN', 'AP_OTH',\n",
      "       'F18_AP_WHT', 'F18_AP_BLK', 'F18_AP_IND', 'F18_AP_ASN', 'F18_AP_HWN',\n",
      "       'F18_AP_OTH', 'PEOPLE_IN_', 'DEVIATION', 'F_DEVIATIO', 'F_NH_WHT',\n",
      "       'F_AP_BLK', 'F_HISPANIC', 'F_NH18_WHT', 'F_18_AP_BL', 'F_H18_POP',\n",
      "       'DISTRICT_N', 'ALTERNATE_', 'POLSBY_POP', 'F_18_POP', 'F_NH_BLK',\n",
      "       'F_NH_ASN', 'F_NH_IND', 'F_NH_HWN', 'F_NH_2_RAC', 'F_NH18_BLK',\n",
      "       'F_NH18_ASN', 'F_NH18_IND', 'F_NH18_HWN', 'F_NH18_2_R', 'F_NH_OTH',\n",
      "       'F_NH18_OTH', 'F_AP_WHT', 'F_AP_IND', 'F_AP_ASN', 'F_AP_HWN',\n",
      "       'F_AP_OTH', 'F_18_AP_WH', 'F_18_AP_IN', 'F_18_AP_AS', 'F_18_AP_HW',\n",
      "       'F_18_AP_OT', 'F_PEOPLE_I', 'IDEAL_VALU', 'geometry'],\n",
      "      dtype='object')\n"
     ]
    }
   ],
   "source": [
    "print(cong_df.columns)\n",
    "print(send.columns)\n",
    "print(hdist.columns)"
   ]
  },
  {
   "cell_type": "code",
   "execution_count": 63,
   "id": "2b8fbf45-f392-4996-9dc6-e9ee67d0e715",
   "metadata": {
    "tags": []
   },
   "outputs": [
    {
     "name": "stderr",
     "output_type": "stream",
     "text": [
      "100%|█████████████████████████████████████████████| 14/14 [00:00<00:00, 26.03it/s]\n",
      "100%|█████████████████████████████████████████████| 14/14 [00:00<00:00, 45.98it/s]\n",
      "100%|█████████████████████████████████████████████| 14/14 [00:09<00:00,  1.55it/s]\n"
     ]
    }
   ],
   "source": [
    "election_df = add_district(cong_df, \"CD\", election_df, \"DISTRICT\")"
   ]
  },
  {
   "cell_type": "code",
   "execution_count": 64,
   "id": "a9fe98af-f37e-4200-835e-f96695f68e41",
   "metadata": {
    "tags": []
   },
   "outputs": [
    {
     "name": "stderr",
     "output_type": "stream",
     "text": [
      "100%|█████████████████████████████████████████████| 56/56 [00:01<00:00, 49.69it/s]\n",
      "100%|████████████████████████████████████████████| 56/56 [00:00<00:00, 143.92it/s]\n",
      "100%|█████████████████████████████████████████████| 56/56 [00:11<00:00,  4.71it/s]\n"
     ]
    }
   ],
   "source": [
    "election_df = add_district(send, \"SEND\", election_df, \"DISTRICT\")"
   ]
  },
  {
   "cell_type": "code",
   "execution_count": 65,
   "id": "da4c6235-1028-43d0-adde-affe669c3f20",
   "metadata": {
    "tags": []
   },
   "outputs": [
    {
     "name": "stderr",
     "output_type": "stream",
     "text": [
      "100%|███████████████████████████████████████████| 180/180 [00:02<00:00, 72.92it/s]\n",
      "100%|██████████████████████████████████████████| 180/180 [00:00<00:00, 382.23it/s]\n",
      "100%|███████████████████████████████████████████| 180/180 [00:15<00:00, 11.38it/s]\n"
     ]
    }
   ],
   "source": [
    "election_df = add_district(hdist, \"HDIST\", election_df, \"DISTRICT\")"
   ]
  },
  {
   "cell_type": "code",
   "execution_count": 69,
   "id": "aaee6a30-6a18-473e-bd02-7881c1e94e68",
   "metadata": {},
   "outputs": [
    {
     "data": {
      "text/plain": [
       "['2MOREVAP',\n",
       " 'AGR18D',\n",
       " 'AGR18R',\n",
       " 'AMINVAP',\n",
       " 'ASIANVAP',\n",
       " 'ATG18D',\n",
       " 'ATG18R',\n",
       " 'BVAP',\n",
       " 'CTYNAME',\n",
       " 'CTYNUMBER',\n",
       " 'CTYNUMBER2',\n",
       " 'CTYSOSID',\n",
       " 'DISTRICT',\n",
       " 'FIPS2',\n",
       " 'GOV18D',\n",
       " 'GOV18O',\n",
       " 'GOV18R',\n",
       " 'HISP',\n",
       " 'HVAP',\n",
       " 'H_2MORE',\n",
       " 'H_AMIN',\n",
       " 'H_ASIAN',\n",
       " 'H_BLACK',\n",
       " 'H_NHPI',\n",
       " 'H_OTHER',\n",
       " 'H_WHITE',\n",
       " 'INS18D',\n",
       " 'INS18O',\n",
       " 'INS18R',\n",
       " 'LAB18D',\n",
       " 'LAB18R',\n",
       " 'LTG18D',\n",
       " 'LTG18R',\n",
       " 'NHPIVAP',\n",
       " 'NH_2MORE',\n",
       " 'NH_AMIN',\n",
       " 'NH_ASIAN',\n",
       " 'NH_BLACK',\n",
       " 'NH_NHPI',\n",
       " 'NH_OTHER',\n",
       " 'NH_WHITE',\n",
       " 'OTHERVAP',\n",
       " 'PRE16D',\n",
       " 'PRE16O',\n",
       " 'PRE16R',\n",
       " 'PRECINCT_I',\n",
       " 'PRECINCT_N',\n",
       " 'PSC16O',\n",
       " 'PSC16R',\n",
       " 'PSC18D',\n",
       " 'PSC18O',\n",
       " 'PSC18R',\n",
       " 'SOS18D',\n",
       " 'SOS18O',\n",
       " 'SOS18R',\n",
       " 'SPI18D',\n",
       " 'SPI18R',\n",
       " 'TOTPOP',\n",
       " 'USS16D',\n",
       " 'USS16O',\n",
       " 'USS16R',\n",
       " 'VAP',\n",
       " 'WVAP',\n",
       " 'geometry',\n",
       " 'CD',\n",
       " 'SEND',\n",
       " 'HDIST']"
      ]
     },
     "execution_count": 69,
     "metadata": {},
     "output_type": "execute_result"
    }
   ],
   "source": [
    "list(election_df.columns)"
   ]
  },
  {
   "cell_type": "code",
   "execution_count": 70,
   "id": "4f1e3cfd-ea2e-4040-bb59-60a28a7735a4",
   "metadata": {},
   "outputs": [],
   "source": [
    "base_columns = {}\n",
    "if 'CTYSOSID' + year not in election_df.columns:\n",
    "    base_columns = {\n",
    "        'DISTRICT':'DISTRICT'+year,\n",
    "        'CTYSOSID':'CTYSOSID'+year,\n",
    "        'PRECINCT_I':'PRECINCT_I'+year,\n",
    "        'PRECINCT_N':'PRECINCT_N'+year,\n",
    "        'CTYNAME':'CTYNAME'+year,\n",
    "        'CTYNUMBER':'CTYNUMBER'+year,\n",
    "        'CTYNUMBER2':'CTYNUMBER2'+year,\n",
    "        'FIPS2':'FIPS2'+year,\n",
    "    }\n",
    "election_df.rename(columns=base_columns, inplace = True)"
   ]
  },
  {
   "cell_type": "code",
   "execution_count": 71,
   "id": "3ea62760-cc32-4fcc-8475-c3ba956cb901",
   "metadata": {},
   "outputs": [],
   "source": [
    "# reorder the columns\n",
    "fixed_columns = [\n",
    "    'DISTRICT'+year,\n",
    "    'CTYSOSID'+year,\n",
    "    'PRECINCT_I'+year,\n",
    "    'PRECINCT_N'+year,\n",
    "    'CTYNAME'+year,\n",
    "    'CTYNUMBER'+year,\n",
    "    'CTYNUMBER2'+year,\n",
    "    'FIPS2'+year,\n",
    "    'CD',\n",
    "    'SEND',\n",
    "    'HDIST',\n",
    "    'TOTPOP',\n",
    "    'NH_2MORE',\n",
    "    'NH_AMIN',\n",
    "    'NH_ASIAN',\n",
    "    'NH_BLACK',\n",
    "    'NH_NHPI',\n",
    "    'NH_OTHER',\n",
    "    'NH_WHITE',\n",
    "    'HISP',\n",
    "    'H_AMIN',\n",
    "    'H_ASIAN',\n",
    "    'H_BLACK',\n",
    "    'H_NHPI',\n",
    "    'H_OTHER',\n",
    "    'H_WHITE',\n",
    "    'H_2MORE',\n",
    "    'VAP',\n",
    "    'HVAP',\n",
    "    'WVAP',\n",
    "    'BVAP',\n",
    "    'AMINVAP',\n",
    "    'ASIANVAP',\n",
    "    'NHPIVAP',\n",
    "    'OTHERVAP',\n",
    "    '2MOREVAP']\n",
    "\n",
    "election_columns = [col for col in election_df.columns if col not in fixed_columns]\n",
    "final_col = fixed_columns + election_columns\n",
    "election_df = election_df[final_col]"
   ]
  },
  {
   "cell_type": "code",
   "execution_count": 74,
   "id": "1b198042-dbd4-408e-bfd4-4494f2b49245",
   "metadata": {
    "tags": []
   },
   "outputs": [],
   "source": [
    "# store the result in directory \"{state_abbreviation}\"\n",
    "os.makedirs(\"./{}\".format(state_ab))\n",
    "election_df.to_file(\"./{}/{}.shp\".format(state_ab, state_ab))\n",
    "election_df.to_file('./{}/{}.geojson'.format(state_ab, state_ab), driver='GeoJSON')\n",
    "\n",
    "# Only do once to build json and read from file when generating ensembles\n",
    "graph = Graph.from_file(\"./{}/{}.shp\".format(state_ab, state_ab), ignore_errors=True)\n",
    "graph.to_json(\"./{}/{}.json\".format(state_ab, state_ab))"
   ]
  },
  {
   "cell_type": "code",
   "execution_count": null,
   "id": "a8ba4789-8282-428a-90d4-e59ee50f4064",
   "metadata": {},
   "outputs": [],
   "source": []
  }
 ],
 "metadata": {
  "kernelspec": {
   "display_name": "maup",
   "language": "python",
   "name": "maup"
  },
  "language_info": {
   "codemirror_mode": {
    "name": "ipython",
    "version": 3
   },
   "file_extension": ".py",
   "mimetype": "text/x-python",
   "name": "python",
   "nbconvert_exporter": "python",
   "pygments_lexer": "ipython3",
   "version": "3.9.12"
  }
 },
 "nbformat": 4,
 "nbformat_minor": 5
}
