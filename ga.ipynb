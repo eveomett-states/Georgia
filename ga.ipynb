{
 "cells": [
  {
   "cell_type": "code",
   "execution_count": 1,
   "metadata": {},
   "outputs": [],
   "source": [
    "import pandas as pd\n",
    "import geopandas as gpd\n",
    "import maup\n",
    "import time\n",
    "from maup import smart_repair\n",
    "from gerrychain import Graph\n",
    "\n",
    "maup.progress.enabled = True"
   ]
  },
  {
   "cell_type": "code",
   "execution_count": 2,
   "metadata": {},
   "outputs": [],
   "source": [
    "import warnings\n",
    "warnings.filterwarnings(\"ignore\")"
   ]
  },
  {
   "cell_type": "code",
   "execution_count": 3,
   "metadata": {},
   "outputs": [],
   "source": [
    "# state = Georgia\n",
    "state_ab = \"ga\""
   ]
  },
  {
   "cell_type": "markdown",
   "metadata": {},
   "source": [
    "## Data\n",
    "1. Download all the data in directory \"ga_data\"\n",
    "2. Extract them all"
   ]
  },
  {
   "cell_type": "code",
   "execution_count": 4,
   "metadata": {},
   "outputs": [],
   "source": [
    "data_folder = state_ab + \"_data/\"\n",
    "population1_data = \"./{}{}_pl2020_b/{}_pl2020_p1_b.shp\".format(data_folder, state_ab, state_ab)\n",
    "population2_data = \"./{}{}_pl2020_b/{}_pl2020_p2_b.shp\".format(data_folder, state_ab, state_ab)\n",
    "vap_data =  \"./{}{}_pl2020_b/{}_pl2020_p4_b.shp\".format(data_folder, state_ab, state_ab)\n",
    "vest20_data = \"./{}{}_vest_20/{}_vest_20.shp\".format(data_folder, state_ab, state_ab)\n",
    "vest18_data = \"./{}{}_vest_18/{}_vest_18.shp\".format(data_folder, state_ab, state_ab)\n",
    "vest16_data = \"./{}{}_vest_16/{}_vest_16.shp\".format(data_folder, state_ab, state_ab)\n",
    "cd_data = \"./{}{}_cong_adopted_2021/CONGRESS-PROP1-2021-shape.shp\".format(data_folder, state_ab)\n",
    "send_data = \"./{}{}_sldu_adopted_2021/SENATE-PROP1-2021-Shape.shp\".format(data_folder, state_ab)\n",
    "hdist_data = \"./{}{}_sldl_adopted_2021/HOUSE-PROP1-2021-shape.shp\".format(data_folder, state_ab)\n",
    "county_data = \"./{}{}_pl2020_cnty/{}_pl2020_cnty.shp\".format(data_folder, state_ab, state_ab)"
   ]
  },
  {
   "cell_type": "code",
   "execution_count": 5,
   "metadata": {},
   "outputs": [],
   "source": [
    "def do_smart_repair(df, min_rook_length = None, snap_precision = 10):\n",
    "    # change it to the UTM it needs for smart_repair\n",
    "    df = df.to_crs(df.estimate_utm_crs())\n",
    "    df = smart_repair(df, min_rook_length = min_rook_length)\n",
    "\n",
    "    if maup.doctor(df) == False:\n",
    "        raise Exception('maup.doctor failed')\n",
    "    \n",
    "    return df"
   ]
  },
  {
   "cell_type": "code",
   "execution_count": 6,
   "metadata": {},
   "outputs": [],
   "source": [
    "def add_district(dist_df, dist_name, election_df, col_name):\n",
    "    election_df = election_df.to_crs(election_df.estimate_utm_crs())\n",
    "    dist_df = dist_df.to_crs(dist_df.estimate_utm_crs())\n",
    "    # check if it needs to be smart_repair\n",
    "    if maup.doctor(dist_df) != True:\n",
    "        dist_df = do_smart_repair(dist_df)\n",
    "\n",
    "    # assign the pricincts\n",
    "    precincts_to_district_assignment = maup.assign(election_df.geometry, dist_df.geometry)\n",
    "    election_df[dist_name] = precincts_to_district_assignment\n",
    "    for precinct_index in range(len(election_df)):\n",
    "        election_df.at[precinct_index, dist_name] = dist_df.at[election_df.at[precinct_index, dist_name], col_name]\n",
    "\n",
    "    return election_df"
   ]
  },
  {
   "cell_type": "code",
   "execution_count": 7,
   "metadata": {},
   "outputs": [],
   "source": [
    "def rename(original, year):\n",
    "    party = original[6]\n",
    "    if party == 'R' or party == 'D':\n",
    "        return original[3:6] + year + original[6]\n",
    "    else:\n",
    "        return original[3:6] + year + 'O'"
   ]
  },
  {
   "cell_type": "code",
   "execution_count": 8,
   "metadata": {},
   "outputs": [],
   "source": [
    "pop_col = ['TOTPOP', 'HISP', 'NH_WHITE', 'NH_BLACK', 'NH_AMIN', 'NH_ASIAN', 'NH_NHPI', 'NH_OTHER', 'NH_2MORE', 'H_WHITE', 'H_BLACK', 'H_AMIN', 'H_ASIAN', 'H_NHPI', 'H_OTHER', 'H_2MORE', 'VAP', 'HVAP', 'WVAP', 'BVAP', 'AMINVAP', 'ASIANVAP', 'NHPIVAP', 'OTHERVAP', '2MOREVAP']"
   ]
  },
  {
   "cell_type": "code",
   "execution_count": 9,
   "metadata": {},
   "outputs": [],
   "source": [
    "def check_population(population, df):\n",
    "    pop_check = pd.DataFrame({\n",
    "        'pop_col': pop_col,\n",
    "        'population_df': population[pop_col].sum(), \n",
    "        'vest_base': df[pop_col].sum(),\n",
    "        'equal': [x == y for x, y in zip(population[pop_col].sum(), df[pop_col].sum())]\n",
    "    })\n",
    "    if pop_check['equal'].mean() < 1:\n",
    "        print(pop_check)\n",
    "        raise Exception(\"population doesn't agree\")\n",
    "\n",
    "    else:\n",
    "        print(\"population agrees\")"
   ]
  },
  {
   "cell_type": "code",
   "execution_count": 10,
   "metadata": {},
   "outputs": [],
   "source": [
    "def add_vest(vest, df, year, population, start_col, snap_precision = 10):\n",
    "    df = df.to_crs(df.estimate_utm_crs())\n",
    "    vest = vest.to_crs(vest.estimate_utm_crs())\n",
    "    population = population.to_crs(population.estimate_utm_crs())\n",
    "    df_crs = df.crs\n",
    "    vest_crs = vest.crs\n",
    "    \n",
    "     # check if it needs to be smart_repair\n",
    "    if maup.doctor(vest) != True:\n",
    "        vest = do_smart_repair(vest, snap_precision = snap_precision)\n",
    "    \n",
    "    # rename the columns\n",
    "    original_col = vest.columns[start_col:-1]\n",
    "    new_col = [rename(i, year) for i in original_col]\n",
    "    rename_dict = dict(zip(original_col, new_col))\n",
    "    vest = vest.rename(columns=rename_dict)\n",
    "    vest = vest.groupby(level=0, axis=1).sum() # combine all the other party's vote into columns with sufix \"O\"\n",
    "    col_name = list(set(new_col))\n",
    "    col_name.sort()\n",
    "    \n",
    "    # make the blocks from precincts by weight\n",
    "    vest = gpd.GeoDataFrame(vest, crs=vest_crs)\n",
    "    election_in_block = population[[\"VAP\", 'geometry']] # population_df is in block scale\n",
    "    blocks_to_precincts_assignment = maup.assign(election_in_block.geometry, vest.geometry)\n",
    "    weights = election_in_block[\"VAP\"] / blocks_to_precincts_assignment.map(election_in_block[\"VAP\"].groupby(blocks_to_precincts_assignment).sum())\n",
    "    weights = weights.fillna(0)\n",
    "    prorated = maup.prorate(blocks_to_precincts_assignment, vest[col_name], weights)\n",
    "    election_in_block[col_name] = prorated\n",
    "    \n",
    "    # assign blocks to precincts\n",
    "    election_in_block = gpd.GeoDataFrame(election_in_block, crs=vest_crs)\n",
    "    df = gpd.GeoDataFrame(df, crs=df_crs)\n",
    "    block_to_pricinct_assginment = maup.assign(election_in_block.geometry, df.geometry)\n",
    "    df[col_name] = election_in_block[col_name].groupby(block_to_pricinct_assginment).sum()\n",
    "    df = df.groupby(level=0, axis=1).sum()\n",
    "    df = gpd.GeoDataFrame(df, crs = df_crs)\n",
    "    # check if population agrees\n",
    "    check_population(population, df)\n",
    "    \n",
    "    return df"
   ]
  },
  {
   "cell_type": "code",
   "execution_count": 11,
   "metadata": {},
   "outputs": [],
   "source": [
    "def add_vest_base(vest, start_col, year, county = None, min_rook_length = None, snap_precision = 10):\n",
    "    vest = vest.to_crs(vest.estimate_utm_crs())\n",
    "    vest_crs = vest.crs\n",
    "    original_col = vest.columns[start_col:-1]\n",
    "    new_col = [rename(i, year) for i in original_col]\n",
    "    rename_dict = dict(zip(original_col, new_col))\n",
    "    vest = vest.rename(columns=rename_dict)\n",
    "    vest = vest.groupby(level=0, axis=1).sum()\n",
    "    vest = gpd.GeoDataFrame(vest, crs=vest_crs)\n",
    "\n",
    "    if county is not None:\n",
    "        county = county.to_crs(county.estimate_utm_crs())\n",
    "        vest = smart_repair(vest, nest_within_regions = county, min_rook_length = min_rook_length, snap_precision = snap_precision) # nest precincts within counties\n",
    "\n",
    "    else:\n",
    "        vest = smart_repair(vest, min_rook_length = min_rook_length, snap_precision = snap_precision) \n",
    "    \n",
    "    return vest"
   ]
  },
  {
   "cell_type": "code",
   "execution_count": 12,
   "metadata": {},
   "outputs": [],
   "source": [
    "def check_small_boundary_lengths(vest_base):\n",
    "    import copy\n",
    "    vest_base = vest_base.to_crs(vest_base.estimate_utm_crs())\n",
    "\n",
    "    boundaries = copy.deepcopy(vest_base)\n",
    "    boundaries[\"geometry\"] = boundaries.geometry.boundary  # get boundaries\n",
    "    neighbors = gpd.sjoin(boundaries, vest_base, predicate=\"intersects\") # find boundaries that intersect\n",
    "    neighbors = neighbors[neighbors.index != neighbors.index_right] # remove boundaries of a region with itself\n",
    "\n",
    "    # compute shared border length using intersection\n",
    "    borders = list(neighbors.apply(\n",
    "        lambda row: row.geometry.intersection(vest_base.loc[row.index_right, \"geometry\"]).length, axis=1\n",
    "    ))\n",
    "\n",
    "    borders.sort()\n",
    "    \n",
    "    return borders"
   ]
  },
  {
   "cell_type": "markdown",
   "metadata": {},
   "source": [
    "### Read the census data"
   ]
  },
  {
   "cell_type": "code",
   "execution_count": 13,
   "metadata": {},
   "outputs": [],
   "source": [
    "population1_df = gpd.read_file(population1_data)\n",
    "population2_df = gpd.read_file(population2_data)\n",
    "vap_df = gpd.read_file(vap_data)\n",
    "county_df = gpd.read_file(county_data)"
   ]
  },
  {
   "cell_type": "code",
   "execution_count": 14,
   "metadata": {},
   "outputs": [],
   "source": [
    "population2_df = population2_df.drop(columns=['SUMLEV', 'LOGRECNO', 'GEOID', 'COUNTY', 'geometry'])\n",
    "vap_df = vap_df.drop(columns=['SUMLEV', 'LOGRECNO', 'GEOID', 'COUNTY', 'geometry'])"
   ]
  },
  {
   "cell_type": "code",
   "execution_count": 15,
   "metadata": {},
   "outputs": [],
   "source": [
    "population_df = pd.merge(population1_df, population2_df, on='GEOID20')\n",
    "population_df = pd.merge(population_df, vap_df, on='GEOID20')\n",
    "population_df = population_df.to_crs(population_df.estimate_utm_crs())"
   ]
  },
  {
   "cell_type": "code",
   "execution_count": 16,
   "metadata": {},
   "outputs": [
    {
     "name": "stderr",
     "output_type": "stream",
     "text": [
      "100%|███████████████████████████████████████| 232717/232717 [01:47<00:00, 2158.03it/s]\n"
     ]
    },
    {
     "data": {
      "text/plain": [
       "True"
      ]
     },
     "execution_count": 16,
     "metadata": {},
     "output_type": "execute_result"
    }
   ],
   "source": [
    "maup.doctor(population_df)"
   ]
  },
  {
   "cell_type": "code",
   "execution_count": 17,
   "metadata": {},
   "outputs": [],
   "source": [
    "population_df['H_WHITE'] = population_df.apply(lambda t: t['P0010003'] - t['P0020005'], 1)\n",
    "population_df['H_BLACK'] = population_df.apply(lambda t: t['P0010004'] - t['P0020006'], 1)\n",
    "population_df['H_AMIN'] = population_df.apply(lambda t: t['P0010005'] - t['P0020007'], 1)\n",
    "population_df['H_ASIAN'] = population_df.apply(lambda t: t['P0010006'] - t['P0020008'], 1)\n",
    "population_df['H_NHPI'] = population_df.apply(lambda t: t['P0010007'] - t['P0020009'], 1)\n",
    "population_df['H_OTHER'] = population_df.apply(lambda t: t['P0010008'] - t['P0020010'], 1)\n",
    "population_df['H_2MORE'] = population_df.apply(lambda t: t['P0010009'] - t['P0020011'], 1)"
   ]
  },
  {
   "cell_type": "code",
   "execution_count": 18,
   "metadata": {},
   "outputs": [],
   "source": [
    "rename_dict = {'P0020001': 'TOTPOP', 'P0020002': 'HISP', 'P0020005': 'NH_WHITE', 'P0020006': 'NH_BLACK', 'P0020007': 'NH_AMIN',\n",
    "                    'P0020008': 'NH_ASIAN', 'P0020009': 'NH_NHPI', 'P0020010': 'NH_OTHER', 'P0020011': 'NH_2MORE',\n",
    "                    'P0040001': 'VAP', 'P0040002': 'HVAP', 'P0040005': 'WVAP', 'P0040006': 'BVAP', 'P0040007': 'AMINVAP',\n",
    "                                        'P0040008': 'ASIANVAP', 'P0040009': 'NHPIVAP', 'P0040010': 'OTHERVAP', 'P0040011': '2MOREVAP'}"
   ]
  },
  {
   "cell_type": "code",
   "execution_count": 19,
   "metadata": {},
   "outputs": [],
   "source": [
    "population_df.rename(columns=rename_dict, inplace = True)"
   ]
  },
  {
   "cell_type": "markdown",
   "metadata": {},
   "source": [
    "Make sure that the County shapefile is clean:"
   ]
  },
  {
   "cell_type": "code",
   "execution_count": 20,
   "metadata": {},
   "outputs": [
    {
     "name": "stderr",
     "output_type": "stream",
     "text": [
      "100%|██████████████████████████████████████████████| 159/159 [00:00<00:00, 258.39it/s]\n"
     ]
    },
    {
     "data": {
      "text/plain": [
       "True"
      ]
     },
     "execution_count": 20,
     "metadata": {},
     "output_type": "execute_result"
    }
   ],
   "source": [
    "maup.doctor(county_df)"
   ]
  },
  {
   "cell_type": "markdown",
   "metadata": {},
   "source": [
    "## Read the vest 20 data\n",
    "\n",
    "Now using it as a \"base pricinct\""
   ]
  },
  {
   "cell_type": "markdown",
   "metadata": {},
   "source": [
    "## Check if vest20 can be used as base"
   ]
  },
  {
   "cell_type": "code",
   "execution_count": 21,
   "metadata": {},
   "outputs": [],
   "source": [
    "vest20 = gpd.read_file(vest20_data)"
   ]
  },
  {
   "cell_type": "code",
   "execution_count": 22,
   "metadata": {
    "scrolled": true
   },
   "outputs": [
    {
     "data": {
      "text/plain": [
       "Index(['DISTRICT', 'CTYSOSID', 'PRECINCT_I', 'PRECINCT_N', 'CTYNAME',\n",
       "       'CTYNUMBER', 'CTYNUMBER2', 'FIPS2', 'G20PRERTRU', 'G20PREDBID',\n",
       "       'G20PRELJOR', 'C20PRERTRU', 'C20PREDBID', 'C20PRELJOR', 'G20USSRPER',\n",
       "       'G20USSDOSS', 'G20USSLHAZ', 'S20USSRLOE', 'S20USSRCOL', 'S20USSRGRA',\n",
       "       'S20USSRJAC', 'S20USSRTAY', 'S20USSRJOH', 'S20USSDWAR', 'S20USSDJAC',\n",
       "       'S20USSDLIE', 'S20USSDJOH', 'S20USSDJAM', 'S20USSDSLA', 'S20USSDWIN',\n",
       "       'S20USSDTAR', 'S20USSLSLO', 'S20USSGFOR', 'S20USSIBUC', 'S20USSIBAR',\n",
       "       'S20USSISTO', 'S20USSIGRE', 'G20PSCRSHA', 'G20PSCDBRY', 'G20PSCLMEL',\n",
       "       'G20PSCRMCD', 'G20PSCDBLA', 'G20PSCLWIL', 'R21USSRPER', 'R21USSDOSS',\n",
       "       'R21USSRLOE', 'R21USSDWAR', 'R21PSCRMCD', 'R21PSCDBLA', 'geometry'],\n",
       "      dtype='object')"
      ]
     },
     "execution_count": 22,
     "metadata": {},
     "output_type": "execute_result"
    }
   ],
   "source": [
    "vest20.columns"
   ]
  },
  {
   "cell_type": "markdown",
   "metadata": {},
   "source": [
    "### vest 20 is not working, so we use vest 16 as our base data"
   ]
  },
  {
   "cell_type": "code",
   "execution_count": 23,
   "metadata": {},
   "outputs": [],
   "source": [
    "vest16 = gpd.read_file(vest16_data)"
   ]
  },
  {
   "cell_type": "code",
   "execution_count": 24,
   "metadata": {},
   "outputs": [
    {
     "data": {
      "text/plain": [
       "Index(['DISTRICT', 'CTYSOSID', 'PRECINCT_I', 'PRECINCT_N', 'CTYNAME',\n",
       "       'CTYNUMBER', 'CTYNUMBER2', 'FIPS2', 'G16PRERTRU', 'G16PREDCLI',\n",
       "       'G16PRELJOH', 'G16USSRISA', 'G16USSDBAR', 'G16USSLBUC', 'G16PSCRECH',\n",
       "       'G16PSCLHOS', 'geometry'],\n",
       "      dtype='object')"
      ]
     },
     "execution_count": 24,
     "metadata": {},
     "output_type": "execute_result"
    }
   ],
   "source": [
    "vest16.columns"
   ]
  },
  {
   "cell_type": "code",
   "execution_count": 25,
   "metadata": {},
   "outputs": [],
   "source": [
    "start_col = 8\n",
    "vest_base_data = vest16\n",
    "year = '16'"
   ]
  },
  {
   "cell_type": "code",
   "execution_count": 26,
   "metadata": {
    "collapsed": true,
    "jupyter": {
     "outputs_hidden": true
    }
   },
   "outputs": [
    {
     "name": "stderr",
     "output_type": "stream",
     "text": [
      "100%|██████████████████████████████████████████████| 159/159 [00:00<00:00, 256.47it/s]\n"
     ]
    },
    {
     "name": "stdout",
     "output_type": "stream",
     "text": [
      "Snapping all geometries to a grid with precision 10^( -5 ) to avoid GEOS errors.\n"
     ]
    },
    {
     "name": "stderr",
     "output_type": "stream",
     "text": [
      "100%|██████████████████████████████████████████████| 159/159 [00:00<00:00, 223.86it/s]\n",
      "100%|███████████████████████████████████████████████| 159/159 [00:02<00:00, 74.93it/s]\n"
     ]
    },
    {
     "name": "stdout",
     "output_type": "stream",
     "text": [
      "Identifying overlaps...\n"
     ]
    },
    {
     "name": "stderr",
     "output_type": "stream",
     "text": [
      "100%|█████████████████████████████████████████| 11436/11436 [00:07<00:00, 1618.81it/s]\n"
     ]
    },
    {
     "name": "stdout",
     "output_type": "stream",
     "text": [
      "Resolving overlaps and filling gaps...\n"
     ]
    },
    {
     "name": "stderr",
     "output_type": "stream",
     "text": [
      "100%|██████████████████████████████████████████████| 159/159 [00:00<00:00, 247.27it/s]\n",
      "100%|███████████████████████████████████████████████| 159/159 [00:02<00:00, 71.93it/s]\n",
      "Gaps to simplify in region 0: 100%|███████████████████| 73/73 [00:02<00:00, 33.75it/s]\n",
      "Gaps to fill: 0it [00:00, ?it/s]\n",
      "Gaps to simplify in region 1: 100%|██████████████████| 51/51 [00:00<00:00, 110.96it/s]\n",
      "Gaps to fill in region 1: 100%|█████████████████████████| 1/1 [00:00<00:00, 40.63it/s]\n",
      "Gaps to simplify in region 2: 100%|███████████████████| 50/50 [00:01<00:00, 37.98it/s]\n",
      "Gaps to fill: 0it [00:00, ?it/s]\n",
      "Gaps to simplify in region 3: 100%|██████████████████| 25/25 [00:00<00:00, 123.89it/s]\n",
      "Gaps to fill: 0it [00:00, ?it/s]\n",
      "Gaps to simplify in region 4: 100%|█████████████████| 127/127 [00:01<00:00, 79.30it/s]\n",
      "Gaps to fill in region 4: 100%|█████████████████████████| 4/4 [00:00<00:00, 52.39it/s]\n",
      "Gaps to simplify in region 5: 100%|██████████████████| 12/12 [00:00<00:00, 107.08it/s]\n",
      "Gaps to fill: 0it [00:00, ?it/s]\n",
      "Gaps to simplify in region 6: 100%|███████████████████| 67/67 [00:00<00:00, 78.60it/s]\n",
      "Gaps to fill: 0it [00:00, ?it/s]\n",
      "Gaps to simplify in region 7: 100%|█████████████████| 617/617 [00:19<00:00, 31.45it/s]\n",
      "Gaps to fill in region 7: 100%|█████████████████████| 115/115 [00:03<00:00, 28.79it/s]\n",
      "Gaps to simplify in region 8: 100%|██████████████████| 18/18 [00:00<00:00, 121.04it/s]\n",
      "Gaps to fill: 0it [00:00, ?it/s]\n",
      "Gaps to simplify in region 9: 100%|███████████████████| 81/81 [00:01<00:00, 77.66it/s]\n",
      "Gaps to fill in region 9: 100%|█████████████████████████| 8/8 [00:00<00:00, 40.55it/s]\n",
      "Gaps to simplify in region 10: 100%|█████████████████| 46/46 [00:00<00:00, 118.15it/s]\n",
      "Gaps to fill in region 10: 100%|████████████████████████| 1/1 [00:00<00:00, 37.19it/s]\n",
      "Gaps to simplify in region 11: 100%|██████████████████| 69/69 [00:00<00:00, 79.77it/s]\n",
      "Gaps to fill: 0it [00:00, ?it/s]\n",
      "Gaps to simplify in region 12: 100%|█████████████████| 42/42 [00:00<00:00, 122.08it/s]\n",
      "Gaps to fill: 0it [00:00, ?it/s]\n",
      "Gaps to simplify in region 13: 100%|██████████████████| 22/22 [00:00<00:00, 78.92it/s]\n",
      "Gaps to fill: 0it [00:00, ?it/s]\n",
      "Gaps to simplify in region 14: 100%|████████████████| 148/148 [00:02<00:00, 71.14it/s]\n",
      "Gaps to fill in region 14: 100%|████████████████████████| 4/4 [00:00<00:00,  7.59it/s]\n",
      "Gaps to simplify in region 15: 100%|█████████████████| 10/10 [00:00<00:00, 104.15it/s]\n",
      "Gaps to fill: 0it [00:00, ?it/s]\n",
      "Gaps to simplify in region 16: 100%|█████████████████| 81/81 [00:00<00:00, 124.46it/s]\n",
      "Gaps to fill in region 16: 100%|████████████████████████| 1/1 [00:00<00:00, 44.82it/s]\n",
      "Gaps to simplify in region 17: 100%|███████████████| 139/139 [00:01<00:00, 119.26it/s]\n",
      "Gaps to fill in region 17: 100%|████████████████████████| 5/5 [00:00<00:00, 96.51it/s]\n",
      "Gaps to simplify in region 18: 100%|██████████████████| 28/28 [00:00<00:00, 76.90it/s]\n",
      "Gaps to fill: 0it [00:00, ?it/s]\n",
      "Gaps to simplify in region 19: 100%|█████████████████| 24/24 [00:00<00:00, 113.53it/s]\n",
      "Gaps to fill: 0it [00:00, ?it/s]\n",
      "Gaps to simplify in region 20: 100%|█████████████████| 31/31 [00:00<00:00, 119.67it/s]\n",
      "Gaps to fill: 0it [00:00, ?it/s]\n",
      "Gaps to simplify in region 21: 100%|██████████████████| 51/51 [00:00<00:00, 76.96it/s]\n",
      "Gaps to fill: 0it [00:00, ?it/s]\n",
      "Gaps to simplify in region 22: 100%|█████████████████| 47/47 [00:00<00:00, 100.93it/s]\n",
      "Gaps to fill: 0it [00:00, ?it/s]\n",
      "Gaps to simplify in region 23: 100%|█████████████████| 49/49 [00:00<00:00, 100.15it/s]\n",
      "Gaps to fill: 0it [00:00, ?it/s]\n",
      "Gaps to simplify in region 24: 100%|██████████████████| 95/95 [00:01<00:00, 59.34it/s]\n",
      "Gaps to fill: 0it [00:00, ?it/s]\n",
      "Gaps to simplify in region 25: 100%|██████████████████| 23/23 [00:00<00:00, 92.23it/s]\n",
      "Gaps to fill: 0it [00:00, ?it/s]\n",
      "Gaps to simplify in region 26: 100%|██████████████████| 20/20 [00:00<00:00, 90.38it/s]\n",
      "Gaps to fill: 0it [00:00, ?it/s]\n",
      "Gaps to simplify in region 27: 100%|██████████████████| 92/92 [00:01<00:00, 80.41it/s]\n",
      "Gaps to fill: 0it [00:00, ?it/s]\n",
      "Gaps to simplify in region 28: 100%|██████████████████| 27/27 [00:00<00:00, 80.84it/s]\n",
      "Gaps to fill: 0it [00:00, ?it/s]\n",
      "Gaps to simplify in region 29: 100%|█████████████████| 85/85 [00:00<00:00, 105.52it/s]\n",
      "Gaps to fill: 0it [00:00, ?it/s]\n",
      "Gaps to simplify in region 30: 100%|█████████████████| 30/30 [00:00<00:00, 104.62it/s]\n",
      "Gaps to fill: 0it [00:00, ?it/s]\n",
      "Gaps to simplify in region 31: 100%|█████████████████| 12/12 [00:00<00:00, 142.24it/s]\n",
      "Gaps to fill: 0it [00:00, ?it/s]\n",
      "Gaps to simplify in region 32: 100%|██████████████████| 28/28 [00:00<00:00, 59.51it/s]\n",
      "Gaps to fill: 0it [00:00, ?it/s]\n",
      "Gaps to simplify in region 33: 100%|██████████████████| 60/60 [00:01<00:00, 59.90it/s]\n",
      "Gaps to fill in region 33: 100%|████████████████████████| 1/1 [00:00<00:00, 26.28it/s]\n",
      "Gaps to simplify in region 34: 100%|██████████████████| 33/33 [00:00<00:00, 75.53it/s]\n",
      "Gaps to fill: 0it [00:00, ?it/s]\n",
      "Gaps to simplify in region 35: 100%|██████████████████| 33/33 [00:00<00:00, 77.80it/s]\n",
      "Gaps to fill in region 35: 100%|████████████████████████| 1/1 [00:00<00:00, 44.25it/s]\n",
      "Gaps to simplify in region 36: 100%|██████████████████| 41/41 [00:00<00:00, 89.33it/s]\n",
      "Gaps to fill: 0it [00:00, ?it/s]\n",
      "Gaps to simplify in region 37: 100%|██████████████████| 33/33 [00:00<00:00, 54.57it/s]\n",
      "Gaps to fill: 0it [00:00, ?it/s]\n",
      "Gaps to simplify in region 38: 100%|██████████████████| 39/39 [00:00<00:00, 97.52it/s]\n",
      "Gaps to fill: 0it [00:00, ?it/s]\n",
      "Gaps to simplify in region 39: 100%|████████████████████| 8/8 [00:00<00:00, 71.54it/s]\n",
      "Gaps to fill: 0it [00:00, ?it/s]\n",
      "Gaps to simplify in region 40: 100%|██████████████████| 29/29 [00:00<00:00, 51.68it/s]\n",
      "Gaps to fill: 0it [00:00, ?it/s]\n",
      "Gaps to simplify in region 41: 100%|██████████████████| 21/21 [00:00<00:00, 60.68it/s]\n",
      "Gaps to fill: 0it [00:00, ?it/s]\n",
      "Gaps to simplify in region 42: 100%|████████████████████| 8/8 [00:00<00:00, 74.23it/s]\n",
      "Gaps to fill: 0it [00:00, ?it/s]\n",
      "Gaps to simplify in region 43: 100%|█████████████████| 32/32 [00:00<00:00, 105.92it/s]\n",
      "Gaps to fill: 0it [00:00, ?it/s]\n",
      "Gaps to simplify in region 44: 100%|████████████████████| 7/7 [00:00<00:00, 25.64it/s]\n",
      "Gaps to fill: 0it [00:00, ?it/s]\n",
      "Gaps to simplify in region 45: 100%|█████████████████| 28/28 [00:00<00:00, 109.75it/s]\n",
      "Gaps to fill in region 45: 100%|████████████████████████| 3/3 [00:00<00:00, 88.42it/s]\n",
      "Gaps to simplify in region 46: 100%|██████████████████| 18/18 [00:00<00:00, 90.97it/s]\n",
      "Gaps to fill: 0it [00:00, ?it/s]\n",
      "Gaps to simplify in region 47: 100%|██████████████████| 37/37 [00:00<00:00, 55.02it/s]\n",
      "Gaps to fill: 0it [00:00, ?it/s]\n",
      "Gaps to simplify in region 48: 100%|█████████████████| 14/14 [00:00<00:00, 113.28it/s]\n",
      "Gaps to fill: 0it [00:00, ?it/s]\n",
      "Gaps to simplify in region 49: 100%|██████████████████| 33/33 [00:00<00:00, 41.56it/s]\n",
      "Gaps to fill in region 49: 100%|████████████████████████| 1/1 [00:00<00:00, 16.64it/s]\n",
      "Gaps to simplify in region 50: 100%|█████████████████| 36/36 [00:00<00:00, 100.39it/s]\n",
      "Gaps to fill: 0it [00:00, ?it/s]\n",
      "Gaps to simplify in region 51: 100%|██████████████████| 45/45 [00:00<00:00, 78.14it/s]\n",
      "Gaps to fill: 0it [00:00, ?it/s]\n",
      "Gaps to simplify in region 52: 100%|██████████████████| 34/34 [00:00<00:00, 53.51it/s]\n",
      "Gaps to fill: 0it [00:00, ?it/s]\n",
      "Gaps to simplify in region 53: 100%|██████████████████| 24/24 [00:00<00:00, 89.49it/s]\n",
      "Gaps to fill: 0it [00:00, ?it/s]\n",
      "Gaps to simplify in region 54: 100%|██████████████████| 15/15 [00:00<00:00, 75.51it/s]\n",
      "Gaps to fill: 0it [00:00, ?it/s]\n",
      "Gaps to simplify in region 55: 100%|██████████████████| 14/14 [00:00<00:00, 89.32it/s]\n",
      "Gaps to fill: 0it [00:00, ?it/s]\n",
      "Gaps to simplify in region 56: 100%|██████████████████| 49/49 [00:00<00:00, 70.00it/s]\n",
      "Gaps to fill: 0it [00:00, ?it/s]\n",
      "Gaps to simplify in region 57: 100%|██████████████████| 42/42 [00:01<00:00, 32.99it/s]\n",
      "Gaps to fill: 0it [00:00, ?it/s]\n",
      "Gaps to simplify in region 58: 100%|██████████████████| 14/14 [00:00<00:00, 79.99it/s]\n",
      "Gaps to fill: 0it [00:00, ?it/s]\n",
      "Gaps to simplify in region 59: 100%|███████████████████| 1/1 [00:00<00:00, 115.73it/s]\n",
      "Gaps to fill: 0it [00:00, ?it/s]\n",
      "Gaps to simplify in region 60: 100%|██████████████████| 26/26 [00:00<00:00, 63.30it/s]\n",
      "Gaps to fill in region 60: 100%|████████████████████████| 1/1 [00:00<00:00, 19.78it/s]\n",
      "Gaps to simplify in region 61: 100%|█████████████████| 14/14 [00:00<00:00, 114.11it/s]\n",
      "Gaps to fill: 0it [00:00, ?it/s]\n",
      "Gaps to simplify in region 62: 100%|██████████████████| 23/23 [00:00<00:00, 99.19it/s]\n",
      "Gaps to fill: 0it [00:00, ?it/s]\n",
      "Gaps to simplify in region 63: 100%|█████████████████| 11/11 [00:00<00:00, 128.23it/s]\n",
      "Gaps to fill: 0it [00:00, ?it/s]\n",
      "Gaps to simplify in region 64: 100%|█████████████████| 28/28 [00:00<00:00, 120.10it/s]\n",
      "Gaps to fill: 0it [00:00, ?it/s]\n",
      "Gaps to simplify in region 65: 100%|██████████████████| 31/31 [00:00<00:00, 92.11it/s]\n",
      "Gaps to fill: 0it [00:00, ?it/s]\n",
      "Gaps to simplify in region 66: 100%|██████████████████| 26/26 [00:00<00:00, 84.13it/s]\n",
      "Gaps to fill in region 66: 100%|████████████████████████| 1/1 [00:00<00:00, 38.52it/s]\n",
      "Gaps to simplify in region 67: 100%|██████████████████| 17/17 [00:00<00:00, 67.98it/s]\n",
      "Gaps to fill: 0it [00:00, ?it/s]\n",
      "Gaps to simplify in region 68: 100%|█████████████████| 22/22 [00:00<00:00, 138.44it/s]\n",
      "Gaps to fill: 0it [00:00, ?it/s]\n",
      "Gaps to simplify in region 69: 100%|█████████████████| 14/14 [00:00<00:00, 144.59it/s]\n",
      "Gaps to fill: 0it [00:00, ?it/s]\n",
      "Gaps to simplify in region 70: 100%|██████████████████| 88/88 [00:01<00:00, 68.86it/s]\n",
      "Gaps to fill in region 70: 100%|████████████████████████| 1/1 [00:00<00:00,  4.29it/s]\n",
      "Gaps to simplify in region 71: 100%|██████████████████| 24/24 [00:00<00:00, 81.35it/s]\n",
      "Gaps to fill: 0it [00:00, ?it/s]\n",
      "Gaps to simplify in region 72: 100%|██████████████████| 48/48 [00:00<00:00, 87.21it/s]\n",
      "Gaps to fill: 0it [00:00, ?it/s]\n",
      "Gaps to simplify in region 73: 100%|██████████████████| 28/28 [00:00<00:00, 52.96it/s]\n",
      "Gaps to fill in region 73: 100%|████████████████████████| 1/1 [00:00<00:00, 24.68it/s]\n",
      "Gaps to simplify in region 74: 100%|██████████████████| 98/98 [00:01<00:00, 67.42it/s]\n",
      "Gaps to fill: 0it [00:00, ?it/s]\n",
      "Gaps to simplify in region 75: 100%|█████████████████| 17/17 [00:00<00:00, 149.18it/s]\n",
      "Gaps to fill: 0it [00:00, ?it/s]\n",
      "Gaps to simplify in region 76: 100%|██████████████████| 14/14 [00:00<00:00, 75.84it/s]\n",
      "Gaps to fill: 0it [00:00, ?it/s]\n",
      "Gaps to simplify in region 77: 100%|██████████████████| 52/52 [00:00<00:00, 64.45it/s]\n",
      "Gaps to fill in region 77: 100%|████████████████████████| 1/1 [00:00<00:00, 20.88it/s]\n",
      "Gaps to simplify in region 78: 100%|██████████████████| 12/12 [00:00<00:00, 37.04it/s]\n",
      "Gaps to fill in region 78: 100%|████████████████████████| 1/1 [00:00<00:00, 21.96it/s]\n",
      "Gaps to simplify in region 79: 100%|██████████████████| 13/13 [00:00<00:00, 65.41it/s]\n",
      "Gaps to fill: 0it [00:00, ?it/s]\n",
      "Gaps to simplify in region 80: 100%|██████████████████| 18/18 [00:00<00:00, 66.49it/s]\n",
      "Gaps to fill: 0it [00:00, ?it/s]\n",
      "Gaps to simplify in region 81: 100%|██████████████████| 27/27 [00:00<00:00, 27.26it/s]\n",
      "Gaps to fill: 0it [00:00, ?it/s]\n",
      "Gaps to simplify in region 82: 100%|██████████████████| 16/16 [00:00<00:00, 66.04it/s]\n",
      "Gaps to fill: 0it [00:00, ?it/s]\n",
      "Gaps to simplify in region 83: 100%|█████████████████| 27/27 [00:00<00:00, 113.16it/s]\n",
      "Gaps to fill: 0it [00:00, ?it/s]\n",
      "Gaps to simplify in region 84: 100%|█████████████████| 18/18 [00:00<00:00, 108.60it/s]\n",
      "Gaps to fill: 0it [00:00, ?it/s]\n",
      "Gaps to simplify in region 85: 100%|██████████████████| 26/26 [00:00<00:00, 26.23it/s]\n",
      "Gaps to fill in region 85: 100%|██████████████████████| 10/10 [00:00<00:00, 35.10it/s]\n",
      "Gaps to simplify in region 86: 100%|██████████████████| 51/51 [00:00<00:00, 53.31it/s]\n",
      "Gaps to fill: 0it [00:00, ?it/s]\n",
      "Gaps to simplify in region 87: 100%|██████████████████| 17/17 [00:00<00:00, 20.33it/s]\n",
      "Gaps to fill in region 87: 100%|████████████████████████| 9/9 [00:00<00:00, 49.88it/s]\n",
      "Gaps to simplify in region 88: 100%|██████████████████| 57/57 [00:00<00:00, 76.28it/s]\n",
      "Gaps to fill: 0it [00:00, ?it/s]\n",
      "Gaps to simplify in region 89: 100%|████████████████| 244/244 [00:03<00:00, 76.12it/s]\n",
      "Gaps to fill: 0it [00:00, ?it/s]\n",
      "Gaps to simplify in region 90: 100%|██████████████████| 11/11 [00:00<00:00, 66.19it/s]\n",
      "Gaps to fill in region 90: 100%|████████████████████████| 1/1 [00:00<00:00, 32.68it/s]\n",
      "Gaps to simplify in region 91: 100%|██████████████████| 21/21 [00:00<00:00, 96.85it/s]\n",
      "Gaps to fill: 0it [00:00, ?it/s]\n",
      "Gaps to simplify in region 92: 100%|██████████████████| 29/29 [00:00<00:00, 89.14it/s]\n",
      "Gaps to fill: 0it [00:00, ?it/s]\n",
      "Gaps to simplify in region 93: 100%|██████████████████| 29/29 [00:00<00:00, 96.13it/s]\n",
      "Gaps to fill: 0it [00:00, ?it/s]\n",
      "Gaps to simplify in region 94: 100%|████████████████████| 8/8 [00:00<00:00, 86.22it/s]\n",
      "Gaps to fill: 0it [00:00, ?it/s]\n",
      "Gaps to simplify in region 95: 100%|██████████████████| 16/16 [00:00<00:00, 30.21it/s]\n",
      "Gaps to fill: 0it [00:00, ?it/s]\n",
      "Gaps to simplify in region 96: 100%|██████████████████| 36/36 [00:00<00:00, 87.31it/s]\n",
      "Gaps to fill: 0it [00:00, ?it/s]\n",
      "Gaps to simplify in region 97: 100%|██████████████████| 16/16 [00:00<00:00, 97.62it/s]\n",
      "Gaps to fill: 0it [00:00, ?it/s]\n",
      "Gaps to simplify in region 98: 100%|██████████████████| 27/27 [00:00<00:00, 79.09it/s]\n",
      "Gaps to fill in region 98: 100%|████████████████████████| 1/1 [00:00<00:00, 26.40it/s]\n",
      "Gaps to simplify in region 99: 100%|██████████████████| 83/83 [00:01<00:00, 72.01it/s]\n",
      "Gaps to fill in region 99: 100%|████████████████████████| 1/1 [00:00<00:00, 34.36it/s]\n",
      "Gaps to simplify in region 100: 100%|█████████████████| 61/61 [00:00<00:00, 69.20it/s]\n",
      "Gaps to fill: 0it [00:00, ?it/s]\n",
      "Gaps to simplify in region 101: 100%|███████████████| 106/106 [00:01<00:00, 65.78it/s]\n",
      "Gaps to fill: 0it [00:00, ?it/s]\n",
      "Gaps to simplify in region 102: 100%|████████████████| 40/40 [00:00<00:00, 107.87it/s]\n",
      "Gaps to fill in region 102: 100%|███████████████████████| 1/1 [00:00<00:00, 33.67it/s]\n",
      "Gaps to simplify in region 103: 100%|█████████████████| 50/50 [00:00<00:00, 59.06it/s]\n",
      "Gaps to fill: 0it [00:00, ?it/s]\n",
      "Gaps to simplify in region 104: 100%|█████████████████| 32/32 [00:00<00:00, 60.42it/s]\n",
      "Gaps to fill: 0it [00:00, ?it/s]\n",
      "Gaps to simplify in region 105: 100%|█████████████████| 78/78 [00:02<00:00, 27.77it/s]\n",
      "Gaps to fill: 0it [00:00, ?it/s]\n",
      "Gaps to simplify in region 106: 100%|█████████████████| 34/34 [00:00<00:00, 50.94it/s]\n",
      "Gaps to fill: 0it [00:00, ?it/s]\n",
      "Gaps to simplify in region 107: 100%|███████████████████| 7/7 [00:00<00:00, 77.36it/s]\n",
      "Gaps to fill: 0it [00:00, ?it/s]\n",
      "Gaps to simplify in region 108: 100%|█████████████████| 54/54 [00:01<00:00, 47.01it/s]\n",
      "Gaps to fill: 0it [00:00, ?it/s]\n",
      "Gaps to simplify in region 109: 100%|█████████████████| 54/54 [00:01<00:00, 33.75it/s]\n",
      "Gaps to fill in region 109: 100%|███████████████████████| 6/6 [00:00<00:00, 13.56it/s]\n",
      "Gaps to simplify in region 110: 100%|█████████████████| 47/47 [00:00<00:00, 70.76it/s]\n",
      "Gaps to fill: 0it [00:00, ?it/s]\n",
      "Gaps to simplify in region 111: 100%|█████████████████| 64/64 [00:00<00:00, 71.25it/s]\n",
      "Gaps to fill: 0it [00:00, ?it/s]\n",
      "Gaps to simplify in region 112: 100%|███████████████| 124/124 [00:03<00:00, 38.46it/s]\n",
      "Gaps to fill in region 112: 100%|███████████████████████| 3/3 [00:00<00:00, 16.38it/s]\n",
      "Gaps to simplify in region 113: 100%|███████████████| 104/104 [00:01<00:00, 59.86it/s]\n",
      "Gaps to fill: 0it [00:00, ?it/s]\n",
      "Gaps to simplify in region 114: 100%|█████████████████| 22/22 [00:00<00:00, 89.43it/s]\n",
      "Gaps to fill: 0it [00:00, ?it/s]\n",
      "Gaps to simplify in region 115: 100%|████████████████| 21/21 [00:00<00:00, 117.60it/s]\n",
      "Gaps to fill: 0it [00:00, ?it/s]\n",
      "Gaps to simplify in region 116: 100%|█████████████████| 20/20 [00:00<00:00, 67.66it/s]\n",
      "Gaps to fill: 0it [00:00, ?it/s]\n",
      "Gaps to simplify in region 117: 100%|████████████████| 20/20 [00:00<00:00, 105.18it/s]\n",
      "Gaps to fill: 0it [00:00, ?it/s]\n",
      "Gaps to simplify in region 118: 100%|██████████████████| 8/8 [00:00<00:00, 115.43it/s]\n",
      "Gaps to fill: 0it [00:00, ?it/s]\n",
      "Gaps to simplify in region 119: 100%|████████████████| 24/24 [00:00<00:00, 127.30it/s]\n",
      "Gaps to fill: 0it [00:00, ?it/s]\n",
      "Gaps to simplify in region 120: 100%|████████████████| 15/15 [00:00<00:00, 135.69it/s]\n",
      "Gaps to fill: 0it [00:00, ?it/s]\n",
      "Gaps to simplify in region 121: 100%|█████████████████| 21/21 [00:00<00:00, 56.47it/s]\n",
      "Gaps to fill: 0it [00:00, ?it/s]\n",
      "Gaps to simplify in region 122: 100%|█████████████████| 69/69 [00:01<00:00, 52.64it/s]\n",
      "Gaps to fill: 0it [00:00, ?it/s]\n",
      "Gaps to simplify in region 123: 100%|███████████████████| 9/9 [00:00<00:00, 27.77it/s]\n",
      "Gaps to fill: 0it [00:00, ?it/s]\n",
      "Gaps to simplify in region 124: 100%|█████████████████| 62/62 [00:01<00:00, 59.70it/s]\n",
      "Gaps to fill: 0it [00:00, ?it/s]\n",
      "Gaps to simplify in region 125: 100%|█████████████████| 85/85 [00:02<00:00, 30.79it/s]\n",
      "Gaps to fill: 0it [00:00, ?it/s]\n",
      "Gaps to simplify in region 126: 100%|█████████████████| 67/67 [00:01<00:00, 52.76it/s]\n",
      "Gaps to fill: 0it [00:00, ?it/s]\n",
      "Gaps to simplify in region 127: 100%|██████████████████| 7/7 [00:00<00:00, 137.08it/s]\n",
      "Gaps to fill: 0it [00:00, ?it/s]\n",
      "Gaps to simplify in region 128: 100%|█████████████████| 38/38 [00:00<00:00, 62.18it/s]\n",
      "Gaps to fill: 0it [00:00, ?it/s]\n",
      "Gaps to simplify in region 129: 100%|███████████████████| 6/6 [00:00<00:00, 65.24it/s]\n",
      "Gaps to fill: 0it [00:00, ?it/s]\n",
      "Gaps to simplify in region 130: 100%|███████████████████| 6/6 [00:00<00:00, 20.77it/s]\n",
      "Gaps to fill: 0it [00:00, ?it/s]\n",
      "Gaps to simplify in region 131: 100%|█████████████████| 15/15 [00:00<00:00, 81.28it/s]\n",
      "Gaps to fill: 0it [00:00, ?it/s]\n",
      "Gaps to simplify in region 132: 100%|█████████████████| 10/10 [00:00<00:00, 92.21it/s]\n",
      "Gaps to fill: 0it [00:00, ?it/s]\n",
      "Gaps to simplify in region 133: 100%|██████████████████| 9/9 [00:00<00:00, 129.51it/s]\n",
      "Gaps to fill: 0it [00:00, ?it/s]\n",
      "Gaps to simplify in region 134: 100%|█████████████████| 31/31 [00:00<00:00, 68.41it/s]\n",
      "Gaps to fill: 0it [00:00, ?it/s]\n",
      "Gaps to simplify in region 135: 100%|█████████████████| 79/79 [00:01<00:00, 58.38it/s]\n",
      "Gaps to fill: 0it [00:00, ?it/s]\n",
      "Gaps to simplify in region 136: 100%|███████████████████| 4/4 [00:00<00:00, 88.24it/s]\n",
      "Gaps to fill: 0it [00:00, ?it/s]\n",
      "Gaps to simplify in region 137: 100%|█████████████████| 22/22 [00:00<00:00, 48.06it/s]\n",
      "Gaps to fill: 0it [00:00, ?it/s]\n",
      "Gaps to simplify in region 138: 100%|█████████████████| 42/42 [00:01<00:00, 27.01it/s]\n",
      "Gaps to fill in region 138: 100%|███████████████████████| 1/1 [00:00<00:00,  4.23it/s]\n",
      "Gaps to simplify in region 139: 100%|█████████████████| 22/22 [00:00<00:00, 84.06it/s]\n",
      "Gaps to fill: 0it [00:00, ?it/s]\n",
      "Gaps to simplify in region 140: 100%|█████████████████| 68/68 [00:01<00:00, 43.26it/s]\n",
      "Gaps to fill: 0it [00:00, ?it/s]\n",
      "Gaps to simplify in region 141: 100%|█████████████████| 30/30 [00:00<00:00, 48.39it/s]\n",
      "Gaps to fill: 0it [00:00, ?it/s]\n",
      "Gaps to simplify in region 142: 100%|█████████████████| 31/31 [00:00<00:00, 74.38it/s]\n",
      "Gaps to fill: 0it [00:00, ?it/s]\n",
      "Gaps to simplify in region 143: 100%|█████████████████| 37/37 [00:00<00:00, 38.22it/s]\n",
      "Gaps to fill: 0it [00:00, ?it/s]\n",
      "Gaps to simplify in region 144: 100%|█████████████████| 29/29 [00:00<00:00, 92.30it/s]\n",
      "Gaps to fill: 0it [00:00, ?it/s]\n",
      "Gaps to simplify in region 145: 100%|███████████████| 159/159 [00:02<00:00, 56.48it/s]\n",
      "Gaps to fill: 0it [00:00, ?it/s]\n",
      "Gaps to simplify in region 146: 100%|█████████████████| 23/23 [00:00<00:00, 91.46it/s]\n",
      "Gaps to fill: 0it [00:00, ?it/s]\n",
      "Gaps to simplify in region 147: 100%|█████████████████| 66/66 [00:01<00:00, 33.48it/s]\n",
      "Gaps to fill in region 147: 100%|███████████████████████| 6/6 [00:00<00:00, 35.41it/s]\n",
      "Gaps to simplify in region 148: 100%|█████████████████| 21/21 [00:00<00:00, 50.28it/s]\n",
      "Gaps to fill: 0it [00:00, ?it/s]\n",
      "Gaps to simplify in region 149: 100%|█████████████████| 18/18 [00:00<00:00, 81.56it/s]\n",
      "Gaps to fill: 0it [00:00, ?it/s]\n",
      "Gaps to simplify in region 150: 100%|████████████████| 16/16 [00:00<00:00, 132.05it/s]\n",
      "Gaps to fill: 0it [00:00, ?it/s]\n",
      "Gaps to simplify in region 151: 100%|█████████████████| 21/21 [00:00<00:00, 30.73it/s]\n",
      "Gaps to fill: 0it [00:00, ?it/s]\n",
      "Gaps to simplify in region 152: 100%|█████████████████| 26/26 [00:00<00:00, 80.93it/s]\n",
      "Gaps to fill: 0it [00:00, ?it/s]\n",
      "Gaps to simplify in region 153: 100%|███████████████| 107/107 [00:01<00:00, 68.62it/s]\n",
      "Gaps to fill: 0it [00:00, ?it/s]\n",
      "Gaps to simplify in region 154: 100%|████████████████| 26/26 [00:00<00:00, 100.29it/s]\n",
      "Gaps to fill: 0it [00:00, ?it/s]\n",
      "Gaps to simplify in region 155: 100%|███████████████████| 7/7 [00:00<00:00, 67.88it/s]\n",
      "Gaps to fill: 0it [00:00, ?it/s]\n",
      "Gaps to simplify in region 156: 100%|█████████████████| 60/60 [00:00<00:00, 97.61it/s]\n",
      "Gaps to fill: 0it [00:00, ?it/s]\n",
      "Gaps to simplify in region 157: 100%|█████████████████| 19/19 [00:00<00:00, 32.38it/s]\n",
      "Gaps to fill in region 157: 100%|███████████████████████| 2/2 [00:00<00:00, 22.01it/s]\n",
      "Gaps to simplify in region 158: 100%|█████████████████| 14/14 [00:00<00:00, 64.97it/s]\n",
      "Gaps to fill: 0it [00:00, ?it/s]\n"
     ]
    }
   ],
   "source": [
    "vest_base = add_vest_base(vest_base_data, start_col, year, county = county_df)"
   ]
  },
  {
   "cell_type": "code",
   "execution_count": 27,
   "metadata": {
    "collapsed": true,
    "jupyter": {
     "outputs_hidden": true
    }
   },
   "outputs": [
    {
     "name": "stdout",
     "output_type": "stream",
     "text": [
      "[0.0, 0.0, 0.0, 0.0, 0.0, 0.0, 0.0, 0.0, 0.0, 0.0, 0.0, 0.0, 0.0, 0.0, 0.0, 0.0, 0.0, 0.0, 0.0, 0.0, 0.0, 0.0, 0.0, 0.0, 0.0, 0.0, 0.0, 0.0, 0.0, 0.0, 0.0, 0.0, 0.0, 0.0, 0.0, 0.0, 0.0, 0.0, 0.0, 0.0, 0.0, 0.0, 0.0, 0.0, 0.0, 0.0, 0.0, 0.0, 0.0, 0.0, 0.0, 0.0, 0.0, 0.0, 0.0, 0.0, 0.0, 0.0, 0.0, 0.0, 0.0, 0.0, 0.0, 0.0, 0.0, 0.0, 0.0, 0.0, 0.0, 0.0, 0.0, 0.0, 0.0, 0.0, 0.0, 0.0, 0.0, 0.0, 0.0, 0.0, 0.0, 0.0, 0.0, 0.0, 0.0, 0.0, 0.0, 0.0, 0.0, 0.0, 0.0, 0.0, 0.0, 0.0, 0.0, 0.0, 0.0, 0.0, 0.0, 0.0, 0.0, 0.0, 0.0, 0.0, 0.0, 0.0, 0.0, 0.0, 0.0, 0.0, 0.0, 0.0, 0.0, 0.0, 0.0, 0.0, 0.0, 0.0, 0.0, 0.0, 0.0, 0.0, 0.0, 0.0, 0.0, 0.0, 0.0, 0.0, 0.0, 0.0, 0.0, 0.0, 0.0, 0.0, 0.0, 0.0, 0.0, 0.0, 0.0, 0.0, 0.0, 0.0, 0.0, 0.0, 0.0, 0.0, 0.0, 0.0, 0.0, 0.0, 0.0, 0.0, 0.0, 0.0, 0.0, 0.0, 0.0, 0.0, 0.0, 0.0, 0.0, 0.0, 0.0, 0.0, 0.0, 0.0, 0.0, 0.0, 0.0, 0.0, 0.0, 0.0, 0.0, 0.0, 0.0, 0.0, 0.0, 0.0, 0.0, 0.0, 0.0, 0.0, 0.0, 0.0, 0.0, 0.0, 0.0, 0.0, 0.0, 0.0, 0.0, 0.0, 0.0, 0.0, 0.0, 0.0, 0.0, 0.0, 0.0, 0.0, 0.0, 0.0, 0.0, 0.0, 0.0, 0.0, 0.0, 0.0, 0.0, 0.0, 0.0, 0.0, 0.0, 0.0, 0.0, 0.0, 0.0, 0.0, 0.0, 0.0, 0.0, 0.0, 0.0, 0.0, 0.0, 0.0, 0.0, 0.0, 0.0, 0.0, 0.0, 0.0, 0.0, 0.0, 0.0, 0.0, 0.0, 0.0, 0.0, 0.0, 0.0, 0.0, 0.0, 0.0, 0.0, 0.0, 0.0, 0.0, 0.0, 0.0, 0.0, 0.0, 0.0, 0.0, 0.0, 0.0, 0.0, 0.0, 0.0, 0.0, 0.0, 0.0, 0.0, 0.0, 0.0, 0.0, 0.0, 0.0, 0.0, 0.0, 0.0, 0.0, 0.0, 0.0, 0.0, 0.0, 0.0, 0.0, 0.0, 0.0, 0.0, 0.0, 0.0, 0.0, 0.0, 0.0, 0.0, 0.0, 0.0, 0.0, 0.0, 0.0, 0.0, 0.0, 0.0, 0.0, 0.0, 0.0, 0.0, 0.0, 0.0, 0.0, 0.0, 0.0, 0.0, 0.0, 0.0, 0.0, 0.0, 0.0, 0.0, 0.0, 0.0, 0.0, 0.0, 0.0, 0.0, 0.0, 0.0, 0.0, 0.0, 0.0, 0.0, 0.0, 0.0, 0.0, 0.0, 0.0, 0.0, 0.0, 0.0, 0.0, 0.0, 0.0, 0.0, 0.0, 0.0, 0.0, 0.0, 0.0, 0.0, 0.0, 0.0, 0.0, 0.0, 0.0, 0.0, 0.0, 0.0, 0.0, 0.0, 0.0, 0.0, 0.0, 0.0, 0.0, 0.0, 0.0, 0.0, 0.0, 0.0, 0.0, 0.0, 0.0, 0.0, 0.0, 0.0, 0.0, 0.0, 0.0, 0.0, 0.0, 0.0, 0.0, 0.0, 0.0, 0.0, 0.0, 0.0, 0.0, 0.0, 0.0, 0.0, 0.0, 0.0, 0.0, 0.0, 0.0, 0.0, 0.0, 0.0, 0.0, 0.0, 0.0, 0.0, 0.0, 0.0, 0.0, 0.0, 0.0, 0.0, 0.0, 0.0, 0.0, 0.0, 0.0, 0.0, 0.0, 0.0, 0.0, 0.0, 0.0, 0.0, 0.0, 0.0, 0.0, 0.0, 0.0, 0.0, 0.0, 0.0, 0.0, 0.0, 0.0, 0.0, 0.0, 0.0, 0.0, 0.0, 0.0, 0.0, 0.0, 0.0, 0.0, 0.0, 0.0, 0.0, 0.0, 0.0, 0.0, 0.0, 0.0, 0.0, 0.0, 0.0, 0.0, 0.0, 0.0, 0.0, 0.0, 0.0, 0.0, 0.0, 0.0, 0.0, 0.0, 0.0, 0.0, 0.0, 0.0, 0.0, 0.0, 0.0, 0.0, 0.0, 0.0, 0.0, 0.0, 0.0, 0.0, 0.0, 0.0, 0.0, 0.0, 0.0, 0.0, 0.0, 0.0, 0.0, 0.0, 0.0, 0.0, 0.0, 0.0, 0.0, 0.0, 0.0, 0.0, 0.0, 0.0, 0.0, 0.0, 0.0, 0.0, 0.0, 0.0, 0.0, 0.0, 0.0, 0.0, 0.0, 0.0, 0.0, 0.0, 0.0, 0.0, 0.0, 0.0, 0.0, 0.0, 0.0, 0.0, 0.0, 0.0, 0.0, 0.0, 0.0, 0.0, 0.0, 0.0, 0.0, 0.0, 0.0, 0.0, 0.0, 0.0, 0.0, 0.0, 0.0, 0.0, 0.0, 0.0, 0.0, 0.0, 0.0, 0.0, 0.0, 0.0, 0.0, 0.0, 0.0, 0.0, 0.0, 0.0, 0.0, 0.0, 0.0, 0.0, 0.0, 0.0, 0.0, 0.0, 0.0, 0.0, 0.0, 0.0, 0.0, 0.0, 0.0, 0.0, 0.0, 0.0, 0.0, 0.0, 0.0, 0.0, 0.0, 0.0, 0.0, 0.0, 0.0, 0.0, 0.0, 0.0, 0.0, 0.0, 0.0, 0.0, 0.0, 0.0, 0.0, 0.0, 0.0, 0.0, 0.0, 0.0, 0.0, 0.0, 0.0, 0.0, 0.0, 0.0, 0.0, 0.0, 0.0, 0.0, 0.0, 0.0, 0.0, 0.0, 0.0, 0.0, 0.0, 0.0, 0.0, 0.0, 0.0, 0.0, 0.0, 0.0, 0.0, 0.0, 0.0, 0.0, 0.0, 0.0, 0.0, 0.0, 0.0, 0.0, 0.0, 0.0, 0.0, 0.0, 0.0, 0.0, 0.0, 0.0, 0.0, 0.0, 0.0, 0.0, 0.0, 0.0, 0.0, 0.0, 0.0, 0.0, 0.0, 0.0, 0.0, 0.0, 0.0, 0.0, 0.0, 0.0, 0.0, 0.0, 0.0, 0.0, 0.0, 0.0, 0.0, 0.0, 0.0, 0.0, 0.0, 0.0, 0.0, 0.0, 0.0, 0.0, 0.0, 0.0, 0.0, 0.0, 0.0, 0.0, 0.0, 0.0, 0.0, 0.0, 0.0, 0.0, 0.0, 0.0, 0.0, 0.0, 0.0, 0.0, 0.0, 0.0, 0.0, 0.0, 0.0, 0.0, 0.0, 0.0, 0.0, 0.0, 0.0, 0.0, 0.0, 0.0, 0.0, 0.0, 0.0, 0.0, 0.0, 0.0, 0.0, 0.0, 0.0, 0.0, 0.0, 0.0, 0.0, 0.0, 0.0, 0.0, 0.0, 0.0, 0.0, 0.0, 0.0, 0.0, 0.0, 0.0, 0.0, 0.0, 0.0, 0.0, 0.0, 0.0, 0.0, 0.0, 0.0, 0.0, 0.0, 0.0, 0.0, 0.0, 0.0, 0.0, 0.0, 0.0, 0.0, 0.0, 0.0, 0.0, 0.0, 0.0, 0.0, 0.0, 0.0, 0.0, 0.0, 0.0, 0.0, 0.0, 0.0, 0.0, 0.0, 0.0, 0.0, 0.0, 0.0, 0.0, 0.0, 0.0, 0.0, 0.0, 0.0, 0.0, 0.0, 0.0, 0.0, 0.0, 0.0, 0.0, 0.0, 0.0, 0.0, 0.0, 0.0, 0.0, 0.0, 0.0, 0.0, 0.0, 0.0, 0.0, 0.0, 0.0, 0.0, 0.0, 0.0, 0.0, 0.0, 0.0, 0.0, 0.0, 0.0, 0.0, 0.0, 0.0, 0.0, 0.0, 0.0, 0.0, 0.0, 0.0, 0.0, 0.0, 0.0, 0.0, 0.0, 0.0, 0.0, 0.0, 0.0, 0.0, 0.0, 0.0, 0.0, 0.0, 0.0, 0.0, 0.0, 0.0, 0.0, 0.0, 0.0, 0.0, 0.0, 0.0, 0.0, 0.0, 0.0, 0.0, 0.0, 0.0, 0.0, 0.0, 0.0, 0.0, 0.0, 0.0, 0.0, 0.0, 0.0, 0.0, 0.0, 0.0, 0.0, 0.0, 0.0, 0.0, 0.0, 0.0, 0.0, 0.0, 0.0, 0.0, 0.0, 0.0, 0.0, 0.0, 0.0, 0.0, 0.0, 0.0, 0.0, 0.0, 0.0, 0.0, 0.0, 0.0, 0.0, 0.0, 0.0, 0.0, 0.0, 0.0, 0.0, 0.0, 0.0, 0.0, 0.0, 0.0, 0.0, 0.0, 0.0, 0.0, 0.0, 0.0, 0.0, 0.0, 0.0, 0.0, 0.0, 0.0, 0.0, 0.0, 0.0, 0.0, 0.0, 0.0, 0.0, 0.0, 0.0, 0.0, 0.0, 0.0, 0.0, 0.0, 0.0, 0.0, 0.0, 0.0, 0.0, 0.0, 0.0, 0.0, 0.0, 0.0, 0.0, 0.0, 0.0, 0.0, 0.0, 0.0, 0.0, 0.0, 0.0, 0.0, 0.0, 0.0, 0.0, 0.0, 0.0, 0.0, 0.0, 0.0, 0.0, 0.0, 0.0, 0.0, 0.0, 0.0, 0.0, 0.0, 0.0, 0.0, 0.0, 0.0, 0.0, 0.0, 0.0, 0.0, 0.0, 0.0, 0.0, 0.0, 0.0, 0.0, 0.0, 0.0, 0.0, 0.0, 0.0, 0.0, 0.0, 0.0, 0.0, 0.0, 0.0, 0.0, 0.0, 0.0, 0.0, 0.0, 0.0, 0.0, 0.0, 0.0, 0.0, 0.0, 0.0, 0.0, 0.0, 0.0, 0.0, 0.0, 0.0, 0.0, 0.0, 0.0, 0.0, 0.0, 0.0, 0.0, 0.0, 0.0, 0.0, 0.0, 0.0, 0.0, 0.0, 0.0, 0.0, 0.0, 0.0, 0.0, 0.0, 0.0, 0.0, 0.0, 0.0, 0.0, 0.0, 0.0, 0.0, 0.0, 0.0, 0.0, 0.0, 0.0, 0.0, 0.0, 0.0, 0.0, 0.0, 0.0, 0.0, 0.0, 0.0, 0.0, 0.0, 0.0, 0.002964014050354218, 0.002964014050354218, 0.021411301801270547, 0.021411301801270547, 0.15297656725988934, 0.15297656725988934, 0.17898831147374974, 0.17898831147374974, 0.3280831877610635, 0.3280831877610635, 0.3347160015405269, 0.3347160015405269, 0.6957487591096725, 0.6957487591096725, 0.8335157157923465, 0.8335157157923465, 0.844059001525994, 0.844059001525994, 1.0047594507238025, 1.0047594507238025, 1.1709539774576607, 1.1709539774576607, 1.5541368399511495, 1.5541368399511495, 1.6977480032483394, 1.6977480032483394, 1.7417926583145789, 1.7417926583145789, 1.7484316060613143, 1.7484316060613143, 2.0062449433761587, 2.0062449433761587, 2.2664464273069203, 2.2664464273069203, 2.3515299882519267, 2.3515299882519267, 2.6944750153284, 2.6944750153284, 3.411525801171483, 3.411525801171483, 4.639315987864193, 4.639315987864193, 5.132504644738482, 5.132504644738482, 5.407756737905775, 5.407756737905775, 5.477330606654059, 5.477330606654059, 6.10584552249103, 6.10584552249103, 6.519874735434445, 6.519874735434445, 6.6919299930936385, 6.6919299930936385, 7.640606331821899, 7.640606331821899, 8.192906550092452, 8.192906550092452, 9.376597957190844, 9.376597957190844, 9.581380148401957, 9.581380148401957, 10.29514323793501, 10.295143237935012, 10.44941132388701, 10.44941132388701, 10.720846646129814, 10.720846646129814, 10.967088448017819, 10.967088448017819, 11.592216615459689, 11.592216615459689, 11.617320977252493, 11.617320977252493, 11.899122563823491, 11.899122563823491, 13.40625639121566, 13.40625639121566, 14.111281873658747, 14.111281873658747, 14.242858763123433, 14.242858763123433, 14.737231909812964, 14.737231909812964, 15.217337317510351, 15.217337317510351, 16.260435786706985, 16.260435786706985, 16.265192895150147, 16.265192895150147, 16.537472314664118, 16.537472314664118, 16.544368294593014, 16.544368294593014, 17.689371671015383, 17.689371671015383, 17.928879144662233, 17.928879144662233, 18.15666297412767, 18.15666297412767, 18.239443812352313, 18.239443812352313, 18.498169457812832, 18.498169457812836, 18.851001094043507, 18.85100109404351, 19.94467297954637, 19.94467297954637, 20.834666420089135, 20.834666420089135, 20.86072511926083, 20.86072511926083, 21.467631628055706, 21.467631628055706, 22.094680135397738, 22.094680135397738, 22.266629515001153, 22.266629515001153, 22.473615011202916, 22.473615011202916, 23.03998471473029, 23.03998471473029, 23.99489498948672, 23.99489498948672, 24.996137843861696, 24.996137843861696, 25.496120471878605, 25.496120471878605, 25.625992406826363, 25.625992406826363, 25.737641858695206, 25.737641858695206, 26.32669743856142, 26.326697438561425, 27.495278089047694, 27.495278089047694, 28.705868806585812, 28.705868806585812, 29.242733751659806, 29.242733751659806, 29.35941067344966, 29.35941067344966, 29.504304349144057, 29.504304349144057, 29.736794887849317, 29.736794887849317, 30.186662984664288, 30.186662984664288, 30.42828375756074, 30.42828375756074, 30.928012805114356, 30.928012805114356, 31.7876575227381, 31.7876575227381, 32.04375556566438, 32.043755565664384, 33.088695973424414, 33.08869597342442, 33.36290101925242, 33.36290101925242, 34.321692555333996, 34.321692555333996, 34.86158411184706, 34.86158411184706, 35.17148637012973, 35.17148637012973, 36.533025155897754, 36.533025155897754, 38.58302508580382, 38.58302508580382, 40.3590278697306, 40.3590278697306, 42.12854758625295, 42.12854758625295, 42.40832284012087, 42.40832284012087, 42.504366391997266, 42.504366391997266, 45.3646407808054, 45.3646407808054, 45.36743580968835, 45.36743580968835, 45.957408392614724, 45.957408392614724, 46.772887136218564, 46.772887136218564, 47.6558028474234, 47.6558028474234, 47.93722805792476, 47.93722805792476, 48.277162568135196, 48.277162568135196, 48.410740747430616, 48.410740747430616, 49.82652716291868, 49.82652716291868, 49.92103687770735, 49.92103687770735, 50.677372238202466, 50.677372238202466, 51.18347266976396, 51.18347266976396, 52.5808715991826, 52.58087159918261, 52.95082876898809, 52.95082876898809, 53.38609128550593, 53.38609128550593, 54.47090051405703, 54.47090051405703, 54.94275946607305, 54.94275946607305, 56.458430077822584, 56.458430077822584, 56.63405099018422, 56.63405099018422, 57.46392462823941, 57.46392462823941, 60.38982505599097, 60.38982505599097, 61.93375308028297, 61.93375308028297, 62.07561552118438, 62.07561552118438, 62.32943754202836, 62.32943754202836, 63.12856545977741, 63.12856545977741, 63.622731118397446, 63.622731118397446, 64.11936031352217, 64.11936031352217, 65.06794294790834, 65.06794294790834, 65.16721023920104, 65.16721023920104, 66.63841992124054, 66.63841992124054, 67.98329020020671, 67.98329020020671, 72.86664853071366, 72.86664853071366, 73.68620792977374, 73.68620792977374, 73.74538678481932, 73.74538678481932, 74.19230728361013, 74.19230728361013, 74.48084456737877, 74.48084456737877, 74.82955135356556, 74.82955135356556, 75.06248650820433, 75.06248650820433, 76.23164460933447, 76.23164460933447, 76.31864159814096, 76.31864159814096, 76.45729745280455, 76.45729745280455, 76.54940869130158, 76.54940869130158, 77.02345889418888, 77.02345889418888, 77.11081385179945, 77.11081385179945, 80.51001819529607, 80.51001819529608, 81.45423098791703, 81.45423098791703, 81.64546345264014, 81.64546345264014, 81.90367625129934, 81.90367625129934, 81.91670838643451, 81.91670838643451, 81.979343632567, 81.979343632567, 82.24734630611714, 82.24734630611714, 83.62167897588735, 83.62167897588736, 84.65438828217326, 84.65438828217326, 84.91926836597109, 84.91926836597109, 85.2281345523687, 85.2281345523687, 86.80841014557242, 86.80841014557242, 90.26862294620915, 90.26862294620915, 90.42433306871169, 90.42433306871169, 90.6808145816828, 90.6808145816828, 90.70150950567378, 90.70150950567378, 92.55820853983593, 92.55820853983593, 93.0887172547314, 93.0887172547314, 93.09261637017524, 93.09261637017524, 93.49113364544945, 93.49113364544945, 93.96556198793233, 93.96556198793235, 94.23661955772567, 94.23661955772567, 97.43220390452873, 97.43220390452875, 98.16789817529761, 98.16789817529761, 98.85163425498837, 98.85163425498837, 100.31201349686026, 100.31201349686026, 102.9563410007467, 102.9563410007467, 103.04177012973355, 103.04177012973355, 104.64550836484445, 104.64550836484445, 105.48635150632091, 105.48635150632091, 105.50738947882438, 105.5073894788244, 107.99770925258404, 107.99770925258404, 109.40817504580849, 109.40817504580849, 110.31721782475505, 110.31721782475506, 110.36072579441013, 110.36072579441013, 113.15318424684355, 113.15318424684355, 114.47217684960529, 114.47217684960529, 115.04190210009868, 115.04190210009868, 118.33344469888638, 118.33344469888638, 120.49861122359516, 120.49861122359519, 120.56365967622521, 120.56365967622521, 120.56813607971517, 120.56813607971517, 121.48760513736991, 121.48760513736993, 121.73230015822463, 121.73230015822463, 121.82580390238036, 121.82580390238036, 123.02472024899745, 123.02472024899745, 123.17063295929651, 123.17063295929651, 123.19857844764904, 123.19857844764904, 123.87507800385805, 123.87507800385806, 124.6160251271441, 124.6160251271441, 125.92658656999704, 125.92658656999704, 126.2571296904807, 126.2571296904807, 127.6140502364622, 127.61405023646222, 127.73148284450215, 127.73148284450215, 128.4545265525516, 128.4545265525516, 129.0177243052363, 129.0177243052363, 130.79187214048397, 130.79187214048397, 130.83288077725274, 130.83288077725274, 132.457998483545, 132.457998483545, 133.21059139320226, 133.21059139320226, 133.6571297652359, 133.65712976523594, 133.75527096891832, 133.75527096891835, 134.5648561629106, 134.56485616291062, 134.85792347255168, 134.85792347255168, 134.9788216336265, 134.9788216336265, 135.77620118890627, 135.77620118890627, 136.03402215977388, 136.03402215977388, 136.10560461717435, 136.10560461717435, 137.09441620604935, 137.09441620604937, 137.16933983967684, 137.16933983967684, 137.21811664223262, 137.21811664223264, 137.2517805660121, 137.25178056601212, 137.55886705050708, 137.5588670505071, 138.44776801889407, 138.44776801889407, 139.6864027117501, 139.6864027117501, 139.9080656129043, 139.9080656129043, 141.63367152768967, 141.63367152768967, 142.26895944394425, 142.26895944394425, 142.53070743074204, 142.53070743074204, 143.40253624788932, 143.40253624788932, 143.48802229626216, 143.48802229626216, 143.70081328002954, 143.70081328002954, 143.71023895590798, 143.71023895590798, 145.22948591505684, 145.22948591505687, 145.3158652415046, 145.31586524150464, 147.97408201485285, 147.97408201485288, 148.451019678955, 148.451019678955, 148.7105684387502, 148.71056843875022, 148.80383688352606, 148.80383688352606, 149.92895587878263, 149.92895587878266, 153.16419935865878, 153.16419935865878, 153.32013967661237, 153.32013967661237, 154.01292872622128, 154.01292872622128, 154.49203693554327, 154.49203693554327, 156.28337785033625, 156.28337785033625, 156.43047696156407, 156.43047696156407, 156.6103771515642, 156.61037715156422, 158.49634001030728, 158.49634001030728, 158.5744169198901, 158.5744169198901, 158.72693673392712, 158.72693673392712, 159.11104675484125, 159.11104675484125, 159.2331621166196, 159.23316211661964, 160.0805021393265, 160.0805021393265, 162.35223535311877, 162.35223535311877, 162.7859120317778, 162.7859120317778, 163.87357681990778, 163.87357681990778, 169.36902238298552, 169.36902238298555, 169.53367023749803, 169.5336702374981, 171.23491996086227, 171.23491996086227, 172.6397575667818, 172.6397575667818, 173.75371620757207, 173.75371620757207, 174.56188779181977, 174.56188779181977, 175.6505062081081, 175.6505062081081, 180.06153276729262, 180.06153276729265, 180.35052554897132, 180.35052554897132, 181.5205368562188, 181.5205368562188, 187.5389314868514, 187.5389314868514, 193.6372268815286, 193.6372268815286, 193.64834946028566, 193.64834946028566, 193.95988982933824, 193.95988982933824, 194.23907575085695, 194.23907575085695, 194.25627407604202, 194.25627407604202, 194.27235970976423, 194.27235970976426, 197.96760424702757, 197.96760424702757, 198.79633604315035, 198.79633604315035, 198.79917706602293, 198.79917706602293, 199.29344995990664, 199.29344995990664, 199.91771839715364, 199.91771839715364, 199.9521562782651, 199.9521562782651, 200.37058938659962, 200.37058938659965, 200.83194677091075, 200.83194677091075, 201.94935312179484, 201.94935312179487, 205.7073036083868, 205.70730360838684, 205.9203947844334, 205.9203947844334, 206.31048357489323, 206.31048357489325, 206.74083227865285, 206.74083227865285, 207.62547542316014, 207.62547542316014, 208.07271670819236, 208.07271670819236, 208.4493395511928, 208.4493395511928, 209.01574624542513, 209.01574624542516, 213.69209961196526, 213.69209961196526, 215.14244113326282, 215.14244113326285, 215.62310856841742, 215.62310856841742, 215.90966519956388, 215.90966519956388, 216.3428935942473, 216.3428935942473, 220.29469363048946, 220.29469363048946, 220.52549761260448, 220.5254976126045, 220.69659461509556, 220.69659461509556, 220.72295818216983, 220.72295818216986, 222.62908449535976, 222.62908449535976, 224.5000242616013, 224.5000242616013, 225.60769556753036, 225.6076955675304, 226.15506291344224, 226.15506291344226, 226.23069153477664, 226.23069153477667, 229.83892925553855, 229.83892925553855, 229.9836269758917, 229.9836269758917, 230.54525176107435, 230.54525176107435, 233.01987419063084, 233.01987419063084, 233.31963601885857, 233.3196360188586, 234.21778996243512, 234.21778996243512, 234.3936934748435, 234.39369347484353, 234.8615337953706, 234.8615337953706, 236.329643848366, 236.329643848366, 239.53925129057572, 239.53925129057572, 241.41230500419712, 241.41230500419715, 242.61394267450544, 242.61394267450544, 242.96860785184438, 242.96860785184438, 244.33273902895323, 244.33273902895323, 245.75377199128917, 245.75377199128917, 246.89640972744272, 246.89640972744272, 247.0813920232872, 247.08139202328724, 247.19017419820938, 247.1901741982094, 247.48765456798398, 247.48765456798398, 247.81306202858195, 247.813062028582, 247.83634430835218, 247.83634430835218, 248.66021823550614, 248.66021823550614, 249.10398289282648, 249.10398289282648, 249.24972400679445, 249.24972400679445, 249.81863625871011, 249.81863625871011, 250.20518585563056, 250.20518585563056, 250.552331910072, 250.552331910072, 250.631204854155, 250.631204854155, 251.20749544563986, 251.2074954456399, 251.98872330726104, 251.98872330726107, 256.9259097408478, 256.9259097408478, 258.0986478485303, 258.09864784853033, 258.8615192825012, 258.8615192825012, 259.72749036955554, 259.7274903695556, 259.9452105732777, 259.9452105732777, 260.30842649682944, 260.30842649682944, 260.53861676876244, 260.5386167687625, 261.9895827005955, 261.9895827005955, 262.52485468976977, 262.52485468976977, 263.78563082401274, 263.7856308240128, 264.28277534196894, 264.28277534196894, 264.7799161722749, 264.7799161722749, 264.80510986213443, 264.8051098621345, 266.26680271135956, 266.26680271135956, 266.662996964075, 266.662996964075, 266.77030966759133, 266.7703096675914, 269.33603111032755, 269.3360311103276, 269.5917410594385, 269.59174105943856]\n"
     ]
    }
   ],
   "source": [
    "borders = check_small_boundary_lengths(vest_base)\n",
    "print(borders[:1700])"
   ]
  },
  {
   "cell_type": "code",
   "execution_count": 28,
   "metadata": {
    "collapsed": true,
    "jupyter": {
     "outputs_hidden": true
    }
   },
   "outputs": [
    {
     "name": "stdout",
     "output_type": "stream",
     "text": [
      "Snapping all geometries to a grid with precision 10^( -5 ) to avoid GEOS errors.\n",
      "Identifying overlaps...\n"
     ]
    },
    {
     "name": "stderr",
     "output_type": "stream",
     "text": [
      "100%|███████████████████████████████████████████| 3116/3116 [00:01<00:00, 2255.15it/s]\n"
     ]
    },
    {
     "name": "stdout",
     "output_type": "stream",
     "text": [
      "Resolving overlaps...\n",
      "Filling gaps...\n"
     ]
    },
    {
     "name": "stderr",
     "output_type": "stream",
     "text": [
      "Gaps to simplify: 0it [00:00, ?it/s]\n",
      "Gaps to fill: 0it [00:00, ?it/s]\n"
     ]
    },
    {
     "name": "stdout",
     "output_type": "stream",
     "text": [
      "Converting small rook adjacencies to queen...\n"
     ]
    },
    {
     "name": "stderr",
     "output_type": "stream",
     "text": [
      "100%|████████████████████████████████████████████| 2697/2697 [00:03<00:00, 694.35it/s]\n",
      "100%|█████████████████████████████████████████████████| 4/4 [00:00<00:00, 2487.36it/s]\n",
      "100%|█████████████████████████████████████████████████| 4/4 [00:00<00:00, 2425.50it/s]\n",
      "100%|█████████████████████████████████████████████████| 5/5 [00:00<00:00, 2451.09it/s]\n",
      "100%|█████████████████████████████████████████████████| 4/4 [00:00<00:00, 2018.19it/s]\n",
      "100%|█████████████████████████████████████████████████| 4/4 [00:00<00:00, 2082.32it/s]\n",
      "100%|█████████████████████████████████████████████████| 5/5 [00:00<00:00, 2825.21it/s]\n",
      "100%|█████████████████████████████████████████████████| 4/4 [00:00<00:00, 2092.18it/s]\n",
      "100%|█████████████████████████████████████████████████| 5/5 [00:00<00:00, 2490.09it/s]\n",
      "100%|█████████████████████████████████████████████████| 5/5 [00:00<00:00, 2746.04it/s]\n",
      "100%|█████████████████████████████████████████████████| 6/6 [00:00<00:00, 2575.30it/s]\n",
      "100%|█████████████████████████████████████████████████| 4/4 [00:00<00:00, 2587.08it/s]\n",
      "100%|█████████████████████████████████████████████████| 4/4 [00:00<00:00, 2329.52it/s]\n",
      "100%|█████████████████████████████████████████████████| 4/4 [00:00<00:00, 2668.13it/s]\n",
      "100%|█████████████████████████████████████████████████| 4/4 [00:00<00:00, 2677.07it/s]\n",
      "100%|█████████████████████████████████████████████████| 4/4 [00:00<00:00, 2846.49it/s]\n",
      "100%|█████████████████████████████████████████████████| 5/5 [00:00<00:00, 2728.89it/s]\n",
      "100%|█████████████████████████████████████████████████| 4/4 [00:00<00:00, 2585.88it/s]\n",
      "100%|█████████████████████████████████████████████████| 4/4 [00:00<00:00, 2611.24it/s]\n",
      "100%|█████████████████████████████████████████████████| 4/4 [00:00<00:00, 1913.90it/s]\n",
      "100%|█████████████████████████████████████████████████| 4/4 [00:00<00:00, 1923.11it/s]\n",
      "100%|█████████████████████████████████████████████████| 4/4 [00:00<00:00, 2451.02it/s]\n",
      "100%|█████████████████████████████████████████████████| 4/4 [00:00<00:00, 2252.28it/s]\n",
      "100%|█████████████████████████████████████████████████| 4/4 [00:00<00:00, 2719.16it/s]\n",
      "100%|█████████████████████████████████████████████████| 4/4 [00:00<00:00, 2396.75it/s]\n",
      "100%|█████████████████████████████████████████████████| 4/4 [00:00<00:00, 2652.10it/s]\n",
      "100%|█████████████████████████████████████████████████| 4/4 [00:00<00:00, 2865.45it/s]\n",
      "100%|█████████████████████████████████████████████████| 4/4 [00:00<00:00, 2197.70it/s]\n",
      "100%|█████████████████████████████████████████████████| 5/5 [00:00<00:00, 2816.86it/s]\n",
      "100%|█████████████████████████████████████████████████| 4/4 [00:00<00:00, 1982.19it/s]\n",
      "100%|█████████████████████████████████████████████████| 4/4 [00:00<00:00, 2804.62it/s]\n",
      "100%|█████████████████████████████████████████████████| 4/4 [00:00<00:00, 2657.57it/s]\n",
      "100%|█████████████████████████████████████████████████| 4/4 [00:00<00:00, 2389.58it/s]\n",
      "100%|█████████████████████████████████████████████████| 5/5 [00:00<00:00, 2799.19it/s]\n",
      "100%|█████████████████████████████████████████████████| 4/4 [00:00<00:00, 1642.89it/s]\n",
      "100%|█████████████████████████████████████████████████| 4/4 [00:00<00:00, 2068.45it/s]\n",
      "100%|█████████████████████████████████████████████████| 4/4 [00:00<00:00, 2775.85it/s]\n",
      "100%|█████████████████████████████████████████████████| 4/4 [00:00<00:00, 1525.48it/s]\n",
      "100%|█████████████████████████████████████████████████| 4/4 [00:00<00:00, 1911.93it/s]\n",
      "100%|█████████████████████████████████████████████████| 4/4 [00:00<00:00, 2643.75it/s]\n",
      "100%|█████████████████████████████████████████████████| 4/4 [00:00<00:00, 2229.53it/s]\n",
      "100%|█████████████████████████████████████████████████| 4/4 [00:00<00:00, 2666.44it/s]\n",
      "100%|█████████████████████████████████████████████████| 4/4 [00:00<00:00, 2706.00it/s]\n",
      "100%|█████████████████████████████████████████████████| 4/4 [00:00<00:00, 2711.69it/s]\n",
      "100%|█████████████████████████████████████████████████| 4/4 [00:00<00:00, 2689.95it/s]\n",
      "100%|█████████████████████████████████████████████████| 4/4 [00:00<00:00, 1922.23it/s]\n",
      "100%|█████████████████████████████████████████████████| 4/4 [00:00<00:00, 2726.67it/s]\n",
      "100%|█████████████████████████████████████████████████| 4/4 [00:00<00:00, 2645.83it/s]\n",
      "100%|█████████████████████████████████████████████████| 4/4 [00:00<00:00, 2749.46it/s]\n",
      "100%|█████████████████████████████████████████████████| 4/4 [00:00<00:00, 2702.95it/s]\n",
      "100%|█████████████████████████████████████████████████| 4/4 [00:00<00:00, 2628.42it/s]\n",
      "100%|█████████████████████████████████████████████████| 5/5 [00:00<00:00, 2755.06it/s]\n",
      "100%|█████████████████████████████████████████████████| 4/4 [00:00<00:00, 2645.41it/s]\n",
      "100%|█████████████████████████████████████████████████| 4/4 [00:00<00:00, 2402.24it/s]\n",
      "100%|█████████████████████████████████████████████████| 4/4 [00:00<00:00, 2691.68it/s]\n",
      "100%|█████████████████████████████████████████████████| 4/4 [00:00<00:00, 1745.81it/s]\n",
      "100%|█████████████████████████████████████████████████| 4/4 [00:00<00:00, 2378.06it/s]\n",
      "100%|█████████████████████████████████████████████████| 4/4 [00:00<00:00, 1998.00it/s]\n",
      "100%|█████████████████████████████████████████████████| 5/5 [00:00<00:00, 2738.15it/s]\n",
      "100%|█████████████████████████████████████████████████| 4/4 [00:00<00:00, 2362.32it/s]\n",
      "100%|█████████████████████████████████████████████████| 4/4 [00:00<00:00, 2217.16it/s]\n",
      "100%|█████████████████████████████████████████████████| 6/6 [00:00<00:00, 2683.50it/s]\n",
      "100%|█████████████████████████████████████████████████| 5/5 [00:00<00:00, 2678.01it/s]\n",
      "100%|█████████████████████████████████████████████████| 4/4 [00:00<00:00, 2734.23it/s]\n",
      "100%|█████████████████████████████████████████████████| 4/4 [00:00<00:00, 1858.97it/s]\n",
      "100%|█████████████████████████████████████████████████| 4/4 [00:00<00:00, 2728.45it/s]\n",
      "100%|█████████████████████████████████████████████████| 4/4 [00:00<00:00, 2913.22it/s]\n",
      "100%|█████████████████████████████████████████████████| 4/4 [00:00<00:00, 2873.80it/s]\n",
      "100%|█████████████████████████████████████████████████| 5/5 [00:00<00:00, 2166.26it/s]\n",
      "100%|█████████████████████████████████████████████████| 4/4 [00:00<00:00, 3147.10it/s]\n",
      "100%|█████████████████████████████████████████████████| 4/4 [00:00<00:00, 2646.67it/s]\n",
      "100%|█████████████████████████████████████████████████| 4/4 [00:00<00:00, 2677.07it/s]\n",
      "100%|█████████████████████████████████████████████████| 5/5 [00:00<00:00, 2868.49it/s]\n",
      "100%|█████████████████████████████████████████████████| 5/5 [00:00<00:00, 2802.93it/s]\n",
      "100%|█████████████████████████████████████████████████| 5/5 [00:00<00:00, 2819.89it/s]\n",
      "100%|█████████████████████████████████████████████████| 4/4 [00:00<00:00, 2534.71it/s]\n",
      "100%|████████████████████████████████████████████| 2697/2697 [00:03<00:00, 742.58it/s]\n"
     ]
    }
   ],
   "source": [
    "vest_base = do_smart_repair(vest_base, min_rook_length = 30.5)"
   ]
  },
  {
   "cell_type": "code",
   "execution_count": 29,
   "metadata": {},
   "outputs": [
    {
     "name": "stderr",
     "output_type": "stream",
     "text": [
      "100%|████████████████████████████████████████████| 2697/2697 [00:03<00:00, 772.78it/s]\n"
     ]
    },
    {
     "data": {
      "text/plain": [
       "True"
      ]
     },
     "execution_count": 29,
     "metadata": {},
     "output_type": "execute_result"
    }
   ],
   "source": [
    "maup.doctor(vest_base)"
   ]
  },
  {
   "cell_type": "markdown",
   "metadata": {},
   "source": [
    "## If it is true for maup doctor, we will use it as the base vest data."
   ]
  },
  {
   "cell_type": "code",
   "execution_count": 30,
   "metadata": {},
   "outputs": [
    {
     "name": "stderr",
     "output_type": "stream",
     "text": [
      "100%|████████████████████████████████████████████| 2697/2697 [00:05<00:00, 525.30it/s]\n",
      "100%|████████████████████████████████████████████| 2697/2697 [00:18<00:00, 143.09it/s]\n"
     ]
    }
   ],
   "source": [
    "# vap and population have the same GEOID20\n",
    "blocks_to_precincts_assignment = maup.assign(population_df.geometry, vest_base.geometry)"
   ]
  },
  {
   "cell_type": "code",
   "execution_count": 31,
   "metadata": {},
   "outputs": [],
   "source": [
    "vest_base[pop_col] = population_df[pop_col].groupby(blocks_to_precincts_assignment).sum()"
   ]
  },
  {
   "cell_type": "code",
   "execution_count": 32,
   "metadata": {},
   "outputs": [],
   "source": [
    "election_df = gpd.GeoDataFrame(vest_base)"
   ]
  },
  {
   "cell_type": "code",
   "execution_count": 33,
   "metadata": {},
   "outputs": [
    {
     "data": {
      "text/plain": [
       "Index(['CTYNAME', 'CTYNUMBER', 'CTYNUMBER2', 'CTYSOSID', 'DISTRICT', 'FIPS2',\n",
       "       'PRE16D', 'PRE16O', 'PRE16R', 'PRECINCT_I', 'PRECINCT_N', 'PSC16O',\n",
       "       'PSC16R', 'USS16D', 'USS16O', 'USS16R', 'geometry', 'TOTPOP', 'HISP',\n",
       "       'NH_WHITE', 'NH_BLACK', 'NH_AMIN', 'NH_ASIAN', 'NH_NHPI', 'NH_OTHER',\n",
       "       'NH_2MORE', 'H_WHITE', 'H_BLACK', 'H_AMIN', 'H_ASIAN', 'H_NHPI',\n",
       "       'H_OTHER', 'H_2MORE', 'VAP', 'HVAP', 'WVAP', 'BVAP', 'AMINVAP',\n",
       "       'ASIANVAP', 'NHPIVAP', 'OTHERVAP', '2MOREVAP'],\n",
       "      dtype='object')"
      ]
     },
     "execution_count": 33,
     "metadata": {},
     "output_type": "execute_result"
    }
   ],
   "source": [
    "election_df.columns"
   ]
  },
  {
   "cell_type": "markdown",
   "metadata": {},
   "source": [
    "## Check if population agrees"
   ]
  },
  {
   "cell_type": "code",
   "execution_count": 34,
   "metadata": {},
   "outputs": [
    {
     "name": "stdout",
     "output_type": "stream",
     "text": [
      "population agrees\n"
     ]
    }
   ],
   "source": [
    "check_population(population_df, vest_base)"
   ]
  },
  {
   "cell_type": "markdown",
   "metadata": {},
   "source": [
    "## Add more vest data"
   ]
  },
  {
   "cell_type": "code",
   "execution_count": 35,
   "metadata": {},
   "outputs": [],
   "source": [
    "vest18 = gpd.read_file(vest18_data)"
   ]
  },
  {
   "cell_type": "code",
   "execution_count": 36,
   "metadata": {},
   "outputs": [
    {
     "data": {
      "text/plain": [
       "Index(['DISTRICT', 'CTYSOSID', 'PRECINCT_I', 'PRECINCT_N', 'CTYNAME',\n",
       "       'CTYNUMBER', 'CTYNUMBER2', 'FIPS2', 'G18GOVRKEM', 'G18GOVDABR',\n",
       "       'G18GOVLMET', 'G18LTGRDUN', 'G18LTGDAMI', 'G18SOSRRAF', 'G18SOSDBAR',\n",
       "       'G18SOSLDUV', 'G18ATGRCAR', 'G18ATGDBAI', 'G18AGRRBLA', 'G18AGRDSWA',\n",
       "       'G18INSRBEC', 'G18INSDLAW', 'G18INSLFOS', 'G18SPIRWOO', 'G18SPIDTHO',\n",
       "       'G18LABRBUT', 'G18LABDKEA', 'G18PSCREAT', 'G18PSCDMIL', 'G18PSCLGRA',\n",
       "       'G18PSCRPRI', 'G18PSCDRAN', 'G18PSCLTUR', 'R18SOSRRAF', 'R18SOSDBAR',\n",
       "       'R18PSCREAT', 'R18PSCDMIL', 'geometry'],\n",
       "      dtype='object')"
      ]
     },
     "execution_count": 36,
     "metadata": {},
     "output_type": "execute_result"
    }
   ],
   "source": [
    "vest18.columns"
   ]
  },
  {
   "cell_type": "code",
   "execution_count": 37,
   "metadata": {},
   "outputs": [
    {
     "name": "stderr",
     "output_type": "stream",
     "text": [
      "100%|████████████████████████████████████████████| 2658/2658 [00:04<00:00, 614.52it/s]\n"
     ]
    },
    {
     "name": "stdout",
     "output_type": "stream",
     "text": [
      "There are 347 overlaps.\n",
      "There are 564 holes.\n",
      "There are some invalid geometries.\n",
      "Snapping all geometries to a grid with precision 10^( -5 ) to avoid GEOS errors.\n",
      "Identifying overlaps...\n"
     ]
    },
    {
     "name": "stderr",
     "output_type": "stream",
     "text": [
      "100%|███████████████████████████████████████████| 4653/4653 [00:01<00:00, 2567.35it/s]\n"
     ]
    },
    {
     "name": "stdout",
     "output_type": "stream",
     "text": [
      "Resolving overlaps...\n",
      "Assigning order 2 pieces...\n",
      "Assigning order 3 pieces...\n",
      "Filling gaps...\n"
     ]
    },
    {
     "name": "stderr",
     "output_type": "stream",
     "text": [
      "Gaps to simplify: 100%|█████████████████████████████| 762/762 [02:41<00:00,  4.73it/s]\n",
      "Gaps to fill: 100%|█████████████████████████████████| 147/147 [00:36<00:00,  4.06it/s]\n",
      "100%|████████████████████████████████████████████| 2658/2658 [00:03<00:00, 742.86it/s]\n",
      "100%|████████████████████████████████████████████| 2658/2658 [00:05<00:00, 477.60it/s]\n",
      "100%|████████████████████████████████████████████| 2658/2658 [00:17<00:00, 148.53it/s]\n",
      "100%|████████████████████████████████████████████| 2697/2697 [00:05<00:00, 528.08it/s]\n",
      "100%|████████████████████████████████████████████| 2697/2697 [00:17<00:00, 151.69it/s]\n"
     ]
    },
    {
     "name": "stdout",
     "output_type": "stream",
     "text": [
      "population agrees\n"
     ]
    }
   ],
   "source": [
    "election_df = add_vest(vest18, election_df, '18', population_df, start_col)"
   ]
  },
  {
   "cell_type": "code",
   "execution_count": 38,
   "metadata": {
    "scrolled": true
   },
   "outputs": [
    {
     "ename": "GEOSException",
     "evalue": "TopologyException: side location conflict at 196134.12780460934 3741714.122431715. This can occur if the input geometry is invalid.",
     "output_type": "error",
     "traceback": [
      "\u001b[0;31m---------------------------------------------------------------------------\u001b[0m",
      "\u001b[0;31mGEOSException\u001b[0m                             Traceback (most recent call last)",
      "Cell \u001b[0;32mIn[38], line 1\u001b[0m\n\u001b[0;32m----> 1\u001b[0m election_df \u001b[38;5;241m=\u001b[39m \u001b[43madd_vest\u001b[49m\u001b[43m(\u001b[49m\u001b[43mvest20\u001b[49m\u001b[43m,\u001b[49m\u001b[43m \u001b[49m\u001b[43melection_df\u001b[49m\u001b[43m,\u001b[49m\u001b[43m \u001b[49m\u001b[38;5;124;43m'\u001b[39;49m\u001b[38;5;124;43m20\u001b[39;49m\u001b[38;5;124;43m'\u001b[39;49m\u001b[43m,\u001b[49m\u001b[43m \u001b[49m\u001b[43mpopulation_df\u001b[49m\u001b[43m,\u001b[49m\u001b[43m \u001b[49m\u001b[43mstart_col\u001b[49m\u001b[43m)\u001b[49m\n",
      "Cell \u001b[0;32mIn[10], line 9\u001b[0m, in \u001b[0;36madd_vest\u001b[0;34m(vest, df, year, population, start_col, snap_precision)\u001b[0m\n\u001b[1;32m      6\u001b[0m vest_crs \u001b[38;5;241m=\u001b[39m vest\u001b[38;5;241m.\u001b[39mcrs\n\u001b[1;32m      8\u001b[0m  \u001b[38;5;66;03m# check if it needs to be smart_repair\u001b[39;00m\n\u001b[0;32m----> 9\u001b[0m \u001b[38;5;28;01mif\u001b[39;00m \u001b[43mmaup\u001b[49m\u001b[38;5;241;43m.\u001b[39;49m\u001b[43mdoctor\u001b[49m\u001b[43m(\u001b[49m\u001b[43mvest\u001b[49m\u001b[43m)\u001b[49m \u001b[38;5;241m!=\u001b[39m \u001b[38;5;28;01mTrue\u001b[39;00m:\n\u001b[1;32m     10\u001b[0m     vest \u001b[38;5;241m=\u001b[39m do_smart_repair(vest, snap_precision \u001b[38;5;241m=\u001b[39m snap_precision)\n\u001b[1;32m     12\u001b[0m \u001b[38;5;66;03m# rename the columns\u001b[39;00m\n",
      "File \u001b[0;32m~/venvs/maup/lib/python3.12/site-packages/maup/repair.py:284\u001b[0m, in \u001b[0;36mdoctor\u001b[0;34m(source, target, silent, accept_holes)\u001b[0m\n\u001b[1;32m    271\u001b[0m \u001b[38;5;250m\u001b[39m\u001b[38;5;124;03m\"\"\"\u001b[39;00m\n\u001b[1;32m    272\u001b[0m \u001b[38;5;124;03mDetects quality issues in a given set of source and target geometries. Quality\u001b[39;00m\n\u001b[1;32m    273\u001b[0m \u001b[38;5;124;03missues include overlaps, gaps, invalid geometries, non-perfect\u001b[39;00m\n\u001b[0;32m   (...)\u001b[0m\n\u001b[1;32m    281\u001b[0m \u001b[38;5;124;03mFalse. (Default is accept_holes = False.)\u001b[39;00m\n\u001b[1;32m    282\u001b[0m \u001b[38;5;124;03m\"\"\"\u001b[39;00m\n\u001b[1;32m    283\u001b[0m shapefiles \u001b[38;5;241m=\u001b[39m [source]\n\u001b[0;32m--> 284\u001b[0m source_union \u001b[38;5;241m=\u001b[39m \u001b[43munary_union\u001b[49m\u001b[43m(\u001b[49m\u001b[43mget_geometries\u001b[49m\u001b[43m(\u001b[49m\u001b[43msource\u001b[49m\u001b[43m)\u001b[49m\u001b[43m)\u001b[49m\n\u001b[1;32m    286\u001b[0m health_check \u001b[38;5;241m=\u001b[39m \u001b[38;5;28;01mTrue\u001b[39;00m\n\u001b[1;32m    288\u001b[0m \u001b[38;5;28;01mif\u001b[39;00m target \u001b[38;5;129;01mis\u001b[39;00m \u001b[38;5;129;01mnot\u001b[39;00m \u001b[38;5;28;01mNone\u001b[39;00m:\n",
      "File \u001b[0;32m~/venvs/maup/lib/python3.12/site-packages/shapely/ops.py:135\u001b[0m, in \u001b[0;36mCollectionOperator.unary_union\u001b[0;34m(self, geoms)\u001b[0m\n\u001b[1;32m    129\u001b[0m \u001b[38;5;28;01mdef\u001b[39;00m\u001b[38;5;250m \u001b[39m\u001b[38;5;21munary_union\u001b[39m(\u001b[38;5;28mself\u001b[39m, geoms):\n\u001b[1;32m    130\u001b[0m \u001b[38;5;250m    \u001b[39m\u001b[38;5;124;03m\"\"\"Returns the union of a sequence of geometries\u001b[39;00m\n\u001b[1;32m    131\u001b[0m \n\u001b[1;32m    132\u001b[0m \u001b[38;5;124;03m    Usually used to convert a collection into the smallest set of polygons\u001b[39;00m\n\u001b[1;32m    133\u001b[0m \u001b[38;5;124;03m    that cover the same area.\u001b[39;00m\n\u001b[1;32m    134\u001b[0m \u001b[38;5;124;03m    \"\"\"\u001b[39;00m\n\u001b[0;32m--> 135\u001b[0m     \u001b[38;5;28;01mreturn\u001b[39;00m \u001b[43mshapely\u001b[49m\u001b[38;5;241;43m.\u001b[39;49m\u001b[43munion_all\u001b[49m\u001b[43m(\u001b[49m\u001b[43mgeoms\u001b[49m\u001b[43m,\u001b[49m\u001b[43m \u001b[49m\u001b[43maxis\u001b[49m\u001b[38;5;241;43m=\u001b[39;49m\u001b[38;5;28;43;01mNone\u001b[39;49;00m\u001b[43m)\u001b[49m\n",
      "File \u001b[0;32m~/venvs/maup/lib/python3.12/site-packages/shapely/decorators.py:77\u001b[0m, in \u001b[0;36mmultithreading_enabled.<locals>.wrapped\u001b[0;34m(*args, **kwargs)\u001b[0m\n\u001b[1;32m     75\u001b[0m     \u001b[38;5;28;01mfor\u001b[39;00m arr \u001b[38;5;129;01min\u001b[39;00m array_args:\n\u001b[1;32m     76\u001b[0m         arr\u001b[38;5;241m.\u001b[39mflags\u001b[38;5;241m.\u001b[39mwriteable \u001b[38;5;241m=\u001b[39m \u001b[38;5;28;01mFalse\u001b[39;00m\n\u001b[0;32m---> 77\u001b[0m     \u001b[38;5;28;01mreturn\u001b[39;00m \u001b[43mfunc\u001b[49m\u001b[43m(\u001b[49m\u001b[38;5;241;43m*\u001b[39;49m\u001b[43margs\u001b[49m\u001b[43m,\u001b[49m\u001b[43m \u001b[49m\u001b[38;5;241;43m*\u001b[39;49m\u001b[38;5;241;43m*\u001b[39;49m\u001b[43mkwargs\u001b[49m\u001b[43m)\u001b[49m\n\u001b[1;32m     78\u001b[0m \u001b[38;5;28;01mfinally\u001b[39;00m:\n\u001b[1;32m     79\u001b[0m     \u001b[38;5;28;01mfor\u001b[39;00m arr, old_flag \u001b[38;5;129;01min\u001b[39;00m \u001b[38;5;28mzip\u001b[39m(array_args, old_flags):\n",
      "File \u001b[0;32m~/venvs/maup/lib/python3.12/site-packages/shapely/set_operations.py:421\u001b[0m, in \u001b[0;36munion_all\u001b[0;34m(geometries, grid_size, axis, **kwargs)\u001b[0m\n\u001b[1;32m    417\u001b[0m         \u001b[38;5;28;01mraise\u001b[39;00m \u001b[38;5;167;01mValueError\u001b[39;00m(\u001b[38;5;124m\"\u001b[39m\u001b[38;5;124mgrid_size parameter only accepts scalar values\u001b[39m\u001b[38;5;124m\"\u001b[39m)\n\u001b[1;32m    419\u001b[0m     \u001b[38;5;28;01mreturn\u001b[39;00m lib\u001b[38;5;241m.\u001b[39munary_union_prec(collections, grid_size, \u001b[38;5;241m*\u001b[39m\u001b[38;5;241m*\u001b[39mkwargs)\n\u001b[0;32m--> 421\u001b[0m \u001b[38;5;28;01mreturn\u001b[39;00m \u001b[43mlib\u001b[49m\u001b[38;5;241;43m.\u001b[39;49m\u001b[43munary_union\u001b[49m\u001b[43m(\u001b[49m\u001b[43mcollections\u001b[49m\u001b[43m,\u001b[49m\u001b[43m \u001b[49m\u001b[38;5;241;43m*\u001b[39;49m\u001b[38;5;241;43m*\u001b[39;49m\u001b[43mkwargs\u001b[49m\u001b[43m)\u001b[49m\n",
      "\u001b[0;31mGEOSException\u001b[0m: TopologyException: side location conflict at 196134.12780460934 3741714.122431715. This can occur if the input geometry is invalid."
     ]
    }
   ],
   "source": [
    "election_df = add_vest(vest20, election_df, '20', population_df, start_col)"
   ]
  },
  {
   "cell_type": "markdown",
   "metadata": {},
   "source": [
    "##  Add the district data"
   ]
  },
  {
   "cell_type": "code",
   "execution_count": 39,
   "metadata": {},
   "outputs": [],
   "source": [
    "cd = gpd.read_file(cd_data)\n",
    "cd = cd.to_crs(cd.estimate_utm_crs())\n",
    "send = gpd.read_file(send_data)\n",
    "send = send.to_crs(send.estimate_utm_crs())\n",
    "hdist = gpd.read_file(hdist_data)\n",
    "hdist = hdist.to_crs(hdist.estimate_utm_crs())"
   ]
  },
  {
   "cell_type": "code",
   "execution_count": 40,
   "metadata": {},
   "outputs": [
    {
     "data": {
      "text/html": [
       "<div>\n",
       "<style scoped>\n",
       "    .dataframe tbody tr th:only-of-type {\n",
       "        vertical-align: middle;\n",
       "    }\n",
       "\n",
       "    .dataframe tbody tr th {\n",
       "        vertical-align: top;\n",
       "    }\n",
       "\n",
       "    .dataframe thead th {\n",
       "        text-align: right;\n",
       "    }\n",
       "</style>\n",
       "<table border=\"1\" class=\"dataframe\">\n",
       "  <thead>\n",
       "    <tr style=\"text-align: right;\">\n",
       "      <th></th>\n",
       "      <th>ID</th>\n",
       "      <th>AREA</th>\n",
       "      <th>DATA</th>\n",
       "      <th>DISTRICT</th>\n",
       "      <th>MEMBERS</th>\n",
       "      <th>LOCKED</th>\n",
       "      <th>NAME</th>\n",
       "      <th>POPULATION</th>\n",
       "      <th>F18_POP</th>\n",
       "      <th>NH_WHT</th>\n",
       "      <th>...</th>\n",
       "      <th>F_AP_HWN</th>\n",
       "      <th>F_AP_OTH</th>\n",
       "      <th>F_18_AP_WH</th>\n",
       "      <th>F_18_AP_IN</th>\n",
       "      <th>F_18_AP_AS</th>\n",
       "      <th>F_18_AP_HW</th>\n",
       "      <th>F_18_AP_OT</th>\n",
       "      <th>F_PEOPLE_I</th>\n",
       "      <th>IDEAL_VALU</th>\n",
       "      <th>geometry</th>\n",
       "    </tr>\n",
       "  </thead>\n",
       "  <tbody>\n",
       "    <tr>\n",
       "      <th>0</th>\n",
       "      <td>1</td>\n",
       "      <td>599.114258</td>\n",
       "      <td>5</td>\n",
       "      <td>013</td>\n",
       "      <td>1.0</td>\n",
       "      <td>None</td>\n",
       "      <td>None</td>\n",
       "      <td>765137</td>\n",
       "      <td>574789</td>\n",
       "      <td>125106</td>\n",
       "      <td>...</td>\n",
       "      <td>0.001472</td>\n",
       "      <td>0.104958</td>\n",
       "      <td>0.000416</td>\n",
       "      <td>0.000029</td>\n",
       "      <td>0.000043</td>\n",
       "      <td>0.000001</td>\n",
       "      <td>0.000143</td>\n",
       "      <td>0.006238</td>\n",
       "      <td>765136.0</td>\n",
       "      <td>POLYGON ((176433.370 3746423.235, 176413.770 3...</td>\n",
       "    </tr>\n",
       "    <tr>\n",
       "      <th>1</th>\n",
       "      <td>2</td>\n",
       "      <td>1168.543210</td>\n",
       "      <td>3</td>\n",
       "      <td>011</td>\n",
       "      <td>1.0</td>\n",
       "      <td>None</td>\n",
       "      <td>None</td>\n",
       "      <td>765137</td>\n",
       "      <td>595201</td>\n",
       "      <td>469264</td>\n",
       "      <td>...</td>\n",
       "      <td>0.001412</td>\n",
       "      <td>0.115147</td>\n",
       "      <td>0.000668</td>\n",
       "      <td>0.000038</td>\n",
       "      <td>0.000068</td>\n",
       "      <td>0.000003</td>\n",
       "      <td>0.000138</td>\n",
       "      <td>0.015703</td>\n",
       "      <td>765136.0</td>\n",
       "      <td>POLYGON ((180172.280 3748325.841, 180166.990 3...</td>\n",
       "    </tr>\n",
       "    <tr>\n",
       "      <th>2</th>\n",
       "      <td>3</td>\n",
       "      <td>250.457443</td>\n",
       "      <td>10</td>\n",
       "      <td>005</td>\n",
       "      <td>1.0</td>\n",
       "      <td>None</td>\n",
       "      <td>None</td>\n",
       "      <td>765137</td>\n",
       "      <td>621515</td>\n",
       "      <td>273819</td>\n",
       "      <td>...</td>\n",
       "      <td>0.001432</td>\n",
       "      <td>0.064441</td>\n",
       "      <td>0.000271</td>\n",
       "      <td>0.000013</td>\n",
       "      <td>0.000033</td>\n",
       "      <td>0.000001</td>\n",
       "      <td>0.000036</td>\n",
       "      <td>0.050784</td>\n",
       "      <td>765136.0</td>\n",
       "      <td>POLYGON ((175612.647 3745359.219, 175703.728 3...</td>\n",
       "    </tr>\n",
       "    <tr>\n",
       "      <th>3</th>\n",
       "      <td>257</td>\n",
       "      <td>417.795990</td>\n",
       "      <td>9</td>\n",
       "      <td>004</td>\n",
       "      <td>1.0</td>\n",
       "      <td>None</td>\n",
       "      <td>None</td>\n",
       "      <td>765135</td>\n",
       "      <td>589470</td>\n",
       "      <td>197536</td>\n",
       "      <td>...</td>\n",
       "      <td>0.001445</td>\n",
       "      <td>0.104404</td>\n",
       "      <td>0.000381</td>\n",
       "      <td>0.000018</td>\n",
       "      <td>0.000037</td>\n",
       "      <td>0.000001</td>\n",
       "      <td>0.000060</td>\n",
       "      <td>0.008533</td>\n",
       "      <td>765136.0</td>\n",
       "      <td>POLYGON ((236402.018 3716651.736, 236399.074 3...</td>\n",
       "    </tr>\n",
       "    <tr>\n",
       "      <th>4</th>\n",
       "      <td>258</td>\n",
       "      <td>322.790497</td>\n",
       "      <td>12</td>\n",
       "      <td>007</td>\n",
       "      <td>1.0</td>\n",
       "      <td>None</td>\n",
       "      <td>None</td>\n",
       "      <td>765137</td>\n",
       "      <td>566934</td>\n",
       "      <td>225905</td>\n",
       "      <td>...</td>\n",
       "      <td>0.001771</td>\n",
       "      <td>0.205277</td>\n",
       "      <td>0.000138</td>\n",
       "      <td>0.000008</td>\n",
       "      <td>0.000042</td>\n",
       "      <td>0.000000</td>\n",
       "      <td>0.000045</td>\n",
       "      <td>0.002537</td>\n",
       "      <td>765136.0</td>\n",
       "      <td>POLYGON ((237073.706 3754128.735, 236874.015 3...</td>\n",
       "    </tr>\n",
       "  </tbody>\n",
       "</table>\n",
       "<p>5 rows × 73 columns</p>\n",
       "</div>"
      ],
      "text/plain": [
       "    ID         AREA  DATA DISTRICT  MEMBERS LOCKED  NAME  POPULATION  F18_POP  \\\n",
       "0    1   599.114258     5      013      1.0   None  None      765137   574789   \n",
       "1    2  1168.543210     3      011      1.0   None  None      765137   595201   \n",
       "2    3   250.457443    10      005      1.0   None  None      765137   621515   \n",
       "3  257   417.795990     9      004      1.0   None  None      765135   589470   \n",
       "4  258   322.790497    12      007      1.0   None  None      765137   566934   \n",
       "\n",
       "   NH_WHT  ...  F_AP_HWN  F_AP_OTH  F_18_AP_WH  F_18_AP_IN  F_18_AP_AS  \\\n",
       "0  125106  ...  0.001472  0.104958    0.000416    0.000029    0.000043   \n",
       "1  469264  ...  0.001412  0.115147    0.000668    0.000038    0.000068   \n",
       "2  273819  ...  0.001432  0.064441    0.000271    0.000013    0.000033   \n",
       "3  197536  ...  0.001445  0.104404    0.000381    0.000018    0.000037   \n",
       "4  225905  ...  0.001771  0.205277    0.000138    0.000008    0.000042   \n",
       "\n",
       "   F_18_AP_HW  F_18_AP_OT  F_PEOPLE_I  IDEAL_VALU  \\\n",
       "0    0.000001    0.000143    0.006238    765136.0   \n",
       "1    0.000003    0.000138    0.015703    765136.0   \n",
       "2    0.000001    0.000036    0.050784    765136.0   \n",
       "3    0.000001    0.000060    0.008533    765136.0   \n",
       "4    0.000000    0.000045    0.002537    765136.0   \n",
       "\n",
       "                                            geometry  \n",
       "0  POLYGON ((176433.370 3746423.235, 176413.770 3...  \n",
       "1  POLYGON ((180172.280 3748325.841, 180166.990 3...  \n",
       "2  POLYGON ((175612.647 3745359.219, 175703.728 3...  \n",
       "3  POLYGON ((236402.018 3716651.736, 236399.074 3...  \n",
       "4  POLYGON ((237073.706 3754128.735, 236874.015 3...  \n",
       "\n",
       "[5 rows x 73 columns]"
      ]
     },
     "execution_count": 40,
     "metadata": {},
     "output_type": "execute_result"
    }
   ],
   "source": [
    "cd.head()"
   ]
  },
  {
   "cell_type": "code",
   "execution_count": 41,
   "metadata": {},
   "outputs": [
    {
     "name": "stderr",
     "output_type": "stream",
     "text": [
      "100%|█████████████████████████████████████████████████| 14/14 [00:00<00:00, 80.64it/s]\n",
      "100%|████████████████████████████████████████████████| 14/14 [00:00<00:00, 105.74it/s]\n",
      "100%|█████████████████████████████████████████████████| 14/14 [00:01<00:00, 12.60it/s]\n"
     ]
    }
   ],
   "source": [
    "election_df = add_district(cd, \"CD\", election_df, \"DISTRICT\")"
   ]
  },
  {
   "cell_type": "code",
   "execution_count": 42,
   "metadata": {},
   "outputs": [
    {
     "data": {
      "text/html": [
       "<div>\n",
       "<style scoped>\n",
       "    .dataframe tbody tr th:only-of-type {\n",
       "        vertical-align: middle;\n",
       "    }\n",
       "\n",
       "    .dataframe tbody tr th {\n",
       "        vertical-align: top;\n",
       "    }\n",
       "\n",
       "    .dataframe thead th {\n",
       "        text-align: right;\n",
       "    }\n",
       "</style>\n",
       "<table border=\"1\" class=\"dataframe\">\n",
       "  <thead>\n",
       "    <tr style=\"text-align: right;\">\n",
       "      <th></th>\n",
       "      <th>ID</th>\n",
       "      <th>AREA</th>\n",
       "      <th>DATA</th>\n",
       "      <th>DISTRICT</th>\n",
       "      <th>MEMBERS</th>\n",
       "      <th>LOCKED</th>\n",
       "      <th>NAME</th>\n",
       "      <th>POPULATION</th>\n",
       "      <th>F18_POP</th>\n",
       "      <th>NH_WHT</th>\n",
       "      <th>...</th>\n",
       "      <th>F_AP_HWN</th>\n",
       "      <th>F_AP_OTH</th>\n",
       "      <th>F_18_AP_WH</th>\n",
       "      <th>F_18_AP_IN</th>\n",
       "      <th>F_18_AP_AS</th>\n",
       "      <th>F_18_AP_HW</th>\n",
       "      <th>F_18_AP_OT</th>\n",
       "      <th>F_PEOPLE_I</th>\n",
       "      <th>IDEAL_VALU</th>\n",
       "      <th>geometry</th>\n",
       "    </tr>\n",
       "  </thead>\n",
       "  <tbody>\n",
       "    <tr>\n",
       "      <th>0</th>\n",
       "      <td>1</td>\n",
       "      <td>873.386475</td>\n",
       "      <td>128</td>\n",
       "      <td>030</td>\n",
       "      <td>1.0</td>\n",
       "      <td>None</td>\n",
       "      <td>None</td>\n",
       "      <td>191475</td>\n",
       "      <td>145077</td>\n",
       "      <td>128237</td>\n",
       "      <td>...</td>\n",
       "      <td>0.001128</td>\n",
       "      <td>0.063079</td>\n",
       "      <td>0.000581</td>\n",
       "      <td>0.000047</td>\n",
       "      <td>0.000012</td>\n",
       "      <td>0.000001</td>\n",
       "      <td>0.000041</td>\n",
       "      <td>0.018274</td>\n",
       "      <td>191284.0</td>\n",
       "      <td>POLYGON ((134878.537 3752731.801, 134916.954 3...</td>\n",
       "    </tr>\n",
       "    <tr>\n",
       "      <th>1</th>\n",
       "      <td>2</td>\n",
       "      <td>577.962463</td>\n",
       "      <td>97</td>\n",
       "      <td>031</td>\n",
       "      <td>1.0</td>\n",
       "      <td>None</td>\n",
       "      <td>None</td>\n",
       "      <td>192560</td>\n",
       "      <td>142251</td>\n",
       "      <td>125543</td>\n",
       "      <td>...</td>\n",
       "      <td>0.001662</td>\n",
       "      <td>0.074320</td>\n",
       "      <td>0.000442</td>\n",
       "      <td>0.000027</td>\n",
       "      <td>0.000021</td>\n",
       "      <td>0.000002</td>\n",
       "      <td>0.000058</td>\n",
       "      <td>0.005526</td>\n",
       "      <td>191284.0</td>\n",
       "      <td>POLYGON ((148686.115 3777848.012, 148710.861 3...</td>\n",
       "    </tr>\n",
       "    <tr>\n",
       "      <th>2</th>\n",
       "      <td>3</td>\n",
       "      <td>912.498718</td>\n",
       "      <td>96</td>\n",
       "      <td>052</td>\n",
       "      <td>1.0</td>\n",
       "      <td>None</td>\n",
       "      <td>None</td>\n",
       "      <td>190799</td>\n",
       "      <td>146620</td>\n",
       "      <td>136991</td>\n",
       "      <td>...</td>\n",
       "      <td>0.001069</td>\n",
       "      <td>0.085116</td>\n",
       "      <td>0.000432</td>\n",
       "      <td>0.000016</td>\n",
       "      <td>0.000007</td>\n",
       "      <td>0.000000</td>\n",
       "      <td>0.000026</td>\n",
       "      <td>0.022773</td>\n",
       "      <td>191284.0</td>\n",
       "      <td>POLYGON ((163587.858 3797474.104, 163585.561 3...</td>\n",
       "    </tr>\n",
       "    <tr>\n",
       "      <th>3</th>\n",
       "      <td>4</td>\n",
       "      <td>1222.852050</td>\n",
       "      <td>92</td>\n",
       "      <td>053</td>\n",
       "      <td>1.0</td>\n",
       "      <td>None</td>\n",
       "      <td>None</td>\n",
       "      <td>190236</td>\n",
       "      <td>148201</td>\n",
       "      <td>163183</td>\n",
       "      <td>...</td>\n",
       "      <td>0.001582</td>\n",
       "      <td>0.036607</td>\n",
       "      <td>0.000892</td>\n",
       "      <td>0.000070</td>\n",
       "      <td>0.000061</td>\n",
       "      <td>0.000001</td>\n",
       "      <td>0.000277</td>\n",
       "      <td>0.025169</td>\n",
       "      <td>191284.0</td>\n",
       "      <td>POLYGON ((136675.831 3878915.523, 136672.059 3...</td>\n",
       "    </tr>\n",
       "    <tr>\n",
       "      <th>4</th>\n",
       "      <td>5</td>\n",
       "      <td>150.381927</td>\n",
       "      <td>111</td>\n",
       "      <td>037</td>\n",
       "      <td>1.0</td>\n",
       "      <td>None</td>\n",
       "      <td>None</td>\n",
       "      <td>192671</td>\n",
       "      <td>147779</td>\n",
       "      <td>120179</td>\n",
       "      <td>...</td>\n",
       "      <td>0.001464</td>\n",
       "      <td>0.090164</td>\n",
       "      <td>0.000374</td>\n",
       "      <td>0.000022</td>\n",
       "      <td>0.000034</td>\n",
       "      <td>0.000001</td>\n",
       "      <td>0.000060</td>\n",
       "      <td>0.004438</td>\n",
       "      <td>191284.0</td>\n",
       "      <td>POLYGON ((168195.079 3760379.119, 168190.325 3...</td>\n",
       "    </tr>\n",
       "  </tbody>\n",
       "</table>\n",
       "<p>5 rows × 73 columns</p>\n",
       "</div>"
      ],
      "text/plain": [
       "   ID         AREA  DATA DISTRICT  MEMBERS LOCKED  NAME  POPULATION  F18_POP  \\\n",
       "0   1   873.386475   128      030      1.0   None  None      191475   145077   \n",
       "1   2   577.962463    97      031      1.0   None  None      192560   142251   \n",
       "2   3   912.498718    96      052      1.0   None  None      190799   146620   \n",
       "3   4  1222.852050    92      053      1.0   None  None      190236   148201   \n",
       "4   5   150.381927   111      037      1.0   None  None      192671   147779   \n",
       "\n",
       "   NH_WHT  ...  F_AP_HWN  F_AP_OTH  F_18_AP_WH  F_18_AP_IN  F_18_AP_AS  \\\n",
       "0  128237  ...  0.001128  0.063079    0.000581    0.000047    0.000012   \n",
       "1  125543  ...  0.001662  0.074320    0.000442    0.000027    0.000021   \n",
       "2  136991  ...  0.001069  0.085116    0.000432    0.000016    0.000007   \n",
       "3  163183  ...  0.001582  0.036607    0.000892    0.000070    0.000061   \n",
       "4  120179  ...  0.001464  0.090164    0.000374    0.000022    0.000034   \n",
       "\n",
       "   F_18_AP_HW  F_18_AP_OT  F_PEOPLE_I  IDEAL_VALU  \\\n",
       "0    0.000001    0.000041    0.018274    191284.0   \n",
       "1    0.000002    0.000058    0.005526    191284.0   \n",
       "2    0.000000    0.000026    0.022773    191284.0   \n",
       "3    0.000001    0.000277    0.025169    191284.0   \n",
       "4    0.000001    0.000060    0.004438    191284.0   \n",
       "\n",
       "                                            geometry  \n",
       "0  POLYGON ((134878.537 3752731.801, 134916.954 3...  \n",
       "1  POLYGON ((148686.115 3777848.012, 148710.861 3...  \n",
       "2  POLYGON ((163587.858 3797474.104, 163585.561 3...  \n",
       "3  POLYGON ((136675.831 3878915.523, 136672.059 3...  \n",
       "4  POLYGON ((168195.079 3760379.119, 168190.325 3...  \n",
       "\n",
       "[5 rows x 73 columns]"
      ]
     },
     "execution_count": 42,
     "metadata": {},
     "output_type": "execute_result"
    }
   ],
   "source": [
    "send.head()"
   ]
  },
  {
   "cell_type": "code",
   "execution_count": 43,
   "metadata": {},
   "outputs": [
    {
     "name": "stderr",
     "output_type": "stream",
     "text": [
      "100%|████████████████████████████████████████████████| 56/56 [00:00<00:00, 151.99it/s]\n",
      "100%|████████████████████████████████████████████████| 56/56 [00:00<00:00, 387.03it/s]\n",
      "100%|█████████████████████████████████████████████████| 56/56 [00:01<00:00, 29.86it/s]\n"
     ]
    }
   ],
   "source": [
    "election_df = add_district(send, \"SEND\", election_df, \"DISTRICT\")"
   ]
  },
  {
   "cell_type": "code",
   "execution_count": 44,
   "metadata": {},
   "outputs": [
    {
     "data": {
      "text/html": [
       "<div>\n",
       "<style scoped>\n",
       "    .dataframe tbody tr th:only-of-type {\n",
       "        vertical-align: middle;\n",
       "    }\n",
       "\n",
       "    .dataframe tbody tr th {\n",
       "        vertical-align: top;\n",
       "    }\n",
       "\n",
       "    .dataframe thead th {\n",
       "        text-align: right;\n",
       "    }\n",
       "</style>\n",
       "<table border=\"1\" class=\"dataframe\">\n",
       "  <thead>\n",
       "    <tr style=\"text-align: right;\">\n",
       "      <th></th>\n",
       "      <th>ID</th>\n",
       "      <th>AREA</th>\n",
       "      <th>DATA</th>\n",
       "      <th>DISTRICT</th>\n",
       "      <th>MEMBERS</th>\n",
       "      <th>LOCKED</th>\n",
       "      <th>NAME</th>\n",
       "      <th>POPULATION</th>\n",
       "      <th>F18_POP</th>\n",
       "      <th>NH_WHT</th>\n",
       "      <th>...</th>\n",
       "      <th>F_AP_HWN</th>\n",
       "      <th>F_AP_OTH</th>\n",
       "      <th>F_18_AP_WH</th>\n",
       "      <th>F_18_AP_IN</th>\n",
       "      <th>F_18_AP_AS</th>\n",
       "      <th>F_18_AP_HW</th>\n",
       "      <th>F_18_AP_OT</th>\n",
       "      <th>F_PEOPLE_I</th>\n",
       "      <th>IDEAL_VALU</th>\n",
       "      <th>geometry</th>\n",
       "    </tr>\n",
       "  </thead>\n",
       "  <tbody>\n",
       "    <tr>\n",
       "      <th>0</th>\n",
       "      <td>1</td>\n",
       "      <td>2621.328120</td>\n",
       "      <td>195</td>\n",
       "      <td>154</td>\n",
       "      <td>1.0</td>\n",
       "      <td>None</td>\n",
       "      <td>None</td>\n",
       "      <td>59994</td>\n",
       "      <td>47273</td>\n",
       "      <td>23723</td>\n",
       "      <td>...</td>\n",
       "      <td>0.001300</td>\n",
       "      <td>0.017752</td>\n",
       "      <td>0.000171</td>\n",
       "      <td>0.000012</td>\n",
       "      <td>0.000002</td>\n",
       "      <td>0.000001</td>\n",
       "      <td>0.000031</td>\n",
       "      <td>0.041071</td>\n",
       "      <td>59511.0</td>\n",
       "      <td>POLYGON ((153749.202 3444062.240, 153746.719 3...</td>\n",
       "    </tr>\n",
       "    <tr>\n",
       "      <th>1</th>\n",
       "      <td>2</td>\n",
       "      <td>642.327576</td>\n",
       "      <td>306</td>\n",
       "      <td>173</td>\n",
       "      <td>1.0</td>\n",
       "      <td>None</td>\n",
       "      <td>None</td>\n",
       "      <td>59743</td>\n",
       "      <td>45292</td>\n",
       "      <td>31465</td>\n",
       "      <td>...</td>\n",
       "      <td>0.000603</td>\n",
       "      <td>0.060375</td>\n",
       "      <td>0.000316</td>\n",
       "      <td>0.000010</td>\n",
       "      <td>0.000005</td>\n",
       "      <td>0.000000</td>\n",
       "      <td>0.000020</td>\n",
       "      <td>0.010160</td>\n",
       "      <td>59511.0</td>\n",
       "      <td>POLYGON ((204545.741 3397732.632, 204520.085 3...</td>\n",
       "    </tr>\n",
       "    <tr>\n",
       "      <th>2</th>\n",
       "      <td>3</td>\n",
       "      <td>1414.718260</td>\n",
       "      <td>304</td>\n",
       "      <td>171</td>\n",
       "      <td>1.0</td>\n",
       "      <td>None</td>\n",
       "      <td>None</td>\n",
       "      <td>59237</td>\n",
       "      <td>45969</td>\n",
       "      <td>30345</td>\n",
       "      <td>...</td>\n",
       "      <td>0.001080</td>\n",
       "      <td>0.049597</td>\n",
       "      <td>0.000147</td>\n",
       "      <td>0.000004</td>\n",
       "      <td>0.000001</td>\n",
       "      <td>0.000000</td>\n",
       "      <td>0.000007</td>\n",
       "      <td>0.042946</td>\n",
       "      <td>59511.0</td>\n",
       "      <td>POLYGON ((176127.400 3400126.525, 176123.189 3...</td>\n",
       "    </tr>\n",
       "    <tr>\n",
       "      <th>3</th>\n",
       "      <td>4</td>\n",
       "      <td>27.224514</td>\n",
       "      <td>176</td>\n",
       "      <td>140</td>\n",
       "      <td>1.0</td>\n",
       "      <td>None</td>\n",
       "      <td>None</td>\n",
       "      <td>59294</td>\n",
       "      <td>44411</td>\n",
       "      <td>17055</td>\n",
       "      <td>...</td>\n",
       "      <td>0.004857</td>\n",
       "      <td>0.071542</td>\n",
       "      <td>0.002879</td>\n",
       "      <td>0.000243</td>\n",
       "      <td>0.000226</td>\n",
       "      <td>0.000074</td>\n",
       "      <td>0.000872</td>\n",
       "      <td>0.045839</td>\n",
       "      <td>59511.0</td>\n",
       "      <td>POLYGON ((126244.482 3589246.154, 126239.970 3...</td>\n",
       "    </tr>\n",
       "    <tr>\n",
       "      <th>4</th>\n",
       "      <td>5</td>\n",
       "      <td>547.062561</td>\n",
       "      <td>541</td>\n",
       "      <td>138</td>\n",
       "      <td>1.0</td>\n",
       "      <td>None</td>\n",
       "      <td>None</td>\n",
       "      <td>58912</td>\n",
       "      <td>45684</td>\n",
       "      <td>41408</td>\n",
       "      <td>...</td>\n",
       "      <td>0.002139</td>\n",
       "      <td>0.035205</td>\n",
       "      <td>0.000285</td>\n",
       "      <td>0.000007</td>\n",
       "      <td>0.000010</td>\n",
       "      <td>0.000001</td>\n",
       "      <td>0.000010</td>\n",
       "      <td>0.021914</td>\n",
       "      <td>59511.0</td>\n",
       "      <td>POLYGON ((124205.608 3603719.389, 124197.225 3...</td>\n",
       "    </tr>\n",
       "  </tbody>\n",
       "</table>\n",
       "<p>5 rows × 75 columns</p>\n",
       "</div>"
      ],
      "text/plain": [
       "   ID         AREA  DATA DISTRICT  MEMBERS LOCKED  NAME  POPULATION  F18_POP  \\\n",
       "0   1  2621.328120   195      154      1.0   None  None       59994    47273   \n",
       "1   2   642.327576   306      173      1.0   None  None       59743    45292   \n",
       "2   3  1414.718260   304      171      1.0   None  None       59237    45969   \n",
       "3   4    27.224514   176      140      1.0   None  None       59294    44411   \n",
       "4   5   547.062561   541      138      1.0   None  None       58912    45684   \n",
       "\n",
       "   NH_WHT  ...  F_AP_HWN  F_AP_OTH  F_18_AP_WH  F_18_AP_IN  F_18_AP_AS  \\\n",
       "0   23723  ...  0.001300  0.017752    0.000171    0.000012    0.000002   \n",
       "1   31465  ...  0.000603  0.060375    0.000316    0.000010    0.000005   \n",
       "2   30345  ...  0.001080  0.049597    0.000147    0.000004    0.000001   \n",
       "3   17055  ...  0.004857  0.071542    0.002879    0.000243    0.000226   \n",
       "4   41408  ...  0.002139  0.035205    0.000285    0.000007    0.000010   \n",
       "\n",
       "   F_18_AP_HW  F_18_AP_OT  F_PEOPLE_I  IDEAL_VALU  \\\n",
       "0    0.000001    0.000031    0.041071     59511.0   \n",
       "1    0.000000    0.000020    0.010160     59511.0   \n",
       "2    0.000000    0.000007    0.042946     59511.0   \n",
       "3    0.000074    0.000872    0.045839     59511.0   \n",
       "4    0.000001    0.000010    0.021914     59511.0   \n",
       "\n",
       "                                            geometry  \n",
       "0  POLYGON ((153749.202 3444062.240, 153746.719 3...  \n",
       "1  POLYGON ((204545.741 3397732.632, 204520.085 3...  \n",
       "2  POLYGON ((176127.400 3400126.525, 176123.189 3...  \n",
       "3  POLYGON ((126244.482 3589246.154, 126239.970 3...  \n",
       "4  POLYGON ((124205.608 3603719.389, 124197.225 3...  \n",
       "\n",
       "[5 rows x 75 columns]"
      ]
     },
     "execution_count": 44,
     "metadata": {},
     "output_type": "execute_result"
    }
   ],
   "source": [
    "hdist.head()"
   ]
  },
  {
   "cell_type": "code",
   "execution_count": 45,
   "metadata": {},
   "outputs": [
    {
     "name": "stderr",
     "output_type": "stream",
     "text": [
      "100%|██████████████████████████████████████████████| 180/180 [00:00<00:00, 226.79it/s]\n",
      "100%|██████████████████████████████████████████████| 180/180 [00:00<00:00, 841.83it/s]\n",
      "100%|███████████████████████████████████████████████| 180/180 [00:03<00:00, 58.85it/s]\n"
     ]
    }
   ],
   "source": [
    "election_df = add_district(hdist, \"HDIST\", election_df, \"DISTRICT\")"
   ]
  },
  {
   "cell_type": "code",
   "execution_count": 46,
   "metadata": {},
   "outputs": [
    {
     "name": "stderr",
     "output_type": "stream",
     "text": [
      "100%|████████████████████████████████████████████| 2697/2697 [00:03<00:00, 804.15it/s]\n"
     ]
    },
    {
     "data": {
      "text/plain": [
       "True"
      ]
     },
     "execution_count": 46,
     "metadata": {},
     "output_type": "execute_result"
    }
   ],
   "source": [
    "maup.doctor(election_df)"
   ]
  },
  {
   "cell_type": "markdown",
   "metadata": {},
   "source": [
    "### Put the base precinct year after the precinct information column"
   ]
  },
  {
   "cell_type": "code",
   "execution_count": 47,
   "metadata": {},
   "outputs": [],
   "source": [
    "base_columns = {}\n",
    "if 'CTYSOSID' + year not in election_df.columns:\n",
    "    base_columns = {\n",
    "        'DISTRICT':'DISTRICT'+year,\n",
    "        'CTYSOSID':'CTYSOSID'+year,\n",
    "        'PRECINCT_I':'PRECINCT_I'+year,\n",
    "        'PRECINCT_N':'PRECINCT_N'+year,\n",
    "        'CTYNAME':'CTYNAME'+year,\n",
    "        'CTYNUMBER':'CTYNUMBER'+year,\n",
    "        'CTYNUMBER2':'CTYNUMBER2'+year,\n",
    "        'FIPS2':'FIPS2'+year,\n",
    "    }\n",
    "election_df.rename(columns=base_columns, inplace = True)"
   ]
  },
  {
   "cell_type": "code",
   "execution_count": 48,
   "metadata": {},
   "outputs": [],
   "source": [
    "# reorder the columns\n",
    "fixed_columns = [\n",
    "    'DISTRICT'+year,\n",
    "    'CTYSOSID'+year,\n",
    "    'PRECINCT_I'+year,\n",
    "    'PRECINCT_N'+year,\n",
    "    'CTYNAME'+year,\n",
    "    'CTYNUMBER'+year,\n",
    "    'CTYNUMBER2'+year,\n",
    "    'FIPS2'+year,\n",
    "    'CD',\n",
    "    'SEND',\n",
    "    'HDIST',\n",
    "    'TOTPOP',\n",
    "    'NH_2MORE',\n",
    "    'NH_AMIN',\n",
    "    'NH_ASIAN',\n",
    "    'NH_BLACK',\n",
    "    'NH_NHPI',\n",
    "    'NH_OTHER',\n",
    "    'NH_WHITE',\n",
    "    'HISP',\n",
    "    'H_AMIN',\n",
    "    'H_ASIAN',\n",
    "    'H_BLACK',\n",
    "    'H_NHPI',\n",
    "    'H_OTHER',\n",
    "    'H_WHITE',\n",
    "    'H_2MORE',\n",
    "    'VAP',\n",
    "    'HVAP',\n",
    "    'WVAP',\n",
    "    'BVAP',\n",
    "    'AMINVAP',\n",
    "    'ASIANVAP',\n",
    "    'NHPIVAP',\n",
    "    'OTHERVAP',\n",
    "    '2MOREVAP']\n",
    "\n",
    "election_columns = [col for col in election_df.columns if col not in fixed_columns]\n",
    "final_col = fixed_columns + election_columns\n",
    "election_df = election_df[final_col]"
   ]
  },
  {
   "cell_type": "code",
   "execution_count": 49,
   "metadata": {},
   "outputs": [],
   "source": [
    "import os\n",
    "\n",
    "# store the result in directory \"il\"\n",
    "directory = \"./{}\".format(state_ab)\n",
    "if not os.path.exists(directory):\n",
    "    os.makedirs(directory)\n",
    "\n",
    "shapefile_path = \"./{}/{}.shp\".format(state_ab, state_ab)\n",
    "geojson_path = './{}/{}.geojson'.format(state_ab, state_ab)\n",
    "json_path = \"./{}.json\".format(state_ab, state_ab)\n",
    "\n",
    "# Check if the shapefile or geojson file already exists\n",
    "if os.path.exists(shapefile_path):\n",
    "    os.remove(shapefile_path)\n",
    "if os.path.exists(geojson_path):\n",
    "    os.remove(geojson_path)\n",
    "\n",
    "election_df.to_file(shapefile_path)\n",
    "election_df.to_file(geojson_path, driver='GeoJSON')\n",
    "\n",
    "# Only do once to build json and read from file when generating ensembles\n",
    "graph = Graph.from_file(shapefile_path, ignore_errors=True)\n",
    "graph.to_json(json_path)"
   ]
  },
  {
   "cell_type": "code",
   "execution_count": 50,
   "metadata": {},
   "outputs": [
    {
     "data": {
      "text/plain": [
       "<Axes: >"
      ]
     },
     "execution_count": 50,
     "metadata": {},
     "output_type": "execute_result"
    },
    {
     "data": {
      "image/png": "[encoded data removed]",
      "text/plain": [
       "<Figure size 640x480 with 1 Axes>"
      ]
     },
     "metadata": {},
     "output_type": "display_data"
    }
   ],
   "source": [
    "shapefile_path = \"./{}/{}.shp\".format(state_ab, state_ab)\n",
    "shape=gpd.read_file(shapefile_path)\n",
    "shape.plot()"
   ]
  },
  {
   "cell_type": "code",
   "execution_count": null,
   "metadata": {},
   "outputs": [],
   "source": []
  }
 ],
 "metadata": {
  "kernelspec": {
   "display_name": "maup",
   "language": "python",
   "name": "maup"
  },
  "language_info": {
   "codemirror_mode": {
    "name": "ipython",
    "version": 3
   },
   "file_extension": ".py",
   "mimetype": "text/x-python",
   "name": "python",
   "nbconvert_exporter": "python",
   "pygments_lexer": "ipython3",
   "version": "3.12.6"
  }
 },
 "nbformat": 4,
 "nbformat_minor": 4
}
